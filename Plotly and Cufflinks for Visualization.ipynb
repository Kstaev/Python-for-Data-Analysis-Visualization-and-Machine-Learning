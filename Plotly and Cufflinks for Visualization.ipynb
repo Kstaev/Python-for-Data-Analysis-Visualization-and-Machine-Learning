{
 "cells": [
  {
   "cell_type": "code",
   "execution_count": 15,
   "metadata": {},
   "outputs": [],
   "source": [
    "import pandas as pd\n",
    "import numpy as np\n",
    "%matplotlib inline"
   ]
  },
  {
   "cell_type": "code",
   "execution_count": 2,
   "metadata": {},
   "outputs": [],
   "source": [
    "import chart_studio.plotly as py"
   ]
  },
  {
   "cell_type": "code",
   "execution_count": 3,
   "metadata": {},
   "outputs": [],
   "source": [
    "from plotly import __version__"
   ]
  },
  {
   "cell_type": "code",
   "execution_count": 4,
   "metadata": {},
   "outputs": [
    {
     "name": "stdout",
     "output_type": "stream",
     "text": [
      "4.9.0\n"
     ]
    }
   ],
   "source": [
    "print(__version__)"
   ]
  },
  {
   "cell_type": "code",
   "execution_count": 5,
   "metadata": {},
   "outputs": [],
   "source": [
    "import cufflinks as cf"
   ]
  },
  {
   "cell_type": "code",
   "execution_count": 6,
   "metadata": {},
   "outputs": [],
   "source": [
    "from plotly.offline import download_plotlyjs,init_notebook_mode,plot,iplot"
   ]
  },
  {
   "cell_type": "code",
   "execution_count": 8,
   "metadata": {},
   "outputs": [
    {
     "data": {
      "text/html": [
       "        <script type=\"text/javascript\">\n",
       "        window.PlotlyConfig = {MathJaxConfig: 'local'};\n",
       "        if (window.MathJax) {MathJax.Hub.Config({SVG: {font: \"STIX-Web\"}});}\n",
       "        if (typeof require !== 'undefined') {\n",
       "        require.undef(\"plotly\");\n",
       "        requirejs.config({\n",
       "            paths: {\n",
       "                'plotly': ['https://cdn.plot.ly/plotly-latest.min']\n",
       "            }\n",
       "        });\n",
       "        require(['plotly'], function(Plotly) {\n",
       "            window._Plotly = Plotly;\n",
       "        });\n",
       "        }\n",
       "        </script>\n",
       "        "
      ]
     },
     "metadata": {},
     "output_type": "display_data"
    }
   ],
   "source": [
    "init_notebook_mode(connected=True)"
   ]
  },
  {
   "cell_type": "code",
   "execution_count": 9,
   "metadata": {},
   "outputs": [
    {
     "data": {
      "text/html": [
       "        <script type=\"text/javascript\">\n",
       "        window.PlotlyConfig = {MathJaxConfig: 'local'};\n",
       "        if (window.MathJax) {MathJax.Hub.Config({SVG: {font: \"STIX-Web\"}});}\n",
       "        if (typeof require !== 'undefined') {\n",
       "        require.undef(\"plotly\");\n",
       "        requirejs.config({\n",
       "            paths: {\n",
       "                'plotly': ['https://cdn.plot.ly/plotly-latest.min']\n",
       "            }\n",
       "        });\n",
       "        require(['plotly'], function(Plotly) {\n",
       "            window._Plotly = Plotly;\n",
       "        });\n",
       "        }\n",
       "        </script>\n",
       "        "
      ]
     },
     "metadata": {},
     "output_type": "display_data"
    }
   ],
   "source": [
    "cf.go_offline()"
   ]
  },
  {
   "cell_type": "code",
   "execution_count": 10,
   "metadata": {},
   "outputs": [],
   "source": [
    "# Data\n",
    "df = pd.DataFrame(np.random.randn(100,4),columns='A B C D'.split())"
   ]
  },
  {
   "cell_type": "code",
   "execution_count": 11,
   "metadata": {},
   "outputs": [
    {
     "data": {
      "text/html": [
       "<div>\n",
       "<style scoped>\n",
       "    .dataframe tbody tr th:only-of-type {\n",
       "        vertical-align: middle;\n",
       "    }\n",
       "\n",
       "    .dataframe tbody tr th {\n",
       "        vertical-align: top;\n",
       "    }\n",
       "\n",
       "    .dataframe thead th {\n",
       "        text-align: right;\n",
       "    }\n",
       "</style>\n",
       "<table border=\"1\" class=\"dataframe\">\n",
       "  <thead>\n",
       "    <tr style=\"text-align: right;\">\n",
       "      <th></th>\n",
       "      <th>A</th>\n",
       "      <th>B</th>\n",
       "      <th>C</th>\n",
       "      <th>D</th>\n",
       "    </tr>\n",
       "  </thead>\n",
       "  <tbody>\n",
       "    <tr>\n",
       "      <th>0</th>\n",
       "      <td>-1.355913</td>\n",
       "      <td>-1.577843</td>\n",
       "      <td>-0.884967</td>\n",
       "      <td>0.107696</td>\n",
       "    </tr>\n",
       "    <tr>\n",
       "      <th>1</th>\n",
       "      <td>0.530332</td>\n",
       "      <td>1.268008</td>\n",
       "      <td>2.225938</td>\n",
       "      <td>0.938151</td>\n",
       "    </tr>\n",
       "    <tr>\n",
       "      <th>2</th>\n",
       "      <td>0.294407</td>\n",
       "      <td>0.096494</td>\n",
       "      <td>-1.523310</td>\n",
       "      <td>0.600975</td>\n",
       "    </tr>\n",
       "    <tr>\n",
       "      <th>3</th>\n",
       "      <td>-2.366995</td>\n",
       "      <td>0.545151</td>\n",
       "      <td>0.295318</td>\n",
       "      <td>1.975235</td>\n",
       "    </tr>\n",
       "    <tr>\n",
       "      <th>4</th>\n",
       "      <td>-0.390616</td>\n",
       "      <td>1.466531</td>\n",
       "      <td>0.826434</td>\n",
       "      <td>-0.518143</td>\n",
       "    </tr>\n",
       "  </tbody>\n",
       "</table>\n",
       "</div>"
      ],
      "text/plain": [
       "          A         B         C         D\n",
       "0 -1.355913 -1.577843 -0.884967  0.107696\n",
       "1  0.530332  1.268008  2.225938  0.938151\n",
       "2  0.294407  0.096494 -1.523310  0.600975\n",
       "3 -2.366995  0.545151  0.295318  1.975235\n",
       "4 -0.390616  1.466531  0.826434 -0.518143"
      ]
     },
     "execution_count": 11,
     "metadata": {},
     "output_type": "execute_result"
    }
   ],
   "source": [
    "df.head()"
   ]
  },
  {
   "cell_type": "code",
   "execution_count": 12,
   "metadata": {},
   "outputs": [],
   "source": [
    "df2 = pd.DataFrame({'Category':['A','B','C'],'Values':[32,43,50]})"
   ]
  },
  {
   "cell_type": "code",
   "execution_count": 13,
   "metadata": {},
   "outputs": [
    {
     "data": {
      "text/html": [
       "<div>\n",
       "<style scoped>\n",
       "    .dataframe tbody tr th:only-of-type {\n",
       "        vertical-align: middle;\n",
       "    }\n",
       "\n",
       "    .dataframe tbody tr th {\n",
       "        vertical-align: top;\n",
       "    }\n",
       "\n",
       "    .dataframe thead th {\n",
       "        text-align: right;\n",
       "    }\n",
       "</style>\n",
       "<table border=\"1\" class=\"dataframe\">\n",
       "  <thead>\n",
       "    <tr style=\"text-align: right;\">\n",
       "      <th></th>\n",
       "      <th>Category</th>\n",
       "      <th>Values</th>\n",
       "    </tr>\n",
       "  </thead>\n",
       "  <tbody>\n",
       "    <tr>\n",
       "      <th>0</th>\n",
       "      <td>A</td>\n",
       "      <td>32</td>\n",
       "    </tr>\n",
       "    <tr>\n",
       "      <th>1</th>\n",
       "      <td>B</td>\n",
       "      <td>43</td>\n",
       "    </tr>\n",
       "    <tr>\n",
       "      <th>2</th>\n",
       "      <td>C</td>\n",
       "      <td>50</td>\n",
       "    </tr>\n",
       "  </tbody>\n",
       "</table>\n",
       "</div>"
      ],
      "text/plain": [
       "  Category  Values\n",
       "0        A      32\n",
       "1        B      43\n",
       "2        C      50"
      ]
     },
     "execution_count": 13,
     "metadata": {},
     "output_type": "execute_result"
    }
   ],
   "source": [
    "df2.head()"
   ]
  },
  {
   "cell_type": "code",
   "execution_count": 14,
   "metadata": {},
   "outputs": [
    {
     "data": {
      "text/plain": [
       "<matplotlib.axes._subplots.AxesSubplot at 0x11889b670>"
      ]
     },
     "execution_count": 14,
     "metadata": {},
     "output_type": "execute_result"
    },
    {
     "data": {
      "image/png": "[encoded data removed]",
      "text/plain": [
       "<Figure size 432x288 with 1 Axes>"
      ]
     },
     "metadata": {
      "needs_background": "light"
     },
     "output_type": "display_data"
    }
   ],
   "source": [
    "df.plot()"
   ]
  },
  {
   "cell_type": "code",
   "execution_count": 16,
   "metadata": {},
   "outputs": [
    {
     "data": {
      "application/vnd.plotly.v1+json": {
       "config": {
        "linkText": "Export to plot.ly",
        "plotlyServerURL": "https://plot.ly",
        "showLink": true
       },
       "data": [
        {
         "line": {
          "color": "rgba(255, 153, 51, 1.0)",
          "dash": "solid",
          "shape": "linear",
          "width": 1.3
         },
         "mode": "lines",
         "name": "A",
         "text": "",
         "type": "scatter",
         "x": [
          0,
          1,
          2,
          3,
          4,
          5,
          6,
          7,
          8,
          9,
          10,
          11,
          12,
          13,
          14,
          15,
          16,
          17,
          18,
          19,
          20,
          21,
          22,
          23,
          24,
          25,
          26,
          27,
          28,
          29,
          30,
          31,
          32,
          33,
          34,
          35,
          36,
          37,
          38,
          39,
          40,
          41,
          42,
          43,
          44,
          45,
          46,
          47,
          48,
          49,
          50,
          51,
          52,
          53,
          54,
          55,
          56,
          57,
          58,
          59,
          60,
          61,
          62,
          63,
          64,
          65,
          66,
          67,
          68,
          69,
          70,
          71,
          72,
          73,
          74,
          75,
          76,
          77,
          78,
          79,
          80,
          81,
          82,
          83,
          84,
          85,
          86,
          87,
          88,
          89,
          90,
          91,
          92,
          93,
          94,
          95,
          96,
          97,
          98,
          99
         ],
         "y": [
          -1.3559130559175228,
          0.5303321035654701,
          0.29440697268481386,
          -2.366994851248194,
          -0.39061600426275805,
          -1.2161987223331556,
          0.19859743516019948,
          -0.04196512186229954,
          0.7816691002462268,
          -0.5625933565781353,
          0.19285116004885725,
          -0.06178195375831094,
          0.7097995605455756,
          -0.06438499550921149,
          -2.5974737858675803,
          -0.32300690338794696,
          1.0306388859623885,
          -1.941335868515121,
          -1.4355365861662128,
          -0.6573992997091732,
          0.11646656991438858,
          0.46591396507238075,
          0.05272497171678483,
          0.4581524192640287,
          1.1095119169038339,
          -0.16693785245883877,
          -2.4185233240227983,
          -0.6450810153514451,
          1.1329069163196375,
          0.6970329956343094,
          -0.22820026177348646,
          -1.4808780287987526,
          0.024367923584303973,
          0.4286231014194029,
          0.08045542686191721,
          -1.4015248719784796,
          -0.7127602575963483,
          -0.8326614239099435,
          0.9937010497254936,
          -0.5989317759807878,
          -1.4296493006161402,
          0.7713104030030286,
          -0.06980710659690535,
          1.1287545943777195,
          0.24847286609051505,
          -0.25614946259117294,
          -0.4244114222395493,
          0.5856088506470457,
          1.279303773190982,
          -0.44555925844105376,
          0.3490682053943956,
          1.0813767860789734,
          0.8133648881571423,
          -0.6562175042066347,
          -0.4121443535409477,
          1.0969280780102093,
          0.15770461247131407,
          0.042630429623211966,
          2.3683858678174623,
          1.1321042486469257,
          -0.12294684247572248,
          1.7655511106226867,
          -0.1591269815157064,
          0.11075147314174175,
          -1.0859538098553496,
          -2.191959033772851,
          -1.3356073556326191,
          -0.7607734053921369,
          -0.8295932567941922,
          -0.010402164383887734,
          0.009074950144895585,
          -1.3753860596456584,
          1.1186045911807563,
          -1.3180085977495606,
          -1.4364656665274682,
          -1.1545082613318447,
          -0.3488279565559763,
          0.22136370072874864,
          0.11027416415716094,
          -0.3289421211077479,
          1.4982170548436569,
          0.5240075572039334,
          0.14601567207029967,
          1.1131443714346898,
          -0.945595270331263,
          0.29686021046057764,
          -0.06873382405799189,
          1.3398974294041806,
          -0.1005688226330727,
          -0.5387746262762422,
          -0.767849248663247,
          -0.35100755254836946,
          0.1480598141594704,
          0.08595586430500328,
          1.162131405970528,
          0.8816251921637606,
          -0.21427435409242715,
          1.4900398420710712,
          -1.604228677811847,
          0.23534333231846755
         ]
        },
        {
         "line": {
          "color": "rgba(55, 128, 191, 1.0)",
          "dash": "solid",
          "shape": "linear",
          "width": 1.3
         },
         "mode": "lines",
         "name": "B",
         "text": "",
         "type": "scatter",
         "x": [
          0,
          1,
          2,
          3,
          4,
          5,
          6,
          7,
          8,
          9,
          10,
          11,
          12,
          13,
          14,
          15,
          16,
          17,
          18,
          19,
          20,
          21,
          22,
          23,
          24,
          25,
          26,
          27,
          28,
          29,
          30,
          31,
          32,
          33,
          34,
          35,
          36,
          37,
          38,
          39,
          40,
          41,
          42,
          43,
          44,
          45,
          46,
          47,
          48,
          49,
          50,
          51,
          52,
          53,
          54,
          55,
          56,
          57,
          58,
          59,
          60,
          61,
          62,
          63,
          64,
          65,
          66,
          67,
          68,
          69,
          70,
          71,
          72,
          73,
          74,
          75,
          76,
          77,
          78,
          79,
          80,
          81,
          82,
          83,
          84,
          85,
          86,
          87,
          88,
          89,
          90,
          91,
          92,
          93,
          94,
          95,
          96,
          97,
          98,
          99
         ],
         "y": [
          -1.5778429245488879,
          1.2680079504191542,
          0.09649405165059019,
          0.5451506050878556,
          1.4665309109334816,
          -0.8187660691999971,
          0.8892275568624582,
          0.057993196168514054,
          1.0704372338561854,
          -1.1215869807766896,
          0.7898514189744038,
          0.8930828925001068,
          1.3220881795120045,
          -1.1746388644306027,
          -0.11366720583834672,
          -1.08572748143992,
          -0.36542532409071204,
          -0.5451472733548265,
          0.05957969416825055,
          1.0481834417594982,
          0.6582590607680974,
          1.9050369818668038,
          -0.8611884051729745,
          -0.03364255394446158,
          -0.2688534606823713,
          -1.2502969844263059,
          -0.09367845283559229,
          -0.2920765672512015,
          -0.3139676248854494,
          -0.9811182522643814,
          -0.06443198507731814,
          -1.2044898392645802,
          -0.008192778716532423,
          -1.5846889685617627,
          0.12750792187288915,
          -0.3593159388234478,
          -1.4988967562973863,
          1.2732099224625397,
          -0.8615848179565383,
          -0.40897428577114503,
          0.8490222350087218,
          -1.0791246887998986,
          -0.15060725895997487,
          -1.5720599233177468,
          -0.9104303182134822,
          0.3038761199317576,
          1.5772543560605514,
          0.10958890357099571,
          -1.433809763409956,
          0.9001499602414199,
          -1.1065469139557813,
          -1.6591841116033383,
          0.4856131846513768,
          -1.3187515045471454,
          -0.9998085361886271,
          0.8895689618477627,
          -0.6490212653755961,
          -0.6028794296101871,
          -1.6215250503615426,
          0.35749953179801786,
          1.3525172890956467,
          2.1440982079969793,
          -0.7535990604943527,
          -1.8530373144179704,
          0.3853396942630609,
          1.0725112999364486,
          -0.5080799161223373,
          0.728183494278347,
          0.29348208736934966,
          0.6166598740688046,
          -1.4176082506592214,
          -1.2283428172986675,
          0.029400981232705268,
          0.49717683675476193,
          1.2806469532543063,
          -2.170877611449295,
          0.5305137203022765,
          0.07573784865183336,
          1.962331926274082,
          0.6497384161827761,
          0.445444965199007,
          -1.0219776640954312,
          -1.3586633696231962,
          2.548903463301732,
          -0.2657491617480886,
          0.06264434682764904,
          -1.485197772311538,
          -1.9928894210733983,
          1.1406483682872646,
          -1.7880279463109883,
          0.21610130984226705,
          0.6600706306964581,
          0.5159702029260697,
          -1.0874933049782323,
          -1.0924492328288362,
          -0.44981702999116246,
          -0.2910427923330211,
          1.109369336375027,
          -0.27248037646009077,
          -0.14682084414377564
         ]
        },
        {
         "line": {
          "color": "rgba(50, 171, 96, 1.0)",
          "dash": "solid",
          "shape": "linear",
          "width": 1.3
         },
         "mode": "lines",
         "name": "C",
         "text": "",
         "type": "scatter",
         "x": [
          0,
          1,
          2,
          3,
          4,
          5,
          6,
          7,
          8,
          9,
          10,
          11,
          12,
          13,
          14,
          15,
          16,
          17,
          18,
          19,
          20,
          21,
          22,
          23,
          24,
          25,
          26,
          27,
          28,
          29,
          30,
          31,
          32,
          33,
          34,
          35,
          36,
          37,
          38,
          39,
          40,
          41,
          42,
          43,
          44,
          45,
          46,
          47,
          48,
          49,
          50,
          51,
          52,
          53,
          54,
          55,
          56,
          57,
          58,
          59,
          60,
          61,
          62,
          63,
          64,
          65,
          66,
          67,
          68,
          69,
          70,
          71,
          72,
          73,
          74,
          75,
          76,
          77,
          78,
          79,
          80,
          81,
          82,
          83,
          84,
          85,
          86,
          87,
          88,
          89,
          90,
          91,
          92,
          93,
          94,
          95,
          96,
          97,
          98,
          99
         ],
         "y": [
          -0.8849667774683708,
          2.2259377239221325,
          -1.5233101709060102,
          0.2953181398270395,
          0.8264344026153204,
          0.5913510655187838,
          0.6828648431042454,
          1.7086815960636492,
          0.25818184912645487,
          -0.7170024291397524,
          0.08916805499006593,
          1.3153127154131583,
          0.4250462899632546,
          0.8023505507410498,
          1.1148473647823962,
          -0.18956102529793664,
          -2.079756872118981,
          -0.7113601357767555,
          0.7094442838065212,
          0.07251137575017333,
          0.2953148063878515,
          -1.0121772100861905,
          -0.6359246998913491,
          -0.3528819646496265,
          0.5408683474982837,
          0.38979566342810656,
          0.4866337764911907,
          0.4011578541573498,
          0.6199420783053193,
          0.465317548944445,
          -0.2318148390140708,
          0.33581715315193994,
          -0.47503807105468887,
          -0.5466109427096344,
          0.6186689184945717,
          -0.19789822919792144,
          0.43690862035919475,
          -0.15712976265590814,
          -0.03370892710985846,
          0.5636837886188208,
          1.6580695740115794,
          -1.0407957699682373,
          -1.1676010434888637,
          -1.2157954987786896,
          0.8927282864811816,
          0.006944035248060638,
          0.09941082090580226,
          1.7407631555606686,
          0.8410707477264111,
          0.36434960007679335,
          1.7359708516884256,
          0.3965880382695271,
          1.2907778837912955,
          -0.8739617195647129,
          -0.00728002667451206,
          -0.6998826075737327,
          -0.25956262071948605,
          0.6542748975111746,
          -0.07018324863868057,
          0.11869849803291103,
          1.3119010861688023,
          -0.2972657981226998,
          -1.327267397411813,
          0.6165124105986223,
          -1.2073661854687094,
          -0.6857610677682836,
          -0.8749481991203933,
          -1.0875589673394612,
          -0.3771542192507942,
          -0.6995546738432826,
          -1.1440545701594893,
          -0.6170536297117368,
          -0.4841222349603552,
          1.1136235479025833,
          0.6188184078340688,
          0.3235695906997173,
          -0.5558048323254344,
          -0.6554798206190868,
          0.5991224352438265,
          -0.3073695377011026,
          -1.1443987905506152,
          -1.3918616476517387,
          -0.0970628008041887,
          -1.8637925174812902,
          0.3360992701512891,
          1.3136038000994479,
          -0.9528464728863185,
          1.0035464465815014,
          -0.28833439613220974,
          -0.5801714493637724,
          -0.8297499028994472,
          2.0718903192594933,
          0.6207850633540429,
          0.05015029066703375,
          -0.13065485529488527,
          0.8073422350123594,
          0.5539168555719847,
          -2.5645193565271756,
          -1.0899895346786574,
          0.10478822602140812
         ]
        },
        {
         "line": {
          "color": "rgba(128, 0, 128, 1.0)",
          "dash": "solid",
          "shape": "linear",
          "width": 1.3
         },
         "mode": "lines",
         "name": "D",
         "text": "",
         "type": "scatter",
         "x": [
          0,
          1,
          2,
          3,
          4,
          5,
          6,
          7,
          8,
          9,
          10,
          11,
          12,
          13,
          14,
          15,
          16,
          17,
          18,
          19,
          20,
          21,
          22,
          23,
          24,
          25,
          26,
          27,
          28,
          29,
          30,
          31,
          32,
          33,
          34,
          35,
          36,
          37,
          38,
          39,
          40,
          41,
          42,
          43,
          44,
          45,
          46,
          47,
          48,
          49,
          50,
          51,
          52,
          53,
          54,
          55,
          56,
          57,
          58,
          59,
          60,
          61,
          62,
          63,
          64,
          65,
          66,
          67,
          68,
          69,
          70,
          71,
          72,
          73,
          74,
          75,
          76,
          77,
          78,
          79,
          80,
          81,
          82,
          83,
          84,
          85,
          86,
          87,
          88,
          89,
          90,
          91,
          92,
          93,
          94,
          95,
          96,
          97,
          98,
          99
         ],
         "y": [
          0.10769577614462261,
          0.9381513388151985,
          0.6009753050690573,
          1.9752354750747527,
          -0.5181426237082836,
          0.22761479934571258,
          -0.5265786942320025,
          0.5095492153774754,
          -1.046554330848723,
          0.7315065825237579,
          0.6789620480026869,
          -1.413347659196342,
          -0.016108383281562496,
          -0.9410589517518645,
          0.04857771095448899,
          -0.11022153894423668,
          0.14107671168947727,
          -0.5554674951524631,
          -1.3159441484687864,
          -1.7483545865947807,
          -0.3121965712883904,
          0.6920018959734503,
          -0.9107050403290968,
          0.2784644851682874,
          -1.9397962578930277,
          -0.45513040249786124,
          -0.10848084960196892,
          -0.7589575367551256,
          -1.0780093826892658,
          -0.9514571611390187,
          1.5961370769094052,
          1.8239176658288547,
          -0.6536799414681844,
          -1.2597150988422412,
          -0.46059293448935956,
          0.31269284186968976,
          0.07907465712089817,
          0.14802301693644215,
          -0.3167136617293768,
          -1.007512795204162,
          0.8067433348015413,
          -0.8483543082873977,
          1.263380709513765,
          0.46652702277022684,
          0.751282663832055,
          0.06369242477298177,
          -1.0909522881225577,
          -0.3739960103824854,
          0.6779473539857858,
          0.3734266014815676,
          0.9967330796823717,
          -0.5119182197177479,
          -0.5864669718638383,
          0.6879994083973473,
          -2.744759141587978,
          0.1441662752957278,
          0.026430336315075065,
          0.9292363498181935,
          0.22263571468181814,
          2.199745582404042,
          -0.641710069299092,
          1.539124005803026,
          0.20902429509022064,
          0.07899581188293245,
          -0.33360984821282474,
          -0.36160802793794816,
          -0.696201035195265,
          0.12563154438571958,
          1.4465572063107346,
          1.5080309088258388,
          -1.1673168114773593,
          -0.20357637312531762,
          -1.4220357329064184,
          0.41158488273955846,
          -1.0001318285121235,
          0.7274191463023469,
          0.2160667268178794,
          0.584137035310321,
          -0.5655353173916954,
          0.34607752995659996,
          -1.0496416652327765,
          0.181924508554677,
          1.4160621396152433,
          1.447212701811392,
          -0.44404804234735024,
          0.12387709870026571,
          2.771090955198578,
          -0.5368436175829514,
          -1.0542914901698903,
          -0.7843346446183815,
          -0.6142528681773224,
          -0.0008528951337365195,
          -0.4769691436154201,
          0.19402549901576488,
          -0.46842199926958966,
          -0.08477552905099907,
          -0.9792984493681949,
          1.4995880284038323,
          -0.7542111726116282,
          0.5153352947324564
         ]
        }
       ],
       "layout": {
        "legend": {
         "bgcolor": "#F5F6F9",
         "font": {
          "color": "#4D5663"
         }
        },
        "paper_bgcolor": "#F5F6F9",
        "plot_bgcolor": "#F5F6F9",
        "template": {
         "data": {
          "bar": [
           {
            "error_x": {
             "color": "#2a3f5f"
            },
            "error_y": {
             "color": "#2a3f5f"
            },
            "marker": {
             "line": {
              "color": "#E5ECF6",
              "width": 0.5
             }
            },
            "type": "bar"
           }
          ],
          "barpolar": [
           {
            "marker": {
             "line": {
              "color": "#E5ECF6",
              "width": 0.5
             }
            },
            "type": "barpolar"
           }
          ],
          "carpet": [
           {
            "aaxis": {
             "endlinecolor": "#2a3f5f",
             "gridcolor": "white",
             "linecolor": "white",
             "minorgridcolor": "white",
             "startlinecolor": "#2a3f5f"
            },
            "baxis": {
             "endlinecolor": "#2a3f5f",
             "gridcolor": "white",
             "linecolor": "white",
             "minorgridcolor": "white",
             "startlinecolor": "#2a3f5f"
            },
            "type": "carpet"
           }
          ],
          "choropleth": [
           {
            "colorbar": {
             "outlinewidth": 0,
             "ticks": ""
            },
            "type": "choropleth"
           }
          ],
          "contour": [
           {
            "colorbar": {
             "outlinewidth": 0,
             "ticks": ""
            },
            "colorscale": [
             [
              0,
              "#0d0887"
             ],
             [
              0.1111111111111111,
              "#46039f"
             ],
             [
              0.2222222222222222,
              "#7201a8"
             ],
             [
              0.3333333333333333,
              "#9c179e"
             ],
             [
              0.4444444444444444,
              "#bd3786"
             ],
             [
              0.5555555555555556,
              "#d8576b"
             ],
             [
              0.6666666666666666,
              "#ed7953"
             ],
             [
              0.7777777777777778,
              "#fb9f3a"
             ],
             [
              0.8888888888888888,
              "#fdca26"
             ],
             [
              1,
              "#f0f921"
             ]
            ],
            "type": "contour"
           }
          ],
          "contourcarpet": [
           {
            "colorbar": {
             "outlinewidth": 0,
             "ticks": ""
            },
            "type": "contourcarpet"
           }
          ],
          "heatmap": [
           {
            "colorbar": {
             "outlinewidth": 0,
             "ticks": ""
            },
            "colorscale": [
             [
              0,
              "#0d0887"
             ],
             [
              0.1111111111111111,
              "#46039f"
             ],
             [
              0.2222222222222222,
              "#7201a8"
             ],
             [
              0.3333333333333333,
              "#9c179e"
             ],
             [
              0.4444444444444444,
              "#bd3786"
             ],
             [
              0.5555555555555556,
              "#d8576b"
             ],
             [
              0.6666666666666666,
              "#ed7953"
             ],
             [
              0.7777777777777778,
              "#fb9f3a"
             ],
             [
              0.8888888888888888,
              "#fdca26"
             ],
             [
              1,
              "#f0f921"
             ]
            ],
            "type": "heatmap"
           }
          ],
          "heatmapgl": [
           {
            "colorbar": {
             "outlinewidth": 0,
             "ticks": ""
            },
            "colorscale": [
             [
              0,
              "#0d0887"
             ],
             [
              0.1111111111111111,
              "#46039f"
             ],
             [
              0.2222222222222222,
              "#7201a8"
             ],
             [
              0.3333333333333333,
              "#9c179e"
             ],
             [
              0.4444444444444444,
              "#bd3786"
             ],
             [
              0.5555555555555556,
              "#d8576b"
             ],
             [
              0.6666666666666666,
              "#ed7953"
             ],
             [
              0.7777777777777778,
              "#fb9f3a"
             ],
             [
              0.8888888888888888,
              "#fdca26"
             ],
             [
              1,
              "#f0f921"
             ]
            ],
            "type": "heatmapgl"
           }
          ],
          "histogram": [
           {
            "marker": {
             "colorbar": {
              "outlinewidth": 0,
              "ticks": ""
             }
            },
            "type": "histogram"
           }
          ],
          "histogram2d": [
           {
            "colorbar": {
             "outlinewidth": 0,
             "ticks": ""
            },
            "colorscale": [
             [
              0,
              "#0d0887"
             ],
             [
              0.1111111111111111,
              "#46039f"
             ],
             [
              0.2222222222222222,
              "#7201a8"
             ],
             [
              0.3333333333333333,
              "#9c179e"
             ],
             [
              0.4444444444444444,
              "#bd3786"
             ],
             [
              0.5555555555555556,
              "#d8576b"
             ],
             [
              0.6666666666666666,
              "#ed7953"
             ],
             [
              0.7777777777777778,
              "#fb9f3a"
             ],
             [
              0.8888888888888888,
              "#fdca26"
             ],
             [
              1,
              "#f0f921"
             ]
            ],
            "type": "histogram2d"
           }
          ],
          "histogram2dcontour": [
           {
            "colorbar": {
             "outlinewidth": 0,
             "ticks": ""
            },
            "colorscale": [
             [
              0,
              "#0d0887"
             ],
             [
              0.1111111111111111,
              "#46039f"
             ],
             [
              0.2222222222222222,
              "#7201a8"
             ],
             [
              0.3333333333333333,
              "#9c179e"
             ],
             [
              0.4444444444444444,
              "#bd3786"
             ],
             [
              0.5555555555555556,
              "#d8576b"
             ],
             [
              0.6666666666666666,
              "#ed7953"
             ],
             [
              0.7777777777777778,
              "#fb9f3a"
             ],
             [
              0.8888888888888888,
              "#fdca26"
             ],
             [
              1,
              "#f0f921"
             ]
            ],
            "type": "histogram2dcontour"
           }
          ],
          "mesh3d": [
           {
            "colorbar": {
             "outlinewidth": 0,
             "ticks": ""
            },
            "type": "mesh3d"
           }
          ],
          "parcoords": [
           {
            "line": {
             "colorbar": {
              "outlinewidth": 0,
              "ticks": ""
             }
            },
            "type": "parcoords"
           }
          ],
          "pie": [
           {
            "automargin": true,
            "type": "pie"
           }
          ],
          "scatter": [
           {
            "marker": {
             "colorbar": {
              "outlinewidth": 0,
              "ticks": ""
             }
            },
            "type": "scatter"
           }
          ],
          "scatter3d": [
           {
            "line": {
             "colorbar": {
              "outlinewidth": 0,
              "ticks": ""
             }
            },
            "marker": {
             "colorbar": {
              "outlinewidth": 0,
              "ticks": ""
             }
            },
            "type": "scatter3d"
           }
          ],
          "scattercarpet": [
           {
            "marker": {
             "colorbar": {
              "outlinewidth": 0,
              "ticks": ""
             }
            },
            "type": "scattercarpet"
           }
          ],
          "scattergeo": [
           {
            "marker": {
             "colorbar": {
              "outlinewidth": 0,
              "ticks": ""
             }
            },
            "type": "scattergeo"
           }
          ],
          "scattergl": [
           {
            "marker": {
             "colorbar": {
              "outlinewidth": 0,
              "ticks": ""
             }
            },
            "type": "scattergl"
           }
          ],
          "scattermapbox": [
           {
            "marker": {
             "colorbar": {
              "outlinewidth": 0,
              "ticks": ""
             }
            },
            "type": "scattermapbox"
           }
          ],
          "scatterpolar": [
           {
            "marker": {
             "colorbar": {
              "outlinewidth": 0,
              "ticks": ""
             }
            },
            "type": "scatterpolar"
           }
          ],
          "scatterpolargl": [
           {
            "marker": {
             "colorbar": {
              "outlinewidth": 0,
              "ticks": ""
             }
            },
            "type": "scatterpolargl"
           }
          ],
          "scatterternary": [
           {
            "marker": {
             "colorbar": {
              "outlinewidth": 0,
              "ticks": ""
             }
            },
            "type": "scatterternary"
           }
          ],
          "surface": [
           {
            "colorbar": {
             "outlinewidth": 0,
             "ticks": ""
            },
            "colorscale": [
             [
              0,
              "#0d0887"
             ],
             [
              0.1111111111111111,
              "#46039f"
             ],
             [
              0.2222222222222222,
              "#7201a8"
             ],
             [
              0.3333333333333333,
              "#9c179e"
             ],
             [
              0.4444444444444444,
              "#bd3786"
             ],
             [
              0.5555555555555556,
              "#d8576b"
             ],
             [
              0.6666666666666666,
              "#ed7953"
             ],
             [
              0.7777777777777778,
              "#fb9f3a"
             ],
             [
              0.8888888888888888,
              "#fdca26"
             ],
             [
              1,
              "#f0f921"
             ]
            ],
            "type": "surface"
           }
          ],
          "table": [
           {
            "cells": {
             "fill": {
              "color": "#EBF0F8"
             },
             "line": {
              "color": "white"
             }
            },
            "header": {
             "fill": {
              "color": "#C8D4E3"
             },
             "line": {
              "color": "white"
             }
            },
            "type": "table"
           }
          ]
         },
         "layout": {
          "annotationdefaults": {
           "arrowcolor": "#2a3f5f",
           "arrowhead": 0,
           "arrowwidth": 1
          },
          "coloraxis": {
           "colorbar": {
            "outlinewidth": 0,
            "ticks": ""
           }
          },
          "colorscale": {
           "diverging": [
            [
             0,
             "#8e0152"
            ],
            [
             0.1,
             "#c51b7d"
            ],
            [
             0.2,
             "#de77ae"
            ],
            [
             0.3,
             "#f1b6da"
            ],
            [
             0.4,
             "#fde0ef"
            ],
            [
             0.5,
             "#f7f7f7"
            ],
            [
             0.6,
             "#e6f5d0"
            ],
            [
             0.7,
             "#b8e186"
            ],
            [
             0.8,
             "#7fbc41"
            ],
            [
             0.9,
             "#4d9221"
            ],
            [
             1,
             "#276419"
            ]
           ],
           "sequential": [
            [
             0,
             "#0d0887"
            ],
            [
             0.1111111111111111,
             "#46039f"
            ],
            [
             0.2222222222222222,
             "#7201a8"
            ],
            [
             0.3333333333333333,
             "#9c179e"
            ],
            [
             0.4444444444444444,
             "#bd3786"
            ],
            [
             0.5555555555555556,
             "#d8576b"
            ],
            [
             0.6666666666666666,
             "#ed7953"
            ],
            [
             0.7777777777777778,
             "#fb9f3a"
            ],
            [
             0.8888888888888888,
             "#fdca26"
            ],
            [
             1,
             "#f0f921"
            ]
           ],
           "sequentialminus": [
            [
             0,
             "#0d0887"
            ],
            [
             0.1111111111111111,
             "#46039f"
            ],
            [
             0.2222222222222222,
             "#7201a8"
            ],
            [
             0.3333333333333333,
             "#9c179e"
            ],
            [
             0.4444444444444444,
             "#bd3786"
            ],
            [
             0.5555555555555556,
             "#d8576b"
            ],
            [
             0.6666666666666666,
             "#ed7953"
            ],
            [
             0.7777777777777778,
             "#fb9f3a"
            ],
            [
             0.8888888888888888,
             "#fdca26"
            ],
            [
             1,
             "#f0f921"
            ]
           ]
          },
          "colorway": [
           "#636efa",
           "#EF553B",
           "#00cc96",
           "#ab63fa",
           "#FFA15A",
           "#19d3f3",
           "#FF6692",
           "#B6E880",
           "#FF97FF",
           "#FECB52"
          ],
          "font": {
           "color": "#2a3f5f"
          },
          "geo": {
           "bgcolor": "white",
           "lakecolor": "white",
           "landcolor": "#E5ECF6",
           "showlakes": true,
           "showland": true,
           "subunitcolor": "white"
          },
          "hoverlabel": {
           "align": "left"
          },
          "hovermode": "closest",
          "mapbox": {
           "style": "light"
          },
          "paper_bgcolor": "white",
          "plot_bgcolor": "#E5ECF6",
          "polar": {
           "angularaxis": {
            "gridcolor": "white",
            "linecolor": "white",
            "ticks": ""
           },
           "bgcolor": "#E5ECF6",
           "radialaxis": {
            "gridcolor": "white",
            "linecolor": "white",
            "ticks": ""
           }
          },
          "scene": {
           "xaxis": {
            "backgroundcolor": "#E5ECF6",
            "gridcolor": "white",
            "gridwidth": 2,
            "linecolor": "white",
            "showbackground": true,
            "ticks": "",
            "zerolinecolor": "white"
           },
           "yaxis": {
            "backgroundcolor": "#E5ECF6",
            "gridcolor": "white",
            "gridwidth": 2,
            "linecolor": "white",
            "showbackground": true,
            "ticks": "",
            "zerolinecolor": "white"
           },
           "zaxis": {
            "backgroundcolor": "#E5ECF6",
            "gridcolor": "white",
            "gridwidth": 2,
            "linecolor": "white",
            "showbackground": true,
            "ticks": "",
            "zerolinecolor": "white"
           }
          },
          "shapedefaults": {
           "line": {
            "color": "#2a3f5f"
           }
          },
          "ternary": {
           "aaxis": {
            "gridcolor": "white",
            "linecolor": "white",
            "ticks": ""
           },
           "baxis": {
            "gridcolor": "white",
            "linecolor": "white",
            "ticks": ""
           },
           "bgcolor": "#E5ECF6",
           "caxis": {
            "gridcolor": "white",
            "linecolor": "white",
            "ticks": ""
           }
          },
          "title": {
           "x": 0.05
          },
          "xaxis": {
           "automargin": true,
           "gridcolor": "white",
           "linecolor": "white",
           "ticks": "",
           "title": {
            "standoff": 15
           },
           "zerolinecolor": "white",
           "zerolinewidth": 2
          },
          "yaxis": {
           "automargin": true,
           "gridcolor": "white",
           "linecolor": "white",
           "ticks": "",
           "title": {
            "standoff": 15
           },
           "zerolinecolor": "white",
           "zerolinewidth": 2
          }
         }
        },
        "title": {
         "font": {
          "color": "#4D5663"
         }
        },
        "xaxis": {
         "gridcolor": "#E1E5ED",
         "showgrid": true,
         "tickfont": {
          "color": "#4D5663"
         },
         "title": {
          "font": {
           "color": "#4D5663"
          },
          "text": ""
         },
         "zerolinecolor": "#E1E5ED"
        },
        "yaxis": {
         "gridcolor": "#E1E5ED",
         "showgrid": true,
         "tickfont": {
          "color": "#4D5663"
         },
         "title": {
          "font": {
           "color": "#4D5663"
          },
          "text": ""
         },
         "zerolinecolor": "#E1E5ED"
        }
       }
      },
      "text/html": [
       "<div>\n",
       "        \n",
       "        \n",
       "            <div id=\"97e56770-ac13-4ce8-b621-10b03dfcde18\" class=\"plotly-graph-div\" style=\"height:525px; width:100%;\"></div>\n",
       "            <script type=\"text/javascript\">\n",
       "                require([\"plotly\"], function(Plotly) {\n",
       "                    window.PLOTLYENV=window.PLOTLYENV || {};\n",
       "                    window.PLOTLYENV.BASE_URL='https://plot.ly';\n",
       "                    \n",
       "                if (document.getElementById(\"97e56770-ac13-4ce8-b621-10b03dfcde18\")) {\n",
       "                    Plotly.newPlot(\n",
       "                        '97e56770-ac13-4ce8-b621-10b03dfcde18',\n",
       "                        [{\"line\": {\"color\": \"rgba(255, 153, 51, 1.0)\", \"dash\": \"solid\", \"shape\": \"linear\", \"width\": 1.3}, \"mode\": \"lines\", \"name\": \"A\", \"text\": \"\", \"type\": \"scatter\", \"x\": [0, 1, 2, 3, 4, 5, 6, 7, 8, 9, 10, 11, 12, 13, 14, 15, 16, 17, 18, 19, 20, 21, 22, 23, 24, 25, 26, 27, 28, 29, 30, 31, 32, 33, 34, 35, 36, 37, 38, 39, 40, 41, 42, 43, 44, 45, 46, 47, 48, 49, 50, 51, 52, 53, 54, 55, 56, 57, 58, 59, 60, 61, 62, 63, 64, 65, 66, 67, 68, 69, 70, 71, 72, 73, 74, 75, 76, 77, 78, 79, 80, 81, 82, 83, 84, 85, 86, 87, 88, 89, 90, 91, 92, 93, 94, 95, 96, 97, 98, 99], \"y\": [-1.3559130559175228, 0.5303321035654701, 0.29440697268481386, -2.366994851248194, -0.39061600426275805, -1.2161987223331556, 0.19859743516019948, -0.04196512186229954, 0.7816691002462268, -0.5625933565781353, 0.19285116004885725, -0.06178195375831094, 0.7097995605455756, -0.06438499550921149, -2.5974737858675803, -0.32300690338794696, 1.0306388859623885, -1.941335868515121, -1.4355365861662128, -0.6573992997091732, 0.11646656991438858, 0.46591396507238075, 0.05272497171678483, 0.4581524192640287, 1.1095119169038339, -0.16693785245883877, -2.4185233240227983, -0.6450810153514451, 1.1329069163196375, 0.6970329956343094, -0.22820026177348646, -1.4808780287987526, 0.024367923584303973, 0.4286231014194029, 0.08045542686191721, -1.4015248719784796, -0.7127602575963483, -0.8326614239099435, 0.9937010497254936, -0.5989317759807878, -1.4296493006161402, 0.7713104030030286, -0.06980710659690535, 1.1287545943777195, 0.24847286609051505, -0.25614946259117294, -0.4244114222395493, 0.5856088506470457, 1.279303773190982, -0.44555925844105376, 0.3490682053943956, 1.0813767860789734, 0.8133648881571423, -0.6562175042066347, -0.4121443535409477, 1.0969280780102093, 0.15770461247131407, 0.042630429623211966, 2.3683858678174623, 1.1321042486469257, -0.12294684247572248, 1.7655511106226867, -0.1591269815157064, 0.11075147314174175, -1.0859538098553496, -2.191959033772851, -1.3356073556326191, -0.7607734053921369, -0.8295932567941922, -0.010402164383887734, 0.009074950144895585, -1.3753860596456584, 1.1186045911807563, -1.3180085977495606, -1.4364656665274682, -1.1545082613318447, -0.3488279565559763, 0.22136370072874864, 0.11027416415716094, -0.3289421211077479, 1.4982170548436569, 0.5240075572039334, 0.14601567207029967, 1.1131443714346898, -0.945595270331263, 0.29686021046057764, -0.06873382405799189, 1.3398974294041806, -0.1005688226330727, -0.5387746262762422, -0.767849248663247, -0.35100755254836946, 0.1480598141594704, 0.08595586430500328, 1.162131405970528, 0.8816251921637606, -0.21427435409242715, 1.4900398420710712, -1.604228677811847, 0.23534333231846755]}, {\"line\": {\"color\": \"rgba(55, 128, 191, 1.0)\", \"dash\": \"solid\", \"shape\": \"linear\", \"width\": 1.3}, \"mode\": \"lines\", \"name\": \"B\", \"text\": \"\", \"type\": \"scatter\", \"x\": [0, 1, 2, 3, 4, 5, 6, 7, 8, 9, 10, 11, 12, 13, 14, 15, 16, 17, 18, 19, 20, 21, 22, 23, 24, 25, 26, 27, 28, 29, 30, 31, 32, 33, 34, 35, 36, 37, 38, 39, 40, 41, 42, 43, 44, 45, 46, 47, 48, 49, 50, 51, 52, 53, 54, 55, 56, 57, 58, 59, 60, 61, 62, 63, 64, 65, 66, 67, 68, 69, 70, 71, 72, 73, 74, 75, 76, 77, 78, 79, 80, 81, 82, 83, 84, 85, 86, 87, 88, 89, 90, 91, 92, 93, 94, 95, 96, 97, 98, 99], \"y\": [-1.5778429245488879, 1.2680079504191542, 0.09649405165059019, 0.5451506050878556, 1.4665309109334816, -0.8187660691999971, 0.8892275568624582, 0.057993196168514054, 1.0704372338561854, -1.1215869807766896, 0.7898514189744038, 0.8930828925001068, 1.3220881795120045, -1.1746388644306027, -0.11366720583834672, -1.08572748143992, -0.36542532409071204, -0.5451472733548265, 0.05957969416825055, 1.0481834417594982, 0.6582590607680974, 1.9050369818668038, -0.8611884051729745, -0.03364255394446158, -0.2688534606823713, -1.2502969844263059, -0.09367845283559229, -0.2920765672512015, -0.3139676248854494, -0.9811182522643814, -0.06443198507731814, -1.2044898392645802, -0.008192778716532423, -1.5846889685617627, 0.12750792187288915, -0.3593159388234478, -1.4988967562973863, 1.2732099224625397, -0.8615848179565383, -0.40897428577114503, 0.8490222350087218, -1.0791246887998986, -0.15060725895997487, -1.5720599233177468, -0.9104303182134822, 0.3038761199317576, 1.5772543560605514, 0.10958890357099571, -1.433809763409956, 0.9001499602414199, -1.1065469139557813, -1.6591841116033383, 0.4856131846513768, -1.3187515045471454, -0.9998085361886271, 0.8895689618477627, -0.6490212653755961, -0.6028794296101871, -1.6215250503615426, 0.35749953179801786, 1.3525172890956467, 2.1440982079969793, -0.7535990604943527, -1.8530373144179704, 0.3853396942630609, 1.0725112999364486, -0.5080799161223373, 0.728183494278347, 0.29348208736934966, 0.6166598740688046, -1.4176082506592214, -1.2283428172986675, 0.029400981232705268, 0.49717683675476193, 1.2806469532543063, -2.170877611449295, 0.5305137203022765, 0.07573784865183336, 1.962331926274082, 0.6497384161827761, 0.445444965199007, -1.0219776640954312, -1.3586633696231962, 2.548903463301732, -0.2657491617480886, 0.06264434682764904, -1.485197772311538, -1.9928894210733983, 1.1406483682872646, -1.7880279463109883, 0.21610130984226705, 0.6600706306964581, 0.5159702029260697, -1.0874933049782323, -1.0924492328288362, -0.44981702999116246, -0.2910427923330211, 1.109369336375027, -0.27248037646009077, -0.14682084414377564]}, {\"line\": {\"color\": \"rgba(50, 171, 96, 1.0)\", \"dash\": \"solid\", \"shape\": \"linear\", \"width\": 1.3}, \"mode\": \"lines\", \"name\": \"C\", \"text\": \"\", \"type\": \"scatter\", \"x\": [0, 1, 2, 3, 4, 5, 6, 7, 8, 9, 10, 11, 12, 13, 14, 15, 16, 17, 18, 19, 20, 21, 22, 23, 24, 25, 26, 27, 28, 29, 30, 31, 32, 33, 34, 35, 36, 37, 38, 39, 40, 41, 42, 43, 44, 45, 46, 47, 48, 49, 50, 51, 52, 53, 54, 55, 56, 57, 58, 59, 60, 61, 62, 63, 64, 65, 66, 67, 68, 69, 70, 71, 72, 73, 74, 75, 76, 77, 78, 79, 80, 81, 82, 83, 84, 85, 86, 87, 88, 89, 90, 91, 92, 93, 94, 95, 96, 97, 98, 99], \"y\": [-0.8849667774683708, 2.2259377239221325, -1.5233101709060102, 0.2953181398270395, 0.8264344026153204, 0.5913510655187838, 0.6828648431042454, 1.7086815960636492, 0.25818184912645487, -0.7170024291397524, 0.08916805499006593, 1.3153127154131583, 0.4250462899632546, 0.8023505507410498, 1.1148473647823962, -0.18956102529793664, -2.079756872118981, -0.7113601357767555, 0.7094442838065212, 0.07251137575017333, 0.2953148063878515, -1.0121772100861905, -0.6359246998913491, -0.3528819646496265, 0.5408683474982837, 0.38979566342810656, 0.4866337764911907, 0.4011578541573498, 0.6199420783053193, 0.465317548944445, -0.2318148390140708, 0.33581715315193994, -0.47503807105468887, -0.5466109427096344, 0.6186689184945717, -0.19789822919792144, 0.43690862035919475, -0.15712976265590814, -0.03370892710985846, 0.5636837886188208, 1.6580695740115794, -1.0407957699682373, -1.1676010434888637, -1.2157954987786896, 0.8927282864811816, 0.006944035248060638, 0.09941082090580226, 1.7407631555606686, 0.8410707477264111, 0.36434960007679335, 1.7359708516884256, 0.3965880382695271, 1.2907778837912955, -0.8739617195647129, -0.00728002667451206, -0.6998826075737327, -0.25956262071948605, 0.6542748975111746, -0.07018324863868057, 0.11869849803291103, 1.3119010861688023, -0.2972657981226998, -1.327267397411813, 0.6165124105986223, -1.2073661854687094, -0.6857610677682836, -0.8749481991203933, -1.0875589673394612, -0.3771542192507942, -0.6995546738432826, -1.1440545701594893, -0.6170536297117368, -0.4841222349603552, 1.1136235479025833, 0.6188184078340688, 0.3235695906997173, -0.5558048323254344, -0.6554798206190868, 0.5991224352438265, -0.3073695377011026, -1.1443987905506152, -1.3918616476517387, -0.0970628008041887, -1.8637925174812902, 0.3360992701512891, 1.3136038000994479, -0.9528464728863185, 1.0035464465815014, -0.28833439613220974, -0.5801714493637724, -0.8297499028994472, 2.0718903192594933, 0.6207850633540429, 0.05015029066703375, -0.13065485529488527, 0.8073422350123594, 0.5539168555719847, -2.5645193565271756, -1.0899895346786574, 0.10478822602140812]}, {\"line\": {\"color\": \"rgba(128, 0, 128, 1.0)\", \"dash\": \"solid\", \"shape\": \"linear\", \"width\": 1.3}, \"mode\": \"lines\", \"name\": \"D\", \"text\": \"\", \"type\": \"scatter\", \"x\": [0, 1, 2, 3, 4, 5, 6, 7, 8, 9, 10, 11, 12, 13, 14, 15, 16, 17, 18, 19, 20, 21, 22, 23, 24, 25, 26, 27, 28, 29, 30, 31, 32, 33, 34, 35, 36, 37, 38, 39, 40, 41, 42, 43, 44, 45, 46, 47, 48, 49, 50, 51, 52, 53, 54, 55, 56, 57, 58, 59, 60, 61, 62, 63, 64, 65, 66, 67, 68, 69, 70, 71, 72, 73, 74, 75, 76, 77, 78, 79, 80, 81, 82, 83, 84, 85, 86, 87, 88, 89, 90, 91, 92, 93, 94, 95, 96, 97, 98, 99], \"y\": [0.10769577614462261, 0.9381513388151985, 0.6009753050690573, 1.9752354750747527, -0.5181426237082836, 0.22761479934571258, -0.5265786942320025, 0.5095492153774754, -1.046554330848723, 0.7315065825237579, 0.6789620480026869, -1.413347659196342, -0.016108383281562496, -0.9410589517518645, 0.04857771095448899, -0.11022153894423668, 0.14107671168947727, -0.5554674951524631, -1.3159441484687864, -1.7483545865947807, -0.3121965712883904, 0.6920018959734503, -0.9107050403290968, 0.2784644851682874, -1.9397962578930277, -0.45513040249786124, -0.10848084960196892, -0.7589575367551256, -1.0780093826892658, -0.9514571611390187, 1.5961370769094052, 1.8239176658288547, -0.6536799414681844, -1.2597150988422412, -0.46059293448935956, 0.31269284186968976, 0.07907465712089817, 0.14802301693644215, -0.3167136617293768, -1.007512795204162, 0.8067433348015413, -0.8483543082873977, 1.263380709513765, 0.46652702277022684, 0.751282663832055, 0.06369242477298177, -1.0909522881225577, -0.3739960103824854, 0.6779473539857858, 0.3734266014815676, 0.9967330796823717, -0.5119182197177479, -0.5864669718638383, 0.6879994083973473, -2.744759141587978, 0.1441662752957278, 0.026430336315075065, 0.9292363498181935, 0.22263571468181814, 2.199745582404042, -0.641710069299092, 1.539124005803026, 0.20902429509022064, 0.07899581188293245, -0.33360984821282474, -0.36160802793794816, -0.696201035195265, 0.12563154438571958, 1.4465572063107346, 1.5080309088258388, -1.1673168114773593, -0.20357637312531762, -1.4220357329064184, 0.41158488273955846, -1.0001318285121235, 0.7274191463023469, 0.2160667268178794, 0.584137035310321, -0.5655353173916954, 0.34607752995659996, -1.0496416652327765, 0.181924508554677, 1.4160621396152433, 1.447212701811392, -0.44404804234735024, 0.12387709870026571, 2.771090955198578, -0.5368436175829514, -1.0542914901698903, -0.7843346446183815, -0.6142528681773224, -0.0008528951337365195, -0.4769691436154201, 0.19402549901576488, -0.46842199926958966, -0.08477552905099907, -0.9792984493681949, 1.4995880284038323, -0.7542111726116282, 0.5153352947324564]}],\n",
       "                        {\"legend\": {\"bgcolor\": \"#F5F6F9\", \"font\": {\"color\": \"#4D5663\"}}, \"paper_bgcolor\": \"#F5F6F9\", \"plot_bgcolor\": \"#F5F6F9\", \"template\": {\"data\": {\"bar\": [{\"error_x\": {\"color\": \"#2a3f5f\"}, \"error_y\": {\"color\": \"#2a3f5f\"}, \"marker\": {\"line\": {\"color\": \"#E5ECF6\", \"width\": 0.5}}, \"type\": \"bar\"}], \"barpolar\": [{\"marker\": {\"line\": {\"color\": \"#E5ECF6\", \"width\": 0.5}}, \"type\": \"barpolar\"}], \"carpet\": [{\"aaxis\": {\"endlinecolor\": \"#2a3f5f\", \"gridcolor\": \"white\", \"linecolor\": \"white\", \"minorgridcolor\": \"white\", \"startlinecolor\": \"#2a3f5f\"}, \"baxis\": {\"endlinecolor\": \"#2a3f5f\", \"gridcolor\": \"white\", \"linecolor\": \"white\", \"minorgridcolor\": \"white\", \"startlinecolor\": \"#2a3f5f\"}, \"type\": \"carpet\"}], \"choropleth\": [{\"colorbar\": {\"outlinewidth\": 0, \"ticks\": \"\"}, \"type\": \"choropleth\"}], \"contour\": [{\"colorbar\": {\"outlinewidth\": 0, \"ticks\": \"\"}, \"colorscale\": [[0.0, \"#0d0887\"], [0.1111111111111111, \"#46039f\"], [0.2222222222222222, \"#7201a8\"], [0.3333333333333333, \"#9c179e\"], [0.4444444444444444, \"#bd3786\"], [0.5555555555555556, \"#d8576b\"], [0.6666666666666666, \"#ed7953\"], [0.7777777777777778, \"#fb9f3a\"], [0.8888888888888888, \"#fdca26\"], [1.0, \"#f0f921\"]], \"type\": \"contour\"}], \"contourcarpet\": [{\"colorbar\": {\"outlinewidth\": 0, \"ticks\": \"\"}, \"type\": \"contourcarpet\"}], \"heatmap\": [{\"colorbar\": {\"outlinewidth\": 0, \"ticks\": \"\"}, \"colorscale\": [[0.0, \"#0d0887\"], [0.1111111111111111, \"#46039f\"], [0.2222222222222222, \"#7201a8\"], [0.3333333333333333, \"#9c179e\"], [0.4444444444444444, \"#bd3786\"], [0.5555555555555556, \"#d8576b\"], [0.6666666666666666, \"#ed7953\"], [0.7777777777777778, \"#fb9f3a\"], [0.8888888888888888, \"#fdca26\"], [1.0, \"#f0f921\"]], \"type\": \"heatmap\"}], \"heatmapgl\": [{\"colorbar\": {\"outlinewidth\": 0, \"ticks\": \"\"}, \"colorscale\": [[0.0, \"#0d0887\"], [0.1111111111111111, \"#46039f\"], [0.2222222222222222, \"#7201a8\"], [0.3333333333333333, \"#9c179e\"], [0.4444444444444444, \"#bd3786\"], [0.5555555555555556, \"#d8576b\"], [0.6666666666666666, \"#ed7953\"], [0.7777777777777778, \"#fb9f3a\"], [0.8888888888888888, \"#fdca26\"], [1.0, \"#f0f921\"]], \"type\": \"heatmapgl\"}], \"histogram\": [{\"marker\": {\"colorbar\": {\"outlinewidth\": 0, \"ticks\": \"\"}}, \"type\": \"histogram\"}], \"histogram2d\": [{\"colorbar\": {\"outlinewidth\": 0, \"ticks\": \"\"}, \"colorscale\": [[0.0, \"#0d0887\"], [0.1111111111111111, \"#46039f\"], [0.2222222222222222, \"#7201a8\"], [0.3333333333333333, \"#9c179e\"], [0.4444444444444444, \"#bd3786\"], [0.5555555555555556, \"#d8576b\"], [0.6666666666666666, \"#ed7953\"], [0.7777777777777778, \"#fb9f3a\"], [0.8888888888888888, \"#fdca26\"], [1.0, \"#f0f921\"]], \"type\": \"histogram2d\"}], \"histogram2dcontour\": [{\"colorbar\": {\"outlinewidth\": 0, \"ticks\": \"\"}, \"colorscale\": [[0.0, \"#0d0887\"], [0.1111111111111111, \"#46039f\"], [0.2222222222222222, \"#7201a8\"], [0.3333333333333333, \"#9c179e\"], [0.4444444444444444, \"#bd3786\"], [0.5555555555555556, \"#d8576b\"], [0.6666666666666666, \"#ed7953\"], [0.7777777777777778, \"#fb9f3a\"], [0.8888888888888888, \"#fdca26\"], [1.0, \"#f0f921\"]], \"type\": \"histogram2dcontour\"}], \"mesh3d\": [{\"colorbar\": {\"outlinewidth\": 0, \"ticks\": \"\"}, \"type\": \"mesh3d\"}], \"parcoords\": [{\"line\": {\"colorbar\": {\"outlinewidth\": 0, \"ticks\": \"\"}}, \"type\": \"parcoords\"}], \"pie\": [{\"automargin\": true, \"type\": \"pie\"}], \"scatter\": [{\"marker\": {\"colorbar\": {\"outlinewidth\": 0, \"ticks\": \"\"}}, \"type\": \"scatter\"}], \"scatter3d\": [{\"line\": {\"colorbar\": {\"outlinewidth\": 0, \"ticks\": \"\"}}, \"marker\": {\"colorbar\": {\"outlinewidth\": 0, \"ticks\": \"\"}}, \"type\": \"scatter3d\"}], \"scattercarpet\": [{\"marker\": {\"colorbar\": {\"outlinewidth\": 0, \"ticks\": \"\"}}, \"type\": \"scattercarpet\"}], \"scattergeo\": [{\"marker\": {\"colorbar\": {\"outlinewidth\": 0, \"ticks\": \"\"}}, \"type\": \"scattergeo\"}], \"scattergl\": [{\"marker\": {\"colorbar\": {\"outlinewidth\": 0, \"ticks\": \"\"}}, \"type\": \"scattergl\"}], \"scattermapbox\": [{\"marker\": {\"colorbar\": {\"outlinewidth\": 0, \"ticks\": \"\"}}, \"type\": \"scattermapbox\"}], \"scatterpolar\": [{\"marker\": {\"colorbar\": {\"outlinewidth\": 0, \"ticks\": \"\"}}, \"type\": \"scatterpolar\"}], \"scatterpolargl\": [{\"marker\": {\"colorbar\": {\"outlinewidth\": 0, \"ticks\": \"\"}}, \"type\": \"scatterpolargl\"}], \"scatterternary\": [{\"marker\": {\"colorbar\": {\"outlinewidth\": 0, \"ticks\": \"\"}}, \"type\": \"scatterternary\"}], \"surface\": [{\"colorbar\": {\"outlinewidth\": 0, \"ticks\": \"\"}, \"colorscale\": [[0.0, \"#0d0887\"], [0.1111111111111111, \"#46039f\"], [0.2222222222222222, \"#7201a8\"], [0.3333333333333333, \"#9c179e\"], [0.4444444444444444, \"#bd3786\"], [0.5555555555555556, \"#d8576b\"], [0.6666666666666666, \"#ed7953\"], [0.7777777777777778, \"#fb9f3a\"], [0.8888888888888888, \"#fdca26\"], [1.0, \"#f0f921\"]], \"type\": \"surface\"}], \"table\": [{\"cells\": {\"fill\": {\"color\": \"#EBF0F8\"}, \"line\": {\"color\": \"white\"}}, \"header\": {\"fill\": {\"color\": \"#C8D4E3\"}, \"line\": {\"color\": \"white\"}}, \"type\": \"table\"}]}, \"layout\": {\"annotationdefaults\": {\"arrowcolor\": \"#2a3f5f\", \"arrowhead\": 0, \"arrowwidth\": 1}, \"coloraxis\": {\"colorbar\": {\"outlinewidth\": 0, \"ticks\": \"\"}}, \"colorscale\": {\"diverging\": [[0, \"#8e0152\"], [0.1, \"#c51b7d\"], [0.2, \"#de77ae\"], [0.3, \"#f1b6da\"], [0.4, \"#fde0ef\"], [0.5, \"#f7f7f7\"], [0.6, \"#e6f5d0\"], [0.7, \"#b8e186\"], [0.8, \"#7fbc41\"], [0.9, \"#4d9221\"], [1, \"#276419\"]], \"sequential\": [[0.0, \"#0d0887\"], [0.1111111111111111, \"#46039f\"], [0.2222222222222222, \"#7201a8\"], [0.3333333333333333, \"#9c179e\"], [0.4444444444444444, \"#bd3786\"], [0.5555555555555556, \"#d8576b\"], [0.6666666666666666, \"#ed7953\"], [0.7777777777777778, \"#fb9f3a\"], [0.8888888888888888, \"#fdca26\"], [1.0, \"#f0f921\"]], \"sequentialminus\": [[0.0, \"#0d0887\"], [0.1111111111111111, \"#46039f\"], [0.2222222222222222, \"#7201a8\"], [0.3333333333333333, \"#9c179e\"], [0.4444444444444444, \"#bd3786\"], [0.5555555555555556, \"#d8576b\"], [0.6666666666666666, \"#ed7953\"], [0.7777777777777778, \"#fb9f3a\"], [0.8888888888888888, \"#fdca26\"], [1.0, \"#f0f921\"]]}, \"colorway\": [\"#636efa\", \"#EF553B\", \"#00cc96\", \"#ab63fa\", \"#FFA15A\", \"#19d3f3\", \"#FF6692\", \"#B6E880\", \"#FF97FF\", \"#FECB52\"], \"font\": {\"color\": \"#2a3f5f\"}, \"geo\": {\"bgcolor\": \"white\", \"lakecolor\": \"white\", \"landcolor\": \"#E5ECF6\", \"showlakes\": true, \"showland\": true, \"subunitcolor\": \"white\"}, \"hoverlabel\": {\"align\": \"left\"}, \"hovermode\": \"closest\", \"mapbox\": {\"style\": \"light\"}, \"paper_bgcolor\": \"white\", \"plot_bgcolor\": \"#E5ECF6\", \"polar\": {\"angularaxis\": {\"gridcolor\": \"white\", \"linecolor\": \"white\", \"ticks\": \"\"}, \"bgcolor\": \"#E5ECF6\", \"radialaxis\": {\"gridcolor\": \"white\", \"linecolor\": \"white\", \"ticks\": \"\"}}, \"scene\": {\"xaxis\": {\"backgroundcolor\": \"#E5ECF6\", \"gridcolor\": \"white\", \"gridwidth\": 2, \"linecolor\": \"white\", \"showbackground\": true, \"ticks\": \"\", \"zerolinecolor\": \"white\"}, \"yaxis\": {\"backgroundcolor\": \"#E5ECF6\", \"gridcolor\": \"white\", \"gridwidth\": 2, \"linecolor\": \"white\", \"showbackground\": true, \"ticks\": \"\", \"zerolinecolor\": \"white\"}, \"zaxis\": {\"backgroundcolor\": \"#E5ECF6\", \"gridcolor\": \"white\", \"gridwidth\": 2, \"linecolor\": \"white\", \"showbackground\": true, \"ticks\": \"\", \"zerolinecolor\": \"white\"}}, \"shapedefaults\": {\"line\": {\"color\": \"#2a3f5f\"}}, \"ternary\": {\"aaxis\": {\"gridcolor\": \"white\", \"linecolor\": \"white\", \"ticks\": \"\"}, \"baxis\": {\"gridcolor\": \"white\", \"linecolor\": \"white\", \"ticks\": \"\"}, \"bgcolor\": \"#E5ECF6\", \"caxis\": {\"gridcolor\": \"white\", \"linecolor\": \"white\", \"ticks\": \"\"}}, \"title\": {\"x\": 0.05}, \"xaxis\": {\"automargin\": true, \"gridcolor\": \"white\", \"linecolor\": \"white\", \"ticks\": \"\", \"title\": {\"standoff\": 15}, \"zerolinecolor\": \"white\", \"zerolinewidth\": 2}, \"yaxis\": {\"automargin\": true, \"gridcolor\": \"white\", \"linecolor\": \"white\", \"ticks\": \"\", \"title\": {\"standoff\": 15}, \"zerolinecolor\": \"white\", \"zerolinewidth\": 2}}}, \"title\": {\"font\": {\"color\": \"#4D5663\"}}, \"xaxis\": {\"gridcolor\": \"#E1E5ED\", \"showgrid\": true, \"tickfont\": {\"color\": \"#4D5663\"}, \"title\": {\"font\": {\"color\": \"#4D5663\"}, \"text\": \"\"}, \"zerolinecolor\": \"#E1E5ED\"}, \"yaxis\": {\"gridcolor\": \"#E1E5ED\", \"showgrid\": true, \"tickfont\": {\"color\": \"#4D5663\"}, \"title\": {\"font\": {\"color\": \"#4D5663\"}, \"text\": \"\"}, \"zerolinecolor\": \"#E1E5ED\"}},\n",
       "                        {\"showLink\": true, \"linkText\": \"Export to plot.ly\", \"plotlyServerURL\": \"https://plot.ly\", \"responsive\": true}\n",
       "                    ).then(function(){\n",
       "                            \n",
       "var gd = document.getElementById('97e56770-ac13-4ce8-b621-10b03dfcde18');\n",
       "var x = new MutationObserver(function (mutations, observer) {{\n",
       "        var display = window.getComputedStyle(gd).display;\n",
       "        if (!display || display === 'none') {{\n",
       "            console.log([gd, 'removed!']);\n",
       "            Plotly.purge(gd);\n",
       "            observer.disconnect();\n",
       "        }}\n",
       "}});\n",
       "\n",
       "// Listen for the removal of the full notebook cells\n",
       "var notebookContainer = gd.closest('#notebook-container');\n",
       "if (notebookContainer) {{\n",
       "    x.observe(notebookContainer, {childList: true});\n",
       "}}\n",
       "\n",
       "// Listen for the clearing of the current output cell\n",
       "var outputEl = gd.closest('.output');\n",
       "if (outputEl) {{\n",
       "    x.observe(outputEl, {childList: true});\n",
       "}}\n",
       "\n",
       "                        })\n",
       "                };\n",
       "                });\n",
       "            </script>\n",
       "        </div>"
      ]
     },
     "metadata": {},
     "output_type": "display_data"
    }
   ],
   "source": [
    "df.iplot()"
   ]
  },
  {
   "cell_type": "code",
   "execution_count": 21,
   "metadata": {},
   "outputs": [
    {
     "data": {
      "application/vnd.plotly.v1+json": {
       "config": {
        "linkText": "Export to plot.ly",
        "plotlyServerURL": "https://plot.ly",
        "showLink": true
       },
       "data": [
        {
         "line": {
          "color": "rgba(255, 153, 51, 1.0)",
          "dash": "solid",
          "shape": "linear",
          "width": 1.3
         },
         "marker": {
          "size": 12,
          "symbol": "circle"
         },
         "mode": "markers",
         "name": "B",
         "text": "",
         "type": "scatter",
         "x": [
          -1.3559130559175228,
          0.5303321035654701,
          0.29440697268481386,
          -2.366994851248194,
          -0.39061600426275805,
          -1.2161987223331556,
          0.19859743516019948,
          -0.04196512186229954,
          0.7816691002462268,
          -0.5625933565781353,
          0.19285116004885725,
          -0.06178195375831094,
          0.7097995605455756,
          -0.06438499550921149,
          -2.5974737858675803,
          -0.32300690338794696,
          1.0306388859623885,
          -1.941335868515121,
          -1.4355365861662128,
          -0.6573992997091732,
          0.11646656991438858,
          0.46591396507238075,
          0.05272497171678483,
          0.4581524192640287,
          1.1095119169038339,
          -0.16693785245883877,
          -2.4185233240227983,
          -0.6450810153514451,
          1.1329069163196375,
          0.6970329956343094,
          -0.22820026177348646,
          -1.4808780287987526,
          0.024367923584303973,
          0.4286231014194029,
          0.08045542686191721,
          -1.4015248719784796,
          -0.7127602575963483,
          -0.8326614239099435,
          0.9937010497254936,
          -0.5989317759807878,
          -1.4296493006161402,
          0.7713104030030286,
          -0.06980710659690535,
          1.1287545943777195,
          0.24847286609051505,
          -0.25614946259117294,
          -0.4244114222395493,
          0.5856088506470457,
          1.279303773190982,
          -0.44555925844105376,
          0.3490682053943956,
          1.0813767860789734,
          0.8133648881571423,
          -0.6562175042066347,
          -0.4121443535409477,
          1.0969280780102093,
          0.15770461247131407,
          0.042630429623211966,
          2.3683858678174623,
          1.1321042486469257,
          -0.12294684247572248,
          1.7655511106226867,
          -0.1591269815157064,
          0.11075147314174175,
          -1.0859538098553496,
          -2.191959033772851,
          -1.3356073556326191,
          -0.7607734053921369,
          -0.8295932567941922,
          -0.010402164383887734,
          0.009074950144895585,
          -1.3753860596456584,
          1.1186045911807563,
          -1.3180085977495606,
          -1.4364656665274682,
          -1.1545082613318447,
          -0.3488279565559763,
          0.22136370072874864,
          0.11027416415716094,
          -0.3289421211077479,
          1.4982170548436569,
          0.5240075572039334,
          0.14601567207029967,
          1.1131443714346898,
          -0.945595270331263,
          0.29686021046057764,
          -0.06873382405799189,
          1.3398974294041806,
          -0.1005688226330727,
          -0.5387746262762422,
          -0.767849248663247,
          -0.35100755254836946,
          0.1480598141594704,
          0.08595586430500328,
          1.162131405970528,
          0.8816251921637606,
          -0.21427435409242715,
          1.4900398420710712,
          -1.604228677811847,
          0.23534333231846755
         ],
         "y": [
          -1.5778429245488879,
          1.2680079504191542,
          0.09649405165059019,
          0.5451506050878556,
          1.4665309109334816,
          -0.8187660691999971,
          0.8892275568624582,
          0.057993196168514054,
          1.0704372338561854,
          -1.1215869807766896,
          0.7898514189744038,
          0.8930828925001068,
          1.3220881795120045,
          -1.1746388644306027,
          -0.11366720583834672,
          -1.08572748143992,
          -0.36542532409071204,
          -0.5451472733548265,
          0.05957969416825055,
          1.0481834417594982,
          0.6582590607680974,
          1.9050369818668038,
          -0.8611884051729745,
          -0.03364255394446158,
          -0.2688534606823713,
          -1.2502969844263059,
          -0.09367845283559229,
          -0.2920765672512015,
          -0.3139676248854494,
          -0.9811182522643814,
          -0.06443198507731814,
          -1.2044898392645802,
          -0.008192778716532423,
          -1.5846889685617627,
          0.12750792187288915,
          -0.3593159388234478,
          -1.4988967562973863,
          1.2732099224625397,
          -0.8615848179565383,
          -0.40897428577114503,
          0.8490222350087218,
          -1.0791246887998986,
          -0.15060725895997487,
          -1.5720599233177468,
          -0.9104303182134822,
          0.3038761199317576,
          1.5772543560605514,
          0.10958890357099571,
          -1.433809763409956,
          0.9001499602414199,
          -1.1065469139557813,
          -1.6591841116033383,
          0.4856131846513768,
          -1.3187515045471454,
          -0.9998085361886271,
          0.8895689618477627,
          -0.6490212653755961,
          -0.6028794296101871,
          -1.6215250503615426,
          0.35749953179801786,
          1.3525172890956467,
          2.1440982079969793,
          -0.7535990604943527,
          -1.8530373144179704,
          0.3853396942630609,
          1.0725112999364486,
          -0.5080799161223373,
          0.728183494278347,
          0.29348208736934966,
          0.6166598740688046,
          -1.4176082506592214,
          -1.2283428172986675,
          0.029400981232705268,
          0.49717683675476193,
          1.2806469532543063,
          -2.170877611449295,
          0.5305137203022765,
          0.07573784865183336,
          1.962331926274082,
          0.6497384161827761,
          0.445444965199007,
          -1.0219776640954312,
          -1.3586633696231962,
          2.548903463301732,
          -0.2657491617480886,
          0.06264434682764904,
          -1.485197772311538,
          -1.9928894210733983,
          1.1406483682872646,
          -1.7880279463109883,
          0.21610130984226705,
          0.6600706306964581,
          0.5159702029260697,
          -1.0874933049782323,
          -1.0924492328288362,
          -0.44981702999116246,
          -0.2910427923330211,
          1.109369336375027,
          -0.27248037646009077,
          -0.14682084414377564
         ]
        }
       ],
       "layout": {
        "legend": {
         "bgcolor": "#F5F6F9",
         "font": {
          "color": "#4D5663"
         }
        },
        "paper_bgcolor": "#F5F6F9",
        "plot_bgcolor": "#F5F6F9",
        "template": {
         "data": {
          "bar": [
           {
            "error_x": {
             "color": "#2a3f5f"
            },
            "error_y": {
             "color": "#2a3f5f"
            },
            "marker": {
             "line": {
              "color": "#E5ECF6",
              "width": 0.5
             }
            },
            "type": "bar"
           }
          ],
          "barpolar": [
           {
            "marker": {
             "line": {
              "color": "#E5ECF6",
              "width": 0.5
             }
            },
            "type": "barpolar"
           }
          ],
          "carpet": [
           {
            "aaxis": {
             "endlinecolor": "#2a3f5f",
             "gridcolor": "white",
             "linecolor": "white",
             "minorgridcolor": "white",
             "startlinecolor": "#2a3f5f"
            },
            "baxis": {
             "endlinecolor": "#2a3f5f",
             "gridcolor": "white",
             "linecolor": "white",
             "minorgridcolor": "white",
             "startlinecolor": "#2a3f5f"
            },
            "type": "carpet"
           }
          ],
          "choropleth": [
           {
            "colorbar": {
             "outlinewidth": 0,
             "ticks": ""
            },
            "type": "choropleth"
           }
          ],
          "contour": [
           {
            "colorbar": {
             "outlinewidth": 0,
             "ticks": ""
            },
            "colorscale": [
             [
              0,
              "#0d0887"
             ],
             [
              0.1111111111111111,
              "#46039f"
             ],
             [
              0.2222222222222222,
              "#7201a8"
             ],
             [
              0.3333333333333333,
              "#9c179e"
             ],
             [
              0.4444444444444444,
              "#bd3786"
             ],
             [
              0.5555555555555556,
              "#d8576b"
             ],
             [
              0.6666666666666666,
              "#ed7953"
             ],
             [
              0.7777777777777778,
              "#fb9f3a"
             ],
             [
              0.8888888888888888,
              "#fdca26"
             ],
             [
              1,
              "#f0f921"
             ]
            ],
            "type": "contour"
           }
          ],
          "contourcarpet": [
           {
            "colorbar": {
             "outlinewidth": 0,
             "ticks": ""
            },
            "type": "contourcarpet"
           }
          ],
          "heatmap": [
           {
            "colorbar": {
             "outlinewidth": 0,
             "ticks": ""
            },
            "colorscale": [
             [
              0,
              "#0d0887"
             ],
             [
              0.1111111111111111,
              "#46039f"
             ],
             [
              0.2222222222222222,
              "#7201a8"
             ],
             [
              0.3333333333333333,
              "#9c179e"
             ],
             [
              0.4444444444444444,
              "#bd3786"
             ],
             [
              0.5555555555555556,
              "#d8576b"
             ],
             [
              0.6666666666666666,
              "#ed7953"
             ],
             [
              0.7777777777777778,
              "#fb9f3a"
             ],
             [
              0.8888888888888888,
              "#fdca26"
             ],
             [
              1,
              "#f0f921"
             ]
            ],
            "type": "heatmap"
           }
          ],
          "heatmapgl": [
           {
            "colorbar": {
             "outlinewidth": 0,
             "ticks": ""
            },
            "colorscale": [
             [
              0,
              "#0d0887"
             ],
             [
              0.1111111111111111,
              "#46039f"
             ],
             [
              0.2222222222222222,
              "#7201a8"
             ],
             [
              0.3333333333333333,
              "#9c179e"
             ],
             [
              0.4444444444444444,
              "#bd3786"
             ],
             [
              0.5555555555555556,
              "#d8576b"
             ],
             [
              0.6666666666666666,
              "#ed7953"
             ],
             [
              0.7777777777777778,
              "#fb9f3a"
             ],
             [
              0.8888888888888888,
              "#fdca26"
             ],
             [
              1,
              "#f0f921"
             ]
            ],
            "type": "heatmapgl"
           }
          ],
          "histogram": [
           {
            "marker": {
             "colorbar": {
              "outlinewidth": 0,
              "ticks": ""
             }
            },
            "type": "histogram"
           }
          ],
          "histogram2d": [
           {
            "colorbar": {
             "outlinewidth": 0,
             "ticks": ""
            },
            "colorscale": [
             [
              0,
              "#0d0887"
             ],
             [
              0.1111111111111111,
              "#46039f"
             ],
             [
              0.2222222222222222,
              "#7201a8"
             ],
             [
              0.3333333333333333,
              "#9c179e"
             ],
             [
              0.4444444444444444,
              "#bd3786"
             ],
             [
              0.5555555555555556,
              "#d8576b"
             ],
             [
              0.6666666666666666,
              "#ed7953"
             ],
             [
              0.7777777777777778,
              "#fb9f3a"
             ],
             [
              0.8888888888888888,
              "#fdca26"
             ],
             [
              1,
              "#f0f921"
             ]
            ],
            "type": "histogram2d"
           }
          ],
          "histogram2dcontour": [
           {
            "colorbar": {
             "outlinewidth": 0,
             "ticks": ""
            },
            "colorscale": [
             [
              0,
              "#0d0887"
             ],
             [
              0.1111111111111111,
              "#46039f"
             ],
             [
              0.2222222222222222,
              "#7201a8"
             ],
             [
              0.3333333333333333,
              "#9c179e"
             ],
             [
              0.4444444444444444,
              "#bd3786"
             ],
             [
              0.5555555555555556,
              "#d8576b"
             ],
             [
              0.6666666666666666,
              "#ed7953"
             ],
             [
              0.7777777777777778,
              "#fb9f3a"
             ],
             [
              0.8888888888888888,
              "#fdca26"
             ],
             [
              1,
              "#f0f921"
             ]
            ],
            "type": "histogram2dcontour"
           }
          ],
          "mesh3d": [
           {
            "colorbar": {
             "outlinewidth": 0,
             "ticks": ""
            },
            "type": "mesh3d"
           }
          ],
          "parcoords": [
           {
            "line": {
             "colorbar": {
              "outlinewidth": 0,
              "ticks": ""
             }
            },
            "type": "parcoords"
           }
          ],
          "pie": [
           {
            "automargin": true,
            "type": "pie"
           }
          ],
          "scatter": [
           {
            "marker": {
             "colorbar": {
              "outlinewidth": 0,
              "ticks": ""
             }
            },
            "type": "scatter"
           }
          ],
          "scatter3d": [
           {
            "line": {
             "colorbar": {
              "outlinewidth": 0,
              "ticks": ""
             }
            },
            "marker": {
             "colorbar": {
              "outlinewidth": 0,
              "ticks": ""
             }
            },
            "type": "scatter3d"
           }
          ],
          "scattercarpet": [
           {
            "marker": {
             "colorbar": {
              "outlinewidth": 0,
              "ticks": ""
             }
            },
            "type": "scattercarpet"
           }
          ],
          "scattergeo": [
           {
            "marker": {
             "colorbar": {
              "outlinewidth": 0,
              "ticks": ""
             }
            },
            "type": "scattergeo"
           }
          ],
          "scattergl": [
           {
            "marker": {
             "colorbar": {
              "outlinewidth": 0,
              "ticks": ""
             }
            },
            "type": "scattergl"
           }
          ],
          "scattermapbox": [
           {
            "marker": {
             "colorbar": {
              "outlinewidth": 0,
              "ticks": ""
             }
            },
            "type": "scattermapbox"
           }
          ],
          "scatterpolar": [
           {
            "marker": {
             "colorbar": {
              "outlinewidth": 0,
              "ticks": ""
             }
            },
            "type": "scatterpolar"
           }
          ],
          "scatterpolargl": [
           {
            "marker": {
             "colorbar": {
              "outlinewidth": 0,
              "ticks": ""
             }
            },
            "type": "scatterpolargl"
           }
          ],
          "scatterternary": [
           {
            "marker": {
             "colorbar": {
              "outlinewidth": 0,
              "ticks": ""
             }
            },
            "type": "scatterternary"
           }
          ],
          "surface": [
           {
            "colorbar": {
             "outlinewidth": 0,
             "ticks": ""
            },
            "colorscale": [
             [
              0,
              "#0d0887"
             ],
             [
              0.1111111111111111,
              "#46039f"
             ],
             [
              0.2222222222222222,
              "#7201a8"
             ],
             [
              0.3333333333333333,
              "#9c179e"
             ],
             [
              0.4444444444444444,
              "#bd3786"
             ],
             [
              0.5555555555555556,
              "#d8576b"
             ],
             [
              0.6666666666666666,
              "#ed7953"
             ],
             [
              0.7777777777777778,
              "#fb9f3a"
             ],
             [
              0.8888888888888888,
              "#fdca26"
             ],
             [
              1,
              "#f0f921"
             ]
            ],
            "type": "surface"
           }
          ],
          "table": [
           {
            "cells": {
             "fill": {
              "color": "#EBF0F8"
             },
             "line": {
              "color": "white"
             }
            },
            "header": {
             "fill": {
              "color": "#C8D4E3"
             },
             "line": {
              "color": "white"
             }
            },
            "type": "table"
           }
          ]
         },
         "layout": {
          "annotationdefaults": {
           "arrowcolor": "#2a3f5f",
           "arrowhead": 0,
           "arrowwidth": 1
          },
          "coloraxis": {
           "colorbar": {
            "outlinewidth": 0,
            "ticks": ""
           }
          },
          "colorscale": {
           "diverging": [
            [
             0,
             "#8e0152"
            ],
            [
             0.1,
             "#c51b7d"
            ],
            [
             0.2,
             "#de77ae"
            ],
            [
             0.3,
             "#f1b6da"
            ],
            [
             0.4,
             "#fde0ef"
            ],
            [
             0.5,
             "#f7f7f7"
            ],
            [
             0.6,
             "#e6f5d0"
            ],
            [
             0.7,
             "#b8e186"
            ],
            [
             0.8,
             "#7fbc41"
            ],
            [
             0.9,
             "#4d9221"
            ],
            [
             1,
             "#276419"
            ]
           ],
           "sequential": [
            [
             0,
             "#0d0887"
            ],
            [
             0.1111111111111111,
             "#46039f"
            ],
            [
             0.2222222222222222,
             "#7201a8"
            ],
            [
             0.3333333333333333,
             "#9c179e"
            ],
            [
             0.4444444444444444,
             "#bd3786"
            ],
            [
             0.5555555555555556,
             "#d8576b"
            ],
            [
             0.6666666666666666,
             "#ed7953"
            ],
            [
             0.7777777777777778,
             "#fb9f3a"
            ],
            [
             0.8888888888888888,
             "#fdca26"
            ],
            [
             1,
             "#f0f921"
            ]
           ],
           "sequentialminus": [
            [
             0,
             "#0d0887"
            ],
            [
             0.1111111111111111,
             "#46039f"
            ],
            [
             0.2222222222222222,
             "#7201a8"
            ],
            [
             0.3333333333333333,
             "#9c179e"
            ],
            [
             0.4444444444444444,
             "#bd3786"
            ],
            [
             0.5555555555555556,
             "#d8576b"
            ],
            [
             0.6666666666666666,
             "#ed7953"
            ],
            [
             0.7777777777777778,
             "#fb9f3a"
            ],
            [
             0.8888888888888888,
             "#fdca26"
            ],
            [
             1,
             "#f0f921"
            ]
           ]
          },
          "colorway": [
           "#636efa",
           "#EF553B",
           "#00cc96",
           "#ab63fa",
           "#FFA15A",
           "#19d3f3",
           "#FF6692",
           "#B6E880",
           "#FF97FF",
           "#FECB52"
          ],
          "font": {
           "color": "#2a3f5f"
          },
          "geo": {
           "bgcolor": "white",
           "lakecolor": "white",
           "landcolor": "#E5ECF6",
           "showlakes": true,
           "showland": true,
           "subunitcolor": "white"
          },
          "hoverlabel": {
           "align": "left"
          },
          "hovermode": "closest",
          "mapbox": {
           "style": "light"
          },
          "paper_bgcolor": "white",
          "plot_bgcolor": "#E5ECF6",
          "polar": {
           "angularaxis": {
            "gridcolor": "white",
            "linecolor": "white",
            "ticks": ""
           },
           "bgcolor": "#E5ECF6",
           "radialaxis": {
            "gridcolor": "white",
            "linecolor": "white",
            "ticks": ""
           }
          },
          "scene": {
           "xaxis": {
            "backgroundcolor": "#E5ECF6",
            "gridcolor": "white",
            "gridwidth": 2,
            "linecolor": "white",
            "showbackground": true,
            "ticks": "",
            "zerolinecolor": "white"
           },
           "yaxis": {
            "backgroundcolor": "#E5ECF6",
            "gridcolor": "white",
            "gridwidth": 2,
            "linecolor": "white",
            "showbackground": true,
            "ticks": "",
            "zerolinecolor": "white"
           },
           "zaxis": {
            "backgroundcolor": "#E5ECF6",
            "gridcolor": "white",
            "gridwidth": 2,
            "linecolor": "white",
            "showbackground": true,
            "ticks": "",
            "zerolinecolor": "white"
           }
          },
          "shapedefaults": {
           "line": {
            "color": "#2a3f5f"
           }
          },
          "ternary": {
           "aaxis": {
            "gridcolor": "white",
            "linecolor": "white",
            "ticks": ""
           },
           "baxis": {
            "gridcolor": "white",
            "linecolor": "white",
            "ticks": ""
           },
           "bgcolor": "#E5ECF6",
           "caxis": {
            "gridcolor": "white",
            "linecolor": "white",
            "ticks": ""
           }
          },
          "title": {
           "x": 0.05
          },
          "xaxis": {
           "automargin": true,
           "gridcolor": "white",
           "linecolor": "white",
           "ticks": "",
           "title": {
            "standoff": 15
           },
           "zerolinecolor": "white",
           "zerolinewidth": 2
          },
          "yaxis": {
           "automargin": true,
           "gridcolor": "white",
           "linecolor": "white",
           "ticks": "",
           "title": {
            "standoff": 15
           },
           "zerolinecolor": "white",
           "zerolinewidth": 2
          }
         }
        },
        "title": {
         "font": {
          "color": "#4D5663"
         }
        },
        "xaxis": {
         "gridcolor": "#E1E5ED",
         "showgrid": true,
         "tickfont": {
          "color": "#4D5663"
         },
         "title": {
          "font": {
           "color": "#4D5663"
          },
          "text": ""
         },
         "zerolinecolor": "#E1E5ED"
        },
        "yaxis": {
         "gridcolor": "#E1E5ED",
         "showgrid": true,
         "tickfont": {
          "color": "#4D5663"
         },
         "title": {
          "font": {
           "color": "#4D5663"
          },
          "text": ""
         },
         "zerolinecolor": "#E1E5ED"
        }
       }
      },
      "text/html": [
       "<div>\n",
       "        \n",
       "        \n",
       "            <div id=\"36fa9ea6-dc94-4d69-a32e-a3a2aa478337\" class=\"plotly-graph-div\" style=\"height:525px; width:100%;\"></div>\n",
       "            <script type=\"text/javascript\">\n",
       "                require([\"plotly\"], function(Plotly) {\n",
       "                    window.PLOTLYENV=window.PLOTLYENV || {};\n",
       "                    window.PLOTLYENV.BASE_URL='https://plot.ly';\n",
       "                    \n",
       "                if (document.getElementById(\"36fa9ea6-dc94-4d69-a32e-a3a2aa478337\")) {\n",
       "                    Plotly.newPlot(\n",
       "                        '36fa9ea6-dc94-4d69-a32e-a3a2aa478337',\n",
       "                        [{\"line\": {\"color\": \"rgba(255, 153, 51, 1.0)\", \"dash\": \"solid\", \"shape\": \"linear\", \"width\": 1.3}, \"marker\": {\"size\": 12, \"symbol\": \"circle\"}, \"mode\": \"markers\", \"name\": \"B\", \"text\": \"\", \"type\": \"scatter\", \"x\": [-1.3559130559175228, 0.5303321035654701, 0.29440697268481386, -2.366994851248194, -0.39061600426275805, -1.2161987223331556, 0.19859743516019948, -0.04196512186229954, 0.7816691002462268, -0.5625933565781353, 0.19285116004885725, -0.06178195375831094, 0.7097995605455756, -0.06438499550921149, -2.5974737858675803, -0.32300690338794696, 1.0306388859623885, -1.941335868515121, -1.4355365861662128, -0.6573992997091732, 0.11646656991438858, 0.46591396507238075, 0.05272497171678483, 0.4581524192640287, 1.1095119169038339, -0.16693785245883877, -2.4185233240227983, -0.6450810153514451, 1.1329069163196375, 0.6970329956343094, -0.22820026177348646, -1.4808780287987526, 0.024367923584303973, 0.4286231014194029, 0.08045542686191721, -1.4015248719784796, -0.7127602575963483, -0.8326614239099435, 0.9937010497254936, -0.5989317759807878, -1.4296493006161402, 0.7713104030030286, -0.06980710659690535, 1.1287545943777195, 0.24847286609051505, -0.25614946259117294, -0.4244114222395493, 0.5856088506470457, 1.279303773190982, -0.44555925844105376, 0.3490682053943956, 1.0813767860789734, 0.8133648881571423, -0.6562175042066347, -0.4121443535409477, 1.0969280780102093, 0.15770461247131407, 0.042630429623211966, 2.3683858678174623, 1.1321042486469257, -0.12294684247572248, 1.7655511106226867, -0.1591269815157064, 0.11075147314174175, -1.0859538098553496, -2.191959033772851, -1.3356073556326191, -0.7607734053921369, -0.8295932567941922, -0.010402164383887734, 0.009074950144895585, -1.3753860596456584, 1.1186045911807563, -1.3180085977495606, -1.4364656665274682, -1.1545082613318447, -0.3488279565559763, 0.22136370072874864, 0.11027416415716094, -0.3289421211077479, 1.4982170548436569, 0.5240075572039334, 0.14601567207029967, 1.1131443714346898, -0.945595270331263, 0.29686021046057764, -0.06873382405799189, 1.3398974294041806, -0.1005688226330727, -0.5387746262762422, -0.767849248663247, -0.35100755254836946, 0.1480598141594704, 0.08595586430500328, 1.162131405970528, 0.8816251921637606, -0.21427435409242715, 1.4900398420710712, -1.604228677811847, 0.23534333231846755], \"y\": [-1.5778429245488879, 1.2680079504191542, 0.09649405165059019, 0.5451506050878556, 1.4665309109334816, -0.8187660691999971, 0.8892275568624582, 0.057993196168514054, 1.0704372338561854, -1.1215869807766896, 0.7898514189744038, 0.8930828925001068, 1.3220881795120045, -1.1746388644306027, -0.11366720583834672, -1.08572748143992, -0.36542532409071204, -0.5451472733548265, 0.05957969416825055, 1.0481834417594982, 0.6582590607680974, 1.9050369818668038, -0.8611884051729745, -0.03364255394446158, -0.2688534606823713, -1.2502969844263059, -0.09367845283559229, -0.2920765672512015, -0.3139676248854494, -0.9811182522643814, -0.06443198507731814, -1.2044898392645802, -0.008192778716532423, -1.5846889685617627, 0.12750792187288915, -0.3593159388234478, -1.4988967562973863, 1.2732099224625397, -0.8615848179565383, -0.40897428577114503, 0.8490222350087218, -1.0791246887998986, -0.15060725895997487, -1.5720599233177468, -0.9104303182134822, 0.3038761199317576, 1.5772543560605514, 0.10958890357099571, -1.433809763409956, 0.9001499602414199, -1.1065469139557813, -1.6591841116033383, 0.4856131846513768, -1.3187515045471454, -0.9998085361886271, 0.8895689618477627, -0.6490212653755961, -0.6028794296101871, -1.6215250503615426, 0.35749953179801786, 1.3525172890956467, 2.1440982079969793, -0.7535990604943527, -1.8530373144179704, 0.3853396942630609, 1.0725112999364486, -0.5080799161223373, 0.728183494278347, 0.29348208736934966, 0.6166598740688046, -1.4176082506592214, -1.2283428172986675, 0.029400981232705268, 0.49717683675476193, 1.2806469532543063, -2.170877611449295, 0.5305137203022765, 0.07573784865183336, 1.962331926274082, 0.6497384161827761, 0.445444965199007, -1.0219776640954312, -1.3586633696231962, 2.548903463301732, -0.2657491617480886, 0.06264434682764904, -1.485197772311538, -1.9928894210733983, 1.1406483682872646, -1.7880279463109883, 0.21610130984226705, 0.6600706306964581, 0.5159702029260697, -1.0874933049782323, -1.0924492328288362, -0.44981702999116246, -0.2910427923330211, 1.109369336375027, -0.27248037646009077, -0.14682084414377564]}],\n",
       "                        {\"legend\": {\"bgcolor\": \"#F5F6F9\", \"font\": {\"color\": \"#4D5663\"}}, \"paper_bgcolor\": \"#F5F6F9\", \"plot_bgcolor\": \"#F5F6F9\", \"template\": {\"data\": {\"bar\": [{\"error_x\": {\"color\": \"#2a3f5f\"}, \"error_y\": {\"color\": \"#2a3f5f\"}, \"marker\": {\"line\": {\"color\": \"#E5ECF6\", \"width\": 0.5}}, \"type\": \"bar\"}], \"barpolar\": [{\"marker\": {\"line\": {\"color\": \"#E5ECF6\", \"width\": 0.5}}, \"type\": \"barpolar\"}], \"carpet\": [{\"aaxis\": {\"endlinecolor\": \"#2a3f5f\", \"gridcolor\": \"white\", \"linecolor\": \"white\", \"minorgridcolor\": \"white\", \"startlinecolor\": \"#2a3f5f\"}, \"baxis\": {\"endlinecolor\": \"#2a3f5f\", \"gridcolor\": \"white\", \"linecolor\": \"white\", \"minorgridcolor\": \"white\", \"startlinecolor\": \"#2a3f5f\"}, \"type\": \"carpet\"}], \"choropleth\": [{\"colorbar\": {\"outlinewidth\": 0, \"ticks\": \"\"}, \"type\": \"choropleth\"}], \"contour\": [{\"colorbar\": {\"outlinewidth\": 0, \"ticks\": \"\"}, \"colorscale\": [[0.0, \"#0d0887\"], [0.1111111111111111, \"#46039f\"], [0.2222222222222222, \"#7201a8\"], [0.3333333333333333, \"#9c179e\"], [0.4444444444444444, \"#bd3786\"], [0.5555555555555556, \"#d8576b\"], [0.6666666666666666, \"#ed7953\"], [0.7777777777777778, \"#fb9f3a\"], [0.8888888888888888, \"#fdca26\"], [1.0, \"#f0f921\"]], \"type\": \"contour\"}], \"contourcarpet\": [{\"colorbar\": {\"outlinewidth\": 0, \"ticks\": \"\"}, \"type\": \"contourcarpet\"}], \"heatmap\": [{\"colorbar\": {\"outlinewidth\": 0, \"ticks\": \"\"}, \"colorscale\": [[0.0, \"#0d0887\"], [0.1111111111111111, \"#46039f\"], [0.2222222222222222, \"#7201a8\"], [0.3333333333333333, \"#9c179e\"], [0.4444444444444444, \"#bd3786\"], [0.5555555555555556, \"#d8576b\"], [0.6666666666666666, \"#ed7953\"], [0.7777777777777778, \"#fb9f3a\"], [0.8888888888888888, \"#fdca26\"], [1.0, \"#f0f921\"]], \"type\": \"heatmap\"}], \"heatmapgl\": [{\"colorbar\": {\"outlinewidth\": 0, \"ticks\": \"\"}, \"colorscale\": [[0.0, \"#0d0887\"], [0.1111111111111111, \"#46039f\"], [0.2222222222222222, \"#7201a8\"], [0.3333333333333333, \"#9c179e\"], [0.4444444444444444, \"#bd3786\"], [0.5555555555555556, \"#d8576b\"], [0.6666666666666666, \"#ed7953\"], [0.7777777777777778, \"#fb9f3a\"], [0.8888888888888888, \"#fdca26\"], [1.0, \"#f0f921\"]], \"type\": \"heatmapgl\"}], \"histogram\": [{\"marker\": {\"colorbar\": {\"outlinewidth\": 0, \"ticks\": \"\"}}, \"type\": \"histogram\"}], \"histogram2d\": [{\"colorbar\": {\"outlinewidth\": 0, \"ticks\": \"\"}, \"colorscale\": [[0.0, \"#0d0887\"], [0.1111111111111111, \"#46039f\"], [0.2222222222222222, \"#7201a8\"], [0.3333333333333333, \"#9c179e\"], [0.4444444444444444, \"#bd3786\"], [0.5555555555555556, \"#d8576b\"], [0.6666666666666666, \"#ed7953\"], [0.7777777777777778, \"#fb9f3a\"], [0.8888888888888888, \"#fdca26\"], [1.0, \"#f0f921\"]], \"type\": \"histogram2d\"}], \"histogram2dcontour\": [{\"colorbar\": {\"outlinewidth\": 0, \"ticks\": \"\"}, \"colorscale\": [[0.0, \"#0d0887\"], [0.1111111111111111, \"#46039f\"], [0.2222222222222222, \"#7201a8\"], [0.3333333333333333, \"#9c179e\"], [0.4444444444444444, \"#bd3786\"], [0.5555555555555556, \"#d8576b\"], [0.6666666666666666, \"#ed7953\"], [0.7777777777777778, \"#fb9f3a\"], [0.8888888888888888, \"#fdca26\"], [1.0, \"#f0f921\"]], \"type\": \"histogram2dcontour\"}], \"mesh3d\": [{\"colorbar\": {\"outlinewidth\": 0, \"ticks\": \"\"}, \"type\": \"mesh3d\"}], \"parcoords\": [{\"line\": {\"colorbar\": {\"outlinewidth\": 0, \"ticks\": \"\"}}, \"type\": \"parcoords\"}], \"pie\": [{\"automargin\": true, \"type\": \"pie\"}], \"scatter\": [{\"marker\": {\"colorbar\": {\"outlinewidth\": 0, \"ticks\": \"\"}}, \"type\": \"scatter\"}], \"scatter3d\": [{\"line\": {\"colorbar\": {\"outlinewidth\": 0, \"ticks\": \"\"}}, \"marker\": {\"colorbar\": {\"outlinewidth\": 0, \"ticks\": \"\"}}, \"type\": \"scatter3d\"}], \"scattercarpet\": [{\"marker\": {\"colorbar\": {\"outlinewidth\": 0, \"ticks\": \"\"}}, \"type\": \"scattercarpet\"}], \"scattergeo\": [{\"marker\": {\"colorbar\": {\"outlinewidth\": 0, \"ticks\": \"\"}}, \"type\": \"scattergeo\"}], \"scattergl\": [{\"marker\": {\"colorbar\": {\"outlinewidth\": 0, \"ticks\": \"\"}}, \"type\": \"scattergl\"}], \"scattermapbox\": [{\"marker\": {\"colorbar\": {\"outlinewidth\": 0, \"ticks\": \"\"}}, \"type\": \"scattermapbox\"}], \"scatterpolar\": [{\"marker\": {\"colorbar\": {\"outlinewidth\": 0, \"ticks\": \"\"}}, \"type\": \"scatterpolar\"}], \"scatterpolargl\": [{\"marker\": {\"colorbar\": {\"outlinewidth\": 0, \"ticks\": \"\"}}, \"type\": \"scatterpolargl\"}], \"scatterternary\": [{\"marker\": {\"colorbar\": {\"outlinewidth\": 0, \"ticks\": \"\"}}, \"type\": \"scatterternary\"}], \"surface\": [{\"colorbar\": {\"outlinewidth\": 0, \"ticks\": \"\"}, \"colorscale\": [[0.0, \"#0d0887\"], [0.1111111111111111, \"#46039f\"], [0.2222222222222222, \"#7201a8\"], [0.3333333333333333, \"#9c179e\"], [0.4444444444444444, \"#bd3786\"], [0.5555555555555556, \"#d8576b\"], [0.6666666666666666, \"#ed7953\"], [0.7777777777777778, \"#fb9f3a\"], [0.8888888888888888, \"#fdca26\"], [1.0, \"#f0f921\"]], \"type\": \"surface\"}], \"table\": [{\"cells\": {\"fill\": {\"color\": \"#EBF0F8\"}, \"line\": {\"color\": \"white\"}}, \"header\": {\"fill\": {\"color\": \"#C8D4E3\"}, \"line\": {\"color\": \"white\"}}, \"type\": \"table\"}]}, \"layout\": {\"annotationdefaults\": {\"arrowcolor\": \"#2a3f5f\", \"arrowhead\": 0, \"arrowwidth\": 1}, \"coloraxis\": {\"colorbar\": {\"outlinewidth\": 0, \"ticks\": \"\"}}, \"colorscale\": {\"diverging\": [[0, \"#8e0152\"], [0.1, \"#c51b7d\"], [0.2, \"#de77ae\"], [0.3, \"#f1b6da\"], [0.4, \"#fde0ef\"], [0.5, \"#f7f7f7\"], [0.6, \"#e6f5d0\"], [0.7, \"#b8e186\"], [0.8, \"#7fbc41\"], [0.9, \"#4d9221\"], [1, \"#276419\"]], \"sequential\": [[0.0, \"#0d0887\"], [0.1111111111111111, \"#46039f\"], [0.2222222222222222, \"#7201a8\"], [0.3333333333333333, \"#9c179e\"], [0.4444444444444444, \"#bd3786\"], [0.5555555555555556, \"#d8576b\"], [0.6666666666666666, \"#ed7953\"], [0.7777777777777778, \"#fb9f3a\"], [0.8888888888888888, \"#fdca26\"], [1.0, \"#f0f921\"]], \"sequentialminus\": [[0.0, \"#0d0887\"], [0.1111111111111111, \"#46039f\"], [0.2222222222222222, \"#7201a8\"], [0.3333333333333333, \"#9c179e\"], [0.4444444444444444, \"#bd3786\"], [0.5555555555555556, \"#d8576b\"], [0.6666666666666666, \"#ed7953\"], [0.7777777777777778, \"#fb9f3a\"], [0.8888888888888888, \"#fdca26\"], [1.0, \"#f0f921\"]]}, \"colorway\": [\"#636efa\", \"#EF553B\", \"#00cc96\", \"#ab63fa\", \"#FFA15A\", \"#19d3f3\", \"#FF6692\", \"#B6E880\", \"#FF97FF\", \"#FECB52\"], \"font\": {\"color\": \"#2a3f5f\"}, \"geo\": {\"bgcolor\": \"white\", \"lakecolor\": \"white\", \"landcolor\": \"#E5ECF6\", \"showlakes\": true, \"showland\": true, \"subunitcolor\": \"white\"}, \"hoverlabel\": {\"align\": \"left\"}, \"hovermode\": \"closest\", \"mapbox\": {\"style\": \"light\"}, \"paper_bgcolor\": \"white\", \"plot_bgcolor\": \"#E5ECF6\", \"polar\": {\"angularaxis\": {\"gridcolor\": \"white\", \"linecolor\": \"white\", \"ticks\": \"\"}, \"bgcolor\": \"#E5ECF6\", \"radialaxis\": {\"gridcolor\": \"white\", \"linecolor\": \"white\", \"ticks\": \"\"}}, \"scene\": {\"xaxis\": {\"backgroundcolor\": \"#E5ECF6\", \"gridcolor\": \"white\", \"gridwidth\": 2, \"linecolor\": \"white\", \"showbackground\": true, \"ticks\": \"\", \"zerolinecolor\": \"white\"}, \"yaxis\": {\"backgroundcolor\": \"#E5ECF6\", \"gridcolor\": \"white\", \"gridwidth\": 2, \"linecolor\": \"white\", \"showbackground\": true, \"ticks\": \"\", \"zerolinecolor\": \"white\"}, \"zaxis\": {\"backgroundcolor\": \"#E5ECF6\", \"gridcolor\": \"white\", \"gridwidth\": 2, \"linecolor\": \"white\", \"showbackground\": true, \"ticks\": \"\", \"zerolinecolor\": \"white\"}}, \"shapedefaults\": {\"line\": {\"color\": \"#2a3f5f\"}}, \"ternary\": {\"aaxis\": {\"gridcolor\": \"white\", \"linecolor\": \"white\", \"ticks\": \"\"}, \"baxis\": {\"gridcolor\": \"white\", \"linecolor\": \"white\", \"ticks\": \"\"}, \"bgcolor\": \"#E5ECF6\", \"caxis\": {\"gridcolor\": \"white\", \"linecolor\": \"white\", \"ticks\": \"\"}}, \"title\": {\"x\": 0.05}, \"xaxis\": {\"automargin\": true, \"gridcolor\": \"white\", \"linecolor\": \"white\", \"ticks\": \"\", \"title\": {\"standoff\": 15}, \"zerolinecolor\": \"white\", \"zerolinewidth\": 2}, \"yaxis\": {\"automargin\": true, \"gridcolor\": \"white\", \"linecolor\": \"white\", \"ticks\": \"\", \"title\": {\"standoff\": 15}, \"zerolinecolor\": \"white\", \"zerolinewidth\": 2}}}, \"title\": {\"font\": {\"color\": \"#4D5663\"}}, \"xaxis\": {\"gridcolor\": \"#E1E5ED\", \"showgrid\": true, \"tickfont\": {\"color\": \"#4D5663\"}, \"title\": {\"font\": {\"color\": \"#4D5663\"}, \"text\": \"\"}, \"zerolinecolor\": \"#E1E5ED\"}, \"yaxis\": {\"gridcolor\": \"#E1E5ED\", \"showgrid\": true, \"tickfont\": {\"color\": \"#4D5663\"}, \"title\": {\"font\": {\"color\": \"#4D5663\"}, \"text\": \"\"}, \"zerolinecolor\": \"#E1E5ED\"}},\n",
       "                        {\"showLink\": true, \"linkText\": \"Export to plot.ly\", \"plotlyServerURL\": \"https://plot.ly\", \"responsive\": true}\n",
       "                    ).then(function(){\n",
       "                            \n",
       "var gd = document.getElementById('36fa9ea6-dc94-4d69-a32e-a3a2aa478337');\n",
       "var x = new MutationObserver(function (mutations, observer) {{\n",
       "        var display = window.getComputedStyle(gd).display;\n",
       "        if (!display || display === 'none') {{\n",
       "            console.log([gd, 'removed!']);\n",
       "            Plotly.purge(gd);\n",
       "            observer.disconnect();\n",
       "        }}\n",
       "}});\n",
       "\n",
       "// Listen for the removal of the full notebook cells\n",
       "var notebookContainer = gd.closest('#notebook-container');\n",
       "if (notebookContainer) {{\n",
       "    x.observe(notebookContainer, {childList: true});\n",
       "}}\n",
       "\n",
       "// Listen for the clearing of the current output cell\n",
       "var outputEl = gd.closest('.output');\n",
       "if (outputEl) {{\n",
       "    x.observe(outputEl, {childList: true});\n",
       "}}\n",
       "\n",
       "                        })\n",
       "                };\n",
       "                });\n",
       "            </script>\n",
       "        </div>"
      ]
     },
     "metadata": {},
     "output_type": "display_data"
    }
   ],
   "source": [
    "df.iplot(kind='scatter',x='A',y='B',mode='markers')"
   ]
  },
  {
   "cell_type": "code",
   "execution_count": 22,
   "metadata": {},
   "outputs": [
    {
     "data": {
      "application/vnd.plotly.v1+json": {
       "config": {
        "linkText": "Export to plot.ly",
        "plotlyServerURL": "https://plot.ly",
        "showLink": true
       },
       "data": [
        {
         "line": {
          "color": "rgba(255, 153, 51, 1.0)",
          "dash": "solid",
          "shape": "linear",
          "width": 1.3
         },
         "marker": {
          "size": 20,
          "symbol": "circle"
         },
         "mode": "markers",
         "name": "B",
         "text": "",
         "type": "scatter",
         "x": [
          -1.3559130559175228,
          0.5303321035654701,
          0.29440697268481386,
          -2.366994851248194,
          -0.39061600426275805,
          -1.2161987223331556,
          0.19859743516019948,
          -0.04196512186229954,
          0.7816691002462268,
          -0.5625933565781353,
          0.19285116004885725,
          -0.06178195375831094,
          0.7097995605455756,
          -0.06438499550921149,
          -2.5974737858675803,
          -0.32300690338794696,
          1.0306388859623885,
          -1.941335868515121,
          -1.4355365861662128,
          -0.6573992997091732,
          0.11646656991438858,
          0.46591396507238075,
          0.05272497171678483,
          0.4581524192640287,
          1.1095119169038339,
          -0.16693785245883877,
          -2.4185233240227983,
          -0.6450810153514451,
          1.1329069163196375,
          0.6970329956343094,
          -0.22820026177348646,
          -1.4808780287987526,
          0.024367923584303973,
          0.4286231014194029,
          0.08045542686191721,
          -1.4015248719784796,
          -0.7127602575963483,
          -0.8326614239099435,
          0.9937010497254936,
          -0.5989317759807878,
          -1.4296493006161402,
          0.7713104030030286,
          -0.06980710659690535,
          1.1287545943777195,
          0.24847286609051505,
          -0.25614946259117294,
          -0.4244114222395493,
          0.5856088506470457,
          1.279303773190982,
          -0.44555925844105376,
          0.3490682053943956,
          1.0813767860789734,
          0.8133648881571423,
          -0.6562175042066347,
          -0.4121443535409477,
          1.0969280780102093,
          0.15770461247131407,
          0.042630429623211966,
          2.3683858678174623,
          1.1321042486469257,
          -0.12294684247572248,
          1.7655511106226867,
          -0.1591269815157064,
          0.11075147314174175,
          -1.0859538098553496,
          -2.191959033772851,
          -1.3356073556326191,
          -0.7607734053921369,
          -0.8295932567941922,
          -0.010402164383887734,
          0.009074950144895585,
          -1.3753860596456584,
          1.1186045911807563,
          -1.3180085977495606,
          -1.4364656665274682,
          -1.1545082613318447,
          -0.3488279565559763,
          0.22136370072874864,
          0.11027416415716094,
          -0.3289421211077479,
          1.4982170548436569,
          0.5240075572039334,
          0.14601567207029967,
          1.1131443714346898,
          -0.945595270331263,
          0.29686021046057764,
          -0.06873382405799189,
          1.3398974294041806,
          -0.1005688226330727,
          -0.5387746262762422,
          -0.767849248663247,
          -0.35100755254836946,
          0.1480598141594704,
          0.08595586430500328,
          1.162131405970528,
          0.8816251921637606,
          -0.21427435409242715,
          1.4900398420710712,
          -1.604228677811847,
          0.23534333231846755
         ],
         "y": [
          -1.5778429245488879,
          1.2680079504191542,
          0.09649405165059019,
          0.5451506050878556,
          1.4665309109334816,
          -0.8187660691999971,
          0.8892275568624582,
          0.057993196168514054,
          1.0704372338561854,
          -1.1215869807766896,
          0.7898514189744038,
          0.8930828925001068,
          1.3220881795120045,
          -1.1746388644306027,
          -0.11366720583834672,
          -1.08572748143992,
          -0.36542532409071204,
          -0.5451472733548265,
          0.05957969416825055,
          1.0481834417594982,
          0.6582590607680974,
          1.9050369818668038,
          -0.8611884051729745,
          -0.03364255394446158,
          -0.2688534606823713,
          -1.2502969844263059,
          -0.09367845283559229,
          -0.2920765672512015,
          -0.3139676248854494,
          -0.9811182522643814,
          -0.06443198507731814,
          -1.2044898392645802,
          -0.008192778716532423,
          -1.5846889685617627,
          0.12750792187288915,
          -0.3593159388234478,
          -1.4988967562973863,
          1.2732099224625397,
          -0.8615848179565383,
          -0.40897428577114503,
          0.8490222350087218,
          -1.0791246887998986,
          -0.15060725895997487,
          -1.5720599233177468,
          -0.9104303182134822,
          0.3038761199317576,
          1.5772543560605514,
          0.10958890357099571,
          -1.433809763409956,
          0.9001499602414199,
          -1.1065469139557813,
          -1.6591841116033383,
          0.4856131846513768,
          -1.3187515045471454,
          -0.9998085361886271,
          0.8895689618477627,
          -0.6490212653755961,
          -0.6028794296101871,
          -1.6215250503615426,
          0.35749953179801786,
          1.3525172890956467,
          2.1440982079969793,
          -0.7535990604943527,
          -1.8530373144179704,
          0.3853396942630609,
          1.0725112999364486,
          -0.5080799161223373,
          0.728183494278347,
          0.29348208736934966,
          0.6166598740688046,
          -1.4176082506592214,
          -1.2283428172986675,
          0.029400981232705268,
          0.49717683675476193,
          1.2806469532543063,
          -2.170877611449295,
          0.5305137203022765,
          0.07573784865183336,
          1.962331926274082,
          0.6497384161827761,
          0.445444965199007,
          -1.0219776640954312,
          -1.3586633696231962,
          2.548903463301732,
          -0.2657491617480886,
          0.06264434682764904,
          -1.485197772311538,
          -1.9928894210733983,
          1.1406483682872646,
          -1.7880279463109883,
          0.21610130984226705,
          0.6600706306964581,
          0.5159702029260697,
          -1.0874933049782323,
          -1.0924492328288362,
          -0.44981702999116246,
          -0.2910427923330211,
          1.109369336375027,
          -0.27248037646009077,
          -0.14682084414377564
         ]
        }
       ],
       "layout": {
        "legend": {
         "bgcolor": "#F5F6F9",
         "font": {
          "color": "#4D5663"
         }
        },
        "paper_bgcolor": "#F5F6F9",
        "plot_bgcolor": "#F5F6F9",
        "template": {
         "data": {
          "bar": [
           {
            "error_x": {
             "color": "#2a3f5f"
            },
            "error_y": {
             "color": "#2a3f5f"
            },
            "marker": {
             "line": {
              "color": "#E5ECF6",
              "width": 0.5
             }
            },
            "type": "bar"
           }
          ],
          "barpolar": [
           {
            "marker": {
             "line": {
              "color": "#E5ECF6",
              "width": 0.5
             }
            },
            "type": "barpolar"
           }
          ],
          "carpet": [
           {
            "aaxis": {
             "endlinecolor": "#2a3f5f",
             "gridcolor": "white",
             "linecolor": "white",
             "minorgridcolor": "white",
             "startlinecolor": "#2a3f5f"
            },
            "baxis": {
             "endlinecolor": "#2a3f5f",
             "gridcolor": "white",
             "linecolor": "white",
             "minorgridcolor": "white",
             "startlinecolor": "#2a3f5f"
            },
            "type": "carpet"
           }
          ],
          "choropleth": [
           {
            "colorbar": {
             "outlinewidth": 0,
             "ticks": ""
            },
            "type": "choropleth"
           }
          ],
          "contour": [
           {
            "colorbar": {
             "outlinewidth": 0,
             "ticks": ""
            },
            "colorscale": [
             [
              0,
              "#0d0887"
             ],
             [
              0.1111111111111111,
              "#46039f"
             ],
             [
              0.2222222222222222,
              "#7201a8"
             ],
             [
              0.3333333333333333,
              "#9c179e"
             ],
             [
              0.4444444444444444,
              "#bd3786"
             ],
             [
              0.5555555555555556,
              "#d8576b"
             ],
             [
              0.6666666666666666,
              "#ed7953"
             ],
             [
              0.7777777777777778,
              "#fb9f3a"
             ],
             [
              0.8888888888888888,
              "#fdca26"
             ],
             [
              1,
              "#f0f921"
             ]
            ],
            "type": "contour"
           }
          ],
          "contourcarpet": [
           {
            "colorbar": {
             "outlinewidth": 0,
             "ticks": ""
            },
            "type": "contourcarpet"
           }
          ],
          "heatmap": [
           {
            "colorbar": {
             "outlinewidth": 0,
             "ticks": ""
            },
            "colorscale": [
             [
              0,
              "#0d0887"
             ],
             [
              0.1111111111111111,
              "#46039f"
             ],
             [
              0.2222222222222222,
              "#7201a8"
             ],
             [
              0.3333333333333333,
              "#9c179e"
             ],
             [
              0.4444444444444444,
              "#bd3786"
             ],
             [
              0.5555555555555556,
              "#d8576b"
             ],
             [
              0.6666666666666666,
              "#ed7953"
             ],
             [
              0.7777777777777778,
              "#fb9f3a"
             ],
             [
              0.8888888888888888,
              "#fdca26"
             ],
             [
              1,
              "#f0f921"
             ]
            ],
            "type": "heatmap"
           }
          ],
          "heatmapgl": [
           {
            "colorbar": {
             "outlinewidth": 0,
             "ticks": ""
            },
            "colorscale": [
             [
              0,
              "#0d0887"
             ],
             [
              0.1111111111111111,
              "#46039f"
             ],
             [
              0.2222222222222222,
              "#7201a8"
             ],
             [
              0.3333333333333333,
              "#9c179e"
             ],
             [
              0.4444444444444444,
              "#bd3786"
             ],
             [
              0.5555555555555556,
              "#d8576b"
             ],
             [
              0.6666666666666666,
              "#ed7953"
             ],
             [
              0.7777777777777778,
              "#fb9f3a"
             ],
             [
              0.8888888888888888,
              "#fdca26"
             ],
             [
              1,
              "#f0f921"
             ]
            ],
            "type": "heatmapgl"
           }
          ],
          "histogram": [
           {
            "marker": {
             "colorbar": {
              "outlinewidth": 0,
              "ticks": ""
             }
            },
            "type": "histogram"
           }
          ],
          "histogram2d": [
           {
            "colorbar": {
             "outlinewidth": 0,
             "ticks": ""
            },
            "colorscale": [
             [
              0,
              "#0d0887"
             ],
             [
              0.1111111111111111,
              "#46039f"
             ],
             [
              0.2222222222222222,
              "#7201a8"
             ],
             [
              0.3333333333333333,
              "#9c179e"
             ],
             [
              0.4444444444444444,
              "#bd3786"
             ],
             [
              0.5555555555555556,
              "#d8576b"
             ],
             [
              0.6666666666666666,
              "#ed7953"
             ],
             [
              0.7777777777777778,
              "#fb9f3a"
             ],
             [
              0.8888888888888888,
              "#fdca26"
             ],
             [
              1,
              "#f0f921"
             ]
            ],
            "type": "histogram2d"
           }
          ],
          "histogram2dcontour": [
           {
            "colorbar": {
             "outlinewidth": 0,
             "ticks": ""
            },
            "colorscale": [
             [
              0,
              "#0d0887"
             ],
             [
              0.1111111111111111,
              "#46039f"
             ],
             [
              0.2222222222222222,
              "#7201a8"
             ],
             [
              0.3333333333333333,
              "#9c179e"
             ],
             [
              0.4444444444444444,
              "#bd3786"
             ],
             [
              0.5555555555555556,
              "#d8576b"
             ],
             [
              0.6666666666666666,
              "#ed7953"
             ],
             [
              0.7777777777777778,
              "#fb9f3a"
             ],
             [
              0.8888888888888888,
              "#fdca26"
             ],
             [
              1,
              "#f0f921"
             ]
            ],
            "type": "histogram2dcontour"
           }
          ],
          "mesh3d": [
           {
            "colorbar": {
             "outlinewidth": 0,
             "ticks": ""
            },
            "type": "mesh3d"
           }
          ],
          "parcoords": [
           {
            "line": {
             "colorbar": {
              "outlinewidth": 0,
              "ticks": ""
             }
            },
            "type": "parcoords"
           }
          ],
          "pie": [
           {
            "automargin": true,
            "type": "pie"
           }
          ],
          "scatter": [
           {
            "marker": {
             "colorbar": {
              "outlinewidth": 0,
              "ticks": ""
             }
            },
            "type": "scatter"
           }
          ],
          "scatter3d": [
           {
            "line": {
             "colorbar": {
              "outlinewidth": 0,
              "ticks": ""
             }
            },
            "marker": {
             "colorbar": {
              "outlinewidth": 0,
              "ticks": ""
             }
            },
            "type": "scatter3d"
           }
          ],
          "scattercarpet": [
           {
            "marker": {
             "colorbar": {
              "outlinewidth": 0,
              "ticks": ""
             }
            },
            "type": "scattercarpet"
           }
          ],
          "scattergeo": [
           {
            "marker": {
             "colorbar": {
              "outlinewidth": 0,
              "ticks": ""
             }
            },
            "type": "scattergeo"
           }
          ],
          "scattergl": [
           {
            "marker": {
             "colorbar": {
              "outlinewidth": 0,
              "ticks": ""
             }
            },
            "type": "scattergl"
           }
          ],
          "scattermapbox": [
           {
            "marker": {
             "colorbar": {
              "outlinewidth": 0,
              "ticks": ""
             }
            },
            "type": "scattermapbox"
           }
          ],
          "scatterpolar": [
           {
            "marker": {
             "colorbar": {
              "outlinewidth": 0,
              "ticks": ""
             }
            },
            "type": "scatterpolar"
           }
          ],
          "scatterpolargl": [
           {
            "marker": {
             "colorbar": {
              "outlinewidth": 0,
              "ticks": ""
             }
            },
            "type": "scatterpolargl"
           }
          ],
          "scatterternary": [
           {
            "marker": {
             "colorbar": {
              "outlinewidth": 0,
              "ticks": ""
             }
            },
            "type": "scatterternary"
           }
          ],
          "surface": [
           {
            "colorbar": {
             "outlinewidth": 0,
             "ticks": ""
            },
            "colorscale": [
             [
              0,
              "#0d0887"
             ],
             [
              0.1111111111111111,
              "#46039f"
             ],
             [
              0.2222222222222222,
              "#7201a8"
             ],
             [
              0.3333333333333333,
              "#9c179e"
             ],
             [
              0.4444444444444444,
              "#bd3786"
             ],
             [
              0.5555555555555556,
              "#d8576b"
             ],
             [
              0.6666666666666666,
              "#ed7953"
             ],
             [
              0.7777777777777778,
              "#fb9f3a"
             ],
             [
              0.8888888888888888,
              "#fdca26"
             ],
             [
              1,
              "#f0f921"
             ]
            ],
            "type": "surface"
           }
          ],
          "table": [
           {
            "cells": {
             "fill": {
              "color": "#EBF0F8"
             },
             "line": {
              "color": "white"
             }
            },
            "header": {
             "fill": {
              "color": "#C8D4E3"
             },
             "line": {
              "color": "white"
             }
            },
            "type": "table"
           }
          ]
         },
         "layout": {
          "annotationdefaults": {
           "arrowcolor": "#2a3f5f",
           "arrowhead": 0,
           "arrowwidth": 1
          },
          "coloraxis": {
           "colorbar": {
            "outlinewidth": 0,
            "ticks": ""
           }
          },
          "colorscale": {
           "diverging": [
            [
             0,
             "#8e0152"
            ],
            [
             0.1,
             "#c51b7d"
            ],
            [
             0.2,
             "#de77ae"
            ],
            [
             0.3,
             "#f1b6da"
            ],
            [
             0.4,
             "#fde0ef"
            ],
            [
             0.5,
             "#f7f7f7"
            ],
            [
             0.6,
             "#e6f5d0"
            ],
            [
             0.7,
             "#b8e186"
            ],
            [
             0.8,
             "#7fbc41"
            ],
            [
             0.9,
             "#4d9221"
            ],
            [
             1,
             "#276419"
            ]
           ],
           "sequential": [
            [
             0,
             "#0d0887"
            ],
            [
             0.1111111111111111,
             "#46039f"
            ],
            [
             0.2222222222222222,
             "#7201a8"
            ],
            [
             0.3333333333333333,
             "#9c179e"
            ],
            [
             0.4444444444444444,
             "#bd3786"
            ],
            [
             0.5555555555555556,
             "#d8576b"
            ],
            [
             0.6666666666666666,
             "#ed7953"
            ],
            [
             0.7777777777777778,
             "#fb9f3a"
            ],
            [
             0.8888888888888888,
             "#fdca26"
            ],
            [
             1,
             "#f0f921"
            ]
           ],
           "sequentialminus": [
            [
             0,
             "#0d0887"
            ],
            [
             0.1111111111111111,
             "#46039f"
            ],
            [
             0.2222222222222222,
             "#7201a8"
            ],
            [
             0.3333333333333333,
             "#9c179e"
            ],
            [
             0.4444444444444444,
             "#bd3786"
            ],
            [
             0.5555555555555556,
             "#d8576b"
            ],
            [
             0.6666666666666666,
             "#ed7953"
            ],
            [
             0.7777777777777778,
             "#fb9f3a"
            ],
            [
             0.8888888888888888,
             "#fdca26"
            ],
            [
             1,
             "#f0f921"
            ]
           ]
          },
          "colorway": [
           "#636efa",
           "#EF553B",
           "#00cc96",
           "#ab63fa",
           "#FFA15A",
           "#19d3f3",
           "#FF6692",
           "#B6E880",
           "#FF97FF",
           "#FECB52"
          ],
          "font": {
           "color": "#2a3f5f"
          },
          "geo": {
           "bgcolor": "white",
           "lakecolor": "white",
           "landcolor": "#E5ECF6",
           "showlakes": true,
           "showland": true,
           "subunitcolor": "white"
          },
          "hoverlabel": {
           "align": "left"
          },
          "hovermode": "closest",
          "mapbox": {
           "style": "light"
          },
          "paper_bgcolor": "white",
          "plot_bgcolor": "#E5ECF6",
          "polar": {
           "angularaxis": {
            "gridcolor": "white",
            "linecolor": "white",
            "ticks": ""
           },
           "bgcolor": "#E5ECF6",
           "radialaxis": {
            "gridcolor": "white",
            "linecolor": "white",
            "ticks": ""
           }
          },
          "scene": {
           "xaxis": {
            "backgroundcolor": "#E5ECF6",
            "gridcolor": "white",
            "gridwidth": 2,
            "linecolor": "white",
            "showbackground": true,
            "ticks": "",
            "zerolinecolor": "white"
           },
           "yaxis": {
            "backgroundcolor": "#E5ECF6",
            "gridcolor": "white",
            "gridwidth": 2,
            "linecolor": "white",
            "showbackground": true,
            "ticks": "",
            "zerolinecolor": "white"
           },
           "zaxis": {
            "backgroundcolor": "#E5ECF6",
            "gridcolor": "white",
            "gridwidth": 2,
            "linecolor": "white",
            "showbackground": true,
            "ticks": "",
            "zerolinecolor": "white"
           }
          },
          "shapedefaults": {
           "line": {
            "color": "#2a3f5f"
           }
          },
          "ternary": {
           "aaxis": {
            "gridcolor": "white",
            "linecolor": "white",
            "ticks": ""
           },
           "baxis": {
            "gridcolor": "white",
            "linecolor": "white",
            "ticks": ""
           },
           "bgcolor": "#E5ECF6",
           "caxis": {
            "gridcolor": "white",
            "linecolor": "white",
            "ticks": ""
           }
          },
          "title": {
           "x": 0.05
          },
          "xaxis": {
           "automargin": true,
           "gridcolor": "white",
           "linecolor": "white",
           "ticks": "",
           "title": {
            "standoff": 15
           },
           "zerolinecolor": "white",
           "zerolinewidth": 2
          },
          "yaxis": {
           "automargin": true,
           "gridcolor": "white",
           "linecolor": "white",
           "ticks": "",
           "title": {
            "standoff": 15
           },
           "zerolinecolor": "white",
           "zerolinewidth": 2
          }
         }
        },
        "title": {
         "font": {
          "color": "#4D5663"
         }
        },
        "xaxis": {
         "gridcolor": "#E1E5ED",
         "showgrid": true,
         "tickfont": {
          "color": "#4D5663"
         },
         "title": {
          "font": {
           "color": "#4D5663"
          },
          "text": ""
         },
         "zerolinecolor": "#E1E5ED"
        },
        "yaxis": {
         "gridcolor": "#E1E5ED",
         "showgrid": true,
         "tickfont": {
          "color": "#4D5663"
         },
         "title": {
          "font": {
           "color": "#4D5663"
          },
          "text": ""
         },
         "zerolinecolor": "#E1E5ED"
        }
       }
      },
      "text/html": [
       "<div>\n",
       "        \n",
       "        \n",
       "            <div id=\"c1feaed6-e59d-4857-8834-6985a9203489\" class=\"plotly-graph-div\" style=\"height:525px; width:100%;\"></div>\n",
       "            <script type=\"text/javascript\">\n",
       "                require([\"plotly\"], function(Plotly) {\n",
       "                    window.PLOTLYENV=window.PLOTLYENV || {};\n",
       "                    window.PLOTLYENV.BASE_URL='https://plot.ly';\n",
       "                    \n",
       "                if (document.getElementById(\"c1feaed6-e59d-4857-8834-6985a9203489\")) {\n",
       "                    Plotly.newPlot(\n",
       "                        'c1feaed6-e59d-4857-8834-6985a9203489',\n",
       "                        [{\"line\": {\"color\": \"rgba(255, 153, 51, 1.0)\", \"dash\": \"solid\", \"shape\": \"linear\", \"width\": 1.3}, \"marker\": {\"size\": 20, \"symbol\": \"circle\"}, \"mode\": \"markers\", \"name\": \"B\", \"text\": \"\", \"type\": \"scatter\", \"x\": [-1.3559130559175228, 0.5303321035654701, 0.29440697268481386, -2.366994851248194, -0.39061600426275805, -1.2161987223331556, 0.19859743516019948, -0.04196512186229954, 0.7816691002462268, -0.5625933565781353, 0.19285116004885725, -0.06178195375831094, 0.7097995605455756, -0.06438499550921149, -2.5974737858675803, -0.32300690338794696, 1.0306388859623885, -1.941335868515121, -1.4355365861662128, -0.6573992997091732, 0.11646656991438858, 0.46591396507238075, 0.05272497171678483, 0.4581524192640287, 1.1095119169038339, -0.16693785245883877, -2.4185233240227983, -0.6450810153514451, 1.1329069163196375, 0.6970329956343094, -0.22820026177348646, -1.4808780287987526, 0.024367923584303973, 0.4286231014194029, 0.08045542686191721, -1.4015248719784796, -0.7127602575963483, -0.8326614239099435, 0.9937010497254936, -0.5989317759807878, -1.4296493006161402, 0.7713104030030286, -0.06980710659690535, 1.1287545943777195, 0.24847286609051505, -0.25614946259117294, -0.4244114222395493, 0.5856088506470457, 1.279303773190982, -0.44555925844105376, 0.3490682053943956, 1.0813767860789734, 0.8133648881571423, -0.6562175042066347, -0.4121443535409477, 1.0969280780102093, 0.15770461247131407, 0.042630429623211966, 2.3683858678174623, 1.1321042486469257, -0.12294684247572248, 1.7655511106226867, -0.1591269815157064, 0.11075147314174175, -1.0859538098553496, -2.191959033772851, -1.3356073556326191, -0.7607734053921369, -0.8295932567941922, -0.010402164383887734, 0.009074950144895585, -1.3753860596456584, 1.1186045911807563, -1.3180085977495606, -1.4364656665274682, -1.1545082613318447, -0.3488279565559763, 0.22136370072874864, 0.11027416415716094, -0.3289421211077479, 1.4982170548436569, 0.5240075572039334, 0.14601567207029967, 1.1131443714346898, -0.945595270331263, 0.29686021046057764, -0.06873382405799189, 1.3398974294041806, -0.1005688226330727, -0.5387746262762422, -0.767849248663247, -0.35100755254836946, 0.1480598141594704, 0.08595586430500328, 1.162131405970528, 0.8816251921637606, -0.21427435409242715, 1.4900398420710712, -1.604228677811847, 0.23534333231846755], \"y\": [-1.5778429245488879, 1.2680079504191542, 0.09649405165059019, 0.5451506050878556, 1.4665309109334816, -0.8187660691999971, 0.8892275568624582, 0.057993196168514054, 1.0704372338561854, -1.1215869807766896, 0.7898514189744038, 0.8930828925001068, 1.3220881795120045, -1.1746388644306027, -0.11366720583834672, -1.08572748143992, -0.36542532409071204, -0.5451472733548265, 0.05957969416825055, 1.0481834417594982, 0.6582590607680974, 1.9050369818668038, -0.8611884051729745, -0.03364255394446158, -0.2688534606823713, -1.2502969844263059, -0.09367845283559229, -0.2920765672512015, -0.3139676248854494, -0.9811182522643814, -0.06443198507731814, -1.2044898392645802, -0.008192778716532423, -1.5846889685617627, 0.12750792187288915, -0.3593159388234478, -1.4988967562973863, 1.2732099224625397, -0.8615848179565383, -0.40897428577114503, 0.8490222350087218, -1.0791246887998986, -0.15060725895997487, -1.5720599233177468, -0.9104303182134822, 0.3038761199317576, 1.5772543560605514, 0.10958890357099571, -1.433809763409956, 0.9001499602414199, -1.1065469139557813, -1.6591841116033383, 0.4856131846513768, -1.3187515045471454, -0.9998085361886271, 0.8895689618477627, -0.6490212653755961, -0.6028794296101871, -1.6215250503615426, 0.35749953179801786, 1.3525172890956467, 2.1440982079969793, -0.7535990604943527, -1.8530373144179704, 0.3853396942630609, 1.0725112999364486, -0.5080799161223373, 0.728183494278347, 0.29348208736934966, 0.6166598740688046, -1.4176082506592214, -1.2283428172986675, 0.029400981232705268, 0.49717683675476193, 1.2806469532543063, -2.170877611449295, 0.5305137203022765, 0.07573784865183336, 1.962331926274082, 0.6497384161827761, 0.445444965199007, -1.0219776640954312, -1.3586633696231962, 2.548903463301732, -0.2657491617480886, 0.06264434682764904, -1.485197772311538, -1.9928894210733983, 1.1406483682872646, -1.7880279463109883, 0.21610130984226705, 0.6600706306964581, 0.5159702029260697, -1.0874933049782323, -1.0924492328288362, -0.44981702999116246, -0.2910427923330211, 1.109369336375027, -0.27248037646009077, -0.14682084414377564]}],\n",
       "                        {\"legend\": {\"bgcolor\": \"#F5F6F9\", \"font\": {\"color\": \"#4D5663\"}}, \"paper_bgcolor\": \"#F5F6F9\", \"plot_bgcolor\": \"#F5F6F9\", \"template\": {\"data\": {\"bar\": [{\"error_x\": {\"color\": \"#2a3f5f\"}, \"error_y\": {\"color\": \"#2a3f5f\"}, \"marker\": {\"line\": {\"color\": \"#E5ECF6\", \"width\": 0.5}}, \"type\": \"bar\"}], \"barpolar\": [{\"marker\": {\"line\": {\"color\": \"#E5ECF6\", \"width\": 0.5}}, \"type\": \"barpolar\"}], \"carpet\": [{\"aaxis\": {\"endlinecolor\": \"#2a3f5f\", \"gridcolor\": \"white\", \"linecolor\": \"white\", \"minorgridcolor\": \"white\", \"startlinecolor\": \"#2a3f5f\"}, \"baxis\": {\"endlinecolor\": \"#2a3f5f\", \"gridcolor\": \"white\", \"linecolor\": \"white\", \"minorgridcolor\": \"white\", \"startlinecolor\": \"#2a3f5f\"}, \"type\": \"carpet\"}], \"choropleth\": [{\"colorbar\": {\"outlinewidth\": 0, \"ticks\": \"\"}, \"type\": \"choropleth\"}], \"contour\": [{\"colorbar\": {\"outlinewidth\": 0, \"ticks\": \"\"}, \"colorscale\": [[0.0, \"#0d0887\"], [0.1111111111111111, \"#46039f\"], [0.2222222222222222, \"#7201a8\"], [0.3333333333333333, \"#9c179e\"], [0.4444444444444444, \"#bd3786\"], [0.5555555555555556, \"#d8576b\"], [0.6666666666666666, \"#ed7953\"], [0.7777777777777778, \"#fb9f3a\"], [0.8888888888888888, \"#fdca26\"], [1.0, \"#f0f921\"]], \"type\": \"contour\"}], \"contourcarpet\": [{\"colorbar\": {\"outlinewidth\": 0, \"ticks\": \"\"}, \"type\": \"contourcarpet\"}], \"heatmap\": [{\"colorbar\": {\"outlinewidth\": 0, \"ticks\": \"\"}, \"colorscale\": [[0.0, \"#0d0887\"], [0.1111111111111111, \"#46039f\"], [0.2222222222222222, \"#7201a8\"], [0.3333333333333333, \"#9c179e\"], [0.4444444444444444, \"#bd3786\"], [0.5555555555555556, \"#d8576b\"], [0.6666666666666666, \"#ed7953\"], [0.7777777777777778, \"#fb9f3a\"], [0.8888888888888888, \"#fdca26\"], [1.0, \"#f0f921\"]], \"type\": \"heatmap\"}], \"heatmapgl\": [{\"colorbar\": {\"outlinewidth\": 0, \"ticks\": \"\"}, \"colorscale\": [[0.0, \"#0d0887\"], [0.1111111111111111, \"#46039f\"], [0.2222222222222222, \"#7201a8\"], [0.3333333333333333, \"#9c179e\"], [0.4444444444444444, \"#bd3786\"], [0.5555555555555556, \"#d8576b\"], [0.6666666666666666, \"#ed7953\"], [0.7777777777777778, \"#fb9f3a\"], [0.8888888888888888, \"#fdca26\"], [1.0, \"#f0f921\"]], \"type\": \"heatmapgl\"}], \"histogram\": [{\"marker\": {\"colorbar\": {\"outlinewidth\": 0, \"ticks\": \"\"}}, \"type\": \"histogram\"}], \"histogram2d\": [{\"colorbar\": {\"outlinewidth\": 0, \"ticks\": \"\"}, \"colorscale\": [[0.0, \"#0d0887\"], [0.1111111111111111, \"#46039f\"], [0.2222222222222222, \"#7201a8\"], [0.3333333333333333, \"#9c179e\"], [0.4444444444444444, \"#bd3786\"], [0.5555555555555556, \"#d8576b\"], [0.6666666666666666, \"#ed7953\"], [0.7777777777777778, \"#fb9f3a\"], [0.8888888888888888, \"#fdca26\"], [1.0, \"#f0f921\"]], \"type\": \"histogram2d\"}], \"histogram2dcontour\": [{\"colorbar\": {\"outlinewidth\": 0, \"ticks\": \"\"}, \"colorscale\": [[0.0, \"#0d0887\"], [0.1111111111111111, \"#46039f\"], [0.2222222222222222, \"#7201a8\"], [0.3333333333333333, \"#9c179e\"], [0.4444444444444444, \"#bd3786\"], [0.5555555555555556, \"#d8576b\"], [0.6666666666666666, \"#ed7953\"], [0.7777777777777778, \"#fb9f3a\"], [0.8888888888888888, \"#fdca26\"], [1.0, \"#f0f921\"]], \"type\": \"histogram2dcontour\"}], \"mesh3d\": [{\"colorbar\": {\"outlinewidth\": 0, \"ticks\": \"\"}, \"type\": \"mesh3d\"}], \"parcoords\": [{\"line\": {\"colorbar\": {\"outlinewidth\": 0, \"ticks\": \"\"}}, \"type\": \"parcoords\"}], \"pie\": [{\"automargin\": true, \"type\": \"pie\"}], \"scatter\": [{\"marker\": {\"colorbar\": {\"outlinewidth\": 0, \"ticks\": \"\"}}, \"type\": \"scatter\"}], \"scatter3d\": [{\"line\": {\"colorbar\": {\"outlinewidth\": 0, \"ticks\": \"\"}}, \"marker\": {\"colorbar\": {\"outlinewidth\": 0, \"ticks\": \"\"}}, \"type\": \"scatter3d\"}], \"scattercarpet\": [{\"marker\": {\"colorbar\": {\"outlinewidth\": 0, \"ticks\": \"\"}}, \"type\": \"scattercarpet\"}], \"scattergeo\": [{\"marker\": {\"colorbar\": {\"outlinewidth\": 0, \"ticks\": \"\"}}, \"type\": \"scattergeo\"}], \"scattergl\": [{\"marker\": {\"colorbar\": {\"outlinewidth\": 0, \"ticks\": \"\"}}, \"type\": \"scattergl\"}], \"scattermapbox\": [{\"marker\": {\"colorbar\": {\"outlinewidth\": 0, \"ticks\": \"\"}}, \"type\": \"scattermapbox\"}], \"scatterpolar\": [{\"marker\": {\"colorbar\": {\"outlinewidth\": 0, \"ticks\": \"\"}}, \"type\": \"scatterpolar\"}], \"scatterpolargl\": [{\"marker\": {\"colorbar\": {\"outlinewidth\": 0, \"ticks\": \"\"}}, \"type\": \"scatterpolargl\"}], \"scatterternary\": [{\"marker\": {\"colorbar\": {\"outlinewidth\": 0, \"ticks\": \"\"}}, \"type\": \"scatterternary\"}], \"surface\": [{\"colorbar\": {\"outlinewidth\": 0, \"ticks\": \"\"}, \"colorscale\": [[0.0, \"#0d0887\"], [0.1111111111111111, \"#46039f\"], [0.2222222222222222, \"#7201a8\"], [0.3333333333333333, \"#9c179e\"], [0.4444444444444444, \"#bd3786\"], [0.5555555555555556, \"#d8576b\"], [0.6666666666666666, \"#ed7953\"], [0.7777777777777778, \"#fb9f3a\"], [0.8888888888888888, \"#fdca26\"], [1.0, \"#f0f921\"]], \"type\": \"surface\"}], \"table\": [{\"cells\": {\"fill\": {\"color\": \"#EBF0F8\"}, \"line\": {\"color\": \"white\"}}, \"header\": {\"fill\": {\"color\": \"#C8D4E3\"}, \"line\": {\"color\": \"white\"}}, \"type\": \"table\"}]}, \"layout\": {\"annotationdefaults\": {\"arrowcolor\": \"#2a3f5f\", \"arrowhead\": 0, \"arrowwidth\": 1}, \"coloraxis\": {\"colorbar\": {\"outlinewidth\": 0, \"ticks\": \"\"}}, \"colorscale\": {\"diverging\": [[0, \"#8e0152\"], [0.1, \"#c51b7d\"], [0.2, \"#de77ae\"], [0.3, \"#f1b6da\"], [0.4, \"#fde0ef\"], [0.5, \"#f7f7f7\"], [0.6, \"#e6f5d0\"], [0.7, \"#b8e186\"], [0.8, \"#7fbc41\"], [0.9, \"#4d9221\"], [1, \"#276419\"]], \"sequential\": [[0.0, \"#0d0887\"], [0.1111111111111111, \"#46039f\"], [0.2222222222222222, \"#7201a8\"], [0.3333333333333333, \"#9c179e\"], [0.4444444444444444, \"#bd3786\"], [0.5555555555555556, \"#d8576b\"], [0.6666666666666666, \"#ed7953\"], [0.7777777777777778, \"#fb9f3a\"], [0.8888888888888888, \"#fdca26\"], [1.0, \"#f0f921\"]], \"sequentialminus\": [[0.0, \"#0d0887\"], [0.1111111111111111, \"#46039f\"], [0.2222222222222222, \"#7201a8\"], [0.3333333333333333, \"#9c179e\"], [0.4444444444444444, \"#bd3786\"], [0.5555555555555556, \"#d8576b\"], [0.6666666666666666, \"#ed7953\"], [0.7777777777777778, \"#fb9f3a\"], [0.8888888888888888, \"#fdca26\"], [1.0, \"#f0f921\"]]}, \"colorway\": [\"#636efa\", \"#EF553B\", \"#00cc96\", \"#ab63fa\", \"#FFA15A\", \"#19d3f3\", \"#FF6692\", \"#B6E880\", \"#FF97FF\", \"#FECB52\"], \"font\": {\"color\": \"#2a3f5f\"}, \"geo\": {\"bgcolor\": \"white\", \"lakecolor\": \"white\", \"landcolor\": \"#E5ECF6\", \"showlakes\": true, \"showland\": true, \"subunitcolor\": \"white\"}, \"hoverlabel\": {\"align\": \"left\"}, \"hovermode\": \"closest\", \"mapbox\": {\"style\": \"light\"}, \"paper_bgcolor\": \"white\", \"plot_bgcolor\": \"#E5ECF6\", \"polar\": {\"angularaxis\": {\"gridcolor\": \"white\", \"linecolor\": \"white\", \"ticks\": \"\"}, \"bgcolor\": \"#E5ECF6\", \"radialaxis\": {\"gridcolor\": \"white\", \"linecolor\": \"white\", \"ticks\": \"\"}}, \"scene\": {\"xaxis\": {\"backgroundcolor\": \"#E5ECF6\", \"gridcolor\": \"white\", \"gridwidth\": 2, \"linecolor\": \"white\", \"showbackground\": true, \"ticks\": \"\", \"zerolinecolor\": \"white\"}, \"yaxis\": {\"backgroundcolor\": \"#E5ECF6\", \"gridcolor\": \"white\", \"gridwidth\": 2, \"linecolor\": \"white\", \"showbackground\": true, \"ticks\": \"\", \"zerolinecolor\": \"white\"}, \"zaxis\": {\"backgroundcolor\": \"#E5ECF6\", \"gridcolor\": \"white\", \"gridwidth\": 2, \"linecolor\": \"white\", \"showbackground\": true, \"ticks\": \"\", \"zerolinecolor\": \"white\"}}, \"shapedefaults\": {\"line\": {\"color\": \"#2a3f5f\"}}, \"ternary\": {\"aaxis\": {\"gridcolor\": \"white\", \"linecolor\": \"white\", \"ticks\": \"\"}, \"baxis\": {\"gridcolor\": \"white\", \"linecolor\": \"white\", \"ticks\": \"\"}, \"bgcolor\": \"#E5ECF6\", \"caxis\": {\"gridcolor\": \"white\", \"linecolor\": \"white\", \"ticks\": \"\"}}, \"title\": {\"x\": 0.05}, \"xaxis\": {\"automargin\": true, \"gridcolor\": \"white\", \"linecolor\": \"white\", \"ticks\": \"\", \"title\": {\"standoff\": 15}, \"zerolinecolor\": \"white\", \"zerolinewidth\": 2}, \"yaxis\": {\"automargin\": true, \"gridcolor\": \"white\", \"linecolor\": \"white\", \"ticks\": \"\", \"title\": {\"standoff\": 15}, \"zerolinecolor\": \"white\", \"zerolinewidth\": 2}}}, \"title\": {\"font\": {\"color\": \"#4D5663\"}}, \"xaxis\": {\"gridcolor\": \"#E1E5ED\", \"showgrid\": true, \"tickfont\": {\"color\": \"#4D5663\"}, \"title\": {\"font\": {\"color\": \"#4D5663\"}, \"text\": \"\"}, \"zerolinecolor\": \"#E1E5ED\"}, \"yaxis\": {\"gridcolor\": \"#E1E5ED\", \"showgrid\": true, \"tickfont\": {\"color\": \"#4D5663\"}, \"title\": {\"font\": {\"color\": \"#4D5663\"}, \"text\": \"\"}, \"zerolinecolor\": \"#E1E5ED\"}},\n",
       "                        {\"showLink\": true, \"linkText\": \"Export to plot.ly\", \"plotlyServerURL\": \"https://plot.ly\", \"responsive\": true}\n",
       "                    ).then(function(){\n",
       "                            \n",
       "var gd = document.getElementById('c1feaed6-e59d-4857-8834-6985a9203489');\n",
       "var x = new MutationObserver(function (mutations, observer) {{\n",
       "        var display = window.getComputedStyle(gd).display;\n",
       "        if (!display || display === 'none') {{\n",
       "            console.log([gd, 'removed!']);\n",
       "            Plotly.purge(gd);\n",
       "            observer.disconnect();\n",
       "        }}\n",
       "}});\n",
       "\n",
       "// Listen for the removal of the full notebook cells\n",
       "var notebookContainer = gd.closest('#notebook-container');\n",
       "if (notebookContainer) {{\n",
       "    x.observe(notebookContainer, {childList: true});\n",
       "}}\n",
       "\n",
       "// Listen for the clearing of the current output cell\n",
       "var outputEl = gd.closest('.output');\n",
       "if (outputEl) {{\n",
       "    x.observe(outputEl, {childList: true});\n",
       "}}\n",
       "\n",
       "                        })\n",
       "                };\n",
       "                });\n",
       "            </script>\n",
       "        </div>"
      ]
     },
     "metadata": {},
     "output_type": "display_data"
    }
   ],
   "source": [
    "df.iplot(kind='scatter',x='A',y='B',mode='markers',size=20)"
   ]
  },
  {
   "cell_type": "code",
   "execution_count": 23,
   "metadata": {},
   "outputs": [
    {
     "data": {
      "application/vnd.plotly.v1+json": {
       "config": {
        "linkText": "Export to plot.ly",
        "plotlyServerURL": "https://plot.ly",
        "showLink": true
       },
       "data": [
        {
         "marker": {
          "color": "rgba(255, 153, 51, 0.6)",
          "line": {
           "color": "rgba(255, 153, 51, 1.0)",
           "width": 1
          }
         },
         "name": "Values",
         "orientation": "v",
         "text": "",
         "type": "bar",
         "x": [
          "A",
          "B",
          "C"
         ],
         "y": [
          32,
          43,
          50
         ]
        }
       ],
       "layout": {
        "legend": {
         "bgcolor": "#F5F6F9",
         "font": {
          "color": "#4D5663"
         }
        },
        "paper_bgcolor": "#F5F6F9",
        "plot_bgcolor": "#F5F6F9",
        "template": {
         "data": {
          "bar": [
           {
            "error_x": {
             "color": "#2a3f5f"
            },
            "error_y": {
             "color": "#2a3f5f"
            },
            "marker": {
             "line": {
              "color": "#E5ECF6",
              "width": 0.5
             }
            },
            "type": "bar"
           }
          ],
          "barpolar": [
           {
            "marker": {
             "line": {
              "color": "#E5ECF6",
              "width": 0.5
             }
            },
            "type": "barpolar"
           }
          ],
          "carpet": [
           {
            "aaxis": {
             "endlinecolor": "#2a3f5f",
             "gridcolor": "white",
             "linecolor": "white",
             "minorgridcolor": "white",
             "startlinecolor": "#2a3f5f"
            },
            "baxis": {
             "endlinecolor": "#2a3f5f",
             "gridcolor": "white",
             "linecolor": "white",
             "minorgridcolor": "white",
             "startlinecolor": "#2a3f5f"
            },
            "type": "carpet"
           }
          ],
          "choropleth": [
           {
            "colorbar": {
             "outlinewidth": 0,
             "ticks": ""
            },
            "type": "choropleth"
           }
          ],
          "contour": [
           {
            "colorbar": {
             "outlinewidth": 0,
             "ticks": ""
            },
            "colorscale": [
             [
              0,
              "#0d0887"
             ],
             [
              0.1111111111111111,
              "#46039f"
             ],
             [
              0.2222222222222222,
              "#7201a8"
             ],
             [
              0.3333333333333333,
              "#9c179e"
             ],
             [
              0.4444444444444444,
              "#bd3786"
             ],
             [
              0.5555555555555556,
              "#d8576b"
             ],
             [
              0.6666666666666666,
              "#ed7953"
             ],
             [
              0.7777777777777778,
              "#fb9f3a"
             ],
             [
              0.8888888888888888,
              "#fdca26"
             ],
             [
              1,
              "#f0f921"
             ]
            ],
            "type": "contour"
           }
          ],
          "contourcarpet": [
           {
            "colorbar": {
             "outlinewidth": 0,
             "ticks": ""
            },
            "type": "contourcarpet"
           }
          ],
          "heatmap": [
           {
            "colorbar": {
             "outlinewidth": 0,
             "ticks": ""
            },
            "colorscale": [
             [
              0,
              "#0d0887"
             ],
             [
              0.1111111111111111,
              "#46039f"
             ],
             [
              0.2222222222222222,
              "#7201a8"
             ],
             [
              0.3333333333333333,
              "#9c179e"
             ],
             [
              0.4444444444444444,
              "#bd3786"
             ],
             [
              0.5555555555555556,
              "#d8576b"
             ],
             [
              0.6666666666666666,
              "#ed7953"
             ],
             [
              0.7777777777777778,
              "#fb9f3a"
             ],
             [
              0.8888888888888888,
              "#fdca26"
             ],
             [
              1,
              "#f0f921"
             ]
            ],
            "type": "heatmap"
           }
          ],
          "heatmapgl": [
           {
            "colorbar": {
             "outlinewidth": 0,
             "ticks": ""
            },
            "colorscale": [
             [
              0,
              "#0d0887"
             ],
             [
              0.1111111111111111,
              "#46039f"
             ],
             [
              0.2222222222222222,
              "#7201a8"
             ],
             [
              0.3333333333333333,
              "#9c179e"
             ],
             [
              0.4444444444444444,
              "#bd3786"
             ],
             [
              0.5555555555555556,
              "#d8576b"
             ],
             [
              0.6666666666666666,
              "#ed7953"
             ],
             [
              0.7777777777777778,
              "#fb9f3a"
             ],
             [
              0.8888888888888888,
              "#fdca26"
             ],
             [
              1,
              "#f0f921"
             ]
            ],
            "type": "heatmapgl"
           }
          ],
          "histogram": [
           {
            "marker": {
             "colorbar": {
              "outlinewidth": 0,
              "ticks": ""
             }
            },
            "type": "histogram"
           }
          ],
          "histogram2d": [
           {
            "colorbar": {
             "outlinewidth": 0,
             "ticks": ""
            },
            "colorscale": [
             [
              0,
              "#0d0887"
             ],
             [
              0.1111111111111111,
              "#46039f"
             ],
             [
              0.2222222222222222,
              "#7201a8"
             ],
             [
              0.3333333333333333,
              "#9c179e"
             ],
             [
              0.4444444444444444,
              "#bd3786"
             ],
             [
              0.5555555555555556,
              "#d8576b"
             ],
             [
              0.6666666666666666,
              "#ed7953"
             ],
             [
              0.7777777777777778,
              "#fb9f3a"
             ],
             [
              0.8888888888888888,
              "#fdca26"
             ],
             [
              1,
              "#f0f921"
             ]
            ],
            "type": "histogram2d"
           }
          ],
          "histogram2dcontour": [
           {
            "colorbar": {
             "outlinewidth": 0,
             "ticks": ""
            },
            "colorscale": [
             [
              0,
              "#0d0887"
             ],
             [
              0.1111111111111111,
              "#46039f"
             ],
             [
              0.2222222222222222,
              "#7201a8"
             ],
             [
              0.3333333333333333,
              "#9c179e"
             ],
             [
              0.4444444444444444,
              "#bd3786"
             ],
             [
              0.5555555555555556,
              "#d8576b"
             ],
             [
              0.6666666666666666,
              "#ed7953"
             ],
             [
              0.7777777777777778,
              "#fb9f3a"
             ],
             [
              0.8888888888888888,
              "#fdca26"
             ],
             [
              1,
              "#f0f921"
             ]
            ],
            "type": "histogram2dcontour"
           }
          ],
          "mesh3d": [
           {
            "colorbar": {
             "outlinewidth": 0,
             "ticks": ""
            },
            "type": "mesh3d"
           }
          ],
          "parcoords": [
           {
            "line": {
             "colorbar": {
              "outlinewidth": 0,
              "ticks": ""
             }
            },
            "type": "parcoords"
           }
          ],
          "pie": [
           {
            "automargin": true,
            "type": "pie"
           }
          ],
          "scatter": [
           {
            "marker": {
             "colorbar": {
              "outlinewidth": 0,
              "ticks": ""
             }
            },
            "type": "scatter"
           }
          ],
          "scatter3d": [
           {
            "line": {
             "colorbar": {
              "outlinewidth": 0,
              "ticks": ""
             }
            },
            "marker": {
             "colorbar": {
              "outlinewidth": 0,
              "ticks": ""
             }
            },
            "type": "scatter3d"
           }
          ],
          "scattercarpet": [
           {
            "marker": {
             "colorbar": {
              "outlinewidth": 0,
              "ticks": ""
             }
            },
            "type": "scattercarpet"
           }
          ],
          "scattergeo": [
           {
            "marker": {
             "colorbar": {
              "outlinewidth": 0,
              "ticks": ""
             }
            },
            "type": "scattergeo"
           }
          ],
          "scattergl": [
           {
            "marker": {
             "colorbar": {
              "outlinewidth": 0,
              "ticks": ""
             }
            },
            "type": "scattergl"
           }
          ],
          "scattermapbox": [
           {
            "marker": {
             "colorbar": {
              "outlinewidth": 0,
              "ticks": ""
             }
            },
            "type": "scattermapbox"
           }
          ],
          "scatterpolar": [
           {
            "marker": {
             "colorbar": {
              "outlinewidth": 0,
              "ticks": ""
             }
            },
            "type": "scatterpolar"
           }
          ],
          "scatterpolargl": [
           {
            "marker": {
             "colorbar": {
              "outlinewidth": 0,
              "ticks": ""
             }
            },
            "type": "scatterpolargl"
           }
          ],
          "scatterternary": [
           {
            "marker": {
             "colorbar": {
              "outlinewidth": 0,
              "ticks": ""
             }
            },
            "type": "scatterternary"
           }
          ],
          "surface": [
           {
            "colorbar": {
             "outlinewidth": 0,
             "ticks": ""
            },
            "colorscale": [
             [
              0,
              "#0d0887"
             ],
             [
              0.1111111111111111,
              "#46039f"
             ],
             [
              0.2222222222222222,
              "#7201a8"
             ],
             [
              0.3333333333333333,
              "#9c179e"
             ],
             [
              0.4444444444444444,
              "#bd3786"
             ],
             [
              0.5555555555555556,
              "#d8576b"
             ],
             [
              0.6666666666666666,
              "#ed7953"
             ],
             [
              0.7777777777777778,
              "#fb9f3a"
             ],
             [
              0.8888888888888888,
              "#fdca26"
             ],
             [
              1,
              "#f0f921"
             ]
            ],
            "type": "surface"
           }
          ],
          "table": [
           {
            "cells": {
             "fill": {
              "color": "#EBF0F8"
             },
             "line": {
              "color": "white"
             }
            },
            "header": {
             "fill": {
              "color": "#C8D4E3"
             },
             "line": {
              "color": "white"
             }
            },
            "type": "table"
           }
          ]
         },
         "layout": {
          "annotationdefaults": {
           "arrowcolor": "#2a3f5f",
           "arrowhead": 0,
           "arrowwidth": 1
          },
          "coloraxis": {
           "colorbar": {
            "outlinewidth": 0,
            "ticks": ""
           }
          },
          "colorscale": {
           "diverging": [
            [
             0,
             "#8e0152"
            ],
            [
             0.1,
             "#c51b7d"
            ],
            [
             0.2,
             "#de77ae"
            ],
            [
             0.3,
             "#f1b6da"
            ],
            [
             0.4,
             "#fde0ef"
            ],
            [
             0.5,
             "#f7f7f7"
            ],
            [
             0.6,
             "#e6f5d0"
            ],
            [
             0.7,
             "#b8e186"
            ],
            [
             0.8,
             "#7fbc41"
            ],
            [
             0.9,
             "#4d9221"
            ],
            [
             1,
             "#276419"
            ]
           ],
           "sequential": [
            [
             0,
             "#0d0887"
            ],
            [
             0.1111111111111111,
             "#46039f"
            ],
            [
             0.2222222222222222,
             "#7201a8"
            ],
            [
             0.3333333333333333,
             "#9c179e"
            ],
            [
             0.4444444444444444,
             "#bd3786"
            ],
            [
             0.5555555555555556,
             "#d8576b"
            ],
            [
             0.6666666666666666,
             "#ed7953"
            ],
            [
             0.7777777777777778,
             "#fb9f3a"
            ],
            [
             0.8888888888888888,
             "#fdca26"
            ],
            [
             1,
             "#f0f921"
            ]
           ],
           "sequentialminus": [
            [
             0,
             "#0d0887"
            ],
            [
             0.1111111111111111,
             "#46039f"
            ],
            [
             0.2222222222222222,
             "#7201a8"
            ],
            [
             0.3333333333333333,
             "#9c179e"
            ],
            [
             0.4444444444444444,
             "#bd3786"
            ],
            [
             0.5555555555555556,
             "#d8576b"
            ],
            [
             0.6666666666666666,
             "#ed7953"
            ],
            [
             0.7777777777777778,
             "#fb9f3a"
            ],
            [
             0.8888888888888888,
             "#fdca26"
            ],
            [
             1,
             "#f0f921"
            ]
           ]
          },
          "colorway": [
           "#636efa",
           "#EF553B",
           "#00cc96",
           "#ab63fa",
           "#FFA15A",
           "#19d3f3",
           "#FF6692",
           "#B6E880",
           "#FF97FF",
           "#FECB52"
          ],
          "font": {
           "color": "#2a3f5f"
          },
          "geo": {
           "bgcolor": "white",
           "lakecolor": "white",
           "landcolor": "#E5ECF6",
           "showlakes": true,
           "showland": true,
           "subunitcolor": "white"
          },
          "hoverlabel": {
           "align": "left"
          },
          "hovermode": "closest",
          "mapbox": {
           "style": "light"
          },
          "paper_bgcolor": "white",
          "plot_bgcolor": "#E5ECF6",
          "polar": {
           "angularaxis": {
            "gridcolor": "white",
            "linecolor": "white",
            "ticks": ""
           },
           "bgcolor": "#E5ECF6",
           "radialaxis": {
            "gridcolor": "white",
            "linecolor": "white",
            "ticks": ""
           }
          },
          "scene": {
           "xaxis": {
            "backgroundcolor": "#E5ECF6",
            "gridcolor": "white",
            "gridwidth": 2,
            "linecolor": "white",
            "showbackground": true,
            "ticks": "",
            "zerolinecolor": "white"
           },
           "yaxis": {
            "backgroundcolor": "#E5ECF6",
            "gridcolor": "white",
            "gridwidth": 2,
            "linecolor": "white",
            "showbackground": true,
            "ticks": "",
            "zerolinecolor": "white"
           },
           "zaxis": {
            "backgroundcolor": "#E5ECF6",
            "gridcolor": "white",
            "gridwidth": 2,
            "linecolor": "white",
            "showbackground": true,
            "ticks": "",
            "zerolinecolor": "white"
           }
          },
          "shapedefaults": {
           "line": {
            "color": "#2a3f5f"
           }
          },
          "ternary": {
           "aaxis": {
            "gridcolor": "white",
            "linecolor": "white",
            "ticks": ""
           },
           "baxis": {
            "gridcolor": "white",
            "linecolor": "white",
            "ticks": ""
           },
           "bgcolor": "#E5ECF6",
           "caxis": {
            "gridcolor": "white",
            "linecolor": "white",
            "ticks": ""
           }
          },
          "title": {
           "x": 0.05
          },
          "xaxis": {
           "automargin": true,
           "gridcolor": "white",
           "linecolor": "white",
           "ticks": "",
           "title": {
            "standoff": 15
           },
           "zerolinecolor": "white",
           "zerolinewidth": 2
          },
          "yaxis": {
           "automargin": true,
           "gridcolor": "white",
           "linecolor": "white",
           "ticks": "",
           "title": {
            "standoff": 15
           },
           "zerolinecolor": "white",
           "zerolinewidth": 2
          }
         }
        },
        "title": {
         "font": {
          "color": "#4D5663"
         }
        },
        "xaxis": {
         "gridcolor": "#E1E5ED",
         "showgrid": true,
         "tickfont": {
          "color": "#4D5663"
         },
         "title": {
          "font": {
           "color": "#4D5663"
          },
          "text": ""
         },
         "zerolinecolor": "#E1E5ED"
        },
        "yaxis": {
         "gridcolor": "#E1E5ED",
         "showgrid": true,
         "tickfont": {
          "color": "#4D5663"
         },
         "title": {
          "font": {
           "color": "#4D5663"
          },
          "text": ""
         },
         "zerolinecolor": "#E1E5ED"
        }
       }
      },
      "text/html": [
       "<div>\n",
       "        \n",
       "        \n",
       "            <div id=\"539374db-c073-44cc-8a7b-d28c568095a2\" class=\"plotly-graph-div\" style=\"height:525px; width:100%;\"></div>\n",
       "            <script type=\"text/javascript\">\n",
       "                require([\"plotly\"], function(Plotly) {\n",
       "                    window.PLOTLYENV=window.PLOTLYENV || {};\n",
       "                    window.PLOTLYENV.BASE_URL='https://plot.ly';\n",
       "                    \n",
       "                if (document.getElementById(\"539374db-c073-44cc-8a7b-d28c568095a2\")) {\n",
       "                    Plotly.newPlot(\n",
       "                        '539374db-c073-44cc-8a7b-d28c568095a2',\n",
       "                        [{\"marker\": {\"color\": \"rgba(255, 153, 51, 0.6)\", \"line\": {\"color\": \"rgba(255, 153, 51, 1.0)\", \"width\": 1}}, \"name\": \"Values\", \"orientation\": \"v\", \"text\": \"\", \"type\": \"bar\", \"x\": [\"A\", \"B\", \"C\"], \"y\": [32, 43, 50]}],\n",
       "                        {\"legend\": {\"bgcolor\": \"#F5F6F9\", \"font\": {\"color\": \"#4D5663\"}}, \"paper_bgcolor\": \"#F5F6F9\", \"plot_bgcolor\": \"#F5F6F9\", \"template\": {\"data\": {\"bar\": [{\"error_x\": {\"color\": \"#2a3f5f\"}, \"error_y\": {\"color\": \"#2a3f5f\"}, \"marker\": {\"line\": {\"color\": \"#E5ECF6\", \"width\": 0.5}}, \"type\": \"bar\"}], \"barpolar\": [{\"marker\": {\"line\": {\"color\": \"#E5ECF6\", \"width\": 0.5}}, \"type\": \"barpolar\"}], \"carpet\": [{\"aaxis\": {\"endlinecolor\": \"#2a3f5f\", \"gridcolor\": \"white\", \"linecolor\": \"white\", \"minorgridcolor\": \"white\", \"startlinecolor\": \"#2a3f5f\"}, \"baxis\": {\"endlinecolor\": \"#2a3f5f\", \"gridcolor\": \"white\", \"linecolor\": \"white\", \"minorgridcolor\": \"white\", \"startlinecolor\": \"#2a3f5f\"}, \"type\": \"carpet\"}], \"choropleth\": [{\"colorbar\": {\"outlinewidth\": 0, \"ticks\": \"\"}, \"type\": \"choropleth\"}], \"contour\": [{\"colorbar\": {\"outlinewidth\": 0, \"ticks\": \"\"}, \"colorscale\": [[0.0, \"#0d0887\"], [0.1111111111111111, \"#46039f\"], [0.2222222222222222, \"#7201a8\"], [0.3333333333333333, \"#9c179e\"], [0.4444444444444444, \"#bd3786\"], [0.5555555555555556, \"#d8576b\"], [0.6666666666666666, \"#ed7953\"], [0.7777777777777778, \"#fb9f3a\"], [0.8888888888888888, \"#fdca26\"], [1.0, \"#f0f921\"]], \"type\": \"contour\"}], \"contourcarpet\": [{\"colorbar\": {\"outlinewidth\": 0, \"ticks\": \"\"}, \"type\": \"contourcarpet\"}], \"heatmap\": [{\"colorbar\": {\"outlinewidth\": 0, \"ticks\": \"\"}, \"colorscale\": [[0.0, \"#0d0887\"], [0.1111111111111111, \"#46039f\"], [0.2222222222222222, \"#7201a8\"], [0.3333333333333333, \"#9c179e\"], [0.4444444444444444, \"#bd3786\"], [0.5555555555555556, \"#d8576b\"], [0.6666666666666666, \"#ed7953\"], [0.7777777777777778, \"#fb9f3a\"], [0.8888888888888888, \"#fdca26\"], [1.0, \"#f0f921\"]], \"type\": \"heatmap\"}], \"heatmapgl\": [{\"colorbar\": {\"outlinewidth\": 0, \"ticks\": \"\"}, \"colorscale\": [[0.0, \"#0d0887\"], [0.1111111111111111, \"#46039f\"], [0.2222222222222222, \"#7201a8\"], [0.3333333333333333, \"#9c179e\"], [0.4444444444444444, \"#bd3786\"], [0.5555555555555556, \"#d8576b\"], [0.6666666666666666, \"#ed7953\"], [0.7777777777777778, \"#fb9f3a\"], [0.8888888888888888, \"#fdca26\"], [1.0, \"#f0f921\"]], \"type\": \"heatmapgl\"}], \"histogram\": [{\"marker\": {\"colorbar\": {\"outlinewidth\": 0, \"ticks\": \"\"}}, \"type\": \"histogram\"}], \"histogram2d\": [{\"colorbar\": {\"outlinewidth\": 0, \"ticks\": \"\"}, \"colorscale\": [[0.0, \"#0d0887\"], [0.1111111111111111, \"#46039f\"], [0.2222222222222222, \"#7201a8\"], [0.3333333333333333, \"#9c179e\"], [0.4444444444444444, \"#bd3786\"], [0.5555555555555556, \"#d8576b\"], [0.6666666666666666, \"#ed7953\"], [0.7777777777777778, \"#fb9f3a\"], [0.8888888888888888, \"#fdca26\"], [1.0, \"#f0f921\"]], \"type\": \"histogram2d\"}], \"histogram2dcontour\": [{\"colorbar\": {\"outlinewidth\": 0, \"ticks\": \"\"}, \"colorscale\": [[0.0, \"#0d0887\"], [0.1111111111111111, \"#46039f\"], [0.2222222222222222, \"#7201a8\"], [0.3333333333333333, \"#9c179e\"], [0.4444444444444444, \"#bd3786\"], [0.5555555555555556, \"#d8576b\"], [0.6666666666666666, \"#ed7953\"], [0.7777777777777778, \"#fb9f3a\"], [0.8888888888888888, \"#fdca26\"], [1.0, \"#f0f921\"]], \"type\": \"histogram2dcontour\"}], \"mesh3d\": [{\"colorbar\": {\"outlinewidth\": 0, \"ticks\": \"\"}, \"type\": \"mesh3d\"}], \"parcoords\": [{\"line\": {\"colorbar\": {\"outlinewidth\": 0, \"ticks\": \"\"}}, \"type\": \"parcoords\"}], \"pie\": [{\"automargin\": true, \"type\": \"pie\"}], \"scatter\": [{\"marker\": {\"colorbar\": {\"outlinewidth\": 0, \"ticks\": \"\"}}, \"type\": \"scatter\"}], \"scatter3d\": [{\"line\": {\"colorbar\": {\"outlinewidth\": 0, \"ticks\": \"\"}}, \"marker\": {\"colorbar\": {\"outlinewidth\": 0, \"ticks\": \"\"}}, \"type\": \"scatter3d\"}], \"scattercarpet\": [{\"marker\": {\"colorbar\": {\"outlinewidth\": 0, \"ticks\": \"\"}}, \"type\": \"scattercarpet\"}], \"scattergeo\": [{\"marker\": {\"colorbar\": {\"outlinewidth\": 0, \"ticks\": \"\"}}, \"type\": \"scattergeo\"}], \"scattergl\": [{\"marker\": {\"colorbar\": {\"outlinewidth\": 0, \"ticks\": \"\"}}, \"type\": \"scattergl\"}], \"scattermapbox\": [{\"marker\": {\"colorbar\": {\"outlinewidth\": 0, \"ticks\": \"\"}}, \"type\": \"scattermapbox\"}], \"scatterpolar\": [{\"marker\": {\"colorbar\": {\"outlinewidth\": 0, \"ticks\": \"\"}}, \"type\": \"scatterpolar\"}], \"scatterpolargl\": [{\"marker\": {\"colorbar\": {\"outlinewidth\": 0, \"ticks\": \"\"}}, \"type\": \"scatterpolargl\"}], \"scatterternary\": [{\"marker\": {\"colorbar\": {\"outlinewidth\": 0, \"ticks\": \"\"}}, \"type\": \"scatterternary\"}], \"surface\": [{\"colorbar\": {\"outlinewidth\": 0, \"ticks\": \"\"}, \"colorscale\": [[0.0, \"#0d0887\"], [0.1111111111111111, \"#46039f\"], [0.2222222222222222, \"#7201a8\"], [0.3333333333333333, \"#9c179e\"], [0.4444444444444444, \"#bd3786\"], [0.5555555555555556, \"#d8576b\"], [0.6666666666666666, \"#ed7953\"], [0.7777777777777778, \"#fb9f3a\"], [0.8888888888888888, \"#fdca26\"], [1.0, \"#f0f921\"]], \"type\": \"surface\"}], \"table\": [{\"cells\": {\"fill\": {\"color\": \"#EBF0F8\"}, \"line\": {\"color\": \"white\"}}, \"header\": {\"fill\": {\"color\": \"#C8D4E3\"}, \"line\": {\"color\": \"white\"}}, \"type\": \"table\"}]}, \"layout\": {\"annotationdefaults\": {\"arrowcolor\": \"#2a3f5f\", \"arrowhead\": 0, \"arrowwidth\": 1}, \"coloraxis\": {\"colorbar\": {\"outlinewidth\": 0, \"ticks\": \"\"}}, \"colorscale\": {\"diverging\": [[0, \"#8e0152\"], [0.1, \"#c51b7d\"], [0.2, \"#de77ae\"], [0.3, \"#f1b6da\"], [0.4, \"#fde0ef\"], [0.5, \"#f7f7f7\"], [0.6, \"#e6f5d0\"], [0.7, \"#b8e186\"], [0.8, \"#7fbc41\"], [0.9, \"#4d9221\"], [1, \"#276419\"]], \"sequential\": [[0.0, \"#0d0887\"], [0.1111111111111111, \"#46039f\"], [0.2222222222222222, \"#7201a8\"], [0.3333333333333333, \"#9c179e\"], [0.4444444444444444, \"#bd3786\"], [0.5555555555555556, \"#d8576b\"], [0.6666666666666666, \"#ed7953\"], [0.7777777777777778, \"#fb9f3a\"], [0.8888888888888888, \"#fdca26\"], [1.0, \"#f0f921\"]], \"sequentialminus\": [[0.0, \"#0d0887\"], [0.1111111111111111, \"#46039f\"], [0.2222222222222222, \"#7201a8\"], [0.3333333333333333, \"#9c179e\"], [0.4444444444444444, \"#bd3786\"], [0.5555555555555556, \"#d8576b\"], [0.6666666666666666, \"#ed7953\"], [0.7777777777777778, \"#fb9f3a\"], [0.8888888888888888, \"#fdca26\"], [1.0, \"#f0f921\"]]}, \"colorway\": [\"#636efa\", \"#EF553B\", \"#00cc96\", \"#ab63fa\", \"#FFA15A\", \"#19d3f3\", \"#FF6692\", \"#B6E880\", \"#FF97FF\", \"#FECB52\"], \"font\": {\"color\": \"#2a3f5f\"}, \"geo\": {\"bgcolor\": \"white\", \"lakecolor\": \"white\", \"landcolor\": \"#E5ECF6\", \"showlakes\": true, \"showland\": true, \"subunitcolor\": \"white\"}, \"hoverlabel\": {\"align\": \"left\"}, \"hovermode\": \"closest\", \"mapbox\": {\"style\": \"light\"}, \"paper_bgcolor\": \"white\", \"plot_bgcolor\": \"#E5ECF6\", \"polar\": {\"angularaxis\": {\"gridcolor\": \"white\", \"linecolor\": \"white\", \"ticks\": \"\"}, \"bgcolor\": \"#E5ECF6\", \"radialaxis\": {\"gridcolor\": \"white\", \"linecolor\": \"white\", \"ticks\": \"\"}}, \"scene\": {\"xaxis\": {\"backgroundcolor\": \"#E5ECF6\", \"gridcolor\": \"white\", \"gridwidth\": 2, \"linecolor\": \"white\", \"showbackground\": true, \"ticks\": \"\", \"zerolinecolor\": \"white\"}, \"yaxis\": {\"backgroundcolor\": \"#E5ECF6\", \"gridcolor\": \"white\", \"gridwidth\": 2, \"linecolor\": \"white\", \"showbackground\": true, \"ticks\": \"\", \"zerolinecolor\": \"white\"}, \"zaxis\": {\"backgroundcolor\": \"#E5ECF6\", \"gridcolor\": \"white\", \"gridwidth\": 2, \"linecolor\": \"white\", \"showbackground\": true, \"ticks\": \"\", \"zerolinecolor\": \"white\"}}, \"shapedefaults\": {\"line\": {\"color\": \"#2a3f5f\"}}, \"ternary\": {\"aaxis\": {\"gridcolor\": \"white\", \"linecolor\": \"white\", \"ticks\": \"\"}, \"baxis\": {\"gridcolor\": \"white\", \"linecolor\": \"white\", \"ticks\": \"\"}, \"bgcolor\": \"#E5ECF6\", \"caxis\": {\"gridcolor\": \"white\", \"linecolor\": \"white\", \"ticks\": \"\"}}, \"title\": {\"x\": 0.05}, \"xaxis\": {\"automargin\": true, \"gridcolor\": \"white\", \"linecolor\": \"white\", \"ticks\": \"\", \"title\": {\"standoff\": 15}, \"zerolinecolor\": \"white\", \"zerolinewidth\": 2}, \"yaxis\": {\"automargin\": true, \"gridcolor\": \"white\", \"linecolor\": \"white\", \"ticks\": \"\", \"title\": {\"standoff\": 15}, \"zerolinecolor\": \"white\", \"zerolinewidth\": 2}}}, \"title\": {\"font\": {\"color\": \"#4D5663\"}}, \"xaxis\": {\"gridcolor\": \"#E1E5ED\", \"showgrid\": true, \"tickfont\": {\"color\": \"#4D5663\"}, \"title\": {\"font\": {\"color\": \"#4D5663\"}, \"text\": \"\"}, \"zerolinecolor\": \"#E1E5ED\"}, \"yaxis\": {\"gridcolor\": \"#E1E5ED\", \"showgrid\": true, \"tickfont\": {\"color\": \"#4D5663\"}, \"title\": {\"font\": {\"color\": \"#4D5663\"}, \"text\": \"\"}, \"zerolinecolor\": \"#E1E5ED\"}},\n",
       "                        {\"showLink\": true, \"linkText\": \"Export to plot.ly\", \"plotlyServerURL\": \"https://plot.ly\", \"responsive\": true}\n",
       "                    ).then(function(){\n",
       "                            \n",
       "var gd = document.getElementById('539374db-c073-44cc-8a7b-d28c568095a2');\n",
       "var x = new MutationObserver(function (mutations, observer) {{\n",
       "        var display = window.getComputedStyle(gd).display;\n",
       "        if (!display || display === 'none') {{\n",
       "            console.log([gd, 'removed!']);\n",
       "            Plotly.purge(gd);\n",
       "            observer.disconnect();\n",
       "        }}\n",
       "}});\n",
       "\n",
       "// Listen for the removal of the full notebook cells\n",
       "var notebookContainer = gd.closest('#notebook-container');\n",
       "if (notebookContainer) {{\n",
       "    x.observe(notebookContainer, {childList: true});\n",
       "}}\n",
       "\n",
       "// Listen for the clearing of the current output cell\n",
       "var outputEl = gd.closest('.output');\n",
       "if (outputEl) {{\n",
       "    x.observe(outputEl, {childList: true});\n",
       "}}\n",
       "\n",
       "                        })\n",
       "                };\n",
       "                });\n",
       "            </script>\n",
       "        </div>"
      ]
     },
     "metadata": {},
     "output_type": "display_data"
    }
   ],
   "source": [
    "df2.iplot(kind='bar',x='Category',y='Values')"
   ]
  },
  {
   "cell_type": "code",
   "execution_count": 24,
   "metadata": {},
   "outputs": [
    {
     "data": {
      "text/html": [
       "<div>\n",
       "<style scoped>\n",
       "    .dataframe tbody tr th:only-of-type {\n",
       "        vertical-align: middle;\n",
       "    }\n",
       "\n",
       "    .dataframe tbody tr th {\n",
       "        vertical-align: top;\n",
       "    }\n",
       "\n",
       "    .dataframe thead th {\n",
       "        text-align: right;\n",
       "    }\n",
       "</style>\n",
       "<table border=\"1\" class=\"dataframe\">\n",
       "  <thead>\n",
       "    <tr style=\"text-align: right;\">\n",
       "      <th></th>\n",
       "      <th>A</th>\n",
       "      <th>B</th>\n",
       "      <th>C</th>\n",
       "      <th>D</th>\n",
       "    </tr>\n",
       "  </thead>\n",
       "  <tbody>\n",
       "    <tr>\n",
       "      <th>0</th>\n",
       "      <td>-1.355913</td>\n",
       "      <td>-1.577843</td>\n",
       "      <td>-0.884967</td>\n",
       "      <td>0.107696</td>\n",
       "    </tr>\n",
       "    <tr>\n",
       "      <th>1</th>\n",
       "      <td>0.530332</td>\n",
       "      <td>1.268008</td>\n",
       "      <td>2.225938</td>\n",
       "      <td>0.938151</td>\n",
       "    </tr>\n",
       "    <tr>\n",
       "      <th>2</th>\n",
       "      <td>0.294407</td>\n",
       "      <td>0.096494</td>\n",
       "      <td>-1.523310</td>\n",
       "      <td>0.600975</td>\n",
       "    </tr>\n",
       "    <tr>\n",
       "      <th>3</th>\n",
       "      <td>-2.366995</td>\n",
       "      <td>0.545151</td>\n",
       "      <td>0.295318</td>\n",
       "      <td>1.975235</td>\n",
       "    </tr>\n",
       "    <tr>\n",
       "      <th>4</th>\n",
       "      <td>-0.390616</td>\n",
       "      <td>1.466531</td>\n",
       "      <td>0.826434</td>\n",
       "      <td>-0.518143</td>\n",
       "    </tr>\n",
       "    <tr>\n",
       "      <th>...</th>\n",
       "      <td>...</td>\n",
       "      <td>...</td>\n",
       "      <td>...</td>\n",
       "      <td>...</td>\n",
       "    </tr>\n",
       "    <tr>\n",
       "      <th>95</th>\n",
       "      <td>0.881625</td>\n",
       "      <td>-0.449817</td>\n",
       "      <td>0.807342</td>\n",
       "      <td>-0.084776</td>\n",
       "    </tr>\n",
       "    <tr>\n",
       "      <th>96</th>\n",
       "      <td>-0.214274</td>\n",
       "      <td>-0.291043</td>\n",
       "      <td>0.553917</td>\n",
       "      <td>-0.979298</td>\n",
       "    </tr>\n",
       "    <tr>\n",
       "      <th>97</th>\n",
       "      <td>1.490040</td>\n",
       "      <td>1.109369</td>\n",
       "      <td>-2.564519</td>\n",
       "      <td>1.499588</td>\n",
       "    </tr>\n",
       "    <tr>\n",
       "      <th>98</th>\n",
       "      <td>-1.604229</td>\n",
       "      <td>-0.272480</td>\n",
       "      <td>-1.089990</td>\n",
       "      <td>-0.754211</td>\n",
       "    </tr>\n",
       "    <tr>\n",
       "      <th>99</th>\n",
       "      <td>0.235343</td>\n",
       "      <td>-0.146821</td>\n",
       "      <td>0.104788</td>\n",
       "      <td>0.515335</td>\n",
       "    </tr>\n",
       "  </tbody>\n",
       "</table>\n",
       "<p>100 rows × 4 columns</p>\n",
       "</div>"
      ],
      "text/plain": [
       "           A         B         C         D\n",
       "0  -1.355913 -1.577843 -0.884967  0.107696\n",
       "1   0.530332  1.268008  2.225938  0.938151\n",
       "2   0.294407  0.096494 -1.523310  0.600975\n",
       "3  -2.366995  0.545151  0.295318  1.975235\n",
       "4  -0.390616  1.466531  0.826434 -0.518143\n",
       "..       ...       ...       ...       ...\n",
       "95  0.881625 -0.449817  0.807342 -0.084776\n",
       "96 -0.214274 -0.291043  0.553917 -0.979298\n",
       "97  1.490040  1.109369 -2.564519  1.499588\n",
       "98 -1.604229 -0.272480 -1.089990 -0.754211\n",
       "99  0.235343 -0.146821  0.104788  0.515335\n",
       "\n",
       "[100 rows x 4 columns]"
      ]
     },
     "execution_count": 24,
     "metadata": {},
     "output_type": "execute_result"
    }
   ],
   "source": [
    "df"
   ]
  },
  {
   "cell_type": "code",
   "execution_count": 25,
   "metadata": {},
   "outputs": [
    {
     "data": {
      "application/vnd.plotly.v1+json": {
       "config": {
        "linkText": "Export to plot.ly",
        "plotlyServerURL": "https://plot.ly",
        "showLink": true
       },
       "data": [
        {
         "marker": {
          "color": "rgba(255, 153, 51, 0.6)",
          "line": {
           "color": "rgba(255, 153, 51, 1.0)",
           "width": 1
          }
         },
         "name": "None",
         "orientation": "v",
         "text": "",
         "type": "bar",
         "x": [
          "A",
          "B",
          "C",
          "D"
         ],
         "y": [
          100,
          100,
          100,
          100
         ]
        }
       ],
       "layout": {
        "legend": {
         "bgcolor": "#F5F6F9",
         "font": {
          "color": "#4D5663"
         }
        },
        "paper_bgcolor": "#F5F6F9",
        "plot_bgcolor": "#F5F6F9",
        "template": {
         "data": {
          "bar": [
           {
            "error_x": {
             "color": "#2a3f5f"
            },
            "error_y": {
             "color": "#2a3f5f"
            },
            "marker": {
             "line": {
              "color": "#E5ECF6",
              "width": 0.5
             }
            },
            "type": "bar"
           }
          ],
          "barpolar": [
           {
            "marker": {
             "line": {
              "color": "#E5ECF6",
              "width": 0.5
             }
            },
            "type": "barpolar"
           }
          ],
          "carpet": [
           {
            "aaxis": {
             "endlinecolor": "#2a3f5f",
             "gridcolor": "white",
             "linecolor": "white",
             "minorgridcolor": "white",
             "startlinecolor": "#2a3f5f"
            },
            "baxis": {
             "endlinecolor": "#2a3f5f",
             "gridcolor": "white",
             "linecolor": "white",
             "minorgridcolor": "white",
             "startlinecolor": "#2a3f5f"
            },
            "type": "carpet"
           }
          ],
          "choropleth": [
           {
            "colorbar": {
             "outlinewidth": 0,
             "ticks": ""
            },
            "type": "choropleth"
           }
          ],
          "contour": [
           {
            "colorbar": {
             "outlinewidth": 0,
             "ticks": ""
            },
            "colorscale": [
             [
              0,
              "#0d0887"
             ],
             [
              0.1111111111111111,
              "#46039f"
             ],
             [
              0.2222222222222222,
              "#7201a8"
             ],
             [
              0.3333333333333333,
              "#9c179e"
             ],
             [
              0.4444444444444444,
              "#bd3786"
             ],
             [
              0.5555555555555556,
              "#d8576b"
             ],
             [
              0.6666666666666666,
              "#ed7953"
             ],
             [
              0.7777777777777778,
              "#fb9f3a"
             ],
             [
              0.8888888888888888,
              "#fdca26"
             ],
             [
              1,
              "#f0f921"
             ]
            ],
            "type": "contour"
           }
          ],
          "contourcarpet": [
           {
            "colorbar": {
             "outlinewidth": 0,
             "ticks": ""
            },
            "type": "contourcarpet"
           }
          ],
          "heatmap": [
           {
            "colorbar": {
             "outlinewidth": 0,
             "ticks": ""
            },
            "colorscale": [
             [
              0,
              "#0d0887"
             ],
             [
              0.1111111111111111,
              "#46039f"
             ],
             [
              0.2222222222222222,
              "#7201a8"
             ],
             [
              0.3333333333333333,
              "#9c179e"
             ],
             [
              0.4444444444444444,
              "#bd3786"
             ],
             [
              0.5555555555555556,
              "#d8576b"
             ],
             [
              0.6666666666666666,
              "#ed7953"
             ],
             [
              0.7777777777777778,
              "#fb9f3a"
             ],
             [
              0.8888888888888888,
              "#fdca26"
             ],
             [
              1,
              "#f0f921"
             ]
            ],
            "type": "heatmap"
           }
          ],
          "heatmapgl": [
           {
            "colorbar": {
             "outlinewidth": 0,
             "ticks": ""
            },
            "colorscale": [
             [
              0,
              "#0d0887"
             ],
             [
              0.1111111111111111,
              "#46039f"
             ],
             [
              0.2222222222222222,
              "#7201a8"
             ],
             [
              0.3333333333333333,
              "#9c179e"
             ],
             [
              0.4444444444444444,
              "#bd3786"
             ],
             [
              0.5555555555555556,
              "#d8576b"
             ],
             [
              0.6666666666666666,
              "#ed7953"
             ],
             [
              0.7777777777777778,
              "#fb9f3a"
             ],
             [
              0.8888888888888888,
              "#fdca26"
             ],
             [
              1,
              "#f0f921"
             ]
            ],
            "type": "heatmapgl"
           }
          ],
          "histogram": [
           {
            "marker": {
             "colorbar": {
              "outlinewidth": 0,
              "ticks": ""
             }
            },
            "type": "histogram"
           }
          ],
          "histogram2d": [
           {
            "colorbar": {
             "outlinewidth": 0,
             "ticks": ""
            },
            "colorscale": [
             [
              0,
              "#0d0887"
             ],
             [
              0.1111111111111111,
              "#46039f"
             ],
             [
              0.2222222222222222,
              "#7201a8"
             ],
             [
              0.3333333333333333,
              "#9c179e"
             ],
             [
              0.4444444444444444,
              "#bd3786"
             ],
             [
              0.5555555555555556,
              "#d8576b"
             ],
             [
              0.6666666666666666,
              "#ed7953"
             ],
             [
              0.7777777777777778,
              "#fb9f3a"
             ],
             [
              0.8888888888888888,
              "#fdca26"
             ],
             [
              1,
              "#f0f921"
             ]
            ],
            "type": "histogram2d"
           }
          ],
          "histogram2dcontour": [
           {
            "colorbar": {
             "outlinewidth": 0,
             "ticks": ""
            },
            "colorscale": [
             [
              0,
              "#0d0887"
             ],
             [
              0.1111111111111111,
              "#46039f"
             ],
             [
              0.2222222222222222,
              "#7201a8"
             ],
             [
              0.3333333333333333,
              "#9c179e"
             ],
             [
              0.4444444444444444,
              "#bd3786"
             ],
             [
              0.5555555555555556,
              "#d8576b"
             ],
             [
              0.6666666666666666,
              "#ed7953"
             ],
             [
              0.7777777777777778,
              "#fb9f3a"
             ],
             [
              0.8888888888888888,
              "#fdca26"
             ],
             [
              1,
              "#f0f921"
             ]
            ],
            "type": "histogram2dcontour"
           }
          ],
          "mesh3d": [
           {
            "colorbar": {
             "outlinewidth": 0,
             "ticks": ""
            },
            "type": "mesh3d"
           }
          ],
          "parcoords": [
           {
            "line": {
             "colorbar": {
              "outlinewidth": 0,
              "ticks": ""
             }
            },
            "type": "parcoords"
           }
          ],
          "pie": [
           {
            "automargin": true,
            "type": "pie"
           }
          ],
          "scatter": [
           {
            "marker": {
             "colorbar": {
              "outlinewidth": 0,
              "ticks": ""
             }
            },
            "type": "scatter"
           }
          ],
          "scatter3d": [
           {
            "line": {
             "colorbar": {
              "outlinewidth": 0,
              "ticks": ""
             }
            },
            "marker": {
             "colorbar": {
              "outlinewidth": 0,
              "ticks": ""
             }
            },
            "type": "scatter3d"
           }
          ],
          "scattercarpet": [
           {
            "marker": {
             "colorbar": {
              "outlinewidth": 0,
              "ticks": ""
             }
            },
            "type": "scattercarpet"
           }
          ],
          "scattergeo": [
           {
            "marker": {
             "colorbar": {
              "outlinewidth": 0,
              "ticks": ""
             }
            },
            "type": "scattergeo"
           }
          ],
          "scattergl": [
           {
            "marker": {
             "colorbar": {
              "outlinewidth": 0,
              "ticks": ""
             }
            },
            "type": "scattergl"
           }
          ],
          "scattermapbox": [
           {
            "marker": {
             "colorbar": {
              "outlinewidth": 0,
              "ticks": ""
             }
            },
            "type": "scattermapbox"
           }
          ],
          "scatterpolar": [
           {
            "marker": {
             "colorbar": {
              "outlinewidth": 0,
              "ticks": ""
             }
            },
            "type": "scatterpolar"
           }
          ],
          "scatterpolargl": [
           {
            "marker": {
             "colorbar": {
              "outlinewidth": 0,
              "ticks": ""
             }
            },
            "type": "scatterpolargl"
           }
          ],
          "scatterternary": [
           {
            "marker": {
             "colorbar": {
              "outlinewidth": 0,
              "ticks": ""
             }
            },
            "type": "scatterternary"
           }
          ],
          "surface": [
           {
            "colorbar": {
             "outlinewidth": 0,
             "ticks": ""
            },
            "colorscale": [
             [
              0,
              "#0d0887"
             ],
             [
              0.1111111111111111,
              "#46039f"
             ],
             [
              0.2222222222222222,
              "#7201a8"
             ],
             [
              0.3333333333333333,
              "#9c179e"
             ],
             [
              0.4444444444444444,
              "#bd3786"
             ],
             [
              0.5555555555555556,
              "#d8576b"
             ],
             [
              0.6666666666666666,
              "#ed7953"
             ],
             [
              0.7777777777777778,
              "#fb9f3a"
             ],
             [
              0.8888888888888888,
              "#fdca26"
             ],
             [
              1,
              "#f0f921"
             ]
            ],
            "type": "surface"
           }
          ],
          "table": [
           {
            "cells": {
             "fill": {
              "color": "#EBF0F8"
             },
             "line": {
              "color": "white"
             }
            },
            "header": {
             "fill": {
              "color": "#C8D4E3"
             },
             "line": {
              "color": "white"
             }
            },
            "type": "table"
           }
          ]
         },
         "layout": {
          "annotationdefaults": {
           "arrowcolor": "#2a3f5f",
           "arrowhead": 0,
           "arrowwidth": 1
          },
          "coloraxis": {
           "colorbar": {
            "outlinewidth": 0,
            "ticks": ""
           }
          },
          "colorscale": {
           "diverging": [
            [
             0,
             "#8e0152"
            ],
            [
             0.1,
             "#c51b7d"
            ],
            [
             0.2,
             "#de77ae"
            ],
            [
             0.3,
             "#f1b6da"
            ],
            [
             0.4,
             "#fde0ef"
            ],
            [
             0.5,
             "#f7f7f7"
            ],
            [
             0.6,
             "#e6f5d0"
            ],
            [
             0.7,
             "#b8e186"
            ],
            [
             0.8,
             "#7fbc41"
            ],
            [
             0.9,
             "#4d9221"
            ],
            [
             1,
             "#276419"
            ]
           ],
           "sequential": [
            [
             0,
             "#0d0887"
            ],
            [
             0.1111111111111111,
             "#46039f"
            ],
            [
             0.2222222222222222,
             "#7201a8"
            ],
            [
             0.3333333333333333,
             "#9c179e"
            ],
            [
             0.4444444444444444,
             "#bd3786"
            ],
            [
             0.5555555555555556,
             "#d8576b"
            ],
            [
             0.6666666666666666,
             "#ed7953"
            ],
            [
             0.7777777777777778,
             "#fb9f3a"
            ],
            [
             0.8888888888888888,
             "#fdca26"
            ],
            [
             1,
             "#f0f921"
            ]
           ],
           "sequentialminus": [
            [
             0,
             "#0d0887"
            ],
            [
             0.1111111111111111,
             "#46039f"
            ],
            [
             0.2222222222222222,
             "#7201a8"
            ],
            [
             0.3333333333333333,
             "#9c179e"
            ],
            [
             0.4444444444444444,
             "#bd3786"
            ],
            [
             0.5555555555555556,
             "#d8576b"
            ],
            [
             0.6666666666666666,
             "#ed7953"
            ],
            [
             0.7777777777777778,
             "#fb9f3a"
            ],
            [
             0.8888888888888888,
             "#fdca26"
            ],
            [
             1,
             "#f0f921"
            ]
           ]
          },
          "colorway": [
           "#636efa",
           "#EF553B",
           "#00cc96",
           "#ab63fa",
           "#FFA15A",
           "#19d3f3",
           "#FF6692",
           "#B6E880",
           "#FF97FF",
           "#FECB52"
          ],
          "font": {
           "color": "#2a3f5f"
          },
          "geo": {
           "bgcolor": "white",
           "lakecolor": "white",
           "landcolor": "#E5ECF6",
           "showlakes": true,
           "showland": true,
           "subunitcolor": "white"
          },
          "hoverlabel": {
           "align": "left"
          },
          "hovermode": "closest",
          "mapbox": {
           "style": "light"
          },
          "paper_bgcolor": "white",
          "plot_bgcolor": "#E5ECF6",
          "polar": {
           "angularaxis": {
            "gridcolor": "white",
            "linecolor": "white",
            "ticks": ""
           },
           "bgcolor": "#E5ECF6",
           "radialaxis": {
            "gridcolor": "white",
            "linecolor": "white",
            "ticks": ""
           }
          },
          "scene": {
           "xaxis": {
            "backgroundcolor": "#E5ECF6",
            "gridcolor": "white",
            "gridwidth": 2,
            "linecolor": "white",
            "showbackground": true,
            "ticks": "",
            "zerolinecolor": "white"
           },
           "yaxis": {
            "backgroundcolor": "#E5ECF6",
            "gridcolor": "white",
            "gridwidth": 2,
            "linecolor": "white",
            "showbackground": true,
            "ticks": "",
            "zerolinecolor": "white"
           },
           "zaxis": {
            "backgroundcolor": "#E5ECF6",
            "gridcolor": "white",
            "gridwidth": 2,
            "linecolor": "white",
            "showbackground": true,
            "ticks": "",
            "zerolinecolor": "white"
           }
          },
          "shapedefaults": {
           "line": {
            "color": "#2a3f5f"
           }
          },
          "ternary": {
           "aaxis": {
            "gridcolor": "white",
            "linecolor": "white",
            "ticks": ""
           },
           "baxis": {
            "gridcolor": "white",
            "linecolor": "white",
            "ticks": ""
           },
           "bgcolor": "#E5ECF6",
           "caxis": {
            "gridcolor": "white",
            "linecolor": "white",
            "ticks": ""
           }
          },
          "title": {
           "x": 0.05
          },
          "xaxis": {
           "automargin": true,
           "gridcolor": "white",
           "linecolor": "white",
           "ticks": "",
           "title": {
            "standoff": 15
           },
           "zerolinecolor": "white",
           "zerolinewidth": 2
          },
          "yaxis": {
           "automargin": true,
           "gridcolor": "white",
           "linecolor": "white",
           "ticks": "",
           "title": {
            "standoff": 15
           },
           "zerolinecolor": "white",
           "zerolinewidth": 2
          }
         }
        },
        "title": {
         "font": {
          "color": "#4D5663"
         }
        },
        "xaxis": {
         "gridcolor": "#E1E5ED",
         "showgrid": true,
         "tickfont": {
          "color": "#4D5663"
         },
         "title": {
          "font": {
           "color": "#4D5663"
          },
          "text": ""
         },
         "zerolinecolor": "#E1E5ED"
        },
        "yaxis": {
         "gridcolor": "#E1E5ED",
         "showgrid": true,
         "tickfont": {
          "color": "#4D5663"
         },
         "title": {
          "font": {
           "color": "#4D5663"
          },
          "text": ""
         },
         "zerolinecolor": "#E1E5ED"
        }
       }
      },
      "text/html": [
       "<div>\n",
       "        \n",
       "        \n",
       "            <div id=\"3c6e9f22-f5b4-4d9e-8023-13f7a6de432d\" class=\"plotly-graph-div\" style=\"height:525px; width:100%;\"></div>\n",
       "            <script type=\"text/javascript\">\n",
       "                require([\"plotly\"], function(Plotly) {\n",
       "                    window.PLOTLYENV=window.PLOTLYENV || {};\n",
       "                    window.PLOTLYENV.BASE_URL='https://plot.ly';\n",
       "                    \n",
       "                if (document.getElementById(\"3c6e9f22-f5b4-4d9e-8023-13f7a6de432d\")) {\n",
       "                    Plotly.newPlot(\n",
       "                        '3c6e9f22-f5b4-4d9e-8023-13f7a6de432d',\n",
       "                        [{\"marker\": {\"color\": \"rgba(255, 153, 51, 0.6)\", \"line\": {\"color\": \"rgba(255, 153, 51, 1.0)\", \"width\": 1}}, \"name\": \"None\", \"orientation\": \"v\", \"text\": \"\", \"type\": \"bar\", \"x\": [\"A\", \"B\", \"C\", \"D\"], \"y\": [100, 100, 100, 100]}],\n",
       "                        {\"legend\": {\"bgcolor\": \"#F5F6F9\", \"font\": {\"color\": \"#4D5663\"}}, \"paper_bgcolor\": \"#F5F6F9\", \"plot_bgcolor\": \"#F5F6F9\", \"template\": {\"data\": {\"bar\": [{\"error_x\": {\"color\": \"#2a3f5f\"}, \"error_y\": {\"color\": \"#2a3f5f\"}, \"marker\": {\"line\": {\"color\": \"#E5ECF6\", \"width\": 0.5}}, \"type\": \"bar\"}], \"barpolar\": [{\"marker\": {\"line\": {\"color\": \"#E5ECF6\", \"width\": 0.5}}, \"type\": \"barpolar\"}], \"carpet\": [{\"aaxis\": {\"endlinecolor\": \"#2a3f5f\", \"gridcolor\": \"white\", \"linecolor\": \"white\", \"minorgridcolor\": \"white\", \"startlinecolor\": \"#2a3f5f\"}, \"baxis\": {\"endlinecolor\": \"#2a3f5f\", \"gridcolor\": \"white\", \"linecolor\": \"white\", \"minorgridcolor\": \"white\", \"startlinecolor\": \"#2a3f5f\"}, \"type\": \"carpet\"}], \"choropleth\": [{\"colorbar\": {\"outlinewidth\": 0, \"ticks\": \"\"}, \"type\": \"choropleth\"}], \"contour\": [{\"colorbar\": {\"outlinewidth\": 0, \"ticks\": \"\"}, \"colorscale\": [[0.0, \"#0d0887\"], [0.1111111111111111, \"#46039f\"], [0.2222222222222222, \"#7201a8\"], [0.3333333333333333, \"#9c179e\"], [0.4444444444444444, \"#bd3786\"], [0.5555555555555556, \"#d8576b\"], [0.6666666666666666, \"#ed7953\"], [0.7777777777777778, \"#fb9f3a\"], [0.8888888888888888, \"#fdca26\"], [1.0, \"#f0f921\"]], \"type\": \"contour\"}], \"contourcarpet\": [{\"colorbar\": {\"outlinewidth\": 0, \"ticks\": \"\"}, \"type\": \"contourcarpet\"}], \"heatmap\": [{\"colorbar\": {\"outlinewidth\": 0, \"ticks\": \"\"}, \"colorscale\": [[0.0, \"#0d0887\"], [0.1111111111111111, \"#46039f\"], [0.2222222222222222, \"#7201a8\"], [0.3333333333333333, \"#9c179e\"], [0.4444444444444444, \"#bd3786\"], [0.5555555555555556, \"#d8576b\"], [0.6666666666666666, \"#ed7953\"], [0.7777777777777778, \"#fb9f3a\"], [0.8888888888888888, \"#fdca26\"], [1.0, \"#f0f921\"]], \"type\": \"heatmap\"}], \"heatmapgl\": [{\"colorbar\": {\"outlinewidth\": 0, \"ticks\": \"\"}, \"colorscale\": [[0.0, \"#0d0887\"], [0.1111111111111111, \"#46039f\"], [0.2222222222222222, \"#7201a8\"], [0.3333333333333333, \"#9c179e\"], [0.4444444444444444, \"#bd3786\"], [0.5555555555555556, \"#d8576b\"], [0.6666666666666666, \"#ed7953\"], [0.7777777777777778, \"#fb9f3a\"], [0.8888888888888888, \"#fdca26\"], [1.0, \"#f0f921\"]], \"type\": \"heatmapgl\"}], \"histogram\": [{\"marker\": {\"colorbar\": {\"outlinewidth\": 0, \"ticks\": \"\"}}, \"type\": \"histogram\"}], \"histogram2d\": [{\"colorbar\": {\"outlinewidth\": 0, \"ticks\": \"\"}, \"colorscale\": [[0.0, \"#0d0887\"], [0.1111111111111111, \"#46039f\"], [0.2222222222222222, \"#7201a8\"], [0.3333333333333333, \"#9c179e\"], [0.4444444444444444, \"#bd3786\"], [0.5555555555555556, \"#d8576b\"], [0.6666666666666666, \"#ed7953\"], [0.7777777777777778, \"#fb9f3a\"], [0.8888888888888888, \"#fdca26\"], [1.0, \"#f0f921\"]], \"type\": \"histogram2d\"}], \"histogram2dcontour\": [{\"colorbar\": {\"outlinewidth\": 0, \"ticks\": \"\"}, \"colorscale\": [[0.0, \"#0d0887\"], [0.1111111111111111, \"#46039f\"], [0.2222222222222222, \"#7201a8\"], [0.3333333333333333, \"#9c179e\"], [0.4444444444444444, \"#bd3786\"], [0.5555555555555556, \"#d8576b\"], [0.6666666666666666, \"#ed7953\"], [0.7777777777777778, \"#fb9f3a\"], [0.8888888888888888, \"#fdca26\"], [1.0, \"#f0f921\"]], \"type\": \"histogram2dcontour\"}], \"mesh3d\": [{\"colorbar\": {\"outlinewidth\": 0, \"ticks\": \"\"}, \"type\": \"mesh3d\"}], \"parcoords\": [{\"line\": {\"colorbar\": {\"outlinewidth\": 0, \"ticks\": \"\"}}, \"type\": \"parcoords\"}], \"pie\": [{\"automargin\": true, \"type\": \"pie\"}], \"scatter\": [{\"marker\": {\"colorbar\": {\"outlinewidth\": 0, \"ticks\": \"\"}}, \"type\": \"scatter\"}], \"scatter3d\": [{\"line\": {\"colorbar\": {\"outlinewidth\": 0, \"ticks\": \"\"}}, \"marker\": {\"colorbar\": {\"outlinewidth\": 0, \"ticks\": \"\"}}, \"type\": \"scatter3d\"}], \"scattercarpet\": [{\"marker\": {\"colorbar\": {\"outlinewidth\": 0, \"ticks\": \"\"}}, \"type\": \"scattercarpet\"}], \"scattergeo\": [{\"marker\": {\"colorbar\": {\"outlinewidth\": 0, \"ticks\": \"\"}}, \"type\": \"scattergeo\"}], \"scattergl\": [{\"marker\": {\"colorbar\": {\"outlinewidth\": 0, \"ticks\": \"\"}}, \"type\": \"scattergl\"}], \"scattermapbox\": [{\"marker\": {\"colorbar\": {\"outlinewidth\": 0, \"ticks\": \"\"}}, \"type\": \"scattermapbox\"}], \"scatterpolar\": [{\"marker\": {\"colorbar\": {\"outlinewidth\": 0, \"ticks\": \"\"}}, \"type\": \"scatterpolar\"}], \"scatterpolargl\": [{\"marker\": {\"colorbar\": {\"outlinewidth\": 0, \"ticks\": \"\"}}, \"type\": \"scatterpolargl\"}], \"scatterternary\": [{\"marker\": {\"colorbar\": {\"outlinewidth\": 0, \"ticks\": \"\"}}, \"type\": \"scatterternary\"}], \"surface\": [{\"colorbar\": {\"outlinewidth\": 0, \"ticks\": \"\"}, \"colorscale\": [[0.0, \"#0d0887\"], [0.1111111111111111, \"#46039f\"], [0.2222222222222222, \"#7201a8\"], [0.3333333333333333, \"#9c179e\"], [0.4444444444444444, \"#bd3786\"], [0.5555555555555556, \"#d8576b\"], [0.6666666666666666, \"#ed7953\"], [0.7777777777777778, \"#fb9f3a\"], [0.8888888888888888, \"#fdca26\"], [1.0, \"#f0f921\"]], \"type\": \"surface\"}], \"table\": [{\"cells\": {\"fill\": {\"color\": \"#EBF0F8\"}, \"line\": {\"color\": \"white\"}}, \"header\": {\"fill\": {\"color\": \"#C8D4E3\"}, \"line\": {\"color\": \"white\"}}, \"type\": \"table\"}]}, \"layout\": {\"annotationdefaults\": {\"arrowcolor\": \"#2a3f5f\", \"arrowhead\": 0, \"arrowwidth\": 1}, \"coloraxis\": {\"colorbar\": {\"outlinewidth\": 0, \"ticks\": \"\"}}, \"colorscale\": {\"diverging\": [[0, \"#8e0152\"], [0.1, \"#c51b7d\"], [0.2, \"#de77ae\"], [0.3, \"#f1b6da\"], [0.4, \"#fde0ef\"], [0.5, \"#f7f7f7\"], [0.6, \"#e6f5d0\"], [0.7, \"#b8e186\"], [0.8, \"#7fbc41\"], [0.9, \"#4d9221\"], [1, \"#276419\"]], \"sequential\": [[0.0, \"#0d0887\"], [0.1111111111111111, \"#46039f\"], [0.2222222222222222, \"#7201a8\"], [0.3333333333333333, \"#9c179e\"], [0.4444444444444444, \"#bd3786\"], [0.5555555555555556, \"#d8576b\"], [0.6666666666666666, \"#ed7953\"], [0.7777777777777778, \"#fb9f3a\"], [0.8888888888888888, \"#fdca26\"], [1.0, \"#f0f921\"]], \"sequentialminus\": [[0.0, \"#0d0887\"], [0.1111111111111111, \"#46039f\"], [0.2222222222222222, \"#7201a8\"], [0.3333333333333333, \"#9c179e\"], [0.4444444444444444, \"#bd3786\"], [0.5555555555555556, \"#d8576b\"], [0.6666666666666666, \"#ed7953\"], [0.7777777777777778, \"#fb9f3a\"], [0.8888888888888888, \"#fdca26\"], [1.0, \"#f0f921\"]]}, \"colorway\": [\"#636efa\", \"#EF553B\", \"#00cc96\", \"#ab63fa\", \"#FFA15A\", \"#19d3f3\", \"#FF6692\", \"#B6E880\", \"#FF97FF\", \"#FECB52\"], \"font\": {\"color\": \"#2a3f5f\"}, \"geo\": {\"bgcolor\": \"white\", \"lakecolor\": \"white\", \"landcolor\": \"#E5ECF6\", \"showlakes\": true, \"showland\": true, \"subunitcolor\": \"white\"}, \"hoverlabel\": {\"align\": \"left\"}, \"hovermode\": \"closest\", \"mapbox\": {\"style\": \"light\"}, \"paper_bgcolor\": \"white\", \"plot_bgcolor\": \"#E5ECF6\", \"polar\": {\"angularaxis\": {\"gridcolor\": \"white\", \"linecolor\": \"white\", \"ticks\": \"\"}, \"bgcolor\": \"#E5ECF6\", \"radialaxis\": {\"gridcolor\": \"white\", \"linecolor\": \"white\", \"ticks\": \"\"}}, \"scene\": {\"xaxis\": {\"backgroundcolor\": \"#E5ECF6\", \"gridcolor\": \"white\", \"gridwidth\": 2, \"linecolor\": \"white\", \"showbackground\": true, \"ticks\": \"\", \"zerolinecolor\": \"white\"}, \"yaxis\": {\"backgroundcolor\": \"#E5ECF6\", \"gridcolor\": \"white\", \"gridwidth\": 2, \"linecolor\": \"white\", \"showbackground\": true, \"ticks\": \"\", \"zerolinecolor\": \"white\"}, \"zaxis\": {\"backgroundcolor\": \"#E5ECF6\", \"gridcolor\": \"white\", \"gridwidth\": 2, \"linecolor\": \"white\", \"showbackground\": true, \"ticks\": \"\", \"zerolinecolor\": \"white\"}}, \"shapedefaults\": {\"line\": {\"color\": \"#2a3f5f\"}}, \"ternary\": {\"aaxis\": {\"gridcolor\": \"white\", \"linecolor\": \"white\", \"ticks\": \"\"}, \"baxis\": {\"gridcolor\": \"white\", \"linecolor\": \"white\", \"ticks\": \"\"}, \"bgcolor\": \"#E5ECF6\", \"caxis\": {\"gridcolor\": \"white\", \"linecolor\": \"white\", \"ticks\": \"\"}}, \"title\": {\"x\": 0.05}, \"xaxis\": {\"automargin\": true, \"gridcolor\": \"white\", \"linecolor\": \"white\", \"ticks\": \"\", \"title\": {\"standoff\": 15}, \"zerolinecolor\": \"white\", \"zerolinewidth\": 2}, \"yaxis\": {\"automargin\": true, \"gridcolor\": \"white\", \"linecolor\": \"white\", \"ticks\": \"\", \"title\": {\"standoff\": 15}, \"zerolinecolor\": \"white\", \"zerolinewidth\": 2}}}, \"title\": {\"font\": {\"color\": \"#4D5663\"}}, \"xaxis\": {\"gridcolor\": \"#E1E5ED\", \"showgrid\": true, \"tickfont\": {\"color\": \"#4D5663\"}, \"title\": {\"font\": {\"color\": \"#4D5663\"}, \"text\": \"\"}, \"zerolinecolor\": \"#E1E5ED\"}, \"yaxis\": {\"gridcolor\": \"#E1E5ED\", \"showgrid\": true, \"tickfont\": {\"color\": \"#4D5663\"}, \"title\": {\"font\": {\"color\": \"#4D5663\"}, \"text\": \"\"}, \"zerolinecolor\": \"#E1E5ED\"}},\n",
       "                        {\"showLink\": true, \"linkText\": \"Export to plot.ly\", \"plotlyServerURL\": \"https://plot.ly\", \"responsive\": true}\n",
       "                    ).then(function(){\n",
       "                            \n",
       "var gd = document.getElementById('3c6e9f22-f5b4-4d9e-8023-13f7a6de432d');\n",
       "var x = new MutationObserver(function (mutations, observer) {{\n",
       "        var display = window.getComputedStyle(gd).display;\n",
       "        if (!display || display === 'none') {{\n",
       "            console.log([gd, 'removed!']);\n",
       "            Plotly.purge(gd);\n",
       "            observer.disconnect();\n",
       "        }}\n",
       "}});\n",
       "\n",
       "// Listen for the removal of the full notebook cells\n",
       "var notebookContainer = gd.closest('#notebook-container');\n",
       "if (notebookContainer) {{\n",
       "    x.observe(notebookContainer, {childList: true});\n",
       "}}\n",
       "\n",
       "// Listen for the clearing of the current output cell\n",
       "var outputEl = gd.closest('.output');\n",
       "if (outputEl) {{\n",
       "    x.observe(outputEl, {childList: true});\n",
       "}}\n",
       "\n",
       "                        })\n",
       "                };\n",
       "                });\n",
       "            </script>\n",
       "        </div>"
      ]
     },
     "metadata": {},
     "output_type": "display_data"
    }
   ],
   "source": [
    "df.count().iplot(kind='bar')"
   ]
  },
  {
   "cell_type": "code",
   "execution_count": 26,
   "metadata": {},
   "outputs": [
    {
     "data": {
      "application/vnd.plotly.v1+json": {
       "config": {
        "linkText": "Export to plot.ly",
        "plotlyServerURL": "https://plot.ly",
        "showLink": true
       },
       "data": [
        {
         "marker": {
          "color": "rgba(255, 153, 51, 0.6)",
          "line": {
           "color": "rgba(255, 153, 51, 1.0)",
           "width": 1
          }
         },
         "name": "None",
         "orientation": "v",
         "text": "",
         "type": "bar",
         "x": [
          "A",
          "B",
          "C",
          "D"
         ],
         "y": [
          -9.634087799853516,
          -11.915396921204023,
          1.1785277353744232,
          -2.3594707672902717
         ]
        }
       ],
       "layout": {
        "legend": {
         "bgcolor": "#F5F6F9",
         "font": {
          "color": "#4D5663"
         }
        },
        "paper_bgcolor": "#F5F6F9",
        "plot_bgcolor": "#F5F6F9",
        "template": {
         "data": {
          "bar": [
           {
            "error_x": {
             "color": "#2a3f5f"
            },
            "error_y": {
             "color": "#2a3f5f"
            },
            "marker": {
             "line": {
              "color": "#E5ECF6",
              "width": 0.5
             }
            },
            "type": "bar"
           }
          ],
          "barpolar": [
           {
            "marker": {
             "line": {
              "color": "#E5ECF6",
              "width": 0.5
             }
            },
            "type": "barpolar"
           }
          ],
          "carpet": [
           {
            "aaxis": {
             "endlinecolor": "#2a3f5f",
             "gridcolor": "white",
             "linecolor": "white",
             "minorgridcolor": "white",
             "startlinecolor": "#2a3f5f"
            },
            "baxis": {
             "endlinecolor": "#2a3f5f",
             "gridcolor": "white",
             "linecolor": "white",
             "minorgridcolor": "white",
             "startlinecolor": "#2a3f5f"
            },
            "type": "carpet"
           }
          ],
          "choropleth": [
           {
            "colorbar": {
             "outlinewidth": 0,
             "ticks": ""
            },
            "type": "choropleth"
           }
          ],
          "contour": [
           {
            "colorbar": {
             "outlinewidth": 0,
             "ticks": ""
            },
            "colorscale": [
             [
              0,
              "#0d0887"
             ],
             [
              0.1111111111111111,
              "#46039f"
             ],
             [
              0.2222222222222222,
              "#7201a8"
             ],
             [
              0.3333333333333333,
              "#9c179e"
             ],
             [
              0.4444444444444444,
              "#bd3786"
             ],
             [
              0.5555555555555556,
              "#d8576b"
             ],
             [
              0.6666666666666666,
              "#ed7953"
             ],
             [
              0.7777777777777778,
              "#fb9f3a"
             ],
             [
              0.8888888888888888,
              "#fdca26"
             ],
             [
              1,
              "#f0f921"
             ]
            ],
            "type": "contour"
           }
          ],
          "contourcarpet": [
           {
            "colorbar": {
             "outlinewidth": 0,
             "ticks": ""
            },
            "type": "contourcarpet"
           }
          ],
          "heatmap": [
           {
            "colorbar": {
             "outlinewidth": 0,
             "ticks": ""
            },
            "colorscale": [
             [
              0,
              "#0d0887"
             ],
             [
              0.1111111111111111,
              "#46039f"
             ],
             [
              0.2222222222222222,
              "#7201a8"
             ],
             [
              0.3333333333333333,
              "#9c179e"
             ],
             [
              0.4444444444444444,
              "#bd3786"
             ],
             [
              0.5555555555555556,
              "#d8576b"
             ],
             [
              0.6666666666666666,
              "#ed7953"
             ],
             [
              0.7777777777777778,
              "#fb9f3a"
             ],
             [
              0.8888888888888888,
              "#fdca26"
             ],
             [
              1,
              "#f0f921"
             ]
            ],
            "type": "heatmap"
           }
          ],
          "heatmapgl": [
           {
            "colorbar": {
             "outlinewidth": 0,
             "ticks": ""
            },
            "colorscale": [
             [
              0,
              "#0d0887"
             ],
             [
              0.1111111111111111,
              "#46039f"
             ],
             [
              0.2222222222222222,
              "#7201a8"
             ],
             [
              0.3333333333333333,
              "#9c179e"
             ],
             [
              0.4444444444444444,
              "#bd3786"
             ],
             [
              0.5555555555555556,
              "#d8576b"
             ],
             [
              0.6666666666666666,
              "#ed7953"
             ],
             [
              0.7777777777777778,
              "#fb9f3a"
             ],
             [
              0.8888888888888888,
              "#fdca26"
             ],
             [
              1,
              "#f0f921"
             ]
            ],
            "type": "heatmapgl"
           }
          ],
          "histogram": [
           {
            "marker": {
             "colorbar": {
              "outlinewidth": 0,
              "ticks": ""
             }
            },
            "type": "histogram"
           }
          ],
          "histogram2d": [
           {
            "colorbar": {
             "outlinewidth": 0,
             "ticks": ""
            },
            "colorscale": [
             [
              0,
              "#0d0887"
             ],
             [
              0.1111111111111111,
              "#46039f"
             ],
             [
              0.2222222222222222,
              "#7201a8"
             ],
             [
              0.3333333333333333,
              "#9c179e"
             ],
             [
              0.4444444444444444,
              "#bd3786"
             ],
             [
              0.5555555555555556,
              "#d8576b"
             ],
             [
              0.6666666666666666,
              "#ed7953"
             ],
             [
              0.7777777777777778,
              "#fb9f3a"
             ],
             [
              0.8888888888888888,
              "#fdca26"
             ],
             [
              1,
              "#f0f921"
             ]
            ],
            "type": "histogram2d"
           }
          ],
          "histogram2dcontour": [
           {
            "colorbar": {
             "outlinewidth": 0,
             "ticks": ""
            },
            "colorscale": [
             [
              0,
              "#0d0887"
             ],
             [
              0.1111111111111111,
              "#46039f"
             ],
             [
              0.2222222222222222,
              "#7201a8"
             ],
             [
              0.3333333333333333,
              "#9c179e"
             ],
             [
              0.4444444444444444,
              "#bd3786"
             ],
             [
              0.5555555555555556,
              "#d8576b"
             ],
             [
              0.6666666666666666,
              "#ed7953"
             ],
             [
              0.7777777777777778,
              "#fb9f3a"
             ],
             [
              0.8888888888888888,
              "#fdca26"
             ],
             [
              1,
              "#f0f921"
             ]
            ],
            "type": "histogram2dcontour"
           }
          ],
          "mesh3d": [
           {
            "colorbar": {
             "outlinewidth": 0,
             "ticks": ""
            },
            "type": "mesh3d"
           }
          ],
          "parcoords": [
           {
            "line": {
             "colorbar": {
              "outlinewidth": 0,
              "ticks": ""
             }
            },
            "type": "parcoords"
           }
          ],
          "pie": [
           {
            "automargin": true,
            "type": "pie"
           }
          ],
          "scatter": [
           {
            "marker": {
             "colorbar": {
              "outlinewidth": 0,
              "ticks": ""
             }
            },
            "type": "scatter"
           }
          ],
          "scatter3d": [
           {
            "line": {
             "colorbar": {
              "outlinewidth": 0,
              "ticks": ""
             }
            },
            "marker": {
             "colorbar": {
              "outlinewidth": 0,
              "ticks": ""
             }
            },
            "type": "scatter3d"
           }
          ],
          "scattercarpet": [
           {
            "marker": {
             "colorbar": {
              "outlinewidth": 0,
              "ticks": ""
             }
            },
            "type": "scattercarpet"
           }
          ],
          "scattergeo": [
           {
            "marker": {
             "colorbar": {
              "outlinewidth": 0,
              "ticks": ""
             }
            },
            "type": "scattergeo"
           }
          ],
          "scattergl": [
           {
            "marker": {
             "colorbar": {
              "outlinewidth": 0,
              "ticks": ""
             }
            },
            "type": "scattergl"
           }
          ],
          "scattermapbox": [
           {
            "marker": {
             "colorbar": {
              "outlinewidth": 0,
              "ticks": ""
             }
            },
            "type": "scattermapbox"
           }
          ],
          "scatterpolar": [
           {
            "marker": {
             "colorbar": {
              "outlinewidth": 0,
              "ticks": ""
             }
            },
            "type": "scatterpolar"
           }
          ],
          "scatterpolargl": [
           {
            "marker": {
             "colorbar": {
              "outlinewidth": 0,
              "ticks": ""
             }
            },
            "type": "scatterpolargl"
           }
          ],
          "scatterternary": [
           {
            "marker": {
             "colorbar": {
              "outlinewidth": 0,
              "ticks": ""
             }
            },
            "type": "scatterternary"
           }
          ],
          "surface": [
           {
            "colorbar": {
             "outlinewidth": 0,
             "ticks": ""
            },
            "colorscale": [
             [
              0,
              "#0d0887"
             ],
             [
              0.1111111111111111,
              "#46039f"
             ],
             [
              0.2222222222222222,
              "#7201a8"
             ],
             [
              0.3333333333333333,
              "#9c179e"
             ],
             [
              0.4444444444444444,
              "#bd3786"
             ],
             [
              0.5555555555555556,
              "#d8576b"
             ],
             [
              0.6666666666666666,
              "#ed7953"
             ],
             [
              0.7777777777777778,
              "#fb9f3a"
             ],
             [
              0.8888888888888888,
              "#fdca26"
             ],
             [
              1,
              "#f0f921"
             ]
            ],
            "type": "surface"
           }
          ],
          "table": [
           {
            "cells": {
             "fill": {
              "color": "#EBF0F8"
             },
             "line": {
              "color": "white"
             }
            },
            "header": {
             "fill": {
              "color": "#C8D4E3"
             },
             "line": {
              "color": "white"
             }
            },
            "type": "table"
           }
          ]
         },
         "layout": {
          "annotationdefaults": {
           "arrowcolor": "#2a3f5f",
           "arrowhead": 0,
           "arrowwidth": 1
          },
          "coloraxis": {
           "colorbar": {
            "outlinewidth": 0,
            "ticks": ""
           }
          },
          "colorscale": {
           "diverging": [
            [
             0,
             "#8e0152"
            ],
            [
             0.1,
             "#c51b7d"
            ],
            [
             0.2,
             "#de77ae"
            ],
            [
             0.3,
             "#f1b6da"
            ],
            [
             0.4,
             "#fde0ef"
            ],
            [
             0.5,
             "#f7f7f7"
            ],
            [
             0.6,
             "#e6f5d0"
            ],
            [
             0.7,
             "#b8e186"
            ],
            [
             0.8,
             "#7fbc41"
            ],
            [
             0.9,
             "#4d9221"
            ],
            [
             1,
             "#276419"
            ]
           ],
           "sequential": [
            [
             0,
             "#0d0887"
            ],
            [
             0.1111111111111111,
             "#46039f"
            ],
            [
             0.2222222222222222,
             "#7201a8"
            ],
            [
             0.3333333333333333,
             "#9c179e"
            ],
            [
             0.4444444444444444,
             "#bd3786"
            ],
            [
             0.5555555555555556,
             "#d8576b"
            ],
            [
             0.6666666666666666,
             "#ed7953"
            ],
            [
             0.7777777777777778,
             "#fb9f3a"
            ],
            [
             0.8888888888888888,
             "#fdca26"
            ],
            [
             1,
             "#f0f921"
            ]
           ],
           "sequentialminus": [
            [
             0,
             "#0d0887"
            ],
            [
             0.1111111111111111,
             "#46039f"
            ],
            [
             0.2222222222222222,
             "#7201a8"
            ],
            [
             0.3333333333333333,
             "#9c179e"
            ],
            [
             0.4444444444444444,
             "#bd3786"
            ],
            [
             0.5555555555555556,
             "#d8576b"
            ],
            [
             0.6666666666666666,
             "#ed7953"
            ],
            [
             0.7777777777777778,
             "#fb9f3a"
            ],
            [
             0.8888888888888888,
             "#fdca26"
            ],
            [
             1,
             "#f0f921"
            ]
           ]
          },
          "colorway": [
           "#636efa",
           "#EF553B",
           "#00cc96",
           "#ab63fa",
           "#FFA15A",
           "#19d3f3",
           "#FF6692",
           "#B6E880",
           "#FF97FF",
           "#FECB52"
          ],
          "font": {
           "color": "#2a3f5f"
          },
          "geo": {
           "bgcolor": "white",
           "lakecolor": "white",
           "landcolor": "#E5ECF6",
           "showlakes": true,
           "showland": true,
           "subunitcolor": "white"
          },
          "hoverlabel": {
           "align": "left"
          },
          "hovermode": "closest",
          "mapbox": {
           "style": "light"
          },
          "paper_bgcolor": "white",
          "plot_bgcolor": "#E5ECF6",
          "polar": {
           "angularaxis": {
            "gridcolor": "white",
            "linecolor": "white",
            "ticks": ""
           },
           "bgcolor": "#E5ECF6",
           "radialaxis": {
            "gridcolor": "white",
            "linecolor": "white",
            "ticks": ""
           }
          },
          "scene": {
           "xaxis": {
            "backgroundcolor": "#E5ECF6",
            "gridcolor": "white",
            "gridwidth": 2,
            "linecolor": "white",
            "showbackground": true,
            "ticks": "",
            "zerolinecolor": "white"
           },
           "yaxis": {
            "backgroundcolor": "#E5ECF6",
            "gridcolor": "white",
            "gridwidth": 2,
            "linecolor": "white",
            "showbackground": true,
            "ticks": "",
            "zerolinecolor": "white"
           },
           "zaxis": {
            "backgroundcolor": "#E5ECF6",
            "gridcolor": "white",
            "gridwidth": 2,
            "linecolor": "white",
            "showbackground": true,
            "ticks": "",
            "zerolinecolor": "white"
           }
          },
          "shapedefaults": {
           "line": {
            "color": "#2a3f5f"
           }
          },
          "ternary": {
           "aaxis": {
            "gridcolor": "white",
            "linecolor": "white",
            "ticks": ""
           },
           "baxis": {
            "gridcolor": "white",
            "linecolor": "white",
            "ticks": ""
           },
           "bgcolor": "#E5ECF6",
           "caxis": {
            "gridcolor": "white",
            "linecolor": "white",
            "ticks": ""
           }
          },
          "title": {
           "x": 0.05
          },
          "xaxis": {
           "automargin": true,
           "gridcolor": "white",
           "linecolor": "white",
           "ticks": "",
           "title": {
            "standoff": 15
           },
           "zerolinecolor": "white",
           "zerolinewidth": 2
          },
          "yaxis": {
           "automargin": true,
           "gridcolor": "white",
           "linecolor": "white",
           "ticks": "",
           "title": {
            "standoff": 15
           },
           "zerolinecolor": "white",
           "zerolinewidth": 2
          }
         }
        },
        "title": {
         "font": {
          "color": "#4D5663"
         }
        },
        "xaxis": {
         "gridcolor": "#E1E5ED",
         "showgrid": true,
         "tickfont": {
          "color": "#4D5663"
         },
         "title": {
          "font": {
           "color": "#4D5663"
          },
          "text": ""
         },
         "zerolinecolor": "#E1E5ED"
        },
        "yaxis": {
         "gridcolor": "#E1E5ED",
         "showgrid": true,
         "tickfont": {
          "color": "#4D5663"
         },
         "title": {
          "font": {
           "color": "#4D5663"
          },
          "text": ""
         },
         "zerolinecolor": "#E1E5ED"
        }
       }
      },
      "text/html": [
       "<div>\n",
       "        \n",
       "        \n",
       "            <div id=\"ab58d6ef-90d6-441c-8624-f0d528b43a86\" class=\"plotly-graph-div\" style=\"height:525px; width:100%;\"></div>\n",
       "            <script type=\"text/javascript\">\n",
       "                require([\"plotly\"], function(Plotly) {\n",
       "                    window.PLOTLYENV=window.PLOTLYENV || {};\n",
       "                    window.PLOTLYENV.BASE_URL='https://plot.ly';\n",
       "                    \n",
       "                if (document.getElementById(\"ab58d6ef-90d6-441c-8624-f0d528b43a86\")) {\n",
       "                    Plotly.newPlot(\n",
       "                        'ab58d6ef-90d6-441c-8624-f0d528b43a86',\n",
       "                        [{\"marker\": {\"color\": \"rgba(255, 153, 51, 0.6)\", \"line\": {\"color\": \"rgba(255, 153, 51, 1.0)\", \"width\": 1}}, \"name\": \"None\", \"orientation\": \"v\", \"text\": \"\", \"type\": \"bar\", \"x\": [\"A\", \"B\", \"C\", \"D\"], \"y\": [-9.634087799853516, -11.915396921204023, 1.1785277353744232, -2.3594707672902717]}],\n",
       "                        {\"legend\": {\"bgcolor\": \"#F5F6F9\", \"font\": {\"color\": \"#4D5663\"}}, \"paper_bgcolor\": \"#F5F6F9\", \"plot_bgcolor\": \"#F5F6F9\", \"template\": {\"data\": {\"bar\": [{\"error_x\": {\"color\": \"#2a3f5f\"}, \"error_y\": {\"color\": \"#2a3f5f\"}, \"marker\": {\"line\": {\"color\": \"#E5ECF6\", \"width\": 0.5}}, \"type\": \"bar\"}], \"barpolar\": [{\"marker\": {\"line\": {\"color\": \"#E5ECF6\", \"width\": 0.5}}, \"type\": \"barpolar\"}], \"carpet\": [{\"aaxis\": {\"endlinecolor\": \"#2a3f5f\", \"gridcolor\": \"white\", \"linecolor\": \"white\", \"minorgridcolor\": \"white\", \"startlinecolor\": \"#2a3f5f\"}, \"baxis\": {\"endlinecolor\": \"#2a3f5f\", \"gridcolor\": \"white\", \"linecolor\": \"white\", \"minorgridcolor\": \"white\", \"startlinecolor\": \"#2a3f5f\"}, \"type\": \"carpet\"}], \"choropleth\": [{\"colorbar\": {\"outlinewidth\": 0, \"ticks\": \"\"}, \"type\": \"choropleth\"}], \"contour\": [{\"colorbar\": {\"outlinewidth\": 0, \"ticks\": \"\"}, \"colorscale\": [[0.0, \"#0d0887\"], [0.1111111111111111, \"#46039f\"], [0.2222222222222222, \"#7201a8\"], [0.3333333333333333, \"#9c179e\"], [0.4444444444444444, \"#bd3786\"], [0.5555555555555556, \"#d8576b\"], [0.6666666666666666, \"#ed7953\"], [0.7777777777777778, \"#fb9f3a\"], [0.8888888888888888, \"#fdca26\"], [1.0, \"#f0f921\"]], \"type\": \"contour\"}], \"contourcarpet\": [{\"colorbar\": {\"outlinewidth\": 0, \"ticks\": \"\"}, \"type\": \"contourcarpet\"}], \"heatmap\": [{\"colorbar\": {\"outlinewidth\": 0, \"ticks\": \"\"}, \"colorscale\": [[0.0, \"#0d0887\"], [0.1111111111111111, \"#46039f\"], [0.2222222222222222, \"#7201a8\"], [0.3333333333333333, \"#9c179e\"], [0.4444444444444444, \"#bd3786\"], [0.5555555555555556, \"#d8576b\"], [0.6666666666666666, \"#ed7953\"], [0.7777777777777778, \"#fb9f3a\"], [0.8888888888888888, \"#fdca26\"], [1.0, \"#f0f921\"]], \"type\": \"heatmap\"}], \"heatmapgl\": [{\"colorbar\": {\"outlinewidth\": 0, \"ticks\": \"\"}, \"colorscale\": [[0.0, \"#0d0887\"], [0.1111111111111111, \"#46039f\"], [0.2222222222222222, \"#7201a8\"], [0.3333333333333333, \"#9c179e\"], [0.4444444444444444, \"#bd3786\"], [0.5555555555555556, \"#d8576b\"], [0.6666666666666666, \"#ed7953\"], [0.7777777777777778, \"#fb9f3a\"], [0.8888888888888888, \"#fdca26\"], [1.0, \"#f0f921\"]], \"type\": \"heatmapgl\"}], \"histogram\": [{\"marker\": {\"colorbar\": {\"outlinewidth\": 0, \"ticks\": \"\"}}, \"type\": \"histogram\"}], \"histogram2d\": [{\"colorbar\": {\"outlinewidth\": 0, \"ticks\": \"\"}, \"colorscale\": [[0.0, \"#0d0887\"], [0.1111111111111111, \"#46039f\"], [0.2222222222222222, \"#7201a8\"], [0.3333333333333333, \"#9c179e\"], [0.4444444444444444, \"#bd3786\"], [0.5555555555555556, \"#d8576b\"], [0.6666666666666666, \"#ed7953\"], [0.7777777777777778, \"#fb9f3a\"], [0.8888888888888888, \"#fdca26\"], [1.0, \"#f0f921\"]], \"type\": \"histogram2d\"}], \"histogram2dcontour\": [{\"colorbar\": {\"outlinewidth\": 0, \"ticks\": \"\"}, \"colorscale\": [[0.0, \"#0d0887\"], [0.1111111111111111, \"#46039f\"], [0.2222222222222222, \"#7201a8\"], [0.3333333333333333, \"#9c179e\"], [0.4444444444444444, \"#bd3786\"], [0.5555555555555556, \"#d8576b\"], [0.6666666666666666, \"#ed7953\"], [0.7777777777777778, \"#fb9f3a\"], [0.8888888888888888, \"#fdca26\"], [1.0, \"#f0f921\"]], \"type\": \"histogram2dcontour\"}], \"mesh3d\": [{\"colorbar\": {\"outlinewidth\": 0, \"ticks\": \"\"}, \"type\": \"mesh3d\"}], \"parcoords\": [{\"line\": {\"colorbar\": {\"outlinewidth\": 0, \"ticks\": \"\"}}, \"type\": \"parcoords\"}], \"pie\": [{\"automargin\": true, \"type\": \"pie\"}], \"scatter\": [{\"marker\": {\"colorbar\": {\"outlinewidth\": 0, \"ticks\": \"\"}}, \"type\": \"scatter\"}], \"scatter3d\": [{\"line\": {\"colorbar\": {\"outlinewidth\": 0, \"ticks\": \"\"}}, \"marker\": {\"colorbar\": {\"outlinewidth\": 0, \"ticks\": \"\"}}, \"type\": \"scatter3d\"}], \"scattercarpet\": [{\"marker\": {\"colorbar\": {\"outlinewidth\": 0, \"ticks\": \"\"}}, \"type\": \"scattercarpet\"}], \"scattergeo\": [{\"marker\": {\"colorbar\": {\"outlinewidth\": 0, \"ticks\": \"\"}}, \"type\": \"scattergeo\"}], \"scattergl\": [{\"marker\": {\"colorbar\": {\"outlinewidth\": 0, \"ticks\": \"\"}}, \"type\": \"scattergl\"}], \"scattermapbox\": [{\"marker\": {\"colorbar\": {\"outlinewidth\": 0, \"ticks\": \"\"}}, \"type\": \"scattermapbox\"}], \"scatterpolar\": [{\"marker\": {\"colorbar\": {\"outlinewidth\": 0, \"ticks\": \"\"}}, \"type\": \"scatterpolar\"}], \"scatterpolargl\": [{\"marker\": {\"colorbar\": {\"outlinewidth\": 0, \"ticks\": \"\"}}, \"type\": \"scatterpolargl\"}], \"scatterternary\": [{\"marker\": {\"colorbar\": {\"outlinewidth\": 0, \"ticks\": \"\"}}, \"type\": \"scatterternary\"}], \"surface\": [{\"colorbar\": {\"outlinewidth\": 0, \"ticks\": \"\"}, \"colorscale\": [[0.0, \"#0d0887\"], [0.1111111111111111, \"#46039f\"], [0.2222222222222222, \"#7201a8\"], [0.3333333333333333, \"#9c179e\"], [0.4444444444444444, \"#bd3786\"], [0.5555555555555556, \"#d8576b\"], [0.6666666666666666, \"#ed7953\"], [0.7777777777777778, \"#fb9f3a\"], [0.8888888888888888, \"#fdca26\"], [1.0, \"#f0f921\"]], \"type\": \"surface\"}], \"table\": [{\"cells\": {\"fill\": {\"color\": \"#EBF0F8\"}, \"line\": {\"color\": \"white\"}}, \"header\": {\"fill\": {\"color\": \"#C8D4E3\"}, \"line\": {\"color\": \"white\"}}, \"type\": \"table\"}]}, \"layout\": {\"annotationdefaults\": {\"arrowcolor\": \"#2a3f5f\", \"arrowhead\": 0, \"arrowwidth\": 1}, \"coloraxis\": {\"colorbar\": {\"outlinewidth\": 0, \"ticks\": \"\"}}, \"colorscale\": {\"diverging\": [[0, \"#8e0152\"], [0.1, \"#c51b7d\"], [0.2, \"#de77ae\"], [0.3, \"#f1b6da\"], [0.4, \"#fde0ef\"], [0.5, \"#f7f7f7\"], [0.6, \"#e6f5d0\"], [0.7, \"#b8e186\"], [0.8, \"#7fbc41\"], [0.9, \"#4d9221\"], [1, \"#276419\"]], \"sequential\": [[0.0, \"#0d0887\"], [0.1111111111111111, \"#46039f\"], [0.2222222222222222, \"#7201a8\"], [0.3333333333333333, \"#9c179e\"], [0.4444444444444444, \"#bd3786\"], [0.5555555555555556, \"#d8576b\"], [0.6666666666666666, \"#ed7953\"], [0.7777777777777778, \"#fb9f3a\"], [0.8888888888888888, \"#fdca26\"], [1.0, \"#f0f921\"]], \"sequentialminus\": [[0.0, \"#0d0887\"], [0.1111111111111111, \"#46039f\"], [0.2222222222222222, \"#7201a8\"], [0.3333333333333333, \"#9c179e\"], [0.4444444444444444, \"#bd3786\"], [0.5555555555555556, \"#d8576b\"], [0.6666666666666666, \"#ed7953\"], [0.7777777777777778, \"#fb9f3a\"], [0.8888888888888888, \"#fdca26\"], [1.0, \"#f0f921\"]]}, \"colorway\": [\"#636efa\", \"#EF553B\", \"#00cc96\", \"#ab63fa\", \"#FFA15A\", \"#19d3f3\", \"#FF6692\", \"#B6E880\", \"#FF97FF\", \"#FECB52\"], \"font\": {\"color\": \"#2a3f5f\"}, \"geo\": {\"bgcolor\": \"white\", \"lakecolor\": \"white\", \"landcolor\": \"#E5ECF6\", \"showlakes\": true, \"showland\": true, \"subunitcolor\": \"white\"}, \"hoverlabel\": {\"align\": \"left\"}, \"hovermode\": \"closest\", \"mapbox\": {\"style\": \"light\"}, \"paper_bgcolor\": \"white\", \"plot_bgcolor\": \"#E5ECF6\", \"polar\": {\"angularaxis\": {\"gridcolor\": \"white\", \"linecolor\": \"white\", \"ticks\": \"\"}, \"bgcolor\": \"#E5ECF6\", \"radialaxis\": {\"gridcolor\": \"white\", \"linecolor\": \"white\", \"ticks\": \"\"}}, \"scene\": {\"xaxis\": {\"backgroundcolor\": \"#E5ECF6\", \"gridcolor\": \"white\", \"gridwidth\": 2, \"linecolor\": \"white\", \"showbackground\": true, \"ticks\": \"\", \"zerolinecolor\": \"white\"}, \"yaxis\": {\"backgroundcolor\": \"#E5ECF6\", \"gridcolor\": \"white\", \"gridwidth\": 2, \"linecolor\": \"white\", \"showbackground\": true, \"ticks\": \"\", \"zerolinecolor\": \"white\"}, \"zaxis\": {\"backgroundcolor\": \"#E5ECF6\", \"gridcolor\": \"white\", \"gridwidth\": 2, \"linecolor\": \"white\", \"showbackground\": true, \"ticks\": \"\", \"zerolinecolor\": \"white\"}}, \"shapedefaults\": {\"line\": {\"color\": \"#2a3f5f\"}}, \"ternary\": {\"aaxis\": {\"gridcolor\": \"white\", \"linecolor\": \"white\", \"ticks\": \"\"}, \"baxis\": {\"gridcolor\": \"white\", \"linecolor\": \"white\", \"ticks\": \"\"}, \"bgcolor\": \"#E5ECF6\", \"caxis\": {\"gridcolor\": \"white\", \"linecolor\": \"white\", \"ticks\": \"\"}}, \"title\": {\"x\": 0.05}, \"xaxis\": {\"automargin\": true, \"gridcolor\": \"white\", \"linecolor\": \"white\", \"ticks\": \"\", \"title\": {\"standoff\": 15}, \"zerolinecolor\": \"white\", \"zerolinewidth\": 2}, \"yaxis\": {\"automargin\": true, \"gridcolor\": \"white\", \"linecolor\": \"white\", \"ticks\": \"\", \"title\": {\"standoff\": 15}, \"zerolinecolor\": \"white\", \"zerolinewidth\": 2}}}, \"title\": {\"font\": {\"color\": \"#4D5663\"}}, \"xaxis\": {\"gridcolor\": \"#E1E5ED\", \"showgrid\": true, \"tickfont\": {\"color\": \"#4D5663\"}, \"title\": {\"font\": {\"color\": \"#4D5663\"}, \"text\": \"\"}, \"zerolinecolor\": \"#E1E5ED\"}, \"yaxis\": {\"gridcolor\": \"#E1E5ED\", \"showgrid\": true, \"tickfont\": {\"color\": \"#4D5663\"}, \"title\": {\"font\": {\"color\": \"#4D5663\"}, \"text\": \"\"}, \"zerolinecolor\": \"#E1E5ED\"}},\n",
       "                        {\"showLink\": true, \"linkText\": \"Export to plot.ly\", \"plotlyServerURL\": \"https://plot.ly\", \"responsive\": true}\n",
       "                    ).then(function(){\n",
       "                            \n",
       "var gd = document.getElementById('ab58d6ef-90d6-441c-8624-f0d528b43a86');\n",
       "var x = new MutationObserver(function (mutations, observer) {{\n",
       "        var display = window.getComputedStyle(gd).display;\n",
       "        if (!display || display === 'none') {{\n",
       "            console.log([gd, 'removed!']);\n",
       "            Plotly.purge(gd);\n",
       "            observer.disconnect();\n",
       "        }}\n",
       "}});\n",
       "\n",
       "// Listen for the removal of the full notebook cells\n",
       "var notebookContainer = gd.closest('#notebook-container');\n",
       "if (notebookContainer) {{\n",
       "    x.observe(notebookContainer, {childList: true});\n",
       "}}\n",
       "\n",
       "// Listen for the clearing of the current output cell\n",
       "var outputEl = gd.closest('.output');\n",
       "if (outputEl) {{\n",
       "    x.observe(outputEl, {childList: true});\n",
       "}}\n",
       "\n",
       "                        })\n",
       "                };\n",
       "                });\n",
       "            </script>\n",
       "        </div>"
      ]
     },
     "metadata": {},
     "output_type": "display_data"
    }
   ],
   "source": [
    "df.sum().iplot(kind='bar')"
   ]
  },
  {
   "cell_type": "code",
   "execution_count": 28,
   "metadata": {},
   "outputs": [
    {
     "data": {
      "application/vnd.plotly.v1+json": {
       "config": {
        "linkText": "Export to plot.ly",
        "plotlyServerURL": "https://plot.ly",
        "showLink": true
       },
       "data": [
        {
         "boxpoints": false,
         "line": {
          "width": 1.3
         },
         "marker": {
          "color": "rgba(255, 153, 51, 1.0)"
         },
         "name": "A",
         "orientation": "v",
         "type": "box",
         "y": [
          -1.3559130559175228,
          0.5303321035654701,
          0.29440697268481386,
          -2.366994851248194,
          -0.39061600426275805,
          -1.2161987223331556,
          0.19859743516019948,
          -0.04196512186229954,
          0.7816691002462268,
          -0.5625933565781353,
          0.19285116004885725,
          -0.06178195375831094,
          0.7097995605455756,
          -0.06438499550921149,
          -2.5974737858675803,
          -0.32300690338794696,
          1.0306388859623885,
          -1.941335868515121,
          -1.4355365861662128,
          -0.6573992997091732,
          0.11646656991438858,
          0.46591396507238075,
          0.05272497171678483,
          0.4581524192640287,
          1.1095119169038339,
          -0.16693785245883877,
          -2.4185233240227983,
          -0.6450810153514451,
          1.1329069163196375,
          0.6970329956343094,
          -0.22820026177348646,
          -1.4808780287987526,
          0.024367923584303973,
          0.4286231014194029,
          0.08045542686191721,
          -1.4015248719784796,
          -0.7127602575963483,
          -0.8326614239099435,
          0.9937010497254936,
          -0.5989317759807878,
          -1.4296493006161402,
          0.7713104030030286,
          -0.06980710659690535,
          1.1287545943777195,
          0.24847286609051505,
          -0.25614946259117294,
          -0.4244114222395493,
          0.5856088506470457,
          1.279303773190982,
          -0.44555925844105376,
          0.3490682053943956,
          1.0813767860789734,
          0.8133648881571423,
          -0.6562175042066347,
          -0.4121443535409477,
          1.0969280780102093,
          0.15770461247131407,
          0.042630429623211966,
          2.3683858678174623,
          1.1321042486469257,
          -0.12294684247572248,
          1.7655511106226867,
          -0.1591269815157064,
          0.11075147314174175,
          -1.0859538098553496,
          -2.191959033772851,
          -1.3356073556326191,
          -0.7607734053921369,
          -0.8295932567941922,
          -0.010402164383887734,
          0.009074950144895585,
          -1.3753860596456584,
          1.1186045911807563,
          -1.3180085977495606,
          -1.4364656665274682,
          -1.1545082613318447,
          -0.3488279565559763,
          0.22136370072874864,
          0.11027416415716094,
          -0.3289421211077479,
          1.4982170548436569,
          0.5240075572039334,
          0.14601567207029967,
          1.1131443714346898,
          -0.945595270331263,
          0.29686021046057764,
          -0.06873382405799189,
          1.3398974294041806,
          -0.1005688226330727,
          -0.5387746262762422,
          -0.767849248663247,
          -0.35100755254836946,
          0.1480598141594704,
          0.08595586430500328,
          1.162131405970528,
          0.8816251921637606,
          -0.21427435409242715,
          1.4900398420710712,
          -1.604228677811847,
          0.23534333231846755
         ]
        },
        {
         "boxpoints": false,
         "line": {
          "width": 1.3
         },
         "marker": {
          "color": "rgba(55, 128, 191, 1.0)"
         },
         "name": "B",
         "orientation": "v",
         "type": "box",
         "y": [
          -1.5778429245488879,
          1.2680079504191542,
          0.09649405165059019,
          0.5451506050878556,
          1.4665309109334816,
          -0.8187660691999971,
          0.8892275568624582,
          0.057993196168514054,
          1.0704372338561854,
          -1.1215869807766896,
          0.7898514189744038,
          0.8930828925001068,
          1.3220881795120045,
          -1.1746388644306027,
          -0.11366720583834672,
          -1.08572748143992,
          -0.36542532409071204,
          -0.5451472733548265,
          0.05957969416825055,
          1.0481834417594982,
          0.6582590607680974,
          1.9050369818668038,
          -0.8611884051729745,
          -0.03364255394446158,
          -0.2688534606823713,
          -1.2502969844263059,
          -0.09367845283559229,
          -0.2920765672512015,
          -0.3139676248854494,
          -0.9811182522643814,
          -0.06443198507731814,
          -1.2044898392645802,
          -0.008192778716532423,
          -1.5846889685617627,
          0.12750792187288915,
          -0.3593159388234478,
          -1.4988967562973863,
          1.2732099224625397,
          -0.8615848179565383,
          -0.40897428577114503,
          0.8490222350087218,
          -1.0791246887998986,
          -0.15060725895997487,
          -1.5720599233177468,
          -0.9104303182134822,
          0.3038761199317576,
          1.5772543560605514,
          0.10958890357099571,
          -1.433809763409956,
          0.9001499602414199,
          -1.1065469139557813,
          -1.6591841116033383,
          0.4856131846513768,
          -1.3187515045471454,
          -0.9998085361886271,
          0.8895689618477627,
          -0.6490212653755961,
          -0.6028794296101871,
          -1.6215250503615426,
          0.35749953179801786,
          1.3525172890956467,
          2.1440982079969793,
          -0.7535990604943527,
          -1.8530373144179704,
          0.3853396942630609,
          1.0725112999364486,
          -0.5080799161223373,
          0.728183494278347,
          0.29348208736934966,
          0.6166598740688046,
          -1.4176082506592214,
          -1.2283428172986675,
          0.029400981232705268,
          0.49717683675476193,
          1.2806469532543063,
          -2.170877611449295,
          0.5305137203022765,
          0.07573784865183336,
          1.962331926274082,
          0.6497384161827761,
          0.445444965199007,
          -1.0219776640954312,
          -1.3586633696231962,
          2.548903463301732,
          -0.2657491617480886,
          0.06264434682764904,
          -1.485197772311538,
          -1.9928894210733983,
          1.1406483682872646,
          -1.7880279463109883,
          0.21610130984226705,
          0.6600706306964581,
          0.5159702029260697,
          -1.0874933049782323,
          -1.0924492328288362,
          -0.44981702999116246,
          -0.2910427923330211,
          1.109369336375027,
          -0.27248037646009077,
          -0.14682084414377564
         ]
        },
        {
         "boxpoints": false,
         "line": {
          "width": 1.3
         },
         "marker": {
          "color": "rgba(50, 171, 96, 1.0)"
         },
         "name": "C",
         "orientation": "v",
         "type": "box",
         "y": [
          -0.8849667774683708,
          2.2259377239221325,
          -1.5233101709060102,
          0.2953181398270395,
          0.8264344026153204,
          0.5913510655187838,
          0.6828648431042454,
          1.7086815960636492,
          0.25818184912645487,
          -0.7170024291397524,
          0.08916805499006593,
          1.3153127154131583,
          0.4250462899632546,
          0.8023505507410498,
          1.1148473647823962,
          -0.18956102529793664,
          -2.079756872118981,
          -0.7113601357767555,
          0.7094442838065212,
          0.07251137575017333,
          0.2953148063878515,
          -1.0121772100861905,
          -0.6359246998913491,
          -0.3528819646496265,
          0.5408683474982837,
          0.38979566342810656,
          0.4866337764911907,
          0.4011578541573498,
          0.6199420783053193,
          0.465317548944445,
          -0.2318148390140708,
          0.33581715315193994,
          -0.47503807105468887,
          -0.5466109427096344,
          0.6186689184945717,
          -0.19789822919792144,
          0.43690862035919475,
          -0.15712976265590814,
          -0.03370892710985846,
          0.5636837886188208,
          1.6580695740115794,
          -1.0407957699682373,
          -1.1676010434888637,
          -1.2157954987786896,
          0.8927282864811816,
          0.006944035248060638,
          0.09941082090580226,
          1.7407631555606686,
          0.8410707477264111,
          0.36434960007679335,
          1.7359708516884256,
          0.3965880382695271,
          1.2907778837912955,
          -0.8739617195647129,
          -0.00728002667451206,
          -0.6998826075737327,
          -0.25956262071948605,
          0.6542748975111746,
          -0.07018324863868057,
          0.11869849803291103,
          1.3119010861688023,
          -0.2972657981226998,
          -1.327267397411813,
          0.6165124105986223,
          -1.2073661854687094,
          -0.6857610677682836,
          -0.8749481991203933,
          -1.0875589673394612,
          -0.3771542192507942,
          -0.6995546738432826,
          -1.1440545701594893,
          -0.6170536297117368,
          -0.4841222349603552,
          1.1136235479025833,
          0.6188184078340688,
          0.3235695906997173,
          -0.5558048323254344,
          -0.6554798206190868,
          0.5991224352438265,
          -0.3073695377011026,
          -1.1443987905506152,
          -1.3918616476517387,
          -0.0970628008041887,
          -1.8637925174812902,
          0.3360992701512891,
          1.3136038000994479,
          -0.9528464728863185,
          1.0035464465815014,
          -0.28833439613220974,
          -0.5801714493637724,
          -0.8297499028994472,
          2.0718903192594933,
          0.6207850633540429,
          0.05015029066703375,
          -0.13065485529488527,
          0.8073422350123594,
          0.5539168555719847,
          -2.5645193565271756,
          -1.0899895346786574,
          0.10478822602140812
         ]
        },
        {
         "boxpoints": false,
         "line": {
          "width": 1.3
         },
         "marker": {
          "color": "rgba(128, 0, 128, 1.0)"
         },
         "name": "D",
         "orientation": "v",
         "type": "box",
         "y": [
          0.10769577614462261,
          0.9381513388151985,
          0.6009753050690573,
          1.9752354750747527,
          -0.5181426237082836,
          0.22761479934571258,
          -0.5265786942320025,
          0.5095492153774754,
          -1.046554330848723,
          0.7315065825237579,
          0.6789620480026869,
          -1.413347659196342,
          -0.016108383281562496,
          -0.9410589517518645,
          0.04857771095448899,
          -0.11022153894423668,
          0.14107671168947727,
          -0.5554674951524631,
          -1.3159441484687864,
          -1.7483545865947807,
          -0.3121965712883904,
          0.6920018959734503,
          -0.9107050403290968,
          0.2784644851682874,
          -1.9397962578930277,
          -0.45513040249786124,
          -0.10848084960196892,
          -0.7589575367551256,
          -1.0780093826892658,
          -0.9514571611390187,
          1.5961370769094052,
          1.8239176658288547,
          -0.6536799414681844,
          -1.2597150988422412,
          -0.46059293448935956,
          0.31269284186968976,
          0.07907465712089817,
          0.14802301693644215,
          -0.3167136617293768,
          -1.007512795204162,
          0.8067433348015413,
          -0.8483543082873977,
          1.263380709513765,
          0.46652702277022684,
          0.751282663832055,
          0.06369242477298177,
          -1.0909522881225577,
          -0.3739960103824854,
          0.6779473539857858,
          0.3734266014815676,
          0.9967330796823717,
          -0.5119182197177479,
          -0.5864669718638383,
          0.6879994083973473,
          -2.744759141587978,
          0.1441662752957278,
          0.026430336315075065,
          0.9292363498181935,
          0.22263571468181814,
          2.199745582404042,
          -0.641710069299092,
          1.539124005803026,
          0.20902429509022064,
          0.07899581188293245,
          -0.33360984821282474,
          -0.36160802793794816,
          -0.696201035195265,
          0.12563154438571958,
          1.4465572063107346,
          1.5080309088258388,
          -1.1673168114773593,
          -0.20357637312531762,
          -1.4220357329064184,
          0.41158488273955846,
          -1.0001318285121235,
          0.7274191463023469,
          0.2160667268178794,
          0.584137035310321,
          -0.5655353173916954,
          0.34607752995659996,
          -1.0496416652327765,
          0.181924508554677,
          1.4160621396152433,
          1.447212701811392,
          -0.44404804234735024,
          0.12387709870026571,
          2.771090955198578,
          -0.5368436175829514,
          -1.0542914901698903,
          -0.7843346446183815,
          -0.6142528681773224,
          -0.0008528951337365195,
          -0.4769691436154201,
          0.19402549901576488,
          -0.46842199926958966,
          -0.08477552905099907,
          -0.9792984493681949,
          1.4995880284038323,
          -0.7542111726116282,
          0.5153352947324564
         ]
        }
       ],
       "layout": {
        "legend": {
         "bgcolor": "#F5F6F9",
         "font": {
          "color": "#4D5663"
         }
        },
        "paper_bgcolor": "#F5F6F9",
        "plot_bgcolor": "#F5F6F9",
        "template": {
         "data": {
          "bar": [
           {
            "error_x": {
             "color": "#2a3f5f"
            },
            "error_y": {
             "color": "#2a3f5f"
            },
            "marker": {
             "line": {
              "color": "#E5ECF6",
              "width": 0.5
             }
            },
            "type": "bar"
           }
          ],
          "barpolar": [
           {
            "marker": {
             "line": {
              "color": "#E5ECF6",
              "width": 0.5
             }
            },
            "type": "barpolar"
           }
          ],
          "carpet": [
           {
            "aaxis": {
             "endlinecolor": "#2a3f5f",
             "gridcolor": "white",
             "linecolor": "white",
             "minorgridcolor": "white",
             "startlinecolor": "#2a3f5f"
            },
            "baxis": {
             "endlinecolor": "#2a3f5f",
             "gridcolor": "white",
             "linecolor": "white",
             "minorgridcolor": "white",
             "startlinecolor": "#2a3f5f"
            },
            "type": "carpet"
           }
          ],
          "choropleth": [
           {
            "colorbar": {
             "outlinewidth": 0,
             "ticks": ""
            },
            "type": "choropleth"
           }
          ],
          "contour": [
           {
            "colorbar": {
             "outlinewidth": 0,
             "ticks": ""
            },
            "colorscale": [
             [
              0,
              "#0d0887"
             ],
             [
              0.1111111111111111,
              "#46039f"
             ],
             [
              0.2222222222222222,
              "#7201a8"
             ],
             [
              0.3333333333333333,
              "#9c179e"
             ],
             [
              0.4444444444444444,
              "#bd3786"
             ],
             [
              0.5555555555555556,
              "#d8576b"
             ],
             [
              0.6666666666666666,
              "#ed7953"
             ],
             [
              0.7777777777777778,
              "#fb9f3a"
             ],
             [
              0.8888888888888888,
              "#fdca26"
             ],
             [
              1,
              "#f0f921"
             ]
            ],
            "type": "contour"
           }
          ],
          "contourcarpet": [
           {
            "colorbar": {
             "outlinewidth": 0,
             "ticks": ""
            },
            "type": "contourcarpet"
           }
          ],
          "heatmap": [
           {
            "colorbar": {
             "outlinewidth": 0,
             "ticks": ""
            },
            "colorscale": [
             [
              0,
              "#0d0887"
             ],
             [
              0.1111111111111111,
              "#46039f"
             ],
             [
              0.2222222222222222,
              "#7201a8"
             ],
             [
              0.3333333333333333,
              "#9c179e"
             ],
             [
              0.4444444444444444,
              "#bd3786"
             ],
             [
              0.5555555555555556,
              "#d8576b"
             ],
             [
              0.6666666666666666,
              "#ed7953"
             ],
             [
              0.7777777777777778,
              "#fb9f3a"
             ],
             [
              0.8888888888888888,
              "#fdca26"
             ],
             [
              1,
              "#f0f921"
             ]
            ],
            "type": "heatmap"
           }
          ],
          "heatmapgl": [
           {
            "colorbar": {
             "outlinewidth": 0,
             "ticks": ""
            },
            "colorscale": [
             [
              0,
              "#0d0887"
             ],
             [
              0.1111111111111111,
              "#46039f"
             ],
             [
              0.2222222222222222,
              "#7201a8"
             ],
             [
              0.3333333333333333,
              "#9c179e"
             ],
             [
              0.4444444444444444,
              "#bd3786"
             ],
             [
              0.5555555555555556,
              "#d8576b"
             ],
             [
              0.6666666666666666,
              "#ed7953"
             ],
             [
              0.7777777777777778,
              "#fb9f3a"
             ],
             [
              0.8888888888888888,
              "#fdca26"
             ],
             [
              1,
              "#f0f921"
             ]
            ],
            "type": "heatmapgl"
           }
          ],
          "histogram": [
           {
            "marker": {
             "colorbar": {
              "outlinewidth": 0,
              "ticks": ""
             }
            },
            "type": "histogram"
           }
          ],
          "histogram2d": [
           {
            "colorbar": {
             "outlinewidth": 0,
             "ticks": ""
            },
            "colorscale": [
             [
              0,
              "#0d0887"
             ],
             [
              0.1111111111111111,
              "#46039f"
             ],
             [
              0.2222222222222222,
              "#7201a8"
             ],
             [
              0.3333333333333333,
              "#9c179e"
             ],
             [
              0.4444444444444444,
              "#bd3786"
             ],
             [
              0.5555555555555556,
              "#d8576b"
             ],
             [
              0.6666666666666666,
              "#ed7953"
             ],
             [
              0.7777777777777778,
              "#fb9f3a"
             ],
             [
              0.8888888888888888,
              "#fdca26"
             ],
             [
              1,
              "#f0f921"
             ]
            ],
            "type": "histogram2d"
           }
          ],
          "histogram2dcontour": [
           {
            "colorbar": {
             "outlinewidth": 0,
             "ticks": ""
            },
            "colorscale": [
             [
              0,
              "#0d0887"
             ],
             [
              0.1111111111111111,
              "#46039f"
             ],
             [
              0.2222222222222222,
              "#7201a8"
             ],
             [
              0.3333333333333333,
              "#9c179e"
             ],
             [
              0.4444444444444444,
              "#bd3786"
             ],
             [
              0.5555555555555556,
              "#d8576b"
             ],
             [
              0.6666666666666666,
              "#ed7953"
             ],
             [
              0.7777777777777778,
              "#fb9f3a"
             ],
             [
              0.8888888888888888,
              "#fdca26"
             ],
             [
              1,
              "#f0f921"
             ]
            ],
            "type": "histogram2dcontour"
           }
          ],
          "mesh3d": [
           {
            "colorbar": {
             "outlinewidth": 0,
             "ticks": ""
            },
            "type": "mesh3d"
           }
          ],
          "parcoords": [
           {
            "line": {
             "colorbar": {
              "outlinewidth": 0,
              "ticks": ""
             }
            },
            "type": "parcoords"
           }
          ],
          "pie": [
           {
            "automargin": true,
            "type": "pie"
           }
          ],
          "scatter": [
           {
            "marker": {
             "colorbar": {
              "outlinewidth": 0,
              "ticks": ""
             }
            },
            "type": "scatter"
           }
          ],
          "scatter3d": [
           {
            "line": {
             "colorbar": {
              "outlinewidth": 0,
              "ticks": ""
             }
            },
            "marker": {
             "colorbar": {
              "outlinewidth": 0,
              "ticks": ""
             }
            },
            "type": "scatter3d"
           }
          ],
          "scattercarpet": [
           {
            "marker": {
             "colorbar": {
              "outlinewidth": 0,
              "ticks": ""
             }
            },
            "type": "scattercarpet"
           }
          ],
          "scattergeo": [
           {
            "marker": {
             "colorbar": {
              "outlinewidth": 0,
              "ticks": ""
             }
            },
            "type": "scattergeo"
           }
          ],
          "scattergl": [
           {
            "marker": {
             "colorbar": {
              "outlinewidth": 0,
              "ticks": ""
             }
            },
            "type": "scattergl"
           }
          ],
          "scattermapbox": [
           {
            "marker": {
             "colorbar": {
              "outlinewidth": 0,
              "ticks": ""
             }
            },
            "type": "scattermapbox"
           }
          ],
          "scatterpolar": [
           {
            "marker": {
             "colorbar": {
              "outlinewidth": 0,
              "ticks": ""
             }
            },
            "type": "scatterpolar"
           }
          ],
          "scatterpolargl": [
           {
            "marker": {
             "colorbar": {
              "outlinewidth": 0,
              "ticks": ""
             }
            },
            "type": "scatterpolargl"
           }
          ],
          "scatterternary": [
           {
            "marker": {
             "colorbar": {
              "outlinewidth": 0,
              "ticks": ""
             }
            },
            "type": "scatterternary"
           }
          ],
          "surface": [
           {
            "colorbar": {
             "outlinewidth": 0,
             "ticks": ""
            },
            "colorscale": [
             [
              0,
              "#0d0887"
             ],
             [
              0.1111111111111111,
              "#46039f"
             ],
             [
              0.2222222222222222,
              "#7201a8"
             ],
             [
              0.3333333333333333,
              "#9c179e"
             ],
             [
              0.4444444444444444,
              "#bd3786"
             ],
             [
              0.5555555555555556,
              "#d8576b"
             ],
             [
              0.6666666666666666,
              "#ed7953"
             ],
             [
              0.7777777777777778,
              "#fb9f3a"
             ],
             [
              0.8888888888888888,
              "#fdca26"
             ],
             [
              1,
              "#f0f921"
             ]
            ],
            "type": "surface"
           }
          ],
          "table": [
           {
            "cells": {
             "fill": {
              "color": "#EBF0F8"
             },
             "line": {
              "color": "white"
             }
            },
            "header": {
             "fill": {
              "color": "#C8D4E3"
             },
             "line": {
              "color": "white"
             }
            },
            "type": "table"
           }
          ]
         },
         "layout": {
          "annotationdefaults": {
           "arrowcolor": "#2a3f5f",
           "arrowhead": 0,
           "arrowwidth": 1
          },
          "coloraxis": {
           "colorbar": {
            "outlinewidth": 0,
            "ticks": ""
           }
          },
          "colorscale": {
           "diverging": [
            [
             0,
             "#8e0152"
            ],
            [
             0.1,
             "#c51b7d"
            ],
            [
             0.2,
             "#de77ae"
            ],
            [
             0.3,
             "#f1b6da"
            ],
            [
             0.4,
             "#fde0ef"
            ],
            [
             0.5,
             "#f7f7f7"
            ],
            [
             0.6,
             "#e6f5d0"
            ],
            [
             0.7,
             "#b8e186"
            ],
            [
             0.8,
             "#7fbc41"
            ],
            [
             0.9,
             "#4d9221"
            ],
            [
             1,
             "#276419"
            ]
           ],
           "sequential": [
            [
             0,
             "#0d0887"
            ],
            [
             0.1111111111111111,
             "#46039f"
            ],
            [
             0.2222222222222222,
             "#7201a8"
            ],
            [
             0.3333333333333333,
             "#9c179e"
            ],
            [
             0.4444444444444444,
             "#bd3786"
            ],
            [
             0.5555555555555556,
             "#d8576b"
            ],
            [
             0.6666666666666666,
             "#ed7953"
            ],
            [
             0.7777777777777778,
             "#fb9f3a"
            ],
            [
             0.8888888888888888,
             "#fdca26"
            ],
            [
             1,
             "#f0f921"
            ]
           ],
           "sequentialminus": [
            [
             0,
             "#0d0887"
            ],
            [
             0.1111111111111111,
             "#46039f"
            ],
            [
             0.2222222222222222,
             "#7201a8"
            ],
            [
             0.3333333333333333,
             "#9c179e"
            ],
            [
             0.4444444444444444,
             "#bd3786"
            ],
            [
             0.5555555555555556,
             "#d8576b"
            ],
            [
             0.6666666666666666,
             "#ed7953"
            ],
            [
             0.7777777777777778,
             "#fb9f3a"
            ],
            [
             0.8888888888888888,
             "#fdca26"
            ],
            [
             1,
             "#f0f921"
            ]
           ]
          },
          "colorway": [
           "#636efa",
           "#EF553B",
           "#00cc96",
           "#ab63fa",
           "#FFA15A",
           "#19d3f3",
           "#FF6692",
           "#B6E880",
           "#FF97FF",
           "#FECB52"
          ],
          "font": {
           "color": "#2a3f5f"
          },
          "geo": {
           "bgcolor": "white",
           "lakecolor": "white",
           "landcolor": "#E5ECF6",
           "showlakes": true,
           "showland": true,
           "subunitcolor": "white"
          },
          "hoverlabel": {
           "align": "left"
          },
          "hovermode": "closest",
          "mapbox": {
           "style": "light"
          },
          "paper_bgcolor": "white",
          "plot_bgcolor": "#E5ECF6",
          "polar": {
           "angularaxis": {
            "gridcolor": "white",
            "linecolor": "white",
            "ticks": ""
           },
           "bgcolor": "#E5ECF6",
           "radialaxis": {
            "gridcolor": "white",
            "linecolor": "white",
            "ticks": ""
           }
          },
          "scene": {
           "xaxis": {
            "backgroundcolor": "#E5ECF6",
            "gridcolor": "white",
            "gridwidth": 2,
            "linecolor": "white",
            "showbackground": true,
            "ticks": "",
            "zerolinecolor": "white"
           },
           "yaxis": {
            "backgroundcolor": "#E5ECF6",
            "gridcolor": "white",
            "gridwidth": 2,
            "linecolor": "white",
            "showbackground": true,
            "ticks": "",
            "zerolinecolor": "white"
           },
           "zaxis": {
            "backgroundcolor": "#E5ECF6",
            "gridcolor": "white",
            "gridwidth": 2,
            "linecolor": "white",
            "showbackground": true,
            "ticks": "",
            "zerolinecolor": "white"
           }
          },
          "shapedefaults": {
           "line": {
            "color": "#2a3f5f"
           }
          },
          "ternary": {
           "aaxis": {
            "gridcolor": "white",
            "linecolor": "white",
            "ticks": ""
           },
           "baxis": {
            "gridcolor": "white",
            "linecolor": "white",
            "ticks": ""
           },
           "bgcolor": "#E5ECF6",
           "caxis": {
            "gridcolor": "white",
            "linecolor": "white",
            "ticks": ""
           }
          },
          "title": {
           "x": 0.05
          },
          "xaxis": {
           "automargin": true,
           "gridcolor": "white",
           "linecolor": "white",
           "ticks": "",
           "title": {
            "standoff": 15
           },
           "zerolinecolor": "white",
           "zerolinewidth": 2
          },
          "yaxis": {
           "automargin": true,
           "gridcolor": "white",
           "linecolor": "white",
           "ticks": "",
           "title": {
            "standoff": 15
           },
           "zerolinecolor": "white",
           "zerolinewidth": 2
          }
         }
        },
        "title": {
         "font": {
          "color": "#4D5663"
         }
        },
        "xaxis": {
         "gridcolor": "#E1E5ED",
         "showgrid": true,
         "tickfont": {
          "color": "#4D5663"
         },
         "title": {
          "font": {
           "color": "#4D5663"
          },
          "text": ""
         },
         "zerolinecolor": "#E1E5ED"
        },
        "yaxis": {
         "gridcolor": "#E1E5ED",
         "showgrid": true,
         "tickfont": {
          "color": "#4D5663"
         },
         "title": {
          "font": {
           "color": "#4D5663"
          },
          "text": ""
         },
         "zerolinecolor": "#E1E5ED"
        }
       }
      },
      "text/html": [
       "<div>\n",
       "        \n",
       "        \n",
       "            <div id=\"b1c4d98b-28d7-4a66-a643-cbb1d50d2599\" class=\"plotly-graph-div\" style=\"height:525px; width:100%;\"></div>\n",
       "            <script type=\"text/javascript\">\n",
       "                require([\"plotly\"], function(Plotly) {\n",
       "                    window.PLOTLYENV=window.PLOTLYENV || {};\n",
       "                    window.PLOTLYENV.BASE_URL='https://plot.ly';\n",
       "                    \n",
       "                if (document.getElementById(\"b1c4d98b-28d7-4a66-a643-cbb1d50d2599\")) {\n",
       "                    Plotly.newPlot(\n",
       "                        'b1c4d98b-28d7-4a66-a643-cbb1d50d2599',\n",
       "                        [{\"boxpoints\": false, \"line\": {\"width\": 1.3}, \"marker\": {\"color\": \"rgba(255, 153, 51, 1.0)\"}, \"name\": \"A\", \"orientation\": \"v\", \"type\": \"box\", \"y\": [-1.3559130559175228, 0.5303321035654701, 0.29440697268481386, -2.366994851248194, -0.39061600426275805, -1.2161987223331556, 0.19859743516019948, -0.04196512186229954, 0.7816691002462268, -0.5625933565781353, 0.19285116004885725, -0.06178195375831094, 0.7097995605455756, -0.06438499550921149, -2.5974737858675803, -0.32300690338794696, 1.0306388859623885, -1.941335868515121, -1.4355365861662128, -0.6573992997091732, 0.11646656991438858, 0.46591396507238075, 0.05272497171678483, 0.4581524192640287, 1.1095119169038339, -0.16693785245883877, -2.4185233240227983, -0.6450810153514451, 1.1329069163196375, 0.6970329956343094, -0.22820026177348646, -1.4808780287987526, 0.024367923584303973, 0.4286231014194029, 0.08045542686191721, -1.4015248719784796, -0.7127602575963483, -0.8326614239099435, 0.9937010497254936, -0.5989317759807878, -1.4296493006161402, 0.7713104030030286, -0.06980710659690535, 1.1287545943777195, 0.24847286609051505, -0.25614946259117294, -0.4244114222395493, 0.5856088506470457, 1.279303773190982, -0.44555925844105376, 0.3490682053943956, 1.0813767860789734, 0.8133648881571423, -0.6562175042066347, -0.4121443535409477, 1.0969280780102093, 0.15770461247131407, 0.042630429623211966, 2.3683858678174623, 1.1321042486469257, -0.12294684247572248, 1.7655511106226867, -0.1591269815157064, 0.11075147314174175, -1.0859538098553496, -2.191959033772851, -1.3356073556326191, -0.7607734053921369, -0.8295932567941922, -0.010402164383887734, 0.009074950144895585, -1.3753860596456584, 1.1186045911807563, -1.3180085977495606, -1.4364656665274682, -1.1545082613318447, -0.3488279565559763, 0.22136370072874864, 0.11027416415716094, -0.3289421211077479, 1.4982170548436569, 0.5240075572039334, 0.14601567207029967, 1.1131443714346898, -0.945595270331263, 0.29686021046057764, -0.06873382405799189, 1.3398974294041806, -0.1005688226330727, -0.5387746262762422, -0.767849248663247, -0.35100755254836946, 0.1480598141594704, 0.08595586430500328, 1.162131405970528, 0.8816251921637606, -0.21427435409242715, 1.4900398420710712, -1.604228677811847, 0.23534333231846755]}, {\"boxpoints\": false, \"line\": {\"width\": 1.3}, \"marker\": {\"color\": \"rgba(55, 128, 191, 1.0)\"}, \"name\": \"B\", \"orientation\": \"v\", \"type\": \"box\", \"y\": [-1.5778429245488879, 1.2680079504191542, 0.09649405165059019, 0.5451506050878556, 1.4665309109334816, -0.8187660691999971, 0.8892275568624582, 0.057993196168514054, 1.0704372338561854, -1.1215869807766896, 0.7898514189744038, 0.8930828925001068, 1.3220881795120045, -1.1746388644306027, -0.11366720583834672, -1.08572748143992, -0.36542532409071204, -0.5451472733548265, 0.05957969416825055, 1.0481834417594982, 0.6582590607680974, 1.9050369818668038, -0.8611884051729745, -0.03364255394446158, -0.2688534606823713, -1.2502969844263059, -0.09367845283559229, -0.2920765672512015, -0.3139676248854494, -0.9811182522643814, -0.06443198507731814, -1.2044898392645802, -0.008192778716532423, -1.5846889685617627, 0.12750792187288915, -0.3593159388234478, -1.4988967562973863, 1.2732099224625397, -0.8615848179565383, -0.40897428577114503, 0.8490222350087218, -1.0791246887998986, -0.15060725895997487, -1.5720599233177468, -0.9104303182134822, 0.3038761199317576, 1.5772543560605514, 0.10958890357099571, -1.433809763409956, 0.9001499602414199, -1.1065469139557813, -1.6591841116033383, 0.4856131846513768, -1.3187515045471454, -0.9998085361886271, 0.8895689618477627, -0.6490212653755961, -0.6028794296101871, -1.6215250503615426, 0.35749953179801786, 1.3525172890956467, 2.1440982079969793, -0.7535990604943527, -1.8530373144179704, 0.3853396942630609, 1.0725112999364486, -0.5080799161223373, 0.728183494278347, 0.29348208736934966, 0.6166598740688046, -1.4176082506592214, -1.2283428172986675, 0.029400981232705268, 0.49717683675476193, 1.2806469532543063, -2.170877611449295, 0.5305137203022765, 0.07573784865183336, 1.962331926274082, 0.6497384161827761, 0.445444965199007, -1.0219776640954312, -1.3586633696231962, 2.548903463301732, -0.2657491617480886, 0.06264434682764904, -1.485197772311538, -1.9928894210733983, 1.1406483682872646, -1.7880279463109883, 0.21610130984226705, 0.6600706306964581, 0.5159702029260697, -1.0874933049782323, -1.0924492328288362, -0.44981702999116246, -0.2910427923330211, 1.109369336375027, -0.27248037646009077, -0.14682084414377564]}, {\"boxpoints\": false, \"line\": {\"width\": 1.3}, \"marker\": {\"color\": \"rgba(50, 171, 96, 1.0)\"}, \"name\": \"C\", \"orientation\": \"v\", \"type\": \"box\", \"y\": [-0.8849667774683708, 2.2259377239221325, -1.5233101709060102, 0.2953181398270395, 0.8264344026153204, 0.5913510655187838, 0.6828648431042454, 1.7086815960636492, 0.25818184912645487, -0.7170024291397524, 0.08916805499006593, 1.3153127154131583, 0.4250462899632546, 0.8023505507410498, 1.1148473647823962, -0.18956102529793664, -2.079756872118981, -0.7113601357767555, 0.7094442838065212, 0.07251137575017333, 0.2953148063878515, -1.0121772100861905, -0.6359246998913491, -0.3528819646496265, 0.5408683474982837, 0.38979566342810656, 0.4866337764911907, 0.4011578541573498, 0.6199420783053193, 0.465317548944445, -0.2318148390140708, 0.33581715315193994, -0.47503807105468887, -0.5466109427096344, 0.6186689184945717, -0.19789822919792144, 0.43690862035919475, -0.15712976265590814, -0.03370892710985846, 0.5636837886188208, 1.6580695740115794, -1.0407957699682373, -1.1676010434888637, -1.2157954987786896, 0.8927282864811816, 0.006944035248060638, 0.09941082090580226, 1.7407631555606686, 0.8410707477264111, 0.36434960007679335, 1.7359708516884256, 0.3965880382695271, 1.2907778837912955, -0.8739617195647129, -0.00728002667451206, -0.6998826075737327, -0.25956262071948605, 0.6542748975111746, -0.07018324863868057, 0.11869849803291103, 1.3119010861688023, -0.2972657981226998, -1.327267397411813, 0.6165124105986223, -1.2073661854687094, -0.6857610677682836, -0.8749481991203933, -1.0875589673394612, -0.3771542192507942, -0.6995546738432826, -1.1440545701594893, -0.6170536297117368, -0.4841222349603552, 1.1136235479025833, 0.6188184078340688, 0.3235695906997173, -0.5558048323254344, -0.6554798206190868, 0.5991224352438265, -0.3073695377011026, -1.1443987905506152, -1.3918616476517387, -0.0970628008041887, -1.8637925174812902, 0.3360992701512891, 1.3136038000994479, -0.9528464728863185, 1.0035464465815014, -0.28833439613220974, -0.5801714493637724, -0.8297499028994472, 2.0718903192594933, 0.6207850633540429, 0.05015029066703375, -0.13065485529488527, 0.8073422350123594, 0.5539168555719847, -2.5645193565271756, -1.0899895346786574, 0.10478822602140812]}, {\"boxpoints\": false, \"line\": {\"width\": 1.3}, \"marker\": {\"color\": \"rgba(128, 0, 128, 1.0)\"}, \"name\": \"D\", \"orientation\": \"v\", \"type\": \"box\", \"y\": [0.10769577614462261, 0.9381513388151985, 0.6009753050690573, 1.9752354750747527, -0.5181426237082836, 0.22761479934571258, -0.5265786942320025, 0.5095492153774754, -1.046554330848723, 0.7315065825237579, 0.6789620480026869, -1.413347659196342, -0.016108383281562496, -0.9410589517518645, 0.04857771095448899, -0.11022153894423668, 0.14107671168947727, -0.5554674951524631, -1.3159441484687864, -1.7483545865947807, -0.3121965712883904, 0.6920018959734503, -0.9107050403290968, 0.2784644851682874, -1.9397962578930277, -0.45513040249786124, -0.10848084960196892, -0.7589575367551256, -1.0780093826892658, -0.9514571611390187, 1.5961370769094052, 1.8239176658288547, -0.6536799414681844, -1.2597150988422412, -0.46059293448935956, 0.31269284186968976, 0.07907465712089817, 0.14802301693644215, -0.3167136617293768, -1.007512795204162, 0.8067433348015413, -0.8483543082873977, 1.263380709513765, 0.46652702277022684, 0.751282663832055, 0.06369242477298177, -1.0909522881225577, -0.3739960103824854, 0.6779473539857858, 0.3734266014815676, 0.9967330796823717, -0.5119182197177479, -0.5864669718638383, 0.6879994083973473, -2.744759141587978, 0.1441662752957278, 0.026430336315075065, 0.9292363498181935, 0.22263571468181814, 2.199745582404042, -0.641710069299092, 1.539124005803026, 0.20902429509022064, 0.07899581188293245, -0.33360984821282474, -0.36160802793794816, -0.696201035195265, 0.12563154438571958, 1.4465572063107346, 1.5080309088258388, -1.1673168114773593, -0.20357637312531762, -1.4220357329064184, 0.41158488273955846, -1.0001318285121235, 0.7274191463023469, 0.2160667268178794, 0.584137035310321, -0.5655353173916954, 0.34607752995659996, -1.0496416652327765, 0.181924508554677, 1.4160621396152433, 1.447212701811392, -0.44404804234735024, 0.12387709870026571, 2.771090955198578, -0.5368436175829514, -1.0542914901698903, -0.7843346446183815, -0.6142528681773224, -0.0008528951337365195, -0.4769691436154201, 0.19402549901576488, -0.46842199926958966, -0.08477552905099907, -0.9792984493681949, 1.4995880284038323, -0.7542111726116282, 0.5153352947324564]}],\n",
       "                        {\"legend\": {\"bgcolor\": \"#F5F6F9\", \"font\": {\"color\": \"#4D5663\"}}, \"paper_bgcolor\": \"#F5F6F9\", \"plot_bgcolor\": \"#F5F6F9\", \"template\": {\"data\": {\"bar\": [{\"error_x\": {\"color\": \"#2a3f5f\"}, \"error_y\": {\"color\": \"#2a3f5f\"}, \"marker\": {\"line\": {\"color\": \"#E5ECF6\", \"width\": 0.5}}, \"type\": \"bar\"}], \"barpolar\": [{\"marker\": {\"line\": {\"color\": \"#E5ECF6\", \"width\": 0.5}}, \"type\": \"barpolar\"}], \"carpet\": [{\"aaxis\": {\"endlinecolor\": \"#2a3f5f\", \"gridcolor\": \"white\", \"linecolor\": \"white\", \"minorgridcolor\": \"white\", \"startlinecolor\": \"#2a3f5f\"}, \"baxis\": {\"endlinecolor\": \"#2a3f5f\", \"gridcolor\": \"white\", \"linecolor\": \"white\", \"minorgridcolor\": \"white\", \"startlinecolor\": \"#2a3f5f\"}, \"type\": \"carpet\"}], \"choropleth\": [{\"colorbar\": {\"outlinewidth\": 0, \"ticks\": \"\"}, \"type\": \"choropleth\"}], \"contour\": [{\"colorbar\": {\"outlinewidth\": 0, \"ticks\": \"\"}, \"colorscale\": [[0.0, \"#0d0887\"], [0.1111111111111111, \"#46039f\"], [0.2222222222222222, \"#7201a8\"], [0.3333333333333333, \"#9c179e\"], [0.4444444444444444, \"#bd3786\"], [0.5555555555555556, \"#d8576b\"], [0.6666666666666666, \"#ed7953\"], [0.7777777777777778, \"#fb9f3a\"], [0.8888888888888888, \"#fdca26\"], [1.0, \"#f0f921\"]], \"type\": \"contour\"}], \"contourcarpet\": [{\"colorbar\": {\"outlinewidth\": 0, \"ticks\": \"\"}, \"type\": \"contourcarpet\"}], \"heatmap\": [{\"colorbar\": {\"outlinewidth\": 0, \"ticks\": \"\"}, \"colorscale\": [[0.0, \"#0d0887\"], [0.1111111111111111, \"#46039f\"], [0.2222222222222222, \"#7201a8\"], [0.3333333333333333, \"#9c179e\"], [0.4444444444444444, \"#bd3786\"], [0.5555555555555556, \"#d8576b\"], [0.6666666666666666, \"#ed7953\"], [0.7777777777777778, \"#fb9f3a\"], [0.8888888888888888, \"#fdca26\"], [1.0, \"#f0f921\"]], \"type\": \"heatmap\"}], \"heatmapgl\": [{\"colorbar\": {\"outlinewidth\": 0, \"ticks\": \"\"}, \"colorscale\": [[0.0, \"#0d0887\"], [0.1111111111111111, \"#46039f\"], [0.2222222222222222, \"#7201a8\"], [0.3333333333333333, \"#9c179e\"], [0.4444444444444444, \"#bd3786\"], [0.5555555555555556, \"#d8576b\"], [0.6666666666666666, \"#ed7953\"], [0.7777777777777778, \"#fb9f3a\"], [0.8888888888888888, \"#fdca26\"], [1.0, \"#f0f921\"]], \"type\": \"heatmapgl\"}], \"histogram\": [{\"marker\": {\"colorbar\": {\"outlinewidth\": 0, \"ticks\": \"\"}}, \"type\": \"histogram\"}], \"histogram2d\": [{\"colorbar\": {\"outlinewidth\": 0, \"ticks\": \"\"}, \"colorscale\": [[0.0, \"#0d0887\"], [0.1111111111111111, \"#46039f\"], [0.2222222222222222, \"#7201a8\"], [0.3333333333333333, \"#9c179e\"], [0.4444444444444444, \"#bd3786\"], [0.5555555555555556, \"#d8576b\"], [0.6666666666666666, \"#ed7953\"], [0.7777777777777778, \"#fb9f3a\"], [0.8888888888888888, \"#fdca26\"], [1.0, \"#f0f921\"]], \"type\": \"histogram2d\"}], \"histogram2dcontour\": [{\"colorbar\": {\"outlinewidth\": 0, \"ticks\": \"\"}, \"colorscale\": [[0.0, \"#0d0887\"], [0.1111111111111111, \"#46039f\"], [0.2222222222222222, \"#7201a8\"], [0.3333333333333333, \"#9c179e\"], [0.4444444444444444, \"#bd3786\"], [0.5555555555555556, \"#d8576b\"], [0.6666666666666666, \"#ed7953\"], [0.7777777777777778, \"#fb9f3a\"], [0.8888888888888888, \"#fdca26\"], [1.0, \"#f0f921\"]], \"type\": \"histogram2dcontour\"}], \"mesh3d\": [{\"colorbar\": {\"outlinewidth\": 0, \"ticks\": \"\"}, \"type\": \"mesh3d\"}], \"parcoords\": [{\"line\": {\"colorbar\": {\"outlinewidth\": 0, \"ticks\": \"\"}}, \"type\": \"parcoords\"}], \"pie\": [{\"automargin\": true, \"type\": \"pie\"}], \"scatter\": [{\"marker\": {\"colorbar\": {\"outlinewidth\": 0, \"ticks\": \"\"}}, \"type\": \"scatter\"}], \"scatter3d\": [{\"line\": {\"colorbar\": {\"outlinewidth\": 0, \"ticks\": \"\"}}, \"marker\": {\"colorbar\": {\"outlinewidth\": 0, \"ticks\": \"\"}}, \"type\": \"scatter3d\"}], \"scattercarpet\": [{\"marker\": {\"colorbar\": {\"outlinewidth\": 0, \"ticks\": \"\"}}, \"type\": \"scattercarpet\"}], \"scattergeo\": [{\"marker\": {\"colorbar\": {\"outlinewidth\": 0, \"ticks\": \"\"}}, \"type\": \"scattergeo\"}], \"scattergl\": [{\"marker\": {\"colorbar\": {\"outlinewidth\": 0, \"ticks\": \"\"}}, \"type\": \"scattergl\"}], \"scattermapbox\": [{\"marker\": {\"colorbar\": {\"outlinewidth\": 0, \"ticks\": \"\"}}, \"type\": \"scattermapbox\"}], \"scatterpolar\": [{\"marker\": {\"colorbar\": {\"outlinewidth\": 0, \"ticks\": \"\"}}, \"type\": \"scatterpolar\"}], \"scatterpolargl\": [{\"marker\": {\"colorbar\": {\"outlinewidth\": 0, \"ticks\": \"\"}}, \"type\": \"scatterpolargl\"}], \"scatterternary\": [{\"marker\": {\"colorbar\": {\"outlinewidth\": 0, \"ticks\": \"\"}}, \"type\": \"scatterternary\"}], \"surface\": [{\"colorbar\": {\"outlinewidth\": 0, \"ticks\": \"\"}, \"colorscale\": [[0.0, \"#0d0887\"], [0.1111111111111111, \"#46039f\"], [0.2222222222222222, \"#7201a8\"], [0.3333333333333333, \"#9c179e\"], [0.4444444444444444, \"#bd3786\"], [0.5555555555555556, \"#d8576b\"], [0.6666666666666666, \"#ed7953\"], [0.7777777777777778, \"#fb9f3a\"], [0.8888888888888888, \"#fdca26\"], [1.0, \"#f0f921\"]], \"type\": \"surface\"}], \"table\": [{\"cells\": {\"fill\": {\"color\": \"#EBF0F8\"}, \"line\": {\"color\": \"white\"}}, \"header\": {\"fill\": {\"color\": \"#C8D4E3\"}, \"line\": {\"color\": \"white\"}}, \"type\": \"table\"}]}, \"layout\": {\"annotationdefaults\": {\"arrowcolor\": \"#2a3f5f\", \"arrowhead\": 0, \"arrowwidth\": 1}, \"coloraxis\": {\"colorbar\": {\"outlinewidth\": 0, \"ticks\": \"\"}}, \"colorscale\": {\"diverging\": [[0, \"#8e0152\"], [0.1, \"#c51b7d\"], [0.2, \"#de77ae\"], [0.3, \"#f1b6da\"], [0.4, \"#fde0ef\"], [0.5, \"#f7f7f7\"], [0.6, \"#e6f5d0\"], [0.7, \"#b8e186\"], [0.8, \"#7fbc41\"], [0.9, \"#4d9221\"], [1, \"#276419\"]], \"sequential\": [[0.0, \"#0d0887\"], [0.1111111111111111, \"#46039f\"], [0.2222222222222222, \"#7201a8\"], [0.3333333333333333, \"#9c179e\"], [0.4444444444444444, \"#bd3786\"], [0.5555555555555556, \"#d8576b\"], [0.6666666666666666, \"#ed7953\"], [0.7777777777777778, \"#fb9f3a\"], [0.8888888888888888, \"#fdca26\"], [1.0, \"#f0f921\"]], \"sequentialminus\": [[0.0, \"#0d0887\"], [0.1111111111111111, \"#46039f\"], [0.2222222222222222, \"#7201a8\"], [0.3333333333333333, \"#9c179e\"], [0.4444444444444444, \"#bd3786\"], [0.5555555555555556, \"#d8576b\"], [0.6666666666666666, \"#ed7953\"], [0.7777777777777778, \"#fb9f3a\"], [0.8888888888888888, \"#fdca26\"], [1.0, \"#f0f921\"]]}, \"colorway\": [\"#636efa\", \"#EF553B\", \"#00cc96\", \"#ab63fa\", \"#FFA15A\", \"#19d3f3\", \"#FF6692\", \"#B6E880\", \"#FF97FF\", \"#FECB52\"], \"font\": {\"color\": \"#2a3f5f\"}, \"geo\": {\"bgcolor\": \"white\", \"lakecolor\": \"white\", \"landcolor\": \"#E5ECF6\", \"showlakes\": true, \"showland\": true, \"subunitcolor\": \"white\"}, \"hoverlabel\": {\"align\": \"left\"}, \"hovermode\": \"closest\", \"mapbox\": {\"style\": \"light\"}, \"paper_bgcolor\": \"white\", \"plot_bgcolor\": \"#E5ECF6\", \"polar\": {\"angularaxis\": {\"gridcolor\": \"white\", \"linecolor\": \"white\", \"ticks\": \"\"}, \"bgcolor\": \"#E5ECF6\", \"radialaxis\": {\"gridcolor\": \"white\", \"linecolor\": \"white\", \"ticks\": \"\"}}, \"scene\": {\"xaxis\": {\"backgroundcolor\": \"#E5ECF6\", \"gridcolor\": \"white\", \"gridwidth\": 2, \"linecolor\": \"white\", \"showbackground\": true, \"ticks\": \"\", \"zerolinecolor\": \"white\"}, \"yaxis\": {\"backgroundcolor\": \"#E5ECF6\", \"gridcolor\": \"white\", \"gridwidth\": 2, \"linecolor\": \"white\", \"showbackground\": true, \"ticks\": \"\", \"zerolinecolor\": \"white\"}, \"zaxis\": {\"backgroundcolor\": \"#E5ECF6\", \"gridcolor\": \"white\", \"gridwidth\": 2, \"linecolor\": \"white\", \"showbackground\": true, \"ticks\": \"\", \"zerolinecolor\": \"white\"}}, \"shapedefaults\": {\"line\": {\"color\": \"#2a3f5f\"}}, \"ternary\": {\"aaxis\": {\"gridcolor\": \"white\", \"linecolor\": \"white\", \"ticks\": \"\"}, \"baxis\": {\"gridcolor\": \"white\", \"linecolor\": \"white\", \"ticks\": \"\"}, \"bgcolor\": \"#E5ECF6\", \"caxis\": {\"gridcolor\": \"white\", \"linecolor\": \"white\", \"ticks\": \"\"}}, \"title\": {\"x\": 0.05}, \"xaxis\": {\"automargin\": true, \"gridcolor\": \"white\", \"linecolor\": \"white\", \"ticks\": \"\", \"title\": {\"standoff\": 15}, \"zerolinecolor\": \"white\", \"zerolinewidth\": 2}, \"yaxis\": {\"automargin\": true, \"gridcolor\": \"white\", \"linecolor\": \"white\", \"ticks\": \"\", \"title\": {\"standoff\": 15}, \"zerolinecolor\": \"white\", \"zerolinewidth\": 2}}}, \"title\": {\"font\": {\"color\": \"#4D5663\"}}, \"xaxis\": {\"gridcolor\": \"#E1E5ED\", \"showgrid\": true, \"tickfont\": {\"color\": \"#4D5663\"}, \"title\": {\"font\": {\"color\": \"#4D5663\"}, \"text\": \"\"}, \"zerolinecolor\": \"#E1E5ED\"}, \"yaxis\": {\"gridcolor\": \"#E1E5ED\", \"showgrid\": true, \"tickfont\": {\"color\": \"#4D5663\"}, \"title\": {\"font\": {\"color\": \"#4D5663\"}, \"text\": \"\"}, \"zerolinecolor\": \"#E1E5ED\"}},\n",
       "                        {\"showLink\": true, \"linkText\": \"Export to plot.ly\", \"plotlyServerURL\": \"https://plot.ly\", \"responsive\": true}\n",
       "                    ).then(function(){\n",
       "                            \n",
       "var gd = document.getElementById('b1c4d98b-28d7-4a66-a643-cbb1d50d2599');\n",
       "var x = new MutationObserver(function (mutations, observer) {{\n",
       "        var display = window.getComputedStyle(gd).display;\n",
       "        if (!display || display === 'none') {{\n",
       "            console.log([gd, 'removed!']);\n",
       "            Plotly.purge(gd);\n",
       "            observer.disconnect();\n",
       "        }}\n",
       "}});\n",
       "\n",
       "// Listen for the removal of the full notebook cells\n",
       "var notebookContainer = gd.closest('#notebook-container');\n",
       "if (notebookContainer) {{\n",
       "    x.observe(notebookContainer, {childList: true});\n",
       "}}\n",
       "\n",
       "// Listen for the clearing of the current output cell\n",
       "var outputEl = gd.closest('.output');\n",
       "if (outputEl) {{\n",
       "    x.observe(outputEl, {childList: true});\n",
       "}}\n",
       "\n",
       "                        })\n",
       "                };\n",
       "                });\n",
       "            </script>\n",
       "        </div>"
      ]
     },
     "metadata": {},
     "output_type": "display_data"
    }
   ],
   "source": [
    "df.iplot(kind='box')"
   ]
  },
  {
   "cell_type": "code",
   "execution_count": 29,
   "metadata": {},
   "outputs": [],
   "source": [
    "df3 = pd.DataFrame({'x':[1,2,3,4,5],'y':[10,20,30,20,10],'z':[500,400,300,200,100]})"
   ]
  },
  {
   "cell_type": "code",
   "execution_count": 30,
   "metadata": {},
   "outputs": [
    {
     "data": {
      "text/html": [
       "<div>\n",
       "<style scoped>\n",
       "    .dataframe tbody tr th:only-of-type {\n",
       "        vertical-align: middle;\n",
       "    }\n",
       "\n",
       "    .dataframe tbody tr th {\n",
       "        vertical-align: top;\n",
       "    }\n",
       "\n",
       "    .dataframe thead th {\n",
       "        text-align: right;\n",
       "    }\n",
       "</style>\n",
       "<table border=\"1\" class=\"dataframe\">\n",
       "  <thead>\n",
       "    <tr style=\"text-align: right;\">\n",
       "      <th></th>\n",
       "      <th>x</th>\n",
       "      <th>y</th>\n",
       "      <th>z</th>\n",
       "    </tr>\n",
       "  </thead>\n",
       "  <tbody>\n",
       "    <tr>\n",
       "      <th>0</th>\n",
       "      <td>1</td>\n",
       "      <td>10</td>\n",
       "      <td>500</td>\n",
       "    </tr>\n",
       "    <tr>\n",
       "      <th>1</th>\n",
       "      <td>2</td>\n",
       "      <td>20</td>\n",
       "      <td>400</td>\n",
       "    </tr>\n",
       "    <tr>\n",
       "      <th>2</th>\n",
       "      <td>3</td>\n",
       "      <td>30</td>\n",
       "      <td>300</td>\n",
       "    </tr>\n",
       "    <tr>\n",
       "      <th>3</th>\n",
       "      <td>4</td>\n",
       "      <td>20</td>\n",
       "      <td>200</td>\n",
       "    </tr>\n",
       "    <tr>\n",
       "      <th>4</th>\n",
       "      <td>5</td>\n",
       "      <td>10</td>\n",
       "      <td>100</td>\n",
       "    </tr>\n",
       "  </tbody>\n",
       "</table>\n",
       "</div>"
      ],
      "text/plain": [
       "   x   y    z\n",
       "0  1  10  500\n",
       "1  2  20  400\n",
       "2  3  30  300\n",
       "3  4  20  200\n",
       "4  5  10  100"
      ]
     },
     "execution_count": 30,
     "metadata": {},
     "output_type": "execute_result"
    }
   ],
   "source": [
    "df3"
   ]
  },
  {
   "cell_type": "code",
   "execution_count": 32,
   "metadata": {},
   "outputs": [
    {
     "data": {
      "application/vnd.plotly.v1+json": {
       "config": {
        "linkText": "Export to plot.ly",
        "plotlyServerURL": "https://plot.ly",
        "showLink": true
       },
       "data": [
        {
         "colorscale": [
          [
           0,
           "rgb(255, 153, 51)"
          ],
          [
           0.1111111111111111,
           "rgb(55, 128, 191)"
          ],
          [
           0.2222222222222222,
           "rgb(50, 171, 96)"
          ],
          [
           0.3333333333333333,
           "rgb(128, 0, 128)"
          ],
          [
           0.4444444444444444,
           "rgb(219, 64, 82)"
          ],
          [
           0.5555555555555556,
           "rgb(0, 128, 128)"
          ],
          [
           0.6666666666666666,
           "rgb(255, 255, 51)"
          ],
          [
           0.7777777777777778,
           "rgb(128, 128, 0)"
          ],
          [
           0.8888888888888888,
           "rgb(251, 128, 114)"
          ],
          [
           1,
           "rgb(128, 177, 211)"
          ]
         ],
         "type": "surface",
         "x": [
          0,
          1,
          2,
          3,
          4
         ],
         "y": [
          "x",
          "y",
          "z"
         ],
         "z": [
          [
           1,
           2,
           3,
           4,
           5
          ],
          [
           10,
           20,
           30,
           20,
           10
          ],
          [
           500,
           400,
           300,
           200,
           100
          ]
         ]
        }
       ],
       "layout": {
        "legend": {
         "bgcolor": "#F5F6F9",
         "font": {
          "color": "#4D5663"
         }
        },
        "paper_bgcolor": "#F5F6F9",
        "plot_bgcolor": "#F5F6F9",
        "template": {
         "data": {
          "bar": [
           {
            "error_x": {
             "color": "#2a3f5f"
            },
            "error_y": {
             "color": "#2a3f5f"
            },
            "marker": {
             "line": {
              "color": "#E5ECF6",
              "width": 0.5
             }
            },
            "type": "bar"
           }
          ],
          "barpolar": [
           {
            "marker": {
             "line": {
              "color": "#E5ECF6",
              "width": 0.5
             }
            },
            "type": "barpolar"
           }
          ],
          "carpet": [
           {
            "aaxis": {
             "endlinecolor": "#2a3f5f",
             "gridcolor": "white",
             "linecolor": "white",
             "minorgridcolor": "white",
             "startlinecolor": "#2a3f5f"
            },
            "baxis": {
             "endlinecolor": "#2a3f5f",
             "gridcolor": "white",
             "linecolor": "white",
             "minorgridcolor": "white",
             "startlinecolor": "#2a3f5f"
            },
            "type": "carpet"
           }
          ],
          "choropleth": [
           {
            "colorbar": {
             "outlinewidth": 0,
             "ticks": ""
            },
            "type": "choropleth"
           }
          ],
          "contour": [
           {
            "colorbar": {
             "outlinewidth": 0,
             "ticks": ""
            },
            "colorscale": [
             [
              0,
              "#0d0887"
             ],
             [
              0.1111111111111111,
              "#46039f"
             ],
             [
              0.2222222222222222,
              "#7201a8"
             ],
             [
              0.3333333333333333,
              "#9c179e"
             ],
             [
              0.4444444444444444,
              "#bd3786"
             ],
             [
              0.5555555555555556,
              "#d8576b"
             ],
             [
              0.6666666666666666,
              "#ed7953"
             ],
             [
              0.7777777777777778,
              "#fb9f3a"
             ],
             [
              0.8888888888888888,
              "#fdca26"
             ],
             [
              1,
              "#f0f921"
             ]
            ],
            "type": "contour"
           }
          ],
          "contourcarpet": [
           {
            "colorbar": {
             "outlinewidth": 0,
             "ticks": ""
            },
            "type": "contourcarpet"
           }
          ],
          "heatmap": [
           {
            "colorbar": {
             "outlinewidth": 0,
             "ticks": ""
            },
            "colorscale": [
             [
              0,
              "#0d0887"
             ],
             [
              0.1111111111111111,
              "#46039f"
             ],
             [
              0.2222222222222222,
              "#7201a8"
             ],
             [
              0.3333333333333333,
              "#9c179e"
             ],
             [
              0.4444444444444444,
              "#bd3786"
             ],
             [
              0.5555555555555556,
              "#d8576b"
             ],
             [
              0.6666666666666666,
              "#ed7953"
             ],
             [
              0.7777777777777778,
              "#fb9f3a"
             ],
             [
              0.8888888888888888,
              "#fdca26"
             ],
             [
              1,
              "#f0f921"
             ]
            ],
            "type": "heatmap"
           }
          ],
          "heatmapgl": [
           {
            "colorbar": {
             "outlinewidth": 0,
             "ticks": ""
            },
            "colorscale": [
             [
              0,
              "#0d0887"
             ],
             [
              0.1111111111111111,
              "#46039f"
             ],
             [
              0.2222222222222222,
              "#7201a8"
             ],
             [
              0.3333333333333333,
              "#9c179e"
             ],
             [
              0.4444444444444444,
              "#bd3786"
             ],
             [
              0.5555555555555556,
              "#d8576b"
             ],
             [
              0.6666666666666666,
              "#ed7953"
             ],
             [
              0.7777777777777778,
              "#fb9f3a"
             ],
             [
              0.8888888888888888,
              "#fdca26"
             ],
             [
              1,
              "#f0f921"
             ]
            ],
            "type": "heatmapgl"
           }
          ],
          "histogram": [
           {
            "marker": {
             "colorbar": {
              "outlinewidth": 0,
              "ticks": ""
             }
            },
            "type": "histogram"
           }
          ],
          "histogram2d": [
           {
            "colorbar": {
             "outlinewidth": 0,
             "ticks": ""
            },
            "colorscale": [
             [
              0,
              "#0d0887"
             ],
             [
              0.1111111111111111,
              "#46039f"
             ],
             [
              0.2222222222222222,
              "#7201a8"
             ],
             [
              0.3333333333333333,
              "#9c179e"
             ],
             [
              0.4444444444444444,
              "#bd3786"
             ],
             [
              0.5555555555555556,
              "#d8576b"
             ],
             [
              0.6666666666666666,
              "#ed7953"
             ],
             [
              0.7777777777777778,
              "#fb9f3a"
             ],
             [
              0.8888888888888888,
              "#fdca26"
             ],
             [
              1,
              "#f0f921"
             ]
            ],
            "type": "histogram2d"
           }
          ],
          "histogram2dcontour": [
           {
            "colorbar": {
             "outlinewidth": 0,
             "ticks": ""
            },
            "colorscale": [
             [
              0,
              "#0d0887"
             ],
             [
              0.1111111111111111,
              "#46039f"
             ],
             [
              0.2222222222222222,
              "#7201a8"
             ],
             [
              0.3333333333333333,
              "#9c179e"
             ],
             [
              0.4444444444444444,
              "#bd3786"
             ],
             [
              0.5555555555555556,
              "#d8576b"
             ],
             [
              0.6666666666666666,
              "#ed7953"
             ],
             [
              0.7777777777777778,
              "#fb9f3a"
             ],
             [
              0.8888888888888888,
              "#fdca26"
             ],
             [
              1,
              "#f0f921"
             ]
            ],
            "type": "histogram2dcontour"
           }
          ],
          "mesh3d": [
           {
            "colorbar": {
             "outlinewidth": 0,
             "ticks": ""
            },
            "type": "mesh3d"
           }
          ],
          "parcoords": [
           {
            "line": {
             "colorbar": {
              "outlinewidth": 0,
              "ticks": ""
             }
            },
            "type": "parcoords"
           }
          ],
          "pie": [
           {
            "automargin": true,
            "type": "pie"
           }
          ],
          "scatter": [
           {
            "marker": {
             "colorbar": {
              "outlinewidth": 0,
              "ticks": ""
             }
            },
            "type": "scatter"
           }
          ],
          "scatter3d": [
           {
            "line": {
             "colorbar": {
              "outlinewidth": 0,
              "ticks": ""
             }
            },
            "marker": {
             "colorbar": {
              "outlinewidth": 0,
              "ticks": ""
             }
            },
            "type": "scatter3d"
           }
          ],
          "scattercarpet": [
           {
            "marker": {
             "colorbar": {
              "outlinewidth": 0,
              "ticks": ""
             }
            },
            "type": "scattercarpet"
           }
          ],
          "scattergeo": [
           {
            "marker": {
             "colorbar": {
              "outlinewidth": 0,
              "ticks": ""
             }
            },
            "type": "scattergeo"
           }
          ],
          "scattergl": [
           {
            "marker": {
             "colorbar": {
              "outlinewidth": 0,
              "ticks": ""
             }
            },
            "type": "scattergl"
           }
          ],
          "scattermapbox": [
           {
            "marker": {
             "colorbar": {
              "outlinewidth": 0,
              "ticks": ""
             }
            },
            "type": "scattermapbox"
           }
          ],
          "scatterpolar": [
           {
            "marker": {
             "colorbar": {
              "outlinewidth": 0,
              "ticks": ""
             }
            },
            "type": "scatterpolar"
           }
          ],
          "scatterpolargl": [
           {
            "marker": {
             "colorbar": {
              "outlinewidth": 0,
              "ticks": ""
             }
            },
            "type": "scatterpolargl"
           }
          ],
          "scatterternary": [
           {
            "marker": {
             "colorbar": {
              "outlinewidth": 0,
              "ticks": ""
             }
            },
            "type": "scatterternary"
           }
          ],
          "surface": [
           {
            "colorbar": {
             "outlinewidth": 0,
             "ticks": ""
            },
            "colorscale": [
             [
              0,
              "#0d0887"
             ],
             [
              0.1111111111111111,
              "#46039f"
             ],
             [
              0.2222222222222222,
              "#7201a8"
             ],
             [
              0.3333333333333333,
              "#9c179e"
             ],
             [
              0.4444444444444444,
              "#bd3786"
             ],
             [
              0.5555555555555556,
              "#d8576b"
             ],
             [
              0.6666666666666666,
              "#ed7953"
             ],
             [
              0.7777777777777778,
              "#fb9f3a"
             ],
             [
              0.8888888888888888,
              "#fdca26"
             ],
             [
              1,
              "#f0f921"
             ]
            ],
            "type": "surface"
           }
          ],
          "table": [
           {
            "cells": {
             "fill": {
              "color": "#EBF0F8"
             },
             "line": {
              "color": "white"
             }
            },
            "header": {
             "fill": {
              "color": "#C8D4E3"
             },
             "line": {
              "color": "white"
             }
            },
            "type": "table"
           }
          ]
         },
         "layout": {
          "annotationdefaults": {
           "arrowcolor": "#2a3f5f",
           "arrowhead": 0,
           "arrowwidth": 1
          },
          "coloraxis": {
           "colorbar": {
            "outlinewidth": 0,
            "ticks": ""
           }
          },
          "colorscale": {
           "diverging": [
            [
             0,
             "#8e0152"
            ],
            [
             0.1,
             "#c51b7d"
            ],
            [
             0.2,
             "#de77ae"
            ],
            [
             0.3,
             "#f1b6da"
            ],
            [
             0.4,
             "#fde0ef"
            ],
            [
             0.5,
             "#f7f7f7"
            ],
            [
             0.6,
             "#e6f5d0"
            ],
            [
             0.7,
             "#b8e186"
            ],
            [
             0.8,
             "#7fbc41"
            ],
            [
             0.9,
             "#4d9221"
            ],
            [
             1,
             "#276419"
            ]
           ],
           "sequential": [
            [
             0,
             "#0d0887"
            ],
            [
             0.1111111111111111,
             "#46039f"
            ],
            [
             0.2222222222222222,
             "#7201a8"
            ],
            [
             0.3333333333333333,
             "#9c179e"
            ],
            [
             0.4444444444444444,
             "#bd3786"
            ],
            [
             0.5555555555555556,
             "#d8576b"
            ],
            [
             0.6666666666666666,
             "#ed7953"
            ],
            [
             0.7777777777777778,
             "#fb9f3a"
            ],
            [
             0.8888888888888888,
             "#fdca26"
            ],
            [
             1,
             "#f0f921"
            ]
           ],
           "sequentialminus": [
            [
             0,
             "#0d0887"
            ],
            [
             0.1111111111111111,
             "#46039f"
            ],
            [
             0.2222222222222222,
             "#7201a8"
            ],
            [
             0.3333333333333333,
             "#9c179e"
            ],
            [
             0.4444444444444444,
             "#bd3786"
            ],
            [
             0.5555555555555556,
             "#d8576b"
            ],
            [
             0.6666666666666666,
             "#ed7953"
            ],
            [
             0.7777777777777778,
             "#fb9f3a"
            ],
            [
             0.8888888888888888,
             "#fdca26"
            ],
            [
             1,
             "#f0f921"
            ]
           ]
          },
          "colorway": [
           "#636efa",
           "#EF553B",
           "#00cc96",
           "#ab63fa",
           "#FFA15A",
           "#19d3f3",
           "#FF6692",
           "#B6E880",
           "#FF97FF",
           "#FECB52"
          ],
          "font": {
           "color": "#2a3f5f"
          },
          "geo": {
           "bgcolor": "white",
           "lakecolor": "white",
           "landcolor": "#E5ECF6",
           "showlakes": true,
           "showland": true,
           "subunitcolor": "white"
          },
          "hoverlabel": {
           "align": "left"
          },
          "hovermode": "closest",
          "mapbox": {
           "style": "light"
          },
          "paper_bgcolor": "white",
          "plot_bgcolor": "#E5ECF6",
          "polar": {
           "angularaxis": {
            "gridcolor": "white",
            "linecolor": "white",
            "ticks": ""
           },
           "bgcolor": "#E5ECF6",
           "radialaxis": {
            "gridcolor": "white",
            "linecolor": "white",
            "ticks": ""
           }
          },
          "scene": {
           "xaxis": {
            "backgroundcolor": "#E5ECF6",
            "gridcolor": "white",
            "gridwidth": 2,
            "linecolor": "white",
            "showbackground": true,
            "ticks": "",
            "zerolinecolor": "white"
           },
           "yaxis": {
            "backgroundcolor": "#E5ECF6",
            "gridcolor": "white",
            "gridwidth": 2,
            "linecolor": "white",
            "showbackground": true,
            "ticks": "",
            "zerolinecolor": "white"
           },
           "zaxis": {
            "backgroundcolor": "#E5ECF6",
            "gridcolor": "white",
            "gridwidth": 2,
            "linecolor": "white",
            "showbackground": true,
            "ticks": "",
            "zerolinecolor": "white"
           }
          },
          "shapedefaults": {
           "line": {
            "color": "#2a3f5f"
           }
          },
          "ternary": {
           "aaxis": {
            "gridcolor": "white",
            "linecolor": "white",
            "ticks": ""
           },
           "baxis": {
            "gridcolor": "white",
            "linecolor": "white",
            "ticks": ""
           },
           "bgcolor": "#E5ECF6",
           "caxis": {
            "gridcolor": "white",
            "linecolor": "white",
            "ticks": ""
           }
          },
          "title": {
           "x": 0.05
          },
          "xaxis": {
           "automargin": true,
           "gridcolor": "white",
           "linecolor": "white",
           "ticks": "",
           "title": {
            "standoff": 15
           },
           "zerolinecolor": "white",
           "zerolinewidth": 2
          },
          "yaxis": {
           "automargin": true,
           "gridcolor": "white",
           "linecolor": "white",
           "ticks": "",
           "title": {
            "standoff": 15
           },
           "zerolinecolor": "white",
           "zerolinewidth": 2
          }
         }
        },
        "title": {
         "font": {
          "color": "#4D5663"
         }
        },
        "xaxis": {
         "gridcolor": "#E1E5ED",
         "showgrid": true,
         "tickfont": {
          "color": "#4D5663"
         },
         "title": {
          "font": {
           "color": "#4D5663"
          },
          "text": ""
         },
         "zerolinecolor": "#E1E5ED"
        },
        "yaxis": {
         "gridcolor": "#E1E5ED",
         "showgrid": true,
         "tickfont": {
          "color": "#4D5663"
         },
         "title": {
          "font": {
           "color": "#4D5663"
          },
          "text": ""
         },
         "zerolinecolor": "#E1E5ED"
        }
       }
      },
      "text/html": [
       "<div>\n",
       "        \n",
       "        \n",
       "            <div id=\"648ca49c-4e5f-4b97-bb47-070f967c1939\" class=\"plotly-graph-div\" style=\"height:525px; width:100%;\"></div>\n",
       "            <script type=\"text/javascript\">\n",
       "                require([\"plotly\"], function(Plotly) {\n",
       "                    window.PLOTLYENV=window.PLOTLYENV || {};\n",
       "                    window.PLOTLYENV.BASE_URL='https://plot.ly';\n",
       "                    \n",
       "                if (document.getElementById(\"648ca49c-4e5f-4b97-bb47-070f967c1939\")) {\n",
       "                    Plotly.newPlot(\n",
       "                        '648ca49c-4e5f-4b97-bb47-070f967c1939',\n",
       "                        [{\"colorscale\": [[0.0, \"rgb(255, 153, 51)\"], [0.1111111111111111, \"rgb(55, 128, 191)\"], [0.2222222222222222, \"rgb(50, 171, 96)\"], [0.3333333333333333, \"rgb(128, 0, 128)\"], [0.4444444444444444, \"rgb(219, 64, 82)\"], [0.5555555555555556, \"rgb(0, 128, 128)\"], [0.6666666666666666, \"rgb(255, 255, 51)\"], [0.7777777777777778, \"rgb(128, 128, 0)\"], [0.8888888888888888, \"rgb(251, 128, 114)\"], [1.0, \"rgb(128, 177, 211)\"]], \"type\": \"surface\", \"x\": [0, 1, 2, 3, 4], \"y\": [\"x\", \"y\", \"z\"], \"z\": [[1, 2, 3, 4, 5], [10, 20, 30, 20, 10], [500, 400, 300, 200, 100]]}],\n",
       "                        {\"legend\": {\"bgcolor\": \"#F5F6F9\", \"font\": {\"color\": \"#4D5663\"}}, \"paper_bgcolor\": \"#F5F6F9\", \"plot_bgcolor\": \"#F5F6F9\", \"template\": {\"data\": {\"bar\": [{\"error_x\": {\"color\": \"#2a3f5f\"}, \"error_y\": {\"color\": \"#2a3f5f\"}, \"marker\": {\"line\": {\"color\": \"#E5ECF6\", \"width\": 0.5}}, \"type\": \"bar\"}], \"barpolar\": [{\"marker\": {\"line\": {\"color\": \"#E5ECF6\", \"width\": 0.5}}, \"type\": \"barpolar\"}], \"carpet\": [{\"aaxis\": {\"endlinecolor\": \"#2a3f5f\", \"gridcolor\": \"white\", \"linecolor\": \"white\", \"minorgridcolor\": \"white\", \"startlinecolor\": \"#2a3f5f\"}, \"baxis\": {\"endlinecolor\": \"#2a3f5f\", \"gridcolor\": \"white\", \"linecolor\": \"white\", \"minorgridcolor\": \"white\", \"startlinecolor\": \"#2a3f5f\"}, \"type\": \"carpet\"}], \"choropleth\": [{\"colorbar\": {\"outlinewidth\": 0, \"ticks\": \"\"}, \"type\": \"choropleth\"}], \"contour\": [{\"colorbar\": {\"outlinewidth\": 0, \"ticks\": \"\"}, \"colorscale\": [[0.0, \"#0d0887\"], [0.1111111111111111, \"#46039f\"], [0.2222222222222222, \"#7201a8\"], [0.3333333333333333, \"#9c179e\"], [0.4444444444444444, \"#bd3786\"], [0.5555555555555556, \"#d8576b\"], [0.6666666666666666, \"#ed7953\"], [0.7777777777777778, \"#fb9f3a\"], [0.8888888888888888, \"#fdca26\"], [1.0, \"#f0f921\"]], \"type\": \"contour\"}], \"contourcarpet\": [{\"colorbar\": {\"outlinewidth\": 0, \"ticks\": \"\"}, \"type\": \"contourcarpet\"}], \"heatmap\": [{\"colorbar\": {\"outlinewidth\": 0, \"ticks\": \"\"}, \"colorscale\": [[0.0, \"#0d0887\"], [0.1111111111111111, \"#46039f\"], [0.2222222222222222, \"#7201a8\"], [0.3333333333333333, \"#9c179e\"], [0.4444444444444444, \"#bd3786\"], [0.5555555555555556, \"#d8576b\"], [0.6666666666666666, \"#ed7953\"], [0.7777777777777778, \"#fb9f3a\"], [0.8888888888888888, \"#fdca26\"], [1.0, \"#f0f921\"]], \"type\": \"heatmap\"}], \"heatmapgl\": [{\"colorbar\": {\"outlinewidth\": 0, \"ticks\": \"\"}, \"colorscale\": [[0.0, \"#0d0887\"], [0.1111111111111111, \"#46039f\"], [0.2222222222222222, \"#7201a8\"], [0.3333333333333333, \"#9c179e\"], [0.4444444444444444, \"#bd3786\"], [0.5555555555555556, \"#d8576b\"], [0.6666666666666666, \"#ed7953\"], [0.7777777777777778, \"#fb9f3a\"], [0.8888888888888888, \"#fdca26\"], [1.0, \"#f0f921\"]], \"type\": \"heatmapgl\"}], \"histogram\": [{\"marker\": {\"colorbar\": {\"outlinewidth\": 0, \"ticks\": \"\"}}, \"type\": \"histogram\"}], \"histogram2d\": [{\"colorbar\": {\"outlinewidth\": 0, \"ticks\": \"\"}, \"colorscale\": [[0.0, \"#0d0887\"], [0.1111111111111111, \"#46039f\"], [0.2222222222222222, \"#7201a8\"], [0.3333333333333333, \"#9c179e\"], [0.4444444444444444, \"#bd3786\"], [0.5555555555555556, \"#d8576b\"], [0.6666666666666666, \"#ed7953\"], [0.7777777777777778, \"#fb9f3a\"], [0.8888888888888888, \"#fdca26\"], [1.0, \"#f0f921\"]], \"type\": \"histogram2d\"}], \"histogram2dcontour\": [{\"colorbar\": {\"outlinewidth\": 0, \"ticks\": \"\"}, \"colorscale\": [[0.0, \"#0d0887\"], [0.1111111111111111, \"#46039f\"], [0.2222222222222222, \"#7201a8\"], [0.3333333333333333, \"#9c179e\"], [0.4444444444444444, \"#bd3786\"], [0.5555555555555556, \"#d8576b\"], [0.6666666666666666, \"#ed7953\"], [0.7777777777777778, \"#fb9f3a\"], [0.8888888888888888, \"#fdca26\"], [1.0, \"#f0f921\"]], \"type\": \"histogram2dcontour\"}], \"mesh3d\": [{\"colorbar\": {\"outlinewidth\": 0, \"ticks\": \"\"}, \"type\": \"mesh3d\"}], \"parcoords\": [{\"line\": {\"colorbar\": {\"outlinewidth\": 0, \"ticks\": \"\"}}, \"type\": \"parcoords\"}], \"pie\": [{\"automargin\": true, \"type\": \"pie\"}], \"scatter\": [{\"marker\": {\"colorbar\": {\"outlinewidth\": 0, \"ticks\": \"\"}}, \"type\": \"scatter\"}], \"scatter3d\": [{\"line\": {\"colorbar\": {\"outlinewidth\": 0, \"ticks\": \"\"}}, \"marker\": {\"colorbar\": {\"outlinewidth\": 0, \"ticks\": \"\"}}, \"type\": \"scatter3d\"}], \"scattercarpet\": [{\"marker\": {\"colorbar\": {\"outlinewidth\": 0, \"ticks\": \"\"}}, \"type\": \"scattercarpet\"}], \"scattergeo\": [{\"marker\": {\"colorbar\": {\"outlinewidth\": 0, \"ticks\": \"\"}}, \"type\": \"scattergeo\"}], \"scattergl\": [{\"marker\": {\"colorbar\": {\"outlinewidth\": 0, \"ticks\": \"\"}}, \"type\": \"scattergl\"}], \"scattermapbox\": [{\"marker\": {\"colorbar\": {\"outlinewidth\": 0, \"ticks\": \"\"}}, \"type\": \"scattermapbox\"}], \"scatterpolar\": [{\"marker\": {\"colorbar\": {\"outlinewidth\": 0, \"ticks\": \"\"}}, \"type\": \"scatterpolar\"}], \"scatterpolargl\": [{\"marker\": {\"colorbar\": {\"outlinewidth\": 0, \"ticks\": \"\"}}, \"type\": \"scatterpolargl\"}], \"scatterternary\": [{\"marker\": {\"colorbar\": {\"outlinewidth\": 0, \"ticks\": \"\"}}, \"type\": \"scatterternary\"}], \"surface\": [{\"colorbar\": {\"outlinewidth\": 0, \"ticks\": \"\"}, \"colorscale\": [[0.0, \"#0d0887\"], [0.1111111111111111, \"#46039f\"], [0.2222222222222222, \"#7201a8\"], [0.3333333333333333, \"#9c179e\"], [0.4444444444444444, \"#bd3786\"], [0.5555555555555556, \"#d8576b\"], [0.6666666666666666, \"#ed7953\"], [0.7777777777777778, \"#fb9f3a\"], [0.8888888888888888, \"#fdca26\"], [1.0, \"#f0f921\"]], \"type\": \"surface\"}], \"table\": [{\"cells\": {\"fill\": {\"color\": \"#EBF0F8\"}, \"line\": {\"color\": \"white\"}}, \"header\": {\"fill\": {\"color\": \"#C8D4E3\"}, \"line\": {\"color\": \"white\"}}, \"type\": \"table\"}]}, \"layout\": {\"annotationdefaults\": {\"arrowcolor\": \"#2a3f5f\", \"arrowhead\": 0, \"arrowwidth\": 1}, \"coloraxis\": {\"colorbar\": {\"outlinewidth\": 0, \"ticks\": \"\"}}, \"colorscale\": {\"diverging\": [[0, \"#8e0152\"], [0.1, \"#c51b7d\"], [0.2, \"#de77ae\"], [0.3, \"#f1b6da\"], [0.4, \"#fde0ef\"], [0.5, \"#f7f7f7\"], [0.6, \"#e6f5d0\"], [0.7, \"#b8e186\"], [0.8, \"#7fbc41\"], [0.9, \"#4d9221\"], [1, \"#276419\"]], \"sequential\": [[0.0, \"#0d0887\"], [0.1111111111111111, \"#46039f\"], [0.2222222222222222, \"#7201a8\"], [0.3333333333333333, \"#9c179e\"], [0.4444444444444444, \"#bd3786\"], [0.5555555555555556, \"#d8576b\"], [0.6666666666666666, \"#ed7953\"], [0.7777777777777778, \"#fb9f3a\"], [0.8888888888888888, \"#fdca26\"], [1.0, \"#f0f921\"]], \"sequentialminus\": [[0.0, \"#0d0887\"], [0.1111111111111111, \"#46039f\"], [0.2222222222222222, \"#7201a8\"], [0.3333333333333333, \"#9c179e\"], [0.4444444444444444, \"#bd3786\"], [0.5555555555555556, \"#d8576b\"], [0.6666666666666666, \"#ed7953\"], [0.7777777777777778, \"#fb9f3a\"], [0.8888888888888888, \"#fdca26\"], [1.0, \"#f0f921\"]]}, \"colorway\": [\"#636efa\", \"#EF553B\", \"#00cc96\", \"#ab63fa\", \"#FFA15A\", \"#19d3f3\", \"#FF6692\", \"#B6E880\", \"#FF97FF\", \"#FECB52\"], \"font\": {\"color\": \"#2a3f5f\"}, \"geo\": {\"bgcolor\": \"white\", \"lakecolor\": \"white\", \"landcolor\": \"#E5ECF6\", \"showlakes\": true, \"showland\": true, \"subunitcolor\": \"white\"}, \"hoverlabel\": {\"align\": \"left\"}, \"hovermode\": \"closest\", \"mapbox\": {\"style\": \"light\"}, \"paper_bgcolor\": \"white\", \"plot_bgcolor\": \"#E5ECF6\", \"polar\": {\"angularaxis\": {\"gridcolor\": \"white\", \"linecolor\": \"white\", \"ticks\": \"\"}, \"bgcolor\": \"#E5ECF6\", \"radialaxis\": {\"gridcolor\": \"white\", \"linecolor\": \"white\", \"ticks\": \"\"}}, \"scene\": {\"xaxis\": {\"backgroundcolor\": \"#E5ECF6\", \"gridcolor\": \"white\", \"gridwidth\": 2, \"linecolor\": \"white\", \"showbackground\": true, \"ticks\": \"\", \"zerolinecolor\": \"white\"}, \"yaxis\": {\"backgroundcolor\": \"#E5ECF6\", \"gridcolor\": \"white\", \"gridwidth\": 2, \"linecolor\": \"white\", \"showbackground\": true, \"ticks\": \"\", \"zerolinecolor\": \"white\"}, \"zaxis\": {\"backgroundcolor\": \"#E5ECF6\", \"gridcolor\": \"white\", \"gridwidth\": 2, \"linecolor\": \"white\", \"showbackground\": true, \"ticks\": \"\", \"zerolinecolor\": \"white\"}}, \"shapedefaults\": {\"line\": {\"color\": \"#2a3f5f\"}}, \"ternary\": {\"aaxis\": {\"gridcolor\": \"white\", \"linecolor\": \"white\", \"ticks\": \"\"}, \"baxis\": {\"gridcolor\": \"white\", \"linecolor\": \"white\", \"ticks\": \"\"}, \"bgcolor\": \"#E5ECF6\", \"caxis\": {\"gridcolor\": \"white\", \"linecolor\": \"white\", \"ticks\": \"\"}}, \"title\": {\"x\": 0.05}, \"xaxis\": {\"automargin\": true, \"gridcolor\": \"white\", \"linecolor\": \"white\", \"ticks\": \"\", \"title\": {\"standoff\": 15}, \"zerolinecolor\": \"white\", \"zerolinewidth\": 2}, \"yaxis\": {\"automargin\": true, \"gridcolor\": \"white\", \"linecolor\": \"white\", \"ticks\": \"\", \"title\": {\"standoff\": 15}, \"zerolinecolor\": \"white\", \"zerolinewidth\": 2}}}, \"title\": {\"font\": {\"color\": \"#4D5663\"}}, \"xaxis\": {\"gridcolor\": \"#E1E5ED\", \"showgrid\": true, \"tickfont\": {\"color\": \"#4D5663\"}, \"title\": {\"font\": {\"color\": \"#4D5663\"}, \"text\": \"\"}, \"zerolinecolor\": \"#E1E5ED\"}, \"yaxis\": {\"gridcolor\": \"#E1E5ED\", \"showgrid\": true, \"tickfont\": {\"color\": \"#4D5663\"}, \"title\": {\"font\": {\"color\": \"#4D5663\"}, \"text\": \"\"}, \"zerolinecolor\": \"#E1E5ED\"}},\n",
       "                        {\"showLink\": true, \"linkText\": \"Export to plot.ly\", \"plotlyServerURL\": \"https://plot.ly\", \"responsive\": true}\n",
       "                    ).then(function(){\n",
       "                            \n",
       "var gd = document.getElementById('648ca49c-4e5f-4b97-bb47-070f967c1939');\n",
       "var x = new MutationObserver(function (mutations, observer) {{\n",
       "        var display = window.getComputedStyle(gd).display;\n",
       "        if (!display || display === 'none') {{\n",
       "            console.log([gd, 'removed!']);\n",
       "            Plotly.purge(gd);\n",
       "            observer.disconnect();\n",
       "        }}\n",
       "}});\n",
       "\n",
       "// Listen for the removal of the full notebook cells\n",
       "var notebookContainer = gd.closest('#notebook-container');\n",
       "if (notebookContainer) {{\n",
       "    x.observe(notebookContainer, {childList: true});\n",
       "}}\n",
       "\n",
       "// Listen for the clearing of the current output cell\n",
       "var outputEl = gd.closest('.output');\n",
       "if (outputEl) {{\n",
       "    x.observe(outputEl, {childList: true});\n",
       "}}\n",
       "\n",
       "                        })\n",
       "                };\n",
       "                });\n",
       "            </script>\n",
       "        </div>"
      ]
     },
     "metadata": {},
     "output_type": "display_data"
    }
   ],
   "source": [
    "df3.iplot(kind='surface')"
   ]
  },
  {
   "cell_type": "code",
   "execution_count": 33,
   "metadata": {},
   "outputs": [],
   "source": [
    "df3 = pd.DataFrame({'x':[1,2,3,4,5],'y':[10,20,30,20,10],'z':[5,4,3,2,1]})"
   ]
  },
  {
   "cell_type": "code",
   "execution_count": 34,
   "metadata": {},
   "outputs": [
    {
     "data": {
      "application/vnd.plotly.v1+json": {
       "config": {
        "linkText": "Export to plot.ly",
        "plotlyServerURL": "https://plot.ly",
        "showLink": true
       },
       "data": [
        {
         "colorscale": [
          [
           0,
           "rgb(255, 153, 51)"
          ],
          [
           0.1111111111111111,
           "rgb(55, 128, 191)"
          ],
          [
           0.2222222222222222,
           "rgb(50, 171, 96)"
          ],
          [
           0.3333333333333333,
           "rgb(128, 0, 128)"
          ],
          [
           0.4444444444444444,
           "rgb(219, 64, 82)"
          ],
          [
           0.5555555555555556,
           "rgb(0, 128, 128)"
          ],
          [
           0.6666666666666666,
           "rgb(255, 255, 51)"
          ],
          [
           0.7777777777777778,
           "rgb(128, 128, 0)"
          ],
          [
           0.8888888888888888,
           "rgb(251, 128, 114)"
          ],
          [
           1,
           "rgb(128, 177, 211)"
          ]
         ],
         "type": "surface",
         "x": [
          0,
          1,
          2,
          3,
          4
         ],
         "y": [
          "x",
          "y",
          "z"
         ],
         "z": [
          [
           1,
           2,
           3,
           4,
           5
          ],
          [
           10,
           20,
           30,
           20,
           10
          ],
          [
           5,
           4,
           3,
           2,
           1
          ]
         ]
        }
       ],
       "layout": {
        "legend": {
         "bgcolor": "#F5F6F9",
         "font": {
          "color": "#4D5663"
         }
        },
        "paper_bgcolor": "#F5F6F9",
        "plot_bgcolor": "#F5F6F9",
        "template": {
         "data": {
          "bar": [
           {
            "error_x": {
             "color": "#2a3f5f"
            },
            "error_y": {
             "color": "#2a3f5f"
            },
            "marker": {
             "line": {
              "color": "#E5ECF6",
              "width": 0.5
             }
            },
            "type": "bar"
           }
          ],
          "barpolar": [
           {
            "marker": {
             "line": {
              "color": "#E5ECF6",
              "width": 0.5
             }
            },
            "type": "barpolar"
           }
          ],
          "carpet": [
           {
            "aaxis": {
             "endlinecolor": "#2a3f5f",
             "gridcolor": "white",
             "linecolor": "white",
             "minorgridcolor": "white",
             "startlinecolor": "#2a3f5f"
            },
            "baxis": {
             "endlinecolor": "#2a3f5f",
             "gridcolor": "white",
             "linecolor": "white",
             "minorgridcolor": "white",
             "startlinecolor": "#2a3f5f"
            },
            "type": "carpet"
           }
          ],
          "choropleth": [
           {
            "colorbar": {
             "outlinewidth": 0,
             "ticks": ""
            },
            "type": "choropleth"
           }
          ],
          "contour": [
           {
            "colorbar": {
             "outlinewidth": 0,
             "ticks": ""
            },
            "colorscale": [
             [
              0,
              "#0d0887"
             ],
             [
              0.1111111111111111,
              "#46039f"
             ],
             [
              0.2222222222222222,
              "#7201a8"
             ],
             [
              0.3333333333333333,
              "#9c179e"
             ],
             [
              0.4444444444444444,
              "#bd3786"
             ],
             [
              0.5555555555555556,
              "#d8576b"
             ],
             [
              0.6666666666666666,
              "#ed7953"
             ],
             [
              0.7777777777777778,
              "#fb9f3a"
             ],
             [
              0.8888888888888888,
              "#fdca26"
             ],
             [
              1,
              "#f0f921"
             ]
            ],
            "type": "contour"
           }
          ],
          "contourcarpet": [
           {
            "colorbar": {
             "outlinewidth": 0,
             "ticks": ""
            },
            "type": "contourcarpet"
           }
          ],
          "heatmap": [
           {
            "colorbar": {
             "outlinewidth": 0,
             "ticks": ""
            },
            "colorscale": [
             [
              0,
              "#0d0887"
             ],
             [
              0.1111111111111111,
              "#46039f"
             ],
             [
              0.2222222222222222,
              "#7201a8"
             ],
             [
              0.3333333333333333,
              "#9c179e"
             ],
             [
              0.4444444444444444,
              "#bd3786"
             ],
             [
              0.5555555555555556,
              "#d8576b"
             ],
             [
              0.6666666666666666,
              "#ed7953"
             ],
             [
              0.7777777777777778,
              "#fb9f3a"
             ],
             [
              0.8888888888888888,
              "#fdca26"
             ],
             [
              1,
              "#f0f921"
             ]
            ],
            "type": "heatmap"
           }
          ],
          "heatmapgl": [
           {
            "colorbar": {
             "outlinewidth": 0,
             "ticks": ""
            },
            "colorscale": [
             [
              0,
              "#0d0887"
             ],
             [
              0.1111111111111111,
              "#46039f"
             ],
             [
              0.2222222222222222,
              "#7201a8"
             ],
             [
              0.3333333333333333,
              "#9c179e"
             ],
             [
              0.4444444444444444,
              "#bd3786"
             ],
             [
              0.5555555555555556,
              "#d8576b"
             ],
             [
              0.6666666666666666,
              "#ed7953"
             ],
             [
              0.7777777777777778,
              "#fb9f3a"
             ],
             [
              0.8888888888888888,
              "#fdca26"
             ],
             [
              1,
              "#f0f921"
             ]
            ],
            "type": "heatmapgl"
           }
          ],
          "histogram": [
           {
            "marker": {
             "colorbar": {
              "outlinewidth": 0,
              "ticks": ""
             }
            },
            "type": "histogram"
           }
          ],
          "histogram2d": [
           {
            "colorbar": {
             "outlinewidth": 0,
             "ticks": ""
            },
            "colorscale": [
             [
              0,
              "#0d0887"
             ],
             [
              0.1111111111111111,
              "#46039f"
             ],
             [
              0.2222222222222222,
              "#7201a8"
             ],
             [
              0.3333333333333333,
              "#9c179e"
             ],
             [
              0.4444444444444444,
              "#bd3786"
             ],
             [
              0.5555555555555556,
              "#d8576b"
             ],
             [
              0.6666666666666666,
              "#ed7953"
             ],
             [
              0.7777777777777778,
              "#fb9f3a"
             ],
             [
              0.8888888888888888,
              "#fdca26"
             ],
             [
              1,
              "#f0f921"
             ]
            ],
            "type": "histogram2d"
           }
          ],
          "histogram2dcontour": [
           {
            "colorbar": {
             "outlinewidth": 0,
             "ticks": ""
            },
            "colorscale": [
             [
              0,
              "#0d0887"
             ],
             [
              0.1111111111111111,
              "#46039f"
             ],
             [
              0.2222222222222222,
              "#7201a8"
             ],
             [
              0.3333333333333333,
              "#9c179e"
             ],
             [
              0.4444444444444444,
              "#bd3786"
             ],
             [
              0.5555555555555556,
              "#d8576b"
             ],
             [
              0.6666666666666666,
              "#ed7953"
             ],
             [
              0.7777777777777778,
              "#fb9f3a"
             ],
             [
              0.8888888888888888,
              "#fdca26"
             ],
             [
              1,
              "#f0f921"
             ]
            ],
            "type": "histogram2dcontour"
           }
          ],
          "mesh3d": [
           {
            "colorbar": {
             "outlinewidth": 0,
             "ticks": ""
            },
            "type": "mesh3d"
           }
          ],
          "parcoords": [
           {
            "line": {
             "colorbar": {
              "outlinewidth": 0,
              "ticks": ""
             }
            },
            "type": "parcoords"
           }
          ],
          "pie": [
           {
            "automargin": true,
            "type": "pie"
           }
          ],
          "scatter": [
           {
            "marker": {
             "colorbar": {
              "outlinewidth": 0,
              "ticks": ""
             }
            },
            "type": "scatter"
           }
          ],
          "scatter3d": [
           {
            "line": {
             "colorbar": {
              "outlinewidth": 0,
              "ticks": ""
             }
            },
            "marker": {
             "colorbar": {
              "outlinewidth": 0,
              "ticks": ""
             }
            },
            "type": "scatter3d"
           }
          ],
          "scattercarpet": [
           {
            "marker": {
             "colorbar": {
              "outlinewidth": 0,
              "ticks": ""
             }
            },
            "type": "scattercarpet"
           }
          ],
          "scattergeo": [
           {
            "marker": {
             "colorbar": {
              "outlinewidth": 0,
              "ticks": ""
             }
            },
            "type": "scattergeo"
           }
          ],
          "scattergl": [
           {
            "marker": {
             "colorbar": {
              "outlinewidth": 0,
              "ticks": ""
             }
            },
            "type": "scattergl"
           }
          ],
          "scattermapbox": [
           {
            "marker": {
             "colorbar": {
              "outlinewidth": 0,
              "ticks": ""
             }
            },
            "type": "scattermapbox"
           }
          ],
          "scatterpolar": [
           {
            "marker": {
             "colorbar": {
              "outlinewidth": 0,
              "ticks": ""
             }
            },
            "type": "scatterpolar"
           }
          ],
          "scatterpolargl": [
           {
            "marker": {
             "colorbar": {
              "outlinewidth": 0,
              "ticks": ""
             }
            },
            "type": "scatterpolargl"
           }
          ],
          "scatterternary": [
           {
            "marker": {
             "colorbar": {
              "outlinewidth": 0,
              "ticks": ""
             }
            },
            "type": "scatterternary"
           }
          ],
          "surface": [
           {
            "colorbar": {
             "outlinewidth": 0,
             "ticks": ""
            },
            "colorscale": [
             [
              0,
              "#0d0887"
             ],
             [
              0.1111111111111111,
              "#46039f"
             ],
             [
              0.2222222222222222,
              "#7201a8"
             ],
             [
              0.3333333333333333,
              "#9c179e"
             ],
             [
              0.4444444444444444,
              "#bd3786"
             ],
             [
              0.5555555555555556,
              "#d8576b"
             ],
             [
              0.6666666666666666,
              "#ed7953"
             ],
             [
              0.7777777777777778,
              "#fb9f3a"
             ],
             [
              0.8888888888888888,
              "#fdca26"
             ],
             [
              1,
              "#f0f921"
             ]
            ],
            "type": "surface"
           }
          ],
          "table": [
           {
            "cells": {
             "fill": {
              "color": "#EBF0F8"
             },
             "line": {
              "color": "white"
             }
            },
            "header": {
             "fill": {
              "color": "#C8D4E3"
             },
             "line": {
              "color": "white"
             }
            },
            "type": "table"
           }
          ]
         },
         "layout": {
          "annotationdefaults": {
           "arrowcolor": "#2a3f5f",
           "arrowhead": 0,
           "arrowwidth": 1
          },
          "coloraxis": {
           "colorbar": {
            "outlinewidth": 0,
            "ticks": ""
           }
          },
          "colorscale": {
           "diverging": [
            [
             0,
             "#8e0152"
            ],
            [
             0.1,
             "#c51b7d"
            ],
            [
             0.2,
             "#de77ae"
            ],
            [
             0.3,
             "#f1b6da"
            ],
            [
             0.4,
             "#fde0ef"
            ],
            [
             0.5,
             "#f7f7f7"
            ],
            [
             0.6,
             "#e6f5d0"
            ],
            [
             0.7,
             "#b8e186"
            ],
            [
             0.8,
             "#7fbc41"
            ],
            [
             0.9,
             "#4d9221"
            ],
            [
             1,
             "#276419"
            ]
           ],
           "sequential": [
            [
             0,
             "#0d0887"
            ],
            [
             0.1111111111111111,
             "#46039f"
            ],
            [
             0.2222222222222222,
             "#7201a8"
            ],
            [
             0.3333333333333333,
             "#9c179e"
            ],
            [
             0.4444444444444444,
             "#bd3786"
            ],
            [
             0.5555555555555556,
             "#d8576b"
            ],
            [
             0.6666666666666666,
             "#ed7953"
            ],
            [
             0.7777777777777778,
             "#fb9f3a"
            ],
            [
             0.8888888888888888,
             "#fdca26"
            ],
            [
             1,
             "#f0f921"
            ]
           ],
           "sequentialminus": [
            [
             0,
             "#0d0887"
            ],
            [
             0.1111111111111111,
             "#46039f"
            ],
            [
             0.2222222222222222,
             "#7201a8"
            ],
            [
             0.3333333333333333,
             "#9c179e"
            ],
            [
             0.4444444444444444,
             "#bd3786"
            ],
            [
             0.5555555555555556,
             "#d8576b"
            ],
            [
             0.6666666666666666,
             "#ed7953"
            ],
            [
             0.7777777777777778,
             "#fb9f3a"
            ],
            [
             0.8888888888888888,
             "#fdca26"
            ],
            [
             1,
             "#f0f921"
            ]
           ]
          },
          "colorway": [
           "#636efa",
           "#EF553B",
           "#00cc96",
           "#ab63fa",
           "#FFA15A",
           "#19d3f3",
           "#FF6692",
           "#B6E880",
           "#FF97FF",
           "#FECB52"
          ],
          "font": {
           "color": "#2a3f5f"
          },
          "geo": {
           "bgcolor": "white",
           "lakecolor": "white",
           "landcolor": "#E5ECF6",
           "showlakes": true,
           "showland": true,
           "subunitcolor": "white"
          },
          "hoverlabel": {
           "align": "left"
          },
          "hovermode": "closest",
          "mapbox": {
           "style": "light"
          },
          "paper_bgcolor": "white",
          "plot_bgcolor": "#E5ECF6",
          "polar": {
           "angularaxis": {
            "gridcolor": "white",
            "linecolor": "white",
            "ticks": ""
           },
           "bgcolor": "#E5ECF6",
           "radialaxis": {
            "gridcolor": "white",
            "linecolor": "white",
            "ticks": ""
           }
          },
          "scene": {
           "xaxis": {
            "backgroundcolor": "#E5ECF6",
            "gridcolor": "white",
            "gridwidth": 2,
            "linecolor": "white",
            "showbackground": true,
            "ticks": "",
            "zerolinecolor": "white"
           },
           "yaxis": {
            "backgroundcolor": "#E5ECF6",
            "gridcolor": "white",
            "gridwidth": 2,
            "linecolor": "white",
            "showbackground": true,
            "ticks": "",
            "zerolinecolor": "white"
           },
           "zaxis": {
            "backgroundcolor": "#E5ECF6",
            "gridcolor": "white",
            "gridwidth": 2,
            "linecolor": "white",
            "showbackground": true,
            "ticks": "",
            "zerolinecolor": "white"
           }
          },
          "shapedefaults": {
           "line": {
            "color": "#2a3f5f"
           }
          },
          "ternary": {
           "aaxis": {
            "gridcolor": "white",
            "linecolor": "white",
            "ticks": ""
           },
           "baxis": {
            "gridcolor": "white",
            "linecolor": "white",
            "ticks": ""
           },
           "bgcolor": "#E5ECF6",
           "caxis": {
            "gridcolor": "white",
            "linecolor": "white",
            "ticks": ""
           }
          },
          "title": {
           "x": 0.05
          },
          "xaxis": {
           "automargin": true,
           "gridcolor": "white",
           "linecolor": "white",
           "ticks": "",
           "title": {
            "standoff": 15
           },
           "zerolinecolor": "white",
           "zerolinewidth": 2
          },
          "yaxis": {
           "automargin": true,
           "gridcolor": "white",
           "linecolor": "white",
           "ticks": "",
           "title": {
            "standoff": 15
           },
           "zerolinecolor": "white",
           "zerolinewidth": 2
          }
         }
        },
        "title": {
         "font": {
          "color": "#4D5663"
         }
        },
        "xaxis": {
         "gridcolor": "#E1E5ED",
         "showgrid": true,
         "tickfont": {
          "color": "#4D5663"
         },
         "title": {
          "font": {
           "color": "#4D5663"
          },
          "text": ""
         },
         "zerolinecolor": "#E1E5ED"
        },
        "yaxis": {
         "gridcolor": "#E1E5ED",
         "showgrid": true,
         "tickfont": {
          "color": "#4D5663"
         },
         "title": {
          "font": {
           "color": "#4D5663"
          },
          "text": ""
         },
         "zerolinecolor": "#E1E5ED"
        }
       }
      },
      "text/html": [
       "<div>\n",
       "        \n",
       "        \n",
       "            <div id=\"ba0a76f9-55ae-4704-a5fb-732bfba0a3fa\" class=\"plotly-graph-div\" style=\"height:525px; width:100%;\"></div>\n",
       "            <script type=\"text/javascript\">\n",
       "                require([\"plotly\"], function(Plotly) {\n",
       "                    window.PLOTLYENV=window.PLOTLYENV || {};\n",
       "                    window.PLOTLYENV.BASE_URL='https://plot.ly';\n",
       "                    \n",
       "                if (document.getElementById(\"ba0a76f9-55ae-4704-a5fb-732bfba0a3fa\")) {\n",
       "                    Plotly.newPlot(\n",
       "                        'ba0a76f9-55ae-4704-a5fb-732bfba0a3fa',\n",
       "                        [{\"colorscale\": [[0.0, \"rgb(255, 153, 51)\"], [0.1111111111111111, \"rgb(55, 128, 191)\"], [0.2222222222222222, \"rgb(50, 171, 96)\"], [0.3333333333333333, \"rgb(128, 0, 128)\"], [0.4444444444444444, \"rgb(219, 64, 82)\"], [0.5555555555555556, \"rgb(0, 128, 128)\"], [0.6666666666666666, \"rgb(255, 255, 51)\"], [0.7777777777777778, \"rgb(128, 128, 0)\"], [0.8888888888888888, \"rgb(251, 128, 114)\"], [1.0, \"rgb(128, 177, 211)\"]], \"type\": \"surface\", \"x\": [0, 1, 2, 3, 4], \"y\": [\"x\", \"y\", \"z\"], \"z\": [[1, 2, 3, 4, 5], [10, 20, 30, 20, 10], [5, 4, 3, 2, 1]]}],\n",
       "                        {\"legend\": {\"bgcolor\": \"#F5F6F9\", \"font\": {\"color\": \"#4D5663\"}}, \"paper_bgcolor\": \"#F5F6F9\", \"plot_bgcolor\": \"#F5F6F9\", \"template\": {\"data\": {\"bar\": [{\"error_x\": {\"color\": \"#2a3f5f\"}, \"error_y\": {\"color\": \"#2a3f5f\"}, \"marker\": {\"line\": {\"color\": \"#E5ECF6\", \"width\": 0.5}}, \"type\": \"bar\"}], \"barpolar\": [{\"marker\": {\"line\": {\"color\": \"#E5ECF6\", \"width\": 0.5}}, \"type\": \"barpolar\"}], \"carpet\": [{\"aaxis\": {\"endlinecolor\": \"#2a3f5f\", \"gridcolor\": \"white\", \"linecolor\": \"white\", \"minorgridcolor\": \"white\", \"startlinecolor\": \"#2a3f5f\"}, \"baxis\": {\"endlinecolor\": \"#2a3f5f\", \"gridcolor\": \"white\", \"linecolor\": \"white\", \"minorgridcolor\": \"white\", \"startlinecolor\": \"#2a3f5f\"}, \"type\": \"carpet\"}], \"choropleth\": [{\"colorbar\": {\"outlinewidth\": 0, \"ticks\": \"\"}, \"type\": \"choropleth\"}], \"contour\": [{\"colorbar\": {\"outlinewidth\": 0, \"ticks\": \"\"}, \"colorscale\": [[0.0, \"#0d0887\"], [0.1111111111111111, \"#46039f\"], [0.2222222222222222, \"#7201a8\"], [0.3333333333333333, \"#9c179e\"], [0.4444444444444444, \"#bd3786\"], [0.5555555555555556, \"#d8576b\"], [0.6666666666666666, \"#ed7953\"], [0.7777777777777778, \"#fb9f3a\"], [0.8888888888888888, \"#fdca26\"], [1.0, \"#f0f921\"]], \"type\": \"contour\"}], \"contourcarpet\": [{\"colorbar\": {\"outlinewidth\": 0, \"ticks\": \"\"}, \"type\": \"contourcarpet\"}], \"heatmap\": [{\"colorbar\": {\"outlinewidth\": 0, \"ticks\": \"\"}, \"colorscale\": [[0.0, \"#0d0887\"], [0.1111111111111111, \"#46039f\"], [0.2222222222222222, \"#7201a8\"], [0.3333333333333333, \"#9c179e\"], [0.4444444444444444, \"#bd3786\"], [0.5555555555555556, \"#d8576b\"], [0.6666666666666666, \"#ed7953\"], [0.7777777777777778, \"#fb9f3a\"], [0.8888888888888888, \"#fdca26\"], [1.0, \"#f0f921\"]], \"type\": \"heatmap\"}], \"heatmapgl\": [{\"colorbar\": {\"outlinewidth\": 0, \"ticks\": \"\"}, \"colorscale\": [[0.0, \"#0d0887\"], [0.1111111111111111, \"#46039f\"], [0.2222222222222222, \"#7201a8\"], [0.3333333333333333, \"#9c179e\"], [0.4444444444444444, \"#bd3786\"], [0.5555555555555556, \"#d8576b\"], [0.6666666666666666, \"#ed7953\"], [0.7777777777777778, \"#fb9f3a\"], [0.8888888888888888, \"#fdca26\"], [1.0, \"#f0f921\"]], \"type\": \"heatmapgl\"}], \"histogram\": [{\"marker\": {\"colorbar\": {\"outlinewidth\": 0, \"ticks\": \"\"}}, \"type\": \"histogram\"}], \"histogram2d\": [{\"colorbar\": {\"outlinewidth\": 0, \"ticks\": \"\"}, \"colorscale\": [[0.0, \"#0d0887\"], [0.1111111111111111, \"#46039f\"], [0.2222222222222222, \"#7201a8\"], [0.3333333333333333, \"#9c179e\"], [0.4444444444444444, \"#bd3786\"], [0.5555555555555556, \"#d8576b\"], [0.6666666666666666, \"#ed7953\"], [0.7777777777777778, \"#fb9f3a\"], [0.8888888888888888, \"#fdca26\"], [1.0, \"#f0f921\"]], \"type\": \"histogram2d\"}], \"histogram2dcontour\": [{\"colorbar\": {\"outlinewidth\": 0, \"ticks\": \"\"}, \"colorscale\": [[0.0, \"#0d0887\"], [0.1111111111111111, \"#46039f\"], [0.2222222222222222, \"#7201a8\"], [0.3333333333333333, \"#9c179e\"], [0.4444444444444444, \"#bd3786\"], [0.5555555555555556, \"#d8576b\"], [0.6666666666666666, \"#ed7953\"], [0.7777777777777778, \"#fb9f3a\"], [0.8888888888888888, \"#fdca26\"], [1.0, \"#f0f921\"]], \"type\": \"histogram2dcontour\"}], \"mesh3d\": [{\"colorbar\": {\"outlinewidth\": 0, \"ticks\": \"\"}, \"type\": \"mesh3d\"}], \"parcoords\": [{\"line\": {\"colorbar\": {\"outlinewidth\": 0, \"ticks\": \"\"}}, \"type\": \"parcoords\"}], \"pie\": [{\"automargin\": true, \"type\": \"pie\"}], \"scatter\": [{\"marker\": {\"colorbar\": {\"outlinewidth\": 0, \"ticks\": \"\"}}, \"type\": \"scatter\"}], \"scatter3d\": [{\"line\": {\"colorbar\": {\"outlinewidth\": 0, \"ticks\": \"\"}}, \"marker\": {\"colorbar\": {\"outlinewidth\": 0, \"ticks\": \"\"}}, \"type\": \"scatter3d\"}], \"scattercarpet\": [{\"marker\": {\"colorbar\": {\"outlinewidth\": 0, \"ticks\": \"\"}}, \"type\": \"scattercarpet\"}], \"scattergeo\": [{\"marker\": {\"colorbar\": {\"outlinewidth\": 0, \"ticks\": \"\"}}, \"type\": \"scattergeo\"}], \"scattergl\": [{\"marker\": {\"colorbar\": {\"outlinewidth\": 0, \"ticks\": \"\"}}, \"type\": \"scattergl\"}], \"scattermapbox\": [{\"marker\": {\"colorbar\": {\"outlinewidth\": 0, \"ticks\": \"\"}}, \"type\": \"scattermapbox\"}], \"scatterpolar\": [{\"marker\": {\"colorbar\": {\"outlinewidth\": 0, \"ticks\": \"\"}}, \"type\": \"scatterpolar\"}], \"scatterpolargl\": [{\"marker\": {\"colorbar\": {\"outlinewidth\": 0, \"ticks\": \"\"}}, \"type\": \"scatterpolargl\"}], \"scatterternary\": [{\"marker\": {\"colorbar\": {\"outlinewidth\": 0, \"ticks\": \"\"}}, \"type\": \"scatterternary\"}], \"surface\": [{\"colorbar\": {\"outlinewidth\": 0, \"ticks\": \"\"}, \"colorscale\": [[0.0, \"#0d0887\"], [0.1111111111111111, \"#46039f\"], [0.2222222222222222, \"#7201a8\"], [0.3333333333333333, \"#9c179e\"], [0.4444444444444444, \"#bd3786\"], [0.5555555555555556, \"#d8576b\"], [0.6666666666666666, \"#ed7953\"], [0.7777777777777778, \"#fb9f3a\"], [0.8888888888888888, \"#fdca26\"], [1.0, \"#f0f921\"]], \"type\": \"surface\"}], \"table\": [{\"cells\": {\"fill\": {\"color\": \"#EBF0F8\"}, \"line\": {\"color\": \"white\"}}, \"header\": {\"fill\": {\"color\": \"#C8D4E3\"}, \"line\": {\"color\": \"white\"}}, \"type\": \"table\"}]}, \"layout\": {\"annotationdefaults\": {\"arrowcolor\": \"#2a3f5f\", \"arrowhead\": 0, \"arrowwidth\": 1}, \"coloraxis\": {\"colorbar\": {\"outlinewidth\": 0, \"ticks\": \"\"}}, \"colorscale\": {\"diverging\": [[0, \"#8e0152\"], [0.1, \"#c51b7d\"], [0.2, \"#de77ae\"], [0.3, \"#f1b6da\"], [0.4, \"#fde0ef\"], [0.5, \"#f7f7f7\"], [0.6, \"#e6f5d0\"], [0.7, \"#b8e186\"], [0.8, \"#7fbc41\"], [0.9, \"#4d9221\"], [1, \"#276419\"]], \"sequential\": [[0.0, \"#0d0887\"], [0.1111111111111111, \"#46039f\"], [0.2222222222222222, \"#7201a8\"], [0.3333333333333333, \"#9c179e\"], [0.4444444444444444, \"#bd3786\"], [0.5555555555555556, \"#d8576b\"], [0.6666666666666666, \"#ed7953\"], [0.7777777777777778, \"#fb9f3a\"], [0.8888888888888888, \"#fdca26\"], [1.0, \"#f0f921\"]], \"sequentialminus\": [[0.0, \"#0d0887\"], [0.1111111111111111, \"#46039f\"], [0.2222222222222222, \"#7201a8\"], [0.3333333333333333, \"#9c179e\"], [0.4444444444444444, \"#bd3786\"], [0.5555555555555556, \"#d8576b\"], [0.6666666666666666, \"#ed7953\"], [0.7777777777777778, \"#fb9f3a\"], [0.8888888888888888, \"#fdca26\"], [1.0, \"#f0f921\"]]}, \"colorway\": [\"#636efa\", \"#EF553B\", \"#00cc96\", \"#ab63fa\", \"#FFA15A\", \"#19d3f3\", \"#FF6692\", \"#B6E880\", \"#FF97FF\", \"#FECB52\"], \"font\": {\"color\": \"#2a3f5f\"}, \"geo\": {\"bgcolor\": \"white\", \"lakecolor\": \"white\", \"landcolor\": \"#E5ECF6\", \"showlakes\": true, \"showland\": true, \"subunitcolor\": \"white\"}, \"hoverlabel\": {\"align\": \"left\"}, \"hovermode\": \"closest\", \"mapbox\": {\"style\": \"light\"}, \"paper_bgcolor\": \"white\", \"plot_bgcolor\": \"#E5ECF6\", \"polar\": {\"angularaxis\": {\"gridcolor\": \"white\", \"linecolor\": \"white\", \"ticks\": \"\"}, \"bgcolor\": \"#E5ECF6\", \"radialaxis\": {\"gridcolor\": \"white\", \"linecolor\": \"white\", \"ticks\": \"\"}}, \"scene\": {\"xaxis\": {\"backgroundcolor\": \"#E5ECF6\", \"gridcolor\": \"white\", \"gridwidth\": 2, \"linecolor\": \"white\", \"showbackground\": true, \"ticks\": \"\", \"zerolinecolor\": \"white\"}, \"yaxis\": {\"backgroundcolor\": \"#E5ECF6\", \"gridcolor\": \"white\", \"gridwidth\": 2, \"linecolor\": \"white\", \"showbackground\": true, \"ticks\": \"\", \"zerolinecolor\": \"white\"}, \"zaxis\": {\"backgroundcolor\": \"#E5ECF6\", \"gridcolor\": \"white\", \"gridwidth\": 2, \"linecolor\": \"white\", \"showbackground\": true, \"ticks\": \"\", \"zerolinecolor\": \"white\"}}, \"shapedefaults\": {\"line\": {\"color\": \"#2a3f5f\"}}, \"ternary\": {\"aaxis\": {\"gridcolor\": \"white\", \"linecolor\": \"white\", \"ticks\": \"\"}, \"baxis\": {\"gridcolor\": \"white\", \"linecolor\": \"white\", \"ticks\": \"\"}, \"bgcolor\": \"#E5ECF6\", \"caxis\": {\"gridcolor\": \"white\", \"linecolor\": \"white\", \"ticks\": \"\"}}, \"title\": {\"x\": 0.05}, \"xaxis\": {\"automargin\": true, \"gridcolor\": \"white\", \"linecolor\": \"white\", \"ticks\": \"\", \"title\": {\"standoff\": 15}, \"zerolinecolor\": \"white\", \"zerolinewidth\": 2}, \"yaxis\": {\"automargin\": true, \"gridcolor\": \"white\", \"linecolor\": \"white\", \"ticks\": \"\", \"title\": {\"standoff\": 15}, \"zerolinecolor\": \"white\", \"zerolinewidth\": 2}}}, \"title\": {\"font\": {\"color\": \"#4D5663\"}}, \"xaxis\": {\"gridcolor\": \"#E1E5ED\", \"showgrid\": true, \"tickfont\": {\"color\": \"#4D5663\"}, \"title\": {\"font\": {\"color\": \"#4D5663\"}, \"text\": \"\"}, \"zerolinecolor\": \"#E1E5ED\"}, \"yaxis\": {\"gridcolor\": \"#E1E5ED\", \"showgrid\": true, \"tickfont\": {\"color\": \"#4D5663\"}, \"title\": {\"font\": {\"color\": \"#4D5663\"}, \"text\": \"\"}, \"zerolinecolor\": \"#E1E5ED\"}},\n",
       "                        {\"showLink\": true, \"linkText\": \"Export to plot.ly\", \"plotlyServerURL\": \"https://plot.ly\", \"responsive\": true}\n",
       "                    ).then(function(){\n",
       "                            \n",
       "var gd = document.getElementById('ba0a76f9-55ae-4704-a5fb-732bfba0a3fa');\n",
       "var x = new MutationObserver(function (mutations, observer) {{\n",
       "        var display = window.getComputedStyle(gd).display;\n",
       "        if (!display || display === 'none') {{\n",
       "            console.log([gd, 'removed!']);\n",
       "            Plotly.purge(gd);\n",
       "            observer.disconnect();\n",
       "        }}\n",
       "}});\n",
       "\n",
       "// Listen for the removal of the full notebook cells\n",
       "var notebookContainer = gd.closest('#notebook-container');\n",
       "if (notebookContainer) {{\n",
       "    x.observe(notebookContainer, {childList: true});\n",
       "}}\n",
       "\n",
       "// Listen for the clearing of the current output cell\n",
       "var outputEl = gd.closest('.output');\n",
       "if (outputEl) {{\n",
       "    x.observe(outputEl, {childList: true});\n",
       "}}\n",
       "\n",
       "                        })\n",
       "                };\n",
       "                });\n",
       "            </script>\n",
       "        </div>"
      ]
     },
     "metadata": {},
     "output_type": "display_data"
    }
   ],
   "source": [
    "df3.iplot(kind='surface')"
   ]
  },
  {
   "cell_type": "code",
   "execution_count": 35,
   "metadata": {},
   "outputs": [
    {
     "data": {
      "application/vnd.plotly.v1+json": {
       "config": {
        "linkText": "Export to plot.ly",
        "plotlyServerURL": "https://plot.ly",
        "showLink": true
       },
       "data": [
        {
         "colorscale": [
          [
           0,
           "rgb(255,255,229)"
          ],
          [
           0.125,
           "rgb(255,247,188)"
          ],
          [
           0.25,
           "rgb(254,227,145)"
          ],
          [
           0.375,
           "rgb(254,196,79)"
          ],
          [
           0.5,
           "rgb(254,153,41)"
          ],
          [
           0.625,
           "rgb(236,112,20)"
          ],
          [
           0.75,
           "rgb(204,76,2)"
          ],
          [
           0.875,
           "rgb(153,52,4)"
          ],
          [
           1,
           "rgb(102,37,6)"
          ]
         ],
         "type": "surface",
         "x": [
          0,
          1,
          2,
          3,
          4
         ],
         "y": [
          "x",
          "y",
          "z"
         ],
         "z": [
          [
           1,
           2,
           3,
           4,
           5
          ],
          [
           10,
           20,
           30,
           20,
           10
          ],
          [
           5,
           4,
           3,
           2,
           1
          ]
         ]
        }
       ],
       "layout": {
        "legend": {
         "bgcolor": "#F5F6F9",
         "font": {
          "color": "#4D5663"
         }
        },
        "paper_bgcolor": "#F5F6F9",
        "plot_bgcolor": "#F5F6F9",
        "template": {
         "data": {
          "bar": [
           {
            "error_x": {
             "color": "#2a3f5f"
            },
            "error_y": {
             "color": "#2a3f5f"
            },
            "marker": {
             "line": {
              "color": "#E5ECF6",
              "width": 0.5
             }
            },
            "type": "bar"
           }
          ],
          "barpolar": [
           {
            "marker": {
             "line": {
              "color": "#E5ECF6",
              "width": 0.5
             }
            },
            "type": "barpolar"
           }
          ],
          "carpet": [
           {
            "aaxis": {
             "endlinecolor": "#2a3f5f",
             "gridcolor": "white",
             "linecolor": "white",
             "minorgridcolor": "white",
             "startlinecolor": "#2a3f5f"
            },
            "baxis": {
             "endlinecolor": "#2a3f5f",
             "gridcolor": "white",
             "linecolor": "white",
             "minorgridcolor": "white",
             "startlinecolor": "#2a3f5f"
            },
            "type": "carpet"
           }
          ],
          "choropleth": [
           {
            "colorbar": {
             "outlinewidth": 0,
             "ticks": ""
            },
            "type": "choropleth"
           }
          ],
          "contour": [
           {
            "colorbar": {
             "outlinewidth": 0,
             "ticks": ""
            },
            "colorscale": [
             [
              0,
              "#0d0887"
             ],
             [
              0.1111111111111111,
              "#46039f"
             ],
             [
              0.2222222222222222,
              "#7201a8"
             ],
             [
              0.3333333333333333,
              "#9c179e"
             ],
             [
              0.4444444444444444,
              "#bd3786"
             ],
             [
              0.5555555555555556,
              "#d8576b"
             ],
             [
              0.6666666666666666,
              "#ed7953"
             ],
             [
              0.7777777777777778,
              "#fb9f3a"
             ],
             [
              0.8888888888888888,
              "#fdca26"
             ],
             [
              1,
              "#f0f921"
             ]
            ],
            "type": "contour"
           }
          ],
          "contourcarpet": [
           {
            "colorbar": {
             "outlinewidth": 0,
             "ticks": ""
            },
            "type": "contourcarpet"
           }
          ],
          "heatmap": [
           {
            "colorbar": {
             "outlinewidth": 0,
             "ticks": ""
            },
            "colorscale": [
             [
              0,
              "#0d0887"
             ],
             [
              0.1111111111111111,
              "#46039f"
             ],
             [
              0.2222222222222222,
              "#7201a8"
             ],
             [
              0.3333333333333333,
              "#9c179e"
             ],
             [
              0.4444444444444444,
              "#bd3786"
             ],
             [
              0.5555555555555556,
              "#d8576b"
             ],
             [
              0.6666666666666666,
              "#ed7953"
             ],
             [
              0.7777777777777778,
              "#fb9f3a"
             ],
             [
              0.8888888888888888,
              "#fdca26"
             ],
             [
              1,
              "#f0f921"
             ]
            ],
            "type": "heatmap"
           }
          ],
          "heatmapgl": [
           {
            "colorbar": {
             "outlinewidth": 0,
             "ticks": ""
            },
            "colorscale": [
             [
              0,
              "#0d0887"
             ],
             [
              0.1111111111111111,
              "#46039f"
             ],
             [
              0.2222222222222222,
              "#7201a8"
             ],
             [
              0.3333333333333333,
              "#9c179e"
             ],
             [
              0.4444444444444444,
              "#bd3786"
             ],
             [
              0.5555555555555556,
              "#d8576b"
             ],
             [
              0.6666666666666666,
              "#ed7953"
             ],
             [
              0.7777777777777778,
              "#fb9f3a"
             ],
             [
              0.8888888888888888,
              "#fdca26"
             ],
             [
              1,
              "#f0f921"
             ]
            ],
            "type": "heatmapgl"
           }
          ],
          "histogram": [
           {
            "marker": {
             "colorbar": {
              "outlinewidth": 0,
              "ticks": ""
             }
            },
            "type": "histogram"
           }
          ],
          "histogram2d": [
           {
            "colorbar": {
             "outlinewidth": 0,
             "ticks": ""
            },
            "colorscale": [
             [
              0,
              "#0d0887"
             ],
             [
              0.1111111111111111,
              "#46039f"
             ],
             [
              0.2222222222222222,
              "#7201a8"
             ],
             [
              0.3333333333333333,
              "#9c179e"
             ],
             [
              0.4444444444444444,
              "#bd3786"
             ],
             [
              0.5555555555555556,
              "#d8576b"
             ],
             [
              0.6666666666666666,
              "#ed7953"
             ],
             [
              0.7777777777777778,
              "#fb9f3a"
             ],
             [
              0.8888888888888888,
              "#fdca26"
             ],
             [
              1,
              "#f0f921"
             ]
            ],
            "type": "histogram2d"
           }
          ],
          "histogram2dcontour": [
           {
            "colorbar": {
             "outlinewidth": 0,
             "ticks": ""
            },
            "colorscale": [
             [
              0,
              "#0d0887"
             ],
             [
              0.1111111111111111,
              "#46039f"
             ],
             [
              0.2222222222222222,
              "#7201a8"
             ],
             [
              0.3333333333333333,
              "#9c179e"
             ],
             [
              0.4444444444444444,
              "#bd3786"
             ],
             [
              0.5555555555555556,
              "#d8576b"
             ],
             [
              0.6666666666666666,
              "#ed7953"
             ],
             [
              0.7777777777777778,
              "#fb9f3a"
             ],
             [
              0.8888888888888888,
              "#fdca26"
             ],
             [
              1,
              "#f0f921"
             ]
            ],
            "type": "histogram2dcontour"
           }
          ],
          "mesh3d": [
           {
            "colorbar": {
             "outlinewidth": 0,
             "ticks": ""
            },
            "type": "mesh3d"
           }
          ],
          "parcoords": [
           {
            "line": {
             "colorbar": {
              "outlinewidth": 0,
              "ticks": ""
             }
            },
            "type": "parcoords"
           }
          ],
          "pie": [
           {
            "automargin": true,
            "type": "pie"
           }
          ],
          "scatter": [
           {
            "marker": {
             "colorbar": {
              "outlinewidth": 0,
              "ticks": ""
             }
            },
            "type": "scatter"
           }
          ],
          "scatter3d": [
           {
            "line": {
             "colorbar": {
              "outlinewidth": 0,
              "ticks": ""
             }
            },
            "marker": {
             "colorbar": {
              "outlinewidth": 0,
              "ticks": ""
             }
            },
            "type": "scatter3d"
           }
          ],
          "scattercarpet": [
           {
            "marker": {
             "colorbar": {
              "outlinewidth": 0,
              "ticks": ""
             }
            },
            "type": "scattercarpet"
           }
          ],
          "scattergeo": [
           {
            "marker": {
             "colorbar": {
              "outlinewidth": 0,
              "ticks": ""
             }
            },
            "type": "scattergeo"
           }
          ],
          "scattergl": [
           {
            "marker": {
             "colorbar": {
              "outlinewidth": 0,
              "ticks": ""
             }
            },
            "type": "scattergl"
           }
          ],
          "scattermapbox": [
           {
            "marker": {
             "colorbar": {
              "outlinewidth": 0,
              "ticks": ""
             }
            },
            "type": "scattermapbox"
           }
          ],
          "scatterpolar": [
           {
            "marker": {
             "colorbar": {
              "outlinewidth": 0,
              "ticks": ""
             }
            },
            "type": "scatterpolar"
           }
          ],
          "scatterpolargl": [
           {
            "marker": {
             "colorbar": {
              "outlinewidth": 0,
              "ticks": ""
             }
            },
            "type": "scatterpolargl"
           }
          ],
          "scatterternary": [
           {
            "marker": {
             "colorbar": {
              "outlinewidth": 0,
              "ticks": ""
             }
            },
            "type": "scatterternary"
           }
          ],
          "surface": [
           {
            "colorbar": {
             "outlinewidth": 0,
             "ticks": ""
            },
            "colorscale": [
             [
              0,
              "#0d0887"
             ],
             [
              0.1111111111111111,
              "#46039f"
             ],
             [
              0.2222222222222222,
              "#7201a8"
             ],
             [
              0.3333333333333333,
              "#9c179e"
             ],
             [
              0.4444444444444444,
              "#bd3786"
             ],
             [
              0.5555555555555556,
              "#d8576b"
             ],
             [
              0.6666666666666666,
              "#ed7953"
             ],
             [
              0.7777777777777778,
              "#fb9f3a"
             ],
             [
              0.8888888888888888,
              "#fdca26"
             ],
             [
              1,
              "#f0f921"
             ]
            ],
            "type": "surface"
           }
          ],
          "table": [
           {
            "cells": {
             "fill": {
              "color": "#EBF0F8"
             },
             "line": {
              "color": "white"
             }
            },
            "header": {
             "fill": {
              "color": "#C8D4E3"
             },
             "line": {
              "color": "white"
             }
            },
            "type": "table"
           }
          ]
         },
         "layout": {
          "annotationdefaults": {
           "arrowcolor": "#2a3f5f",
           "arrowhead": 0,
           "arrowwidth": 1
          },
          "coloraxis": {
           "colorbar": {
            "outlinewidth": 0,
            "ticks": ""
           }
          },
          "colorscale": {
           "diverging": [
            [
             0,
             "#8e0152"
            ],
            [
             0.1,
             "#c51b7d"
            ],
            [
             0.2,
             "#de77ae"
            ],
            [
             0.3,
             "#f1b6da"
            ],
            [
             0.4,
             "#fde0ef"
            ],
            [
             0.5,
             "#f7f7f7"
            ],
            [
             0.6,
             "#e6f5d0"
            ],
            [
             0.7,
             "#b8e186"
            ],
            [
             0.8,
             "#7fbc41"
            ],
            [
             0.9,
             "#4d9221"
            ],
            [
             1,
             "#276419"
            ]
           ],
           "sequential": [
            [
             0,
             "#0d0887"
            ],
            [
             0.1111111111111111,
             "#46039f"
            ],
            [
             0.2222222222222222,
             "#7201a8"
            ],
            [
             0.3333333333333333,
             "#9c179e"
            ],
            [
             0.4444444444444444,
             "#bd3786"
            ],
            [
             0.5555555555555556,
             "#d8576b"
            ],
            [
             0.6666666666666666,
             "#ed7953"
            ],
            [
             0.7777777777777778,
             "#fb9f3a"
            ],
            [
             0.8888888888888888,
             "#fdca26"
            ],
            [
             1,
             "#f0f921"
            ]
           ],
           "sequentialminus": [
            [
             0,
             "#0d0887"
            ],
            [
             0.1111111111111111,
             "#46039f"
            ],
            [
             0.2222222222222222,
             "#7201a8"
            ],
            [
             0.3333333333333333,
             "#9c179e"
            ],
            [
             0.4444444444444444,
             "#bd3786"
            ],
            [
             0.5555555555555556,
             "#d8576b"
            ],
            [
             0.6666666666666666,
             "#ed7953"
            ],
            [
             0.7777777777777778,
             "#fb9f3a"
            ],
            [
             0.8888888888888888,
             "#fdca26"
            ],
            [
             1,
             "#f0f921"
            ]
           ]
          },
          "colorway": [
           "#636efa",
           "#EF553B",
           "#00cc96",
           "#ab63fa",
           "#FFA15A",
           "#19d3f3",
           "#FF6692",
           "#B6E880",
           "#FF97FF",
           "#FECB52"
          ],
          "font": {
           "color": "#2a3f5f"
          },
          "geo": {
           "bgcolor": "white",
           "lakecolor": "white",
           "landcolor": "#E5ECF6",
           "showlakes": true,
           "showland": true,
           "subunitcolor": "white"
          },
          "hoverlabel": {
           "align": "left"
          },
          "hovermode": "closest",
          "mapbox": {
           "style": "light"
          },
          "paper_bgcolor": "white",
          "plot_bgcolor": "#E5ECF6",
          "polar": {
           "angularaxis": {
            "gridcolor": "white",
            "linecolor": "white",
            "ticks": ""
           },
           "bgcolor": "#E5ECF6",
           "radialaxis": {
            "gridcolor": "white",
            "linecolor": "white",
            "ticks": ""
           }
          },
          "scene": {
           "xaxis": {
            "backgroundcolor": "#E5ECF6",
            "gridcolor": "white",
            "gridwidth": 2,
            "linecolor": "white",
            "showbackground": true,
            "ticks": "",
            "zerolinecolor": "white"
           },
           "yaxis": {
            "backgroundcolor": "#E5ECF6",
            "gridcolor": "white",
            "gridwidth": 2,
            "linecolor": "white",
            "showbackground": true,
            "ticks": "",
            "zerolinecolor": "white"
           },
           "zaxis": {
            "backgroundcolor": "#E5ECF6",
            "gridcolor": "white",
            "gridwidth": 2,
            "linecolor": "white",
            "showbackground": true,
            "ticks": "",
            "zerolinecolor": "white"
           }
          },
          "shapedefaults": {
           "line": {
            "color": "#2a3f5f"
           }
          },
          "ternary": {
           "aaxis": {
            "gridcolor": "white",
            "linecolor": "white",
            "ticks": ""
           },
           "baxis": {
            "gridcolor": "white",
            "linecolor": "white",
            "ticks": ""
           },
           "bgcolor": "#E5ECF6",
           "caxis": {
            "gridcolor": "white",
            "linecolor": "white",
            "ticks": ""
           }
          },
          "title": {
           "x": 0.05
          },
          "xaxis": {
           "automargin": true,
           "gridcolor": "white",
           "linecolor": "white",
           "ticks": "",
           "title": {
            "standoff": 15
           },
           "zerolinecolor": "white",
           "zerolinewidth": 2
          },
          "yaxis": {
           "automargin": true,
           "gridcolor": "white",
           "linecolor": "white",
           "ticks": "",
           "title": {
            "standoff": 15
           },
           "zerolinecolor": "white",
           "zerolinewidth": 2
          }
         }
        },
        "title": {
         "font": {
          "color": "#4D5663"
         }
        },
        "xaxis": {
         "gridcolor": "#E1E5ED",
         "showgrid": true,
         "tickfont": {
          "color": "#4D5663"
         },
         "title": {
          "font": {
           "color": "#4D5663"
          },
          "text": ""
         },
         "zerolinecolor": "#E1E5ED"
        },
        "yaxis": {
         "gridcolor": "#E1E5ED",
         "showgrid": true,
         "tickfont": {
          "color": "#4D5663"
         },
         "title": {
          "font": {
           "color": "#4D5663"
          },
          "text": ""
         },
         "zerolinecolor": "#E1E5ED"
        }
       }
      },
      "text/html": [
       "<div>\n",
       "        \n",
       "        \n",
       "            <div id=\"47568137-427f-4109-966c-2c63ccd16eee\" class=\"plotly-graph-div\" style=\"height:525px; width:100%;\"></div>\n",
       "            <script type=\"text/javascript\">\n",
       "                require([\"plotly\"], function(Plotly) {\n",
       "                    window.PLOTLYENV=window.PLOTLYENV || {};\n",
       "                    window.PLOTLYENV.BASE_URL='https://plot.ly';\n",
       "                    \n",
       "                if (document.getElementById(\"47568137-427f-4109-966c-2c63ccd16eee\")) {\n",
       "                    Plotly.newPlot(\n",
       "                        '47568137-427f-4109-966c-2c63ccd16eee',\n",
       "                        [{\"colorscale\": [[0.0, \"rgb(255,255,229)\"], [0.125, \"rgb(255,247,188)\"], [0.25, \"rgb(254,227,145)\"], [0.375, \"rgb(254,196,79)\"], [0.5, \"rgb(254,153,41)\"], [0.625, \"rgb(236,112,20)\"], [0.75, \"rgb(204,76,2)\"], [0.875, \"rgb(153,52,4)\"], [1.0, \"rgb(102,37,6)\"]], \"type\": \"surface\", \"x\": [0, 1, 2, 3, 4], \"y\": [\"x\", \"y\", \"z\"], \"z\": [[1, 2, 3, 4, 5], [10, 20, 30, 20, 10], [5, 4, 3, 2, 1]]}],\n",
       "                        {\"legend\": {\"bgcolor\": \"#F5F6F9\", \"font\": {\"color\": \"#4D5663\"}}, \"paper_bgcolor\": \"#F5F6F9\", \"plot_bgcolor\": \"#F5F6F9\", \"template\": {\"data\": {\"bar\": [{\"error_x\": {\"color\": \"#2a3f5f\"}, \"error_y\": {\"color\": \"#2a3f5f\"}, \"marker\": {\"line\": {\"color\": \"#E5ECF6\", \"width\": 0.5}}, \"type\": \"bar\"}], \"barpolar\": [{\"marker\": {\"line\": {\"color\": \"#E5ECF6\", \"width\": 0.5}}, \"type\": \"barpolar\"}], \"carpet\": [{\"aaxis\": {\"endlinecolor\": \"#2a3f5f\", \"gridcolor\": \"white\", \"linecolor\": \"white\", \"minorgridcolor\": \"white\", \"startlinecolor\": \"#2a3f5f\"}, \"baxis\": {\"endlinecolor\": \"#2a3f5f\", \"gridcolor\": \"white\", \"linecolor\": \"white\", \"minorgridcolor\": \"white\", \"startlinecolor\": \"#2a3f5f\"}, \"type\": \"carpet\"}], \"choropleth\": [{\"colorbar\": {\"outlinewidth\": 0, \"ticks\": \"\"}, \"type\": \"choropleth\"}], \"contour\": [{\"colorbar\": {\"outlinewidth\": 0, \"ticks\": \"\"}, \"colorscale\": [[0.0, \"#0d0887\"], [0.1111111111111111, \"#46039f\"], [0.2222222222222222, \"#7201a8\"], [0.3333333333333333, \"#9c179e\"], [0.4444444444444444, \"#bd3786\"], [0.5555555555555556, \"#d8576b\"], [0.6666666666666666, \"#ed7953\"], [0.7777777777777778, \"#fb9f3a\"], [0.8888888888888888, \"#fdca26\"], [1.0, \"#f0f921\"]], \"type\": \"contour\"}], \"contourcarpet\": [{\"colorbar\": {\"outlinewidth\": 0, \"ticks\": \"\"}, \"type\": \"contourcarpet\"}], \"heatmap\": [{\"colorbar\": {\"outlinewidth\": 0, \"ticks\": \"\"}, \"colorscale\": [[0.0, \"#0d0887\"], [0.1111111111111111, \"#46039f\"], [0.2222222222222222, \"#7201a8\"], [0.3333333333333333, \"#9c179e\"], [0.4444444444444444, \"#bd3786\"], [0.5555555555555556, \"#d8576b\"], [0.6666666666666666, \"#ed7953\"], [0.7777777777777778, \"#fb9f3a\"], [0.8888888888888888, \"#fdca26\"], [1.0, \"#f0f921\"]], \"type\": \"heatmap\"}], \"heatmapgl\": [{\"colorbar\": {\"outlinewidth\": 0, \"ticks\": \"\"}, \"colorscale\": [[0.0, \"#0d0887\"], [0.1111111111111111, \"#46039f\"], [0.2222222222222222, \"#7201a8\"], [0.3333333333333333, \"#9c179e\"], [0.4444444444444444, \"#bd3786\"], [0.5555555555555556, \"#d8576b\"], [0.6666666666666666, \"#ed7953\"], [0.7777777777777778, \"#fb9f3a\"], [0.8888888888888888, \"#fdca26\"], [1.0, \"#f0f921\"]], \"type\": \"heatmapgl\"}], \"histogram\": [{\"marker\": {\"colorbar\": {\"outlinewidth\": 0, \"ticks\": \"\"}}, \"type\": \"histogram\"}], \"histogram2d\": [{\"colorbar\": {\"outlinewidth\": 0, \"ticks\": \"\"}, \"colorscale\": [[0.0, \"#0d0887\"], [0.1111111111111111, \"#46039f\"], [0.2222222222222222, \"#7201a8\"], [0.3333333333333333, \"#9c179e\"], [0.4444444444444444, \"#bd3786\"], [0.5555555555555556, \"#d8576b\"], [0.6666666666666666, \"#ed7953\"], [0.7777777777777778, \"#fb9f3a\"], [0.8888888888888888, \"#fdca26\"], [1.0, \"#f0f921\"]], \"type\": \"histogram2d\"}], \"histogram2dcontour\": [{\"colorbar\": {\"outlinewidth\": 0, \"ticks\": \"\"}, \"colorscale\": [[0.0, \"#0d0887\"], [0.1111111111111111, \"#46039f\"], [0.2222222222222222, \"#7201a8\"], [0.3333333333333333, \"#9c179e\"], [0.4444444444444444, \"#bd3786\"], [0.5555555555555556, \"#d8576b\"], [0.6666666666666666, \"#ed7953\"], [0.7777777777777778, \"#fb9f3a\"], [0.8888888888888888, \"#fdca26\"], [1.0, \"#f0f921\"]], \"type\": \"histogram2dcontour\"}], \"mesh3d\": [{\"colorbar\": {\"outlinewidth\": 0, \"ticks\": \"\"}, \"type\": \"mesh3d\"}], \"parcoords\": [{\"line\": {\"colorbar\": {\"outlinewidth\": 0, \"ticks\": \"\"}}, \"type\": \"parcoords\"}], \"pie\": [{\"automargin\": true, \"type\": \"pie\"}], \"scatter\": [{\"marker\": {\"colorbar\": {\"outlinewidth\": 0, \"ticks\": \"\"}}, \"type\": \"scatter\"}], \"scatter3d\": [{\"line\": {\"colorbar\": {\"outlinewidth\": 0, \"ticks\": \"\"}}, \"marker\": {\"colorbar\": {\"outlinewidth\": 0, \"ticks\": \"\"}}, \"type\": \"scatter3d\"}], \"scattercarpet\": [{\"marker\": {\"colorbar\": {\"outlinewidth\": 0, \"ticks\": \"\"}}, \"type\": \"scattercarpet\"}], \"scattergeo\": [{\"marker\": {\"colorbar\": {\"outlinewidth\": 0, \"ticks\": \"\"}}, \"type\": \"scattergeo\"}], \"scattergl\": [{\"marker\": {\"colorbar\": {\"outlinewidth\": 0, \"ticks\": \"\"}}, \"type\": \"scattergl\"}], \"scattermapbox\": [{\"marker\": {\"colorbar\": {\"outlinewidth\": 0, \"ticks\": \"\"}}, \"type\": \"scattermapbox\"}], \"scatterpolar\": [{\"marker\": {\"colorbar\": {\"outlinewidth\": 0, \"ticks\": \"\"}}, \"type\": \"scatterpolar\"}], \"scatterpolargl\": [{\"marker\": {\"colorbar\": {\"outlinewidth\": 0, \"ticks\": \"\"}}, \"type\": \"scatterpolargl\"}], \"scatterternary\": [{\"marker\": {\"colorbar\": {\"outlinewidth\": 0, \"ticks\": \"\"}}, \"type\": \"scatterternary\"}], \"surface\": [{\"colorbar\": {\"outlinewidth\": 0, \"ticks\": \"\"}, \"colorscale\": [[0.0, \"#0d0887\"], [0.1111111111111111, \"#46039f\"], [0.2222222222222222, \"#7201a8\"], [0.3333333333333333, \"#9c179e\"], [0.4444444444444444, \"#bd3786\"], [0.5555555555555556, \"#d8576b\"], [0.6666666666666666, \"#ed7953\"], [0.7777777777777778, \"#fb9f3a\"], [0.8888888888888888, \"#fdca26\"], [1.0, \"#f0f921\"]], \"type\": \"surface\"}], \"table\": [{\"cells\": {\"fill\": {\"color\": \"#EBF0F8\"}, \"line\": {\"color\": \"white\"}}, \"header\": {\"fill\": {\"color\": \"#C8D4E3\"}, \"line\": {\"color\": \"white\"}}, \"type\": \"table\"}]}, \"layout\": {\"annotationdefaults\": {\"arrowcolor\": \"#2a3f5f\", \"arrowhead\": 0, \"arrowwidth\": 1}, \"coloraxis\": {\"colorbar\": {\"outlinewidth\": 0, \"ticks\": \"\"}}, \"colorscale\": {\"diverging\": [[0, \"#8e0152\"], [0.1, \"#c51b7d\"], [0.2, \"#de77ae\"], [0.3, \"#f1b6da\"], [0.4, \"#fde0ef\"], [0.5, \"#f7f7f7\"], [0.6, \"#e6f5d0\"], [0.7, \"#b8e186\"], [0.8, \"#7fbc41\"], [0.9, \"#4d9221\"], [1, \"#276419\"]], \"sequential\": [[0.0, \"#0d0887\"], [0.1111111111111111, \"#46039f\"], [0.2222222222222222, \"#7201a8\"], [0.3333333333333333, \"#9c179e\"], [0.4444444444444444, \"#bd3786\"], [0.5555555555555556, \"#d8576b\"], [0.6666666666666666, \"#ed7953\"], [0.7777777777777778, \"#fb9f3a\"], [0.8888888888888888, \"#fdca26\"], [1.0, \"#f0f921\"]], \"sequentialminus\": [[0.0, \"#0d0887\"], [0.1111111111111111, \"#46039f\"], [0.2222222222222222, \"#7201a8\"], [0.3333333333333333, \"#9c179e\"], [0.4444444444444444, \"#bd3786\"], [0.5555555555555556, \"#d8576b\"], [0.6666666666666666, \"#ed7953\"], [0.7777777777777778, \"#fb9f3a\"], [0.8888888888888888, \"#fdca26\"], [1.0, \"#f0f921\"]]}, \"colorway\": [\"#636efa\", \"#EF553B\", \"#00cc96\", \"#ab63fa\", \"#FFA15A\", \"#19d3f3\", \"#FF6692\", \"#B6E880\", \"#FF97FF\", \"#FECB52\"], \"font\": {\"color\": \"#2a3f5f\"}, \"geo\": {\"bgcolor\": \"white\", \"lakecolor\": \"white\", \"landcolor\": \"#E5ECF6\", \"showlakes\": true, \"showland\": true, \"subunitcolor\": \"white\"}, \"hoverlabel\": {\"align\": \"left\"}, \"hovermode\": \"closest\", \"mapbox\": {\"style\": \"light\"}, \"paper_bgcolor\": \"white\", \"plot_bgcolor\": \"#E5ECF6\", \"polar\": {\"angularaxis\": {\"gridcolor\": \"white\", \"linecolor\": \"white\", \"ticks\": \"\"}, \"bgcolor\": \"#E5ECF6\", \"radialaxis\": {\"gridcolor\": \"white\", \"linecolor\": \"white\", \"ticks\": \"\"}}, \"scene\": {\"xaxis\": {\"backgroundcolor\": \"#E5ECF6\", \"gridcolor\": \"white\", \"gridwidth\": 2, \"linecolor\": \"white\", \"showbackground\": true, \"ticks\": \"\", \"zerolinecolor\": \"white\"}, \"yaxis\": {\"backgroundcolor\": \"#E5ECF6\", \"gridcolor\": \"white\", \"gridwidth\": 2, \"linecolor\": \"white\", \"showbackground\": true, \"ticks\": \"\", \"zerolinecolor\": \"white\"}, \"zaxis\": {\"backgroundcolor\": \"#E5ECF6\", \"gridcolor\": \"white\", \"gridwidth\": 2, \"linecolor\": \"white\", \"showbackground\": true, \"ticks\": \"\", \"zerolinecolor\": \"white\"}}, \"shapedefaults\": {\"line\": {\"color\": \"#2a3f5f\"}}, \"ternary\": {\"aaxis\": {\"gridcolor\": \"white\", \"linecolor\": \"white\", \"ticks\": \"\"}, \"baxis\": {\"gridcolor\": \"white\", \"linecolor\": \"white\", \"ticks\": \"\"}, \"bgcolor\": \"#E5ECF6\", \"caxis\": {\"gridcolor\": \"white\", \"linecolor\": \"white\", \"ticks\": \"\"}}, \"title\": {\"x\": 0.05}, \"xaxis\": {\"automargin\": true, \"gridcolor\": \"white\", \"linecolor\": \"white\", \"ticks\": \"\", \"title\": {\"standoff\": 15}, \"zerolinecolor\": \"white\", \"zerolinewidth\": 2}, \"yaxis\": {\"automargin\": true, \"gridcolor\": \"white\", \"linecolor\": \"white\", \"ticks\": \"\", \"title\": {\"standoff\": 15}, \"zerolinecolor\": \"white\", \"zerolinewidth\": 2}}}, \"title\": {\"font\": {\"color\": \"#4D5663\"}}, \"xaxis\": {\"gridcolor\": \"#E1E5ED\", \"showgrid\": true, \"tickfont\": {\"color\": \"#4D5663\"}, \"title\": {\"font\": {\"color\": \"#4D5663\"}, \"text\": \"\"}, \"zerolinecolor\": \"#E1E5ED\"}, \"yaxis\": {\"gridcolor\": \"#E1E5ED\", \"showgrid\": true, \"tickfont\": {\"color\": \"#4D5663\"}, \"title\": {\"font\": {\"color\": \"#4D5663\"}, \"text\": \"\"}, \"zerolinecolor\": \"#E1E5ED\"}},\n",
       "                        {\"showLink\": true, \"linkText\": \"Export to plot.ly\", \"plotlyServerURL\": \"https://plot.ly\", \"responsive\": true}\n",
       "                    ).then(function(){\n",
       "                            \n",
       "var gd = document.getElementById('47568137-427f-4109-966c-2c63ccd16eee');\n",
       "var x = new MutationObserver(function (mutations, observer) {{\n",
       "        var display = window.getComputedStyle(gd).display;\n",
       "        if (!display || display === 'none') {{\n",
       "            console.log([gd, 'removed!']);\n",
       "            Plotly.purge(gd);\n",
       "            observer.disconnect();\n",
       "        }}\n",
       "}});\n",
       "\n",
       "// Listen for the removal of the full notebook cells\n",
       "var notebookContainer = gd.closest('#notebook-container');\n",
       "if (notebookContainer) {{\n",
       "    x.observe(notebookContainer, {childList: true});\n",
       "}}\n",
       "\n",
       "// Listen for the clearing of the current output cell\n",
       "var outputEl = gd.closest('.output');\n",
       "if (outputEl) {{\n",
       "    x.observe(outputEl, {childList: true});\n",
       "}}\n",
       "\n",
       "                        })\n",
       "                };\n",
       "                });\n",
       "            </script>\n",
       "        </div>"
      ]
     },
     "metadata": {},
     "output_type": "display_data"
    }
   ],
   "source": [
    "df3.iplot(kind='surface',colorscale='ylorbr')"
   ]
  },
  {
   "cell_type": "code",
   "execution_count": 37,
   "metadata": {},
   "outputs": [
    {
     "data": {
      "application/vnd.plotly.v1+json": {
       "config": {
        "linkText": "Export to plot.ly",
        "plotlyServerURL": "https://plot.ly",
        "showLink": true
       },
       "data": [
        {
         "histfunc": "count",
         "histnorm": "",
         "marker": {
          "color": "rgba(255, 153, 51, 1.0)",
          "line": {
           "color": "#4D5663",
           "width": 1.3
          }
         },
         "name": "A",
         "nbinsx": 50,
         "opacity": 0.8,
         "orientation": "v",
         "type": "histogram",
         "x": [
          -1.3559130559175228,
          0.5303321035654701,
          0.29440697268481386,
          -2.366994851248194,
          -0.39061600426275805,
          -1.2161987223331556,
          0.19859743516019948,
          -0.04196512186229954,
          0.7816691002462268,
          -0.5625933565781353,
          0.19285116004885725,
          -0.06178195375831094,
          0.7097995605455756,
          -0.06438499550921149,
          -2.5974737858675803,
          -0.32300690338794696,
          1.0306388859623885,
          -1.941335868515121,
          -1.4355365861662128,
          -0.6573992997091732,
          0.11646656991438858,
          0.46591396507238075,
          0.05272497171678483,
          0.4581524192640287,
          1.1095119169038339,
          -0.16693785245883877,
          -2.4185233240227983,
          -0.6450810153514451,
          1.1329069163196375,
          0.6970329956343094,
          -0.22820026177348646,
          -1.4808780287987526,
          0.024367923584303973,
          0.4286231014194029,
          0.08045542686191721,
          -1.4015248719784796,
          -0.7127602575963483,
          -0.8326614239099435,
          0.9937010497254936,
          -0.5989317759807878,
          -1.4296493006161402,
          0.7713104030030286,
          -0.06980710659690535,
          1.1287545943777195,
          0.24847286609051505,
          -0.25614946259117294,
          -0.4244114222395493,
          0.5856088506470457,
          1.279303773190982,
          -0.44555925844105376,
          0.3490682053943956,
          1.0813767860789734,
          0.8133648881571423,
          -0.6562175042066347,
          -0.4121443535409477,
          1.0969280780102093,
          0.15770461247131407,
          0.042630429623211966,
          2.3683858678174623,
          1.1321042486469257,
          -0.12294684247572248,
          1.7655511106226867,
          -0.1591269815157064,
          0.11075147314174175,
          -1.0859538098553496,
          -2.191959033772851,
          -1.3356073556326191,
          -0.7607734053921369,
          -0.8295932567941922,
          -0.010402164383887734,
          0.009074950144895585,
          -1.3753860596456584,
          1.1186045911807563,
          -1.3180085977495606,
          -1.4364656665274682,
          -1.1545082613318447,
          -0.3488279565559763,
          0.22136370072874864,
          0.11027416415716094,
          -0.3289421211077479,
          1.4982170548436569,
          0.5240075572039334,
          0.14601567207029967,
          1.1131443714346898,
          -0.945595270331263,
          0.29686021046057764,
          -0.06873382405799189,
          1.3398974294041806,
          -0.1005688226330727,
          -0.5387746262762422,
          -0.767849248663247,
          -0.35100755254836946,
          0.1480598141594704,
          0.08595586430500328,
          1.162131405970528,
          0.8816251921637606,
          -0.21427435409242715,
          1.4900398420710712,
          -1.604228677811847,
          0.23534333231846755
         ]
        }
       ],
       "layout": {
        "barmode": "overlay",
        "legend": {
         "bgcolor": "#F5F6F9",
         "font": {
          "color": "#4D5663"
         }
        },
        "paper_bgcolor": "#F5F6F9",
        "plot_bgcolor": "#F5F6F9",
        "template": {
         "data": {
          "bar": [
           {
            "error_x": {
             "color": "#2a3f5f"
            },
            "error_y": {
             "color": "#2a3f5f"
            },
            "marker": {
             "line": {
              "color": "#E5ECF6",
              "width": 0.5
             }
            },
            "type": "bar"
           }
          ],
          "barpolar": [
           {
            "marker": {
             "line": {
              "color": "#E5ECF6",
              "width": 0.5
             }
            },
            "type": "barpolar"
           }
          ],
          "carpet": [
           {
            "aaxis": {
             "endlinecolor": "#2a3f5f",
             "gridcolor": "white",
             "linecolor": "white",
             "minorgridcolor": "white",
             "startlinecolor": "#2a3f5f"
            },
            "baxis": {
             "endlinecolor": "#2a3f5f",
             "gridcolor": "white",
             "linecolor": "white",
             "minorgridcolor": "white",
             "startlinecolor": "#2a3f5f"
            },
            "type": "carpet"
           }
          ],
          "choropleth": [
           {
            "colorbar": {
             "outlinewidth": 0,
             "ticks": ""
            },
            "type": "choropleth"
           }
          ],
          "contour": [
           {
            "colorbar": {
             "outlinewidth": 0,
             "ticks": ""
            },
            "colorscale": [
             [
              0,
              "#0d0887"
             ],
             [
              0.1111111111111111,
              "#46039f"
             ],
             [
              0.2222222222222222,
              "#7201a8"
             ],
             [
              0.3333333333333333,
              "#9c179e"
             ],
             [
              0.4444444444444444,
              "#bd3786"
             ],
             [
              0.5555555555555556,
              "#d8576b"
             ],
             [
              0.6666666666666666,
              "#ed7953"
             ],
             [
              0.7777777777777778,
              "#fb9f3a"
             ],
             [
              0.8888888888888888,
              "#fdca26"
             ],
             [
              1,
              "#f0f921"
             ]
            ],
            "type": "contour"
           }
          ],
          "contourcarpet": [
           {
            "colorbar": {
             "outlinewidth": 0,
             "ticks": ""
            },
            "type": "contourcarpet"
           }
          ],
          "heatmap": [
           {
            "colorbar": {
             "outlinewidth": 0,
             "ticks": ""
            },
            "colorscale": [
             [
              0,
              "#0d0887"
             ],
             [
              0.1111111111111111,
              "#46039f"
             ],
             [
              0.2222222222222222,
              "#7201a8"
             ],
             [
              0.3333333333333333,
              "#9c179e"
             ],
             [
              0.4444444444444444,
              "#bd3786"
             ],
             [
              0.5555555555555556,
              "#d8576b"
             ],
             [
              0.6666666666666666,
              "#ed7953"
             ],
             [
              0.7777777777777778,
              "#fb9f3a"
             ],
             [
              0.8888888888888888,
              "#fdca26"
             ],
             [
              1,
              "#f0f921"
             ]
            ],
            "type": "heatmap"
           }
          ],
          "heatmapgl": [
           {
            "colorbar": {
             "outlinewidth": 0,
             "ticks": ""
            },
            "colorscale": [
             [
              0,
              "#0d0887"
             ],
             [
              0.1111111111111111,
              "#46039f"
             ],
             [
              0.2222222222222222,
              "#7201a8"
             ],
             [
              0.3333333333333333,
              "#9c179e"
             ],
             [
              0.4444444444444444,
              "#bd3786"
             ],
             [
              0.5555555555555556,
              "#d8576b"
             ],
             [
              0.6666666666666666,
              "#ed7953"
             ],
             [
              0.7777777777777778,
              "#fb9f3a"
             ],
             [
              0.8888888888888888,
              "#fdca26"
             ],
             [
              1,
              "#f0f921"
             ]
            ],
            "type": "heatmapgl"
           }
          ],
          "histogram": [
           {
            "marker": {
             "colorbar": {
              "outlinewidth": 0,
              "ticks": ""
             }
            },
            "type": "histogram"
           }
          ],
          "histogram2d": [
           {
            "colorbar": {
             "outlinewidth": 0,
             "ticks": ""
            },
            "colorscale": [
             [
              0,
              "#0d0887"
             ],
             [
              0.1111111111111111,
              "#46039f"
             ],
             [
              0.2222222222222222,
              "#7201a8"
             ],
             [
              0.3333333333333333,
              "#9c179e"
             ],
             [
              0.4444444444444444,
              "#bd3786"
             ],
             [
              0.5555555555555556,
              "#d8576b"
             ],
             [
              0.6666666666666666,
              "#ed7953"
             ],
             [
              0.7777777777777778,
              "#fb9f3a"
             ],
             [
              0.8888888888888888,
              "#fdca26"
             ],
             [
              1,
              "#f0f921"
             ]
            ],
            "type": "histogram2d"
           }
          ],
          "histogram2dcontour": [
           {
            "colorbar": {
             "outlinewidth": 0,
             "ticks": ""
            },
            "colorscale": [
             [
              0,
              "#0d0887"
             ],
             [
              0.1111111111111111,
              "#46039f"
             ],
             [
              0.2222222222222222,
              "#7201a8"
             ],
             [
              0.3333333333333333,
              "#9c179e"
             ],
             [
              0.4444444444444444,
              "#bd3786"
             ],
             [
              0.5555555555555556,
              "#d8576b"
             ],
             [
              0.6666666666666666,
              "#ed7953"
             ],
             [
              0.7777777777777778,
              "#fb9f3a"
             ],
             [
              0.8888888888888888,
              "#fdca26"
             ],
             [
              1,
              "#f0f921"
             ]
            ],
            "type": "histogram2dcontour"
           }
          ],
          "mesh3d": [
           {
            "colorbar": {
             "outlinewidth": 0,
             "ticks": ""
            },
            "type": "mesh3d"
           }
          ],
          "parcoords": [
           {
            "line": {
             "colorbar": {
              "outlinewidth": 0,
              "ticks": ""
             }
            },
            "type": "parcoords"
           }
          ],
          "pie": [
           {
            "automargin": true,
            "type": "pie"
           }
          ],
          "scatter": [
           {
            "marker": {
             "colorbar": {
              "outlinewidth": 0,
              "ticks": ""
             }
            },
            "type": "scatter"
           }
          ],
          "scatter3d": [
           {
            "line": {
             "colorbar": {
              "outlinewidth": 0,
              "ticks": ""
             }
            },
            "marker": {
             "colorbar": {
              "outlinewidth": 0,
              "ticks": ""
             }
            },
            "type": "scatter3d"
           }
          ],
          "scattercarpet": [
           {
            "marker": {
             "colorbar": {
              "outlinewidth": 0,
              "ticks": ""
             }
            },
            "type": "scattercarpet"
           }
          ],
          "scattergeo": [
           {
            "marker": {
             "colorbar": {
              "outlinewidth": 0,
              "ticks": ""
             }
            },
            "type": "scattergeo"
           }
          ],
          "scattergl": [
           {
            "marker": {
             "colorbar": {
              "outlinewidth": 0,
              "ticks": ""
             }
            },
            "type": "scattergl"
           }
          ],
          "scattermapbox": [
           {
            "marker": {
             "colorbar": {
              "outlinewidth": 0,
              "ticks": ""
             }
            },
            "type": "scattermapbox"
           }
          ],
          "scatterpolar": [
           {
            "marker": {
             "colorbar": {
              "outlinewidth": 0,
              "ticks": ""
             }
            },
            "type": "scatterpolar"
           }
          ],
          "scatterpolargl": [
           {
            "marker": {
             "colorbar": {
              "outlinewidth": 0,
              "ticks": ""
             }
            },
            "type": "scatterpolargl"
           }
          ],
          "scatterternary": [
           {
            "marker": {
             "colorbar": {
              "outlinewidth": 0,
              "ticks": ""
             }
            },
            "type": "scatterternary"
           }
          ],
          "surface": [
           {
            "colorbar": {
             "outlinewidth": 0,
             "ticks": ""
            },
            "colorscale": [
             [
              0,
              "#0d0887"
             ],
             [
              0.1111111111111111,
              "#46039f"
             ],
             [
              0.2222222222222222,
              "#7201a8"
             ],
             [
              0.3333333333333333,
              "#9c179e"
             ],
             [
              0.4444444444444444,
              "#bd3786"
             ],
             [
              0.5555555555555556,
              "#d8576b"
             ],
             [
              0.6666666666666666,
              "#ed7953"
             ],
             [
              0.7777777777777778,
              "#fb9f3a"
             ],
             [
              0.8888888888888888,
              "#fdca26"
             ],
             [
              1,
              "#f0f921"
             ]
            ],
            "type": "surface"
           }
          ],
          "table": [
           {
            "cells": {
             "fill": {
              "color": "#EBF0F8"
             },
             "line": {
              "color": "white"
             }
            },
            "header": {
             "fill": {
              "color": "#C8D4E3"
             },
             "line": {
              "color": "white"
             }
            },
            "type": "table"
           }
          ]
         },
         "layout": {
          "annotationdefaults": {
           "arrowcolor": "#2a3f5f",
           "arrowhead": 0,
           "arrowwidth": 1
          },
          "coloraxis": {
           "colorbar": {
            "outlinewidth": 0,
            "ticks": ""
           }
          },
          "colorscale": {
           "diverging": [
            [
             0,
             "#8e0152"
            ],
            [
             0.1,
             "#c51b7d"
            ],
            [
             0.2,
             "#de77ae"
            ],
            [
             0.3,
             "#f1b6da"
            ],
            [
             0.4,
             "#fde0ef"
            ],
            [
             0.5,
             "#f7f7f7"
            ],
            [
             0.6,
             "#e6f5d0"
            ],
            [
             0.7,
             "#b8e186"
            ],
            [
             0.8,
             "#7fbc41"
            ],
            [
             0.9,
             "#4d9221"
            ],
            [
             1,
             "#276419"
            ]
           ],
           "sequential": [
            [
             0,
             "#0d0887"
            ],
            [
             0.1111111111111111,
             "#46039f"
            ],
            [
             0.2222222222222222,
             "#7201a8"
            ],
            [
             0.3333333333333333,
             "#9c179e"
            ],
            [
             0.4444444444444444,
             "#bd3786"
            ],
            [
             0.5555555555555556,
             "#d8576b"
            ],
            [
             0.6666666666666666,
             "#ed7953"
            ],
            [
             0.7777777777777778,
             "#fb9f3a"
            ],
            [
             0.8888888888888888,
             "#fdca26"
            ],
            [
             1,
             "#f0f921"
            ]
           ],
           "sequentialminus": [
            [
             0,
             "#0d0887"
            ],
            [
             0.1111111111111111,
             "#46039f"
            ],
            [
             0.2222222222222222,
             "#7201a8"
            ],
            [
             0.3333333333333333,
             "#9c179e"
            ],
            [
             0.4444444444444444,
             "#bd3786"
            ],
            [
             0.5555555555555556,
             "#d8576b"
            ],
            [
             0.6666666666666666,
             "#ed7953"
            ],
            [
             0.7777777777777778,
             "#fb9f3a"
            ],
            [
             0.8888888888888888,
             "#fdca26"
            ],
            [
             1,
             "#f0f921"
            ]
           ]
          },
          "colorway": [
           "#636efa",
           "#EF553B",
           "#00cc96",
           "#ab63fa",
           "#FFA15A",
           "#19d3f3",
           "#FF6692",
           "#B6E880",
           "#FF97FF",
           "#FECB52"
          ],
          "font": {
           "color": "#2a3f5f"
          },
          "geo": {
           "bgcolor": "white",
           "lakecolor": "white",
           "landcolor": "#E5ECF6",
           "showlakes": true,
           "showland": true,
           "subunitcolor": "white"
          },
          "hoverlabel": {
           "align": "left"
          },
          "hovermode": "closest",
          "mapbox": {
           "style": "light"
          },
          "paper_bgcolor": "white",
          "plot_bgcolor": "#E5ECF6",
          "polar": {
           "angularaxis": {
            "gridcolor": "white",
            "linecolor": "white",
            "ticks": ""
           },
           "bgcolor": "#E5ECF6",
           "radialaxis": {
            "gridcolor": "white",
            "linecolor": "white",
            "ticks": ""
           }
          },
          "scene": {
           "xaxis": {
            "backgroundcolor": "#E5ECF6",
            "gridcolor": "white",
            "gridwidth": 2,
            "linecolor": "white",
            "showbackground": true,
            "ticks": "",
            "zerolinecolor": "white"
           },
           "yaxis": {
            "backgroundcolor": "#E5ECF6",
            "gridcolor": "white",
            "gridwidth": 2,
            "linecolor": "white",
            "showbackground": true,
            "ticks": "",
            "zerolinecolor": "white"
           },
           "zaxis": {
            "backgroundcolor": "#E5ECF6",
            "gridcolor": "white",
            "gridwidth": 2,
            "linecolor": "white",
            "showbackground": true,
            "ticks": "",
            "zerolinecolor": "white"
           }
          },
          "shapedefaults": {
           "line": {
            "color": "#2a3f5f"
           }
          },
          "ternary": {
           "aaxis": {
            "gridcolor": "white",
            "linecolor": "white",
            "ticks": ""
           },
           "baxis": {
            "gridcolor": "white",
            "linecolor": "white",
            "ticks": ""
           },
           "bgcolor": "#E5ECF6",
           "caxis": {
            "gridcolor": "white",
            "linecolor": "white",
            "ticks": ""
           }
          },
          "title": {
           "x": 0.05
          },
          "xaxis": {
           "automargin": true,
           "gridcolor": "white",
           "linecolor": "white",
           "ticks": "",
           "title": {
            "standoff": 15
           },
           "zerolinecolor": "white",
           "zerolinewidth": 2
          },
          "yaxis": {
           "automargin": true,
           "gridcolor": "white",
           "linecolor": "white",
           "ticks": "",
           "title": {
            "standoff": 15
           },
           "zerolinecolor": "white",
           "zerolinewidth": 2
          }
         }
        },
        "title": {
         "font": {
          "color": "#4D5663"
         }
        },
        "xaxis": {
         "gridcolor": "#E1E5ED",
         "showgrid": true,
         "tickfont": {
          "color": "#4D5663"
         },
         "title": {
          "font": {
           "color": "#4D5663"
          },
          "text": ""
         },
         "zerolinecolor": "#E1E5ED"
        },
        "yaxis": {
         "gridcolor": "#E1E5ED",
         "showgrid": true,
         "tickfont": {
          "color": "#4D5663"
         },
         "title": {
          "font": {
           "color": "#4D5663"
          },
          "text": ""
         },
         "zerolinecolor": "#E1E5ED"
        }
       }
      },
      "text/html": [
       "<div>\n",
       "        \n",
       "        \n",
       "            <div id=\"0e2435d5-06f7-49ae-bbe0-dd899af560e5\" class=\"plotly-graph-div\" style=\"height:525px; width:100%;\"></div>\n",
       "            <script type=\"text/javascript\">\n",
       "                require([\"plotly\"], function(Plotly) {\n",
       "                    window.PLOTLYENV=window.PLOTLYENV || {};\n",
       "                    window.PLOTLYENV.BASE_URL='https://plot.ly';\n",
       "                    \n",
       "                if (document.getElementById(\"0e2435d5-06f7-49ae-bbe0-dd899af560e5\")) {\n",
       "                    Plotly.newPlot(\n",
       "                        '0e2435d5-06f7-49ae-bbe0-dd899af560e5',\n",
       "                        [{\"histfunc\": \"count\", \"histnorm\": \"\", \"marker\": {\"color\": \"rgba(255, 153, 51, 1.0)\", \"line\": {\"color\": \"#4D5663\", \"width\": 1.3}}, \"name\": \"A\", \"nbinsx\": 50, \"opacity\": 0.8, \"orientation\": \"v\", \"type\": \"histogram\", \"x\": [-1.3559130559175228, 0.5303321035654701, 0.29440697268481386, -2.366994851248194, -0.39061600426275805, -1.2161987223331556, 0.19859743516019948, -0.04196512186229954, 0.7816691002462268, -0.5625933565781353, 0.19285116004885725, -0.06178195375831094, 0.7097995605455756, -0.06438499550921149, -2.5974737858675803, -0.32300690338794696, 1.0306388859623885, -1.941335868515121, -1.4355365861662128, -0.6573992997091732, 0.11646656991438858, 0.46591396507238075, 0.05272497171678483, 0.4581524192640287, 1.1095119169038339, -0.16693785245883877, -2.4185233240227983, -0.6450810153514451, 1.1329069163196375, 0.6970329956343094, -0.22820026177348646, -1.4808780287987526, 0.024367923584303973, 0.4286231014194029, 0.08045542686191721, -1.4015248719784796, -0.7127602575963483, -0.8326614239099435, 0.9937010497254936, -0.5989317759807878, -1.4296493006161402, 0.7713104030030286, -0.06980710659690535, 1.1287545943777195, 0.24847286609051505, -0.25614946259117294, -0.4244114222395493, 0.5856088506470457, 1.279303773190982, -0.44555925844105376, 0.3490682053943956, 1.0813767860789734, 0.8133648881571423, -0.6562175042066347, -0.4121443535409477, 1.0969280780102093, 0.15770461247131407, 0.042630429623211966, 2.3683858678174623, 1.1321042486469257, -0.12294684247572248, 1.7655511106226867, -0.1591269815157064, 0.11075147314174175, -1.0859538098553496, -2.191959033772851, -1.3356073556326191, -0.7607734053921369, -0.8295932567941922, -0.010402164383887734, 0.009074950144895585, -1.3753860596456584, 1.1186045911807563, -1.3180085977495606, -1.4364656665274682, -1.1545082613318447, -0.3488279565559763, 0.22136370072874864, 0.11027416415716094, -0.3289421211077479, 1.4982170548436569, 0.5240075572039334, 0.14601567207029967, 1.1131443714346898, -0.945595270331263, 0.29686021046057764, -0.06873382405799189, 1.3398974294041806, -0.1005688226330727, -0.5387746262762422, -0.767849248663247, -0.35100755254836946, 0.1480598141594704, 0.08595586430500328, 1.162131405970528, 0.8816251921637606, -0.21427435409242715, 1.4900398420710712, -1.604228677811847, 0.23534333231846755]}],\n",
       "                        {\"barmode\": \"overlay\", \"legend\": {\"bgcolor\": \"#F5F6F9\", \"font\": {\"color\": \"#4D5663\"}}, \"paper_bgcolor\": \"#F5F6F9\", \"plot_bgcolor\": \"#F5F6F9\", \"template\": {\"data\": {\"bar\": [{\"error_x\": {\"color\": \"#2a3f5f\"}, \"error_y\": {\"color\": \"#2a3f5f\"}, \"marker\": {\"line\": {\"color\": \"#E5ECF6\", \"width\": 0.5}}, \"type\": \"bar\"}], \"barpolar\": [{\"marker\": {\"line\": {\"color\": \"#E5ECF6\", \"width\": 0.5}}, \"type\": \"barpolar\"}], \"carpet\": [{\"aaxis\": {\"endlinecolor\": \"#2a3f5f\", \"gridcolor\": \"white\", \"linecolor\": \"white\", \"minorgridcolor\": \"white\", \"startlinecolor\": \"#2a3f5f\"}, \"baxis\": {\"endlinecolor\": \"#2a3f5f\", \"gridcolor\": \"white\", \"linecolor\": \"white\", \"minorgridcolor\": \"white\", \"startlinecolor\": \"#2a3f5f\"}, \"type\": \"carpet\"}], \"choropleth\": [{\"colorbar\": {\"outlinewidth\": 0, \"ticks\": \"\"}, \"type\": \"choropleth\"}], \"contour\": [{\"colorbar\": {\"outlinewidth\": 0, \"ticks\": \"\"}, \"colorscale\": [[0.0, \"#0d0887\"], [0.1111111111111111, \"#46039f\"], [0.2222222222222222, \"#7201a8\"], [0.3333333333333333, \"#9c179e\"], [0.4444444444444444, \"#bd3786\"], [0.5555555555555556, \"#d8576b\"], [0.6666666666666666, \"#ed7953\"], [0.7777777777777778, \"#fb9f3a\"], [0.8888888888888888, \"#fdca26\"], [1.0, \"#f0f921\"]], \"type\": \"contour\"}], \"contourcarpet\": [{\"colorbar\": {\"outlinewidth\": 0, \"ticks\": \"\"}, \"type\": \"contourcarpet\"}], \"heatmap\": [{\"colorbar\": {\"outlinewidth\": 0, \"ticks\": \"\"}, \"colorscale\": [[0.0, \"#0d0887\"], [0.1111111111111111, \"#46039f\"], [0.2222222222222222, \"#7201a8\"], [0.3333333333333333, \"#9c179e\"], [0.4444444444444444, \"#bd3786\"], [0.5555555555555556, \"#d8576b\"], [0.6666666666666666, \"#ed7953\"], [0.7777777777777778, \"#fb9f3a\"], [0.8888888888888888, \"#fdca26\"], [1.0, \"#f0f921\"]], \"type\": \"heatmap\"}], \"heatmapgl\": [{\"colorbar\": {\"outlinewidth\": 0, \"ticks\": \"\"}, \"colorscale\": [[0.0, \"#0d0887\"], [0.1111111111111111, \"#46039f\"], [0.2222222222222222, \"#7201a8\"], [0.3333333333333333, \"#9c179e\"], [0.4444444444444444, \"#bd3786\"], [0.5555555555555556, \"#d8576b\"], [0.6666666666666666, \"#ed7953\"], [0.7777777777777778, \"#fb9f3a\"], [0.8888888888888888, \"#fdca26\"], [1.0, \"#f0f921\"]], \"type\": \"heatmapgl\"}], \"histogram\": [{\"marker\": {\"colorbar\": {\"outlinewidth\": 0, \"ticks\": \"\"}}, \"type\": \"histogram\"}], \"histogram2d\": [{\"colorbar\": {\"outlinewidth\": 0, \"ticks\": \"\"}, \"colorscale\": [[0.0, \"#0d0887\"], [0.1111111111111111, \"#46039f\"], [0.2222222222222222, \"#7201a8\"], [0.3333333333333333, \"#9c179e\"], [0.4444444444444444, \"#bd3786\"], [0.5555555555555556, \"#d8576b\"], [0.6666666666666666, \"#ed7953\"], [0.7777777777777778, \"#fb9f3a\"], [0.8888888888888888, \"#fdca26\"], [1.0, \"#f0f921\"]], \"type\": \"histogram2d\"}], \"histogram2dcontour\": [{\"colorbar\": {\"outlinewidth\": 0, \"ticks\": \"\"}, \"colorscale\": [[0.0, \"#0d0887\"], [0.1111111111111111, \"#46039f\"], [0.2222222222222222, \"#7201a8\"], [0.3333333333333333, \"#9c179e\"], [0.4444444444444444, \"#bd3786\"], [0.5555555555555556, \"#d8576b\"], [0.6666666666666666, \"#ed7953\"], [0.7777777777777778, \"#fb9f3a\"], [0.8888888888888888, \"#fdca26\"], [1.0, \"#f0f921\"]], \"type\": \"histogram2dcontour\"}], \"mesh3d\": [{\"colorbar\": {\"outlinewidth\": 0, \"ticks\": \"\"}, \"type\": \"mesh3d\"}], \"parcoords\": [{\"line\": {\"colorbar\": {\"outlinewidth\": 0, \"ticks\": \"\"}}, \"type\": \"parcoords\"}], \"pie\": [{\"automargin\": true, \"type\": \"pie\"}], \"scatter\": [{\"marker\": {\"colorbar\": {\"outlinewidth\": 0, \"ticks\": \"\"}}, \"type\": \"scatter\"}], \"scatter3d\": [{\"line\": {\"colorbar\": {\"outlinewidth\": 0, \"ticks\": \"\"}}, \"marker\": {\"colorbar\": {\"outlinewidth\": 0, \"ticks\": \"\"}}, \"type\": \"scatter3d\"}], \"scattercarpet\": [{\"marker\": {\"colorbar\": {\"outlinewidth\": 0, \"ticks\": \"\"}}, \"type\": \"scattercarpet\"}], \"scattergeo\": [{\"marker\": {\"colorbar\": {\"outlinewidth\": 0, \"ticks\": \"\"}}, \"type\": \"scattergeo\"}], \"scattergl\": [{\"marker\": {\"colorbar\": {\"outlinewidth\": 0, \"ticks\": \"\"}}, \"type\": \"scattergl\"}], \"scattermapbox\": [{\"marker\": {\"colorbar\": {\"outlinewidth\": 0, \"ticks\": \"\"}}, \"type\": \"scattermapbox\"}], \"scatterpolar\": [{\"marker\": {\"colorbar\": {\"outlinewidth\": 0, \"ticks\": \"\"}}, \"type\": \"scatterpolar\"}], \"scatterpolargl\": [{\"marker\": {\"colorbar\": {\"outlinewidth\": 0, \"ticks\": \"\"}}, \"type\": \"scatterpolargl\"}], \"scatterternary\": [{\"marker\": {\"colorbar\": {\"outlinewidth\": 0, \"ticks\": \"\"}}, \"type\": \"scatterternary\"}], \"surface\": [{\"colorbar\": {\"outlinewidth\": 0, \"ticks\": \"\"}, \"colorscale\": [[0.0, \"#0d0887\"], [0.1111111111111111, \"#46039f\"], [0.2222222222222222, \"#7201a8\"], [0.3333333333333333, \"#9c179e\"], [0.4444444444444444, \"#bd3786\"], [0.5555555555555556, \"#d8576b\"], [0.6666666666666666, \"#ed7953\"], [0.7777777777777778, \"#fb9f3a\"], [0.8888888888888888, \"#fdca26\"], [1.0, \"#f0f921\"]], \"type\": \"surface\"}], \"table\": [{\"cells\": {\"fill\": {\"color\": \"#EBF0F8\"}, \"line\": {\"color\": \"white\"}}, \"header\": {\"fill\": {\"color\": \"#C8D4E3\"}, \"line\": {\"color\": \"white\"}}, \"type\": \"table\"}]}, \"layout\": {\"annotationdefaults\": {\"arrowcolor\": \"#2a3f5f\", \"arrowhead\": 0, \"arrowwidth\": 1}, \"coloraxis\": {\"colorbar\": {\"outlinewidth\": 0, \"ticks\": \"\"}}, \"colorscale\": {\"diverging\": [[0, \"#8e0152\"], [0.1, \"#c51b7d\"], [0.2, \"#de77ae\"], [0.3, \"#f1b6da\"], [0.4, \"#fde0ef\"], [0.5, \"#f7f7f7\"], [0.6, \"#e6f5d0\"], [0.7, \"#b8e186\"], [0.8, \"#7fbc41\"], [0.9, \"#4d9221\"], [1, \"#276419\"]], \"sequential\": [[0.0, \"#0d0887\"], [0.1111111111111111, \"#46039f\"], [0.2222222222222222, \"#7201a8\"], [0.3333333333333333, \"#9c179e\"], [0.4444444444444444, \"#bd3786\"], [0.5555555555555556, \"#d8576b\"], [0.6666666666666666, \"#ed7953\"], [0.7777777777777778, \"#fb9f3a\"], [0.8888888888888888, \"#fdca26\"], [1.0, \"#f0f921\"]], \"sequentialminus\": [[0.0, \"#0d0887\"], [0.1111111111111111, \"#46039f\"], [0.2222222222222222, \"#7201a8\"], [0.3333333333333333, \"#9c179e\"], [0.4444444444444444, \"#bd3786\"], [0.5555555555555556, \"#d8576b\"], [0.6666666666666666, \"#ed7953\"], [0.7777777777777778, \"#fb9f3a\"], [0.8888888888888888, \"#fdca26\"], [1.0, \"#f0f921\"]]}, \"colorway\": [\"#636efa\", \"#EF553B\", \"#00cc96\", \"#ab63fa\", \"#FFA15A\", \"#19d3f3\", \"#FF6692\", \"#B6E880\", \"#FF97FF\", \"#FECB52\"], \"font\": {\"color\": \"#2a3f5f\"}, \"geo\": {\"bgcolor\": \"white\", \"lakecolor\": \"white\", \"landcolor\": \"#E5ECF6\", \"showlakes\": true, \"showland\": true, \"subunitcolor\": \"white\"}, \"hoverlabel\": {\"align\": \"left\"}, \"hovermode\": \"closest\", \"mapbox\": {\"style\": \"light\"}, \"paper_bgcolor\": \"white\", \"plot_bgcolor\": \"#E5ECF6\", \"polar\": {\"angularaxis\": {\"gridcolor\": \"white\", \"linecolor\": \"white\", \"ticks\": \"\"}, \"bgcolor\": \"#E5ECF6\", \"radialaxis\": {\"gridcolor\": \"white\", \"linecolor\": \"white\", \"ticks\": \"\"}}, \"scene\": {\"xaxis\": {\"backgroundcolor\": \"#E5ECF6\", \"gridcolor\": \"white\", \"gridwidth\": 2, \"linecolor\": \"white\", \"showbackground\": true, \"ticks\": \"\", \"zerolinecolor\": \"white\"}, \"yaxis\": {\"backgroundcolor\": \"#E5ECF6\", \"gridcolor\": \"white\", \"gridwidth\": 2, \"linecolor\": \"white\", \"showbackground\": true, \"ticks\": \"\", \"zerolinecolor\": \"white\"}, \"zaxis\": {\"backgroundcolor\": \"#E5ECF6\", \"gridcolor\": \"white\", \"gridwidth\": 2, \"linecolor\": \"white\", \"showbackground\": true, \"ticks\": \"\", \"zerolinecolor\": \"white\"}}, \"shapedefaults\": {\"line\": {\"color\": \"#2a3f5f\"}}, \"ternary\": {\"aaxis\": {\"gridcolor\": \"white\", \"linecolor\": \"white\", \"ticks\": \"\"}, \"baxis\": {\"gridcolor\": \"white\", \"linecolor\": \"white\", \"ticks\": \"\"}, \"bgcolor\": \"#E5ECF6\", \"caxis\": {\"gridcolor\": \"white\", \"linecolor\": \"white\", \"ticks\": \"\"}}, \"title\": {\"x\": 0.05}, \"xaxis\": {\"automargin\": true, \"gridcolor\": \"white\", \"linecolor\": \"white\", \"ticks\": \"\", \"title\": {\"standoff\": 15}, \"zerolinecolor\": \"white\", \"zerolinewidth\": 2}, \"yaxis\": {\"automargin\": true, \"gridcolor\": \"white\", \"linecolor\": \"white\", \"ticks\": \"\", \"title\": {\"standoff\": 15}, \"zerolinecolor\": \"white\", \"zerolinewidth\": 2}}}, \"title\": {\"font\": {\"color\": \"#4D5663\"}}, \"xaxis\": {\"gridcolor\": \"#E1E5ED\", \"showgrid\": true, \"tickfont\": {\"color\": \"#4D5663\"}, \"title\": {\"font\": {\"color\": \"#4D5663\"}, \"text\": \"\"}, \"zerolinecolor\": \"#E1E5ED\"}, \"yaxis\": {\"gridcolor\": \"#E1E5ED\", \"showgrid\": true, \"tickfont\": {\"color\": \"#4D5663\"}, \"title\": {\"font\": {\"color\": \"#4D5663\"}, \"text\": \"\"}, \"zerolinecolor\": \"#E1E5ED\"}},\n",
       "                        {\"showLink\": true, \"linkText\": \"Export to plot.ly\", \"plotlyServerURL\": \"https://plot.ly\", \"responsive\": true}\n",
       "                    ).then(function(){\n",
       "                            \n",
       "var gd = document.getElementById('0e2435d5-06f7-49ae-bbe0-dd899af560e5');\n",
       "var x = new MutationObserver(function (mutations, observer) {{\n",
       "        var display = window.getComputedStyle(gd).display;\n",
       "        if (!display || display === 'none') {{\n",
       "            console.log([gd, 'removed!']);\n",
       "            Plotly.purge(gd);\n",
       "            observer.disconnect();\n",
       "        }}\n",
       "}});\n",
       "\n",
       "// Listen for the removal of the full notebook cells\n",
       "var notebookContainer = gd.closest('#notebook-container');\n",
       "if (notebookContainer) {{\n",
       "    x.observe(notebookContainer, {childList: true});\n",
       "}}\n",
       "\n",
       "// Listen for the clearing of the current output cell\n",
       "var outputEl = gd.closest('.output');\n",
       "if (outputEl) {{\n",
       "    x.observe(outputEl, {childList: true});\n",
       "}}\n",
       "\n",
       "                        })\n",
       "                };\n",
       "                });\n",
       "            </script>\n",
       "        </div>"
      ]
     },
     "metadata": {},
     "output_type": "display_data"
    }
   ],
   "source": [
    "df['A'].iplot(kind='hist',bins=50)"
   ]
  },
  {
   "cell_type": "code",
   "execution_count": 38,
   "metadata": {},
   "outputs": [
    {
     "data": {
      "application/vnd.plotly.v1+json": {
       "config": {
        "linkText": "Export to plot.ly",
        "plotlyServerURL": "https://plot.ly",
        "showLink": true
       },
       "data": [
        {
         "histfunc": "count",
         "histnorm": "",
         "marker": {
          "color": "rgba(255, 153, 51, 1.0)",
          "line": {
           "color": "#4D5663",
           "width": 1.3
          }
         },
         "name": "A",
         "nbinsx": 50,
         "opacity": 0.8,
         "orientation": "v",
         "type": "histogram",
         "x": [
          -1.3559130559175228,
          0.5303321035654701,
          0.29440697268481386,
          -2.366994851248194,
          -0.39061600426275805,
          -1.2161987223331556,
          0.19859743516019948,
          -0.04196512186229954,
          0.7816691002462268,
          -0.5625933565781353,
          0.19285116004885725,
          -0.06178195375831094,
          0.7097995605455756,
          -0.06438499550921149,
          -2.5974737858675803,
          -0.32300690338794696,
          1.0306388859623885,
          -1.941335868515121,
          -1.4355365861662128,
          -0.6573992997091732,
          0.11646656991438858,
          0.46591396507238075,
          0.05272497171678483,
          0.4581524192640287,
          1.1095119169038339,
          -0.16693785245883877,
          -2.4185233240227983,
          -0.6450810153514451,
          1.1329069163196375,
          0.6970329956343094,
          -0.22820026177348646,
          -1.4808780287987526,
          0.024367923584303973,
          0.4286231014194029,
          0.08045542686191721,
          -1.4015248719784796,
          -0.7127602575963483,
          -0.8326614239099435,
          0.9937010497254936,
          -0.5989317759807878,
          -1.4296493006161402,
          0.7713104030030286,
          -0.06980710659690535,
          1.1287545943777195,
          0.24847286609051505,
          -0.25614946259117294,
          -0.4244114222395493,
          0.5856088506470457,
          1.279303773190982,
          -0.44555925844105376,
          0.3490682053943956,
          1.0813767860789734,
          0.8133648881571423,
          -0.6562175042066347,
          -0.4121443535409477,
          1.0969280780102093,
          0.15770461247131407,
          0.042630429623211966,
          2.3683858678174623,
          1.1321042486469257,
          -0.12294684247572248,
          1.7655511106226867,
          -0.1591269815157064,
          0.11075147314174175,
          -1.0859538098553496,
          -2.191959033772851,
          -1.3356073556326191,
          -0.7607734053921369,
          -0.8295932567941922,
          -0.010402164383887734,
          0.009074950144895585,
          -1.3753860596456584,
          1.1186045911807563,
          -1.3180085977495606,
          -1.4364656665274682,
          -1.1545082613318447,
          -0.3488279565559763,
          0.22136370072874864,
          0.11027416415716094,
          -0.3289421211077479,
          1.4982170548436569,
          0.5240075572039334,
          0.14601567207029967,
          1.1131443714346898,
          -0.945595270331263,
          0.29686021046057764,
          -0.06873382405799189,
          1.3398974294041806,
          -0.1005688226330727,
          -0.5387746262762422,
          -0.767849248663247,
          -0.35100755254836946,
          0.1480598141594704,
          0.08595586430500328,
          1.162131405970528,
          0.8816251921637606,
          -0.21427435409242715,
          1.4900398420710712,
          -1.604228677811847,
          0.23534333231846755
         ]
        },
        {
         "histfunc": "count",
         "histnorm": "",
         "marker": {
          "color": "rgba(55, 128, 191, 1.0)",
          "line": {
           "color": "#4D5663",
           "width": 1.3
          }
         },
         "name": "B",
         "nbinsx": 50,
         "opacity": 0.8,
         "orientation": "v",
         "type": "histogram",
         "x": [
          -1.5778429245488879,
          1.2680079504191542,
          0.09649405165059019,
          0.5451506050878556,
          1.4665309109334816,
          -0.8187660691999971,
          0.8892275568624582,
          0.057993196168514054,
          1.0704372338561854,
          -1.1215869807766896,
          0.7898514189744038,
          0.8930828925001068,
          1.3220881795120045,
          -1.1746388644306027,
          -0.11366720583834672,
          -1.08572748143992,
          -0.36542532409071204,
          -0.5451472733548265,
          0.05957969416825055,
          1.0481834417594982,
          0.6582590607680974,
          1.9050369818668038,
          -0.8611884051729745,
          -0.03364255394446158,
          -0.2688534606823713,
          -1.2502969844263059,
          -0.09367845283559229,
          -0.2920765672512015,
          -0.3139676248854494,
          -0.9811182522643814,
          -0.06443198507731814,
          -1.2044898392645802,
          -0.008192778716532423,
          -1.5846889685617627,
          0.12750792187288915,
          -0.3593159388234478,
          -1.4988967562973863,
          1.2732099224625397,
          -0.8615848179565383,
          -0.40897428577114503,
          0.8490222350087218,
          -1.0791246887998986,
          -0.15060725895997487,
          -1.5720599233177468,
          -0.9104303182134822,
          0.3038761199317576,
          1.5772543560605514,
          0.10958890357099571,
          -1.433809763409956,
          0.9001499602414199,
          -1.1065469139557813,
          -1.6591841116033383,
          0.4856131846513768,
          -1.3187515045471454,
          -0.9998085361886271,
          0.8895689618477627,
          -0.6490212653755961,
          -0.6028794296101871,
          -1.6215250503615426,
          0.35749953179801786,
          1.3525172890956467,
          2.1440982079969793,
          -0.7535990604943527,
          -1.8530373144179704,
          0.3853396942630609,
          1.0725112999364486,
          -0.5080799161223373,
          0.728183494278347,
          0.29348208736934966,
          0.6166598740688046,
          -1.4176082506592214,
          -1.2283428172986675,
          0.029400981232705268,
          0.49717683675476193,
          1.2806469532543063,
          -2.170877611449295,
          0.5305137203022765,
          0.07573784865183336,
          1.962331926274082,
          0.6497384161827761,
          0.445444965199007,
          -1.0219776640954312,
          -1.3586633696231962,
          2.548903463301732,
          -0.2657491617480886,
          0.06264434682764904,
          -1.485197772311538,
          -1.9928894210733983,
          1.1406483682872646,
          -1.7880279463109883,
          0.21610130984226705,
          0.6600706306964581,
          0.5159702029260697,
          -1.0874933049782323,
          -1.0924492328288362,
          -0.44981702999116246,
          -0.2910427923330211,
          1.109369336375027,
          -0.27248037646009077,
          -0.14682084414377564
         ]
        },
        {
         "histfunc": "count",
         "histnorm": "",
         "marker": {
          "color": "rgba(50, 171, 96, 1.0)",
          "line": {
           "color": "#4D5663",
           "width": 1.3
          }
         },
         "name": "C",
         "nbinsx": 50,
         "opacity": 0.8,
         "orientation": "v",
         "type": "histogram",
         "x": [
          -0.8849667774683708,
          2.2259377239221325,
          -1.5233101709060102,
          0.2953181398270395,
          0.8264344026153204,
          0.5913510655187838,
          0.6828648431042454,
          1.7086815960636492,
          0.25818184912645487,
          -0.7170024291397524,
          0.08916805499006593,
          1.3153127154131583,
          0.4250462899632546,
          0.8023505507410498,
          1.1148473647823962,
          -0.18956102529793664,
          -2.079756872118981,
          -0.7113601357767555,
          0.7094442838065212,
          0.07251137575017333,
          0.2953148063878515,
          -1.0121772100861905,
          -0.6359246998913491,
          -0.3528819646496265,
          0.5408683474982837,
          0.38979566342810656,
          0.4866337764911907,
          0.4011578541573498,
          0.6199420783053193,
          0.465317548944445,
          -0.2318148390140708,
          0.33581715315193994,
          -0.47503807105468887,
          -0.5466109427096344,
          0.6186689184945717,
          -0.19789822919792144,
          0.43690862035919475,
          -0.15712976265590814,
          -0.03370892710985846,
          0.5636837886188208,
          1.6580695740115794,
          -1.0407957699682373,
          -1.1676010434888637,
          -1.2157954987786896,
          0.8927282864811816,
          0.006944035248060638,
          0.09941082090580226,
          1.7407631555606686,
          0.8410707477264111,
          0.36434960007679335,
          1.7359708516884256,
          0.3965880382695271,
          1.2907778837912955,
          -0.8739617195647129,
          -0.00728002667451206,
          -0.6998826075737327,
          -0.25956262071948605,
          0.6542748975111746,
          -0.07018324863868057,
          0.11869849803291103,
          1.3119010861688023,
          -0.2972657981226998,
          -1.327267397411813,
          0.6165124105986223,
          -1.2073661854687094,
          -0.6857610677682836,
          -0.8749481991203933,
          -1.0875589673394612,
          -0.3771542192507942,
          -0.6995546738432826,
          -1.1440545701594893,
          -0.6170536297117368,
          -0.4841222349603552,
          1.1136235479025833,
          0.6188184078340688,
          0.3235695906997173,
          -0.5558048323254344,
          -0.6554798206190868,
          0.5991224352438265,
          -0.3073695377011026,
          -1.1443987905506152,
          -1.3918616476517387,
          -0.0970628008041887,
          -1.8637925174812902,
          0.3360992701512891,
          1.3136038000994479,
          -0.9528464728863185,
          1.0035464465815014,
          -0.28833439613220974,
          -0.5801714493637724,
          -0.8297499028994472,
          2.0718903192594933,
          0.6207850633540429,
          0.05015029066703375,
          -0.13065485529488527,
          0.8073422350123594,
          0.5539168555719847,
          -2.5645193565271756,
          -1.0899895346786574,
          0.10478822602140812
         ]
        },
        {
         "histfunc": "count",
         "histnorm": "",
         "marker": {
          "color": "rgba(128, 0, 128, 1.0)",
          "line": {
           "color": "#4D5663",
           "width": 1.3
          }
         },
         "name": "D",
         "nbinsx": 50,
         "opacity": 0.8,
         "orientation": "v",
         "type": "histogram",
         "x": [
          0.10769577614462261,
          0.9381513388151985,
          0.6009753050690573,
          1.9752354750747527,
          -0.5181426237082836,
          0.22761479934571258,
          -0.5265786942320025,
          0.5095492153774754,
          -1.046554330848723,
          0.7315065825237579,
          0.6789620480026869,
          -1.413347659196342,
          -0.016108383281562496,
          -0.9410589517518645,
          0.04857771095448899,
          -0.11022153894423668,
          0.14107671168947727,
          -0.5554674951524631,
          -1.3159441484687864,
          -1.7483545865947807,
          -0.3121965712883904,
          0.6920018959734503,
          -0.9107050403290968,
          0.2784644851682874,
          -1.9397962578930277,
          -0.45513040249786124,
          -0.10848084960196892,
          -0.7589575367551256,
          -1.0780093826892658,
          -0.9514571611390187,
          1.5961370769094052,
          1.8239176658288547,
          -0.6536799414681844,
          -1.2597150988422412,
          -0.46059293448935956,
          0.31269284186968976,
          0.07907465712089817,
          0.14802301693644215,
          -0.3167136617293768,
          -1.007512795204162,
          0.8067433348015413,
          -0.8483543082873977,
          1.263380709513765,
          0.46652702277022684,
          0.751282663832055,
          0.06369242477298177,
          -1.0909522881225577,
          -0.3739960103824854,
          0.6779473539857858,
          0.3734266014815676,
          0.9967330796823717,
          -0.5119182197177479,
          -0.5864669718638383,
          0.6879994083973473,
          -2.744759141587978,
          0.1441662752957278,
          0.026430336315075065,
          0.9292363498181935,
          0.22263571468181814,
          2.199745582404042,
          -0.641710069299092,
          1.539124005803026,
          0.20902429509022064,
          0.07899581188293245,
          -0.33360984821282474,
          -0.36160802793794816,
          -0.696201035195265,
          0.12563154438571958,
          1.4465572063107346,
          1.5080309088258388,
          -1.1673168114773593,
          -0.20357637312531762,
          -1.4220357329064184,
          0.41158488273955846,
          -1.0001318285121235,
          0.7274191463023469,
          0.2160667268178794,
          0.584137035310321,
          -0.5655353173916954,
          0.34607752995659996,
          -1.0496416652327765,
          0.181924508554677,
          1.4160621396152433,
          1.447212701811392,
          -0.44404804234735024,
          0.12387709870026571,
          2.771090955198578,
          -0.5368436175829514,
          -1.0542914901698903,
          -0.7843346446183815,
          -0.6142528681773224,
          -0.0008528951337365195,
          -0.4769691436154201,
          0.19402549901576488,
          -0.46842199926958966,
          -0.08477552905099907,
          -0.9792984493681949,
          1.4995880284038323,
          -0.7542111726116282,
          0.5153352947324564
         ]
        }
       ],
       "layout": {
        "barmode": "overlay",
        "legend": {
         "bgcolor": "#F5F6F9",
         "font": {
          "color": "#4D5663"
         }
        },
        "paper_bgcolor": "#F5F6F9",
        "plot_bgcolor": "#F5F6F9",
        "template": {
         "data": {
          "bar": [
           {
            "error_x": {
             "color": "#2a3f5f"
            },
            "error_y": {
             "color": "#2a3f5f"
            },
            "marker": {
             "line": {
              "color": "#E5ECF6",
              "width": 0.5
             }
            },
            "type": "bar"
           }
          ],
          "barpolar": [
           {
            "marker": {
             "line": {
              "color": "#E5ECF6",
              "width": 0.5
             }
            },
            "type": "barpolar"
           }
          ],
          "carpet": [
           {
            "aaxis": {
             "endlinecolor": "#2a3f5f",
             "gridcolor": "white",
             "linecolor": "white",
             "minorgridcolor": "white",
             "startlinecolor": "#2a3f5f"
            },
            "baxis": {
             "endlinecolor": "#2a3f5f",
             "gridcolor": "white",
             "linecolor": "white",
             "minorgridcolor": "white",
             "startlinecolor": "#2a3f5f"
            },
            "type": "carpet"
           }
          ],
          "choropleth": [
           {
            "colorbar": {
             "outlinewidth": 0,
             "ticks": ""
            },
            "type": "choropleth"
           }
          ],
          "contour": [
           {
            "colorbar": {
             "outlinewidth": 0,
             "ticks": ""
            },
            "colorscale": [
             [
              0,
              "#0d0887"
             ],
             [
              0.1111111111111111,
              "#46039f"
             ],
             [
              0.2222222222222222,
              "#7201a8"
             ],
             [
              0.3333333333333333,
              "#9c179e"
             ],
             [
              0.4444444444444444,
              "#bd3786"
             ],
             [
              0.5555555555555556,
              "#d8576b"
             ],
             [
              0.6666666666666666,
              "#ed7953"
             ],
             [
              0.7777777777777778,
              "#fb9f3a"
             ],
             [
              0.8888888888888888,
              "#fdca26"
             ],
             [
              1,
              "#f0f921"
             ]
            ],
            "type": "contour"
           }
          ],
          "contourcarpet": [
           {
            "colorbar": {
             "outlinewidth": 0,
             "ticks": ""
            },
            "type": "contourcarpet"
           }
          ],
          "heatmap": [
           {
            "colorbar": {
             "outlinewidth": 0,
             "ticks": ""
            },
            "colorscale": [
             [
              0,
              "#0d0887"
             ],
             [
              0.1111111111111111,
              "#46039f"
             ],
             [
              0.2222222222222222,
              "#7201a8"
             ],
             [
              0.3333333333333333,
              "#9c179e"
             ],
             [
              0.4444444444444444,
              "#bd3786"
             ],
             [
              0.5555555555555556,
              "#d8576b"
             ],
             [
              0.6666666666666666,
              "#ed7953"
             ],
             [
              0.7777777777777778,
              "#fb9f3a"
             ],
             [
              0.8888888888888888,
              "#fdca26"
             ],
             [
              1,
              "#f0f921"
             ]
            ],
            "type": "heatmap"
           }
          ],
          "heatmapgl": [
           {
            "colorbar": {
             "outlinewidth": 0,
             "ticks": ""
            },
            "colorscale": [
             [
              0,
              "#0d0887"
             ],
             [
              0.1111111111111111,
              "#46039f"
             ],
             [
              0.2222222222222222,
              "#7201a8"
             ],
             [
              0.3333333333333333,
              "#9c179e"
             ],
             [
              0.4444444444444444,
              "#bd3786"
             ],
             [
              0.5555555555555556,
              "#d8576b"
             ],
             [
              0.6666666666666666,
              "#ed7953"
             ],
             [
              0.7777777777777778,
              "#fb9f3a"
             ],
             [
              0.8888888888888888,
              "#fdca26"
             ],
             [
              1,
              "#f0f921"
             ]
            ],
            "type": "heatmapgl"
           }
          ],
          "histogram": [
           {
            "marker": {
             "colorbar": {
              "outlinewidth": 0,
              "ticks": ""
             }
            },
            "type": "histogram"
           }
          ],
          "histogram2d": [
           {
            "colorbar": {
             "outlinewidth": 0,
             "ticks": ""
            },
            "colorscale": [
             [
              0,
              "#0d0887"
             ],
             [
              0.1111111111111111,
              "#46039f"
             ],
             [
              0.2222222222222222,
              "#7201a8"
             ],
             [
              0.3333333333333333,
              "#9c179e"
             ],
             [
              0.4444444444444444,
              "#bd3786"
             ],
             [
              0.5555555555555556,
              "#d8576b"
             ],
             [
              0.6666666666666666,
              "#ed7953"
             ],
             [
              0.7777777777777778,
              "#fb9f3a"
             ],
             [
              0.8888888888888888,
              "#fdca26"
             ],
             [
              1,
              "#f0f921"
             ]
            ],
            "type": "histogram2d"
           }
          ],
          "histogram2dcontour": [
           {
            "colorbar": {
             "outlinewidth": 0,
             "ticks": ""
            },
            "colorscale": [
             [
              0,
              "#0d0887"
             ],
             [
              0.1111111111111111,
              "#46039f"
             ],
             [
              0.2222222222222222,
              "#7201a8"
             ],
             [
              0.3333333333333333,
              "#9c179e"
             ],
             [
              0.4444444444444444,
              "#bd3786"
             ],
             [
              0.5555555555555556,
              "#d8576b"
             ],
             [
              0.6666666666666666,
              "#ed7953"
             ],
             [
              0.7777777777777778,
              "#fb9f3a"
             ],
             [
              0.8888888888888888,
              "#fdca26"
             ],
             [
              1,
              "#f0f921"
             ]
            ],
            "type": "histogram2dcontour"
           }
          ],
          "mesh3d": [
           {
            "colorbar": {
             "outlinewidth": 0,
             "ticks": ""
            },
            "type": "mesh3d"
           }
          ],
          "parcoords": [
           {
            "line": {
             "colorbar": {
              "outlinewidth": 0,
              "ticks": ""
             }
            },
            "type": "parcoords"
           }
          ],
          "pie": [
           {
            "automargin": true,
            "type": "pie"
           }
          ],
          "scatter": [
           {
            "marker": {
             "colorbar": {
              "outlinewidth": 0,
              "ticks": ""
             }
            },
            "type": "scatter"
           }
          ],
          "scatter3d": [
           {
            "line": {
             "colorbar": {
              "outlinewidth": 0,
              "ticks": ""
             }
            },
            "marker": {
             "colorbar": {
              "outlinewidth": 0,
              "ticks": ""
             }
            },
            "type": "scatter3d"
           }
          ],
          "scattercarpet": [
           {
            "marker": {
             "colorbar": {
              "outlinewidth": 0,
              "ticks": ""
             }
            },
            "type": "scattercarpet"
           }
          ],
          "scattergeo": [
           {
            "marker": {
             "colorbar": {
              "outlinewidth": 0,
              "ticks": ""
             }
            },
            "type": "scattergeo"
           }
          ],
          "scattergl": [
           {
            "marker": {
             "colorbar": {
              "outlinewidth": 0,
              "ticks": ""
             }
            },
            "type": "scattergl"
           }
          ],
          "scattermapbox": [
           {
            "marker": {
             "colorbar": {
              "outlinewidth": 0,
              "ticks": ""
             }
            },
            "type": "scattermapbox"
           }
          ],
          "scatterpolar": [
           {
            "marker": {
             "colorbar": {
              "outlinewidth": 0,
              "ticks": ""
             }
            },
            "type": "scatterpolar"
           }
          ],
          "scatterpolargl": [
           {
            "marker": {
             "colorbar": {
              "outlinewidth": 0,
              "ticks": ""
             }
            },
            "type": "scatterpolargl"
           }
          ],
          "scatterternary": [
           {
            "marker": {
             "colorbar": {
              "outlinewidth": 0,
              "ticks": ""
             }
            },
            "type": "scatterternary"
           }
          ],
          "surface": [
           {
            "colorbar": {
             "outlinewidth": 0,
             "ticks": ""
            },
            "colorscale": [
             [
              0,
              "#0d0887"
             ],
             [
              0.1111111111111111,
              "#46039f"
             ],
             [
              0.2222222222222222,
              "#7201a8"
             ],
             [
              0.3333333333333333,
              "#9c179e"
             ],
             [
              0.4444444444444444,
              "#bd3786"
             ],
             [
              0.5555555555555556,
              "#d8576b"
             ],
             [
              0.6666666666666666,
              "#ed7953"
             ],
             [
              0.7777777777777778,
              "#fb9f3a"
             ],
             [
              0.8888888888888888,
              "#fdca26"
             ],
             [
              1,
              "#f0f921"
             ]
            ],
            "type": "surface"
           }
          ],
          "table": [
           {
            "cells": {
             "fill": {
              "color": "#EBF0F8"
             },
             "line": {
              "color": "white"
             }
            },
            "header": {
             "fill": {
              "color": "#C8D4E3"
             },
             "line": {
              "color": "white"
             }
            },
            "type": "table"
           }
          ]
         },
         "layout": {
          "annotationdefaults": {
           "arrowcolor": "#2a3f5f",
           "arrowhead": 0,
           "arrowwidth": 1
          },
          "coloraxis": {
           "colorbar": {
            "outlinewidth": 0,
            "ticks": ""
           }
          },
          "colorscale": {
           "diverging": [
            [
             0,
             "#8e0152"
            ],
            [
             0.1,
             "#c51b7d"
            ],
            [
             0.2,
             "#de77ae"
            ],
            [
             0.3,
             "#f1b6da"
            ],
            [
             0.4,
             "#fde0ef"
            ],
            [
             0.5,
             "#f7f7f7"
            ],
            [
             0.6,
             "#e6f5d0"
            ],
            [
             0.7,
             "#b8e186"
            ],
            [
             0.8,
             "#7fbc41"
            ],
            [
             0.9,
             "#4d9221"
            ],
            [
             1,
             "#276419"
            ]
           ],
           "sequential": [
            [
             0,
             "#0d0887"
            ],
            [
             0.1111111111111111,
             "#46039f"
            ],
            [
             0.2222222222222222,
             "#7201a8"
            ],
            [
             0.3333333333333333,
             "#9c179e"
            ],
            [
             0.4444444444444444,
             "#bd3786"
            ],
            [
             0.5555555555555556,
             "#d8576b"
            ],
            [
             0.6666666666666666,
             "#ed7953"
            ],
            [
             0.7777777777777778,
             "#fb9f3a"
            ],
            [
             0.8888888888888888,
             "#fdca26"
            ],
            [
             1,
             "#f0f921"
            ]
           ],
           "sequentialminus": [
            [
             0,
             "#0d0887"
            ],
            [
             0.1111111111111111,
             "#46039f"
            ],
            [
             0.2222222222222222,
             "#7201a8"
            ],
            [
             0.3333333333333333,
             "#9c179e"
            ],
            [
             0.4444444444444444,
             "#bd3786"
            ],
            [
             0.5555555555555556,
             "#d8576b"
            ],
            [
             0.6666666666666666,
             "#ed7953"
            ],
            [
             0.7777777777777778,
             "#fb9f3a"
            ],
            [
             0.8888888888888888,
             "#fdca26"
            ],
            [
             1,
             "#f0f921"
            ]
           ]
          },
          "colorway": [
           "#636efa",
           "#EF553B",
           "#00cc96",
           "#ab63fa",
           "#FFA15A",
           "#19d3f3",
           "#FF6692",
           "#B6E880",
           "#FF97FF",
           "#FECB52"
          ],
          "font": {
           "color": "#2a3f5f"
          },
          "geo": {
           "bgcolor": "white",
           "lakecolor": "white",
           "landcolor": "#E5ECF6",
           "showlakes": true,
           "showland": true,
           "subunitcolor": "white"
          },
          "hoverlabel": {
           "align": "left"
          },
          "hovermode": "closest",
          "mapbox": {
           "style": "light"
          },
          "paper_bgcolor": "white",
          "plot_bgcolor": "#E5ECF6",
          "polar": {
           "angularaxis": {
            "gridcolor": "white",
            "linecolor": "white",
            "ticks": ""
           },
           "bgcolor": "#E5ECF6",
           "radialaxis": {
            "gridcolor": "white",
            "linecolor": "white",
            "ticks": ""
           }
          },
          "scene": {
           "xaxis": {
            "backgroundcolor": "#E5ECF6",
            "gridcolor": "white",
            "gridwidth": 2,
            "linecolor": "white",
            "showbackground": true,
            "ticks": "",
            "zerolinecolor": "white"
           },
           "yaxis": {
            "backgroundcolor": "#E5ECF6",
            "gridcolor": "white",
            "gridwidth": 2,
            "linecolor": "white",
            "showbackground": true,
            "ticks": "",
            "zerolinecolor": "white"
           },
           "zaxis": {
            "backgroundcolor": "#E5ECF6",
            "gridcolor": "white",
            "gridwidth": 2,
            "linecolor": "white",
            "showbackground": true,
            "ticks": "",
            "zerolinecolor": "white"
           }
          },
          "shapedefaults": {
           "line": {
            "color": "#2a3f5f"
           }
          },
          "ternary": {
           "aaxis": {
            "gridcolor": "white",
            "linecolor": "white",
            "ticks": ""
           },
           "baxis": {
            "gridcolor": "white",
            "linecolor": "white",
            "ticks": ""
           },
           "bgcolor": "#E5ECF6",
           "caxis": {
            "gridcolor": "white",
            "linecolor": "white",
            "ticks": ""
           }
          },
          "title": {
           "x": 0.05
          },
          "xaxis": {
           "automargin": true,
           "gridcolor": "white",
           "linecolor": "white",
           "ticks": "",
           "title": {
            "standoff": 15
           },
           "zerolinecolor": "white",
           "zerolinewidth": 2
          },
          "yaxis": {
           "automargin": true,
           "gridcolor": "white",
           "linecolor": "white",
           "ticks": "",
           "title": {
            "standoff": 15
           },
           "zerolinecolor": "white",
           "zerolinewidth": 2
          }
         }
        },
        "title": {
         "font": {
          "color": "#4D5663"
         }
        },
        "xaxis": {
         "gridcolor": "#E1E5ED",
         "showgrid": true,
         "tickfont": {
          "color": "#4D5663"
         },
         "title": {
          "font": {
           "color": "#4D5663"
          },
          "text": ""
         },
         "zerolinecolor": "#E1E5ED"
        },
        "yaxis": {
         "gridcolor": "#E1E5ED",
         "showgrid": true,
         "tickfont": {
          "color": "#4D5663"
         },
         "title": {
          "font": {
           "color": "#4D5663"
          },
          "text": ""
         },
         "zerolinecolor": "#E1E5ED"
        }
       }
      },
      "text/html": [
       "<div>\n",
       "        \n",
       "        \n",
       "            <div id=\"b75f0e98-fc81-4098-ad5e-b73649bd72cf\" class=\"plotly-graph-div\" style=\"height:525px; width:100%;\"></div>\n",
       "            <script type=\"text/javascript\">\n",
       "                require([\"plotly\"], function(Plotly) {\n",
       "                    window.PLOTLYENV=window.PLOTLYENV || {};\n",
       "                    window.PLOTLYENV.BASE_URL='https://plot.ly';\n",
       "                    \n",
       "                if (document.getElementById(\"b75f0e98-fc81-4098-ad5e-b73649bd72cf\")) {\n",
       "                    Plotly.newPlot(\n",
       "                        'b75f0e98-fc81-4098-ad5e-b73649bd72cf',\n",
       "                        [{\"histfunc\": \"count\", \"histnorm\": \"\", \"marker\": {\"color\": \"rgba(255, 153, 51, 1.0)\", \"line\": {\"color\": \"#4D5663\", \"width\": 1.3}}, \"name\": \"A\", \"nbinsx\": 50, \"opacity\": 0.8, \"orientation\": \"v\", \"type\": \"histogram\", \"x\": [-1.3559130559175228, 0.5303321035654701, 0.29440697268481386, -2.366994851248194, -0.39061600426275805, -1.2161987223331556, 0.19859743516019948, -0.04196512186229954, 0.7816691002462268, -0.5625933565781353, 0.19285116004885725, -0.06178195375831094, 0.7097995605455756, -0.06438499550921149, -2.5974737858675803, -0.32300690338794696, 1.0306388859623885, -1.941335868515121, -1.4355365861662128, -0.6573992997091732, 0.11646656991438858, 0.46591396507238075, 0.05272497171678483, 0.4581524192640287, 1.1095119169038339, -0.16693785245883877, -2.4185233240227983, -0.6450810153514451, 1.1329069163196375, 0.6970329956343094, -0.22820026177348646, -1.4808780287987526, 0.024367923584303973, 0.4286231014194029, 0.08045542686191721, -1.4015248719784796, -0.7127602575963483, -0.8326614239099435, 0.9937010497254936, -0.5989317759807878, -1.4296493006161402, 0.7713104030030286, -0.06980710659690535, 1.1287545943777195, 0.24847286609051505, -0.25614946259117294, -0.4244114222395493, 0.5856088506470457, 1.279303773190982, -0.44555925844105376, 0.3490682053943956, 1.0813767860789734, 0.8133648881571423, -0.6562175042066347, -0.4121443535409477, 1.0969280780102093, 0.15770461247131407, 0.042630429623211966, 2.3683858678174623, 1.1321042486469257, -0.12294684247572248, 1.7655511106226867, -0.1591269815157064, 0.11075147314174175, -1.0859538098553496, -2.191959033772851, -1.3356073556326191, -0.7607734053921369, -0.8295932567941922, -0.010402164383887734, 0.009074950144895585, -1.3753860596456584, 1.1186045911807563, -1.3180085977495606, -1.4364656665274682, -1.1545082613318447, -0.3488279565559763, 0.22136370072874864, 0.11027416415716094, -0.3289421211077479, 1.4982170548436569, 0.5240075572039334, 0.14601567207029967, 1.1131443714346898, -0.945595270331263, 0.29686021046057764, -0.06873382405799189, 1.3398974294041806, -0.1005688226330727, -0.5387746262762422, -0.767849248663247, -0.35100755254836946, 0.1480598141594704, 0.08595586430500328, 1.162131405970528, 0.8816251921637606, -0.21427435409242715, 1.4900398420710712, -1.604228677811847, 0.23534333231846755]}, {\"histfunc\": \"count\", \"histnorm\": \"\", \"marker\": {\"color\": \"rgba(55, 128, 191, 1.0)\", \"line\": {\"color\": \"#4D5663\", \"width\": 1.3}}, \"name\": \"B\", \"nbinsx\": 50, \"opacity\": 0.8, \"orientation\": \"v\", \"type\": \"histogram\", \"x\": [-1.5778429245488879, 1.2680079504191542, 0.09649405165059019, 0.5451506050878556, 1.4665309109334816, -0.8187660691999971, 0.8892275568624582, 0.057993196168514054, 1.0704372338561854, -1.1215869807766896, 0.7898514189744038, 0.8930828925001068, 1.3220881795120045, -1.1746388644306027, -0.11366720583834672, -1.08572748143992, -0.36542532409071204, -0.5451472733548265, 0.05957969416825055, 1.0481834417594982, 0.6582590607680974, 1.9050369818668038, -0.8611884051729745, -0.03364255394446158, -0.2688534606823713, -1.2502969844263059, -0.09367845283559229, -0.2920765672512015, -0.3139676248854494, -0.9811182522643814, -0.06443198507731814, -1.2044898392645802, -0.008192778716532423, -1.5846889685617627, 0.12750792187288915, -0.3593159388234478, -1.4988967562973863, 1.2732099224625397, -0.8615848179565383, -0.40897428577114503, 0.8490222350087218, -1.0791246887998986, -0.15060725895997487, -1.5720599233177468, -0.9104303182134822, 0.3038761199317576, 1.5772543560605514, 0.10958890357099571, -1.433809763409956, 0.9001499602414199, -1.1065469139557813, -1.6591841116033383, 0.4856131846513768, -1.3187515045471454, -0.9998085361886271, 0.8895689618477627, -0.6490212653755961, -0.6028794296101871, -1.6215250503615426, 0.35749953179801786, 1.3525172890956467, 2.1440982079969793, -0.7535990604943527, -1.8530373144179704, 0.3853396942630609, 1.0725112999364486, -0.5080799161223373, 0.728183494278347, 0.29348208736934966, 0.6166598740688046, -1.4176082506592214, -1.2283428172986675, 0.029400981232705268, 0.49717683675476193, 1.2806469532543063, -2.170877611449295, 0.5305137203022765, 0.07573784865183336, 1.962331926274082, 0.6497384161827761, 0.445444965199007, -1.0219776640954312, -1.3586633696231962, 2.548903463301732, -0.2657491617480886, 0.06264434682764904, -1.485197772311538, -1.9928894210733983, 1.1406483682872646, -1.7880279463109883, 0.21610130984226705, 0.6600706306964581, 0.5159702029260697, -1.0874933049782323, -1.0924492328288362, -0.44981702999116246, -0.2910427923330211, 1.109369336375027, -0.27248037646009077, -0.14682084414377564]}, {\"histfunc\": \"count\", \"histnorm\": \"\", \"marker\": {\"color\": \"rgba(50, 171, 96, 1.0)\", \"line\": {\"color\": \"#4D5663\", \"width\": 1.3}}, \"name\": \"C\", \"nbinsx\": 50, \"opacity\": 0.8, \"orientation\": \"v\", \"type\": \"histogram\", \"x\": [-0.8849667774683708, 2.2259377239221325, -1.5233101709060102, 0.2953181398270395, 0.8264344026153204, 0.5913510655187838, 0.6828648431042454, 1.7086815960636492, 0.25818184912645487, -0.7170024291397524, 0.08916805499006593, 1.3153127154131583, 0.4250462899632546, 0.8023505507410498, 1.1148473647823962, -0.18956102529793664, -2.079756872118981, -0.7113601357767555, 0.7094442838065212, 0.07251137575017333, 0.2953148063878515, -1.0121772100861905, -0.6359246998913491, -0.3528819646496265, 0.5408683474982837, 0.38979566342810656, 0.4866337764911907, 0.4011578541573498, 0.6199420783053193, 0.465317548944445, -0.2318148390140708, 0.33581715315193994, -0.47503807105468887, -0.5466109427096344, 0.6186689184945717, -0.19789822919792144, 0.43690862035919475, -0.15712976265590814, -0.03370892710985846, 0.5636837886188208, 1.6580695740115794, -1.0407957699682373, -1.1676010434888637, -1.2157954987786896, 0.8927282864811816, 0.006944035248060638, 0.09941082090580226, 1.7407631555606686, 0.8410707477264111, 0.36434960007679335, 1.7359708516884256, 0.3965880382695271, 1.2907778837912955, -0.8739617195647129, -0.00728002667451206, -0.6998826075737327, -0.25956262071948605, 0.6542748975111746, -0.07018324863868057, 0.11869849803291103, 1.3119010861688023, -0.2972657981226998, -1.327267397411813, 0.6165124105986223, -1.2073661854687094, -0.6857610677682836, -0.8749481991203933, -1.0875589673394612, -0.3771542192507942, -0.6995546738432826, -1.1440545701594893, -0.6170536297117368, -0.4841222349603552, 1.1136235479025833, 0.6188184078340688, 0.3235695906997173, -0.5558048323254344, -0.6554798206190868, 0.5991224352438265, -0.3073695377011026, -1.1443987905506152, -1.3918616476517387, -0.0970628008041887, -1.8637925174812902, 0.3360992701512891, 1.3136038000994479, -0.9528464728863185, 1.0035464465815014, -0.28833439613220974, -0.5801714493637724, -0.8297499028994472, 2.0718903192594933, 0.6207850633540429, 0.05015029066703375, -0.13065485529488527, 0.8073422350123594, 0.5539168555719847, -2.5645193565271756, -1.0899895346786574, 0.10478822602140812]}, {\"histfunc\": \"count\", \"histnorm\": \"\", \"marker\": {\"color\": \"rgba(128, 0, 128, 1.0)\", \"line\": {\"color\": \"#4D5663\", \"width\": 1.3}}, \"name\": \"D\", \"nbinsx\": 50, \"opacity\": 0.8, \"orientation\": \"v\", \"type\": \"histogram\", \"x\": [0.10769577614462261, 0.9381513388151985, 0.6009753050690573, 1.9752354750747527, -0.5181426237082836, 0.22761479934571258, -0.5265786942320025, 0.5095492153774754, -1.046554330848723, 0.7315065825237579, 0.6789620480026869, -1.413347659196342, -0.016108383281562496, -0.9410589517518645, 0.04857771095448899, -0.11022153894423668, 0.14107671168947727, -0.5554674951524631, -1.3159441484687864, -1.7483545865947807, -0.3121965712883904, 0.6920018959734503, -0.9107050403290968, 0.2784644851682874, -1.9397962578930277, -0.45513040249786124, -0.10848084960196892, -0.7589575367551256, -1.0780093826892658, -0.9514571611390187, 1.5961370769094052, 1.8239176658288547, -0.6536799414681844, -1.2597150988422412, -0.46059293448935956, 0.31269284186968976, 0.07907465712089817, 0.14802301693644215, -0.3167136617293768, -1.007512795204162, 0.8067433348015413, -0.8483543082873977, 1.263380709513765, 0.46652702277022684, 0.751282663832055, 0.06369242477298177, -1.0909522881225577, -0.3739960103824854, 0.6779473539857858, 0.3734266014815676, 0.9967330796823717, -0.5119182197177479, -0.5864669718638383, 0.6879994083973473, -2.744759141587978, 0.1441662752957278, 0.026430336315075065, 0.9292363498181935, 0.22263571468181814, 2.199745582404042, -0.641710069299092, 1.539124005803026, 0.20902429509022064, 0.07899581188293245, -0.33360984821282474, -0.36160802793794816, -0.696201035195265, 0.12563154438571958, 1.4465572063107346, 1.5080309088258388, -1.1673168114773593, -0.20357637312531762, -1.4220357329064184, 0.41158488273955846, -1.0001318285121235, 0.7274191463023469, 0.2160667268178794, 0.584137035310321, -0.5655353173916954, 0.34607752995659996, -1.0496416652327765, 0.181924508554677, 1.4160621396152433, 1.447212701811392, -0.44404804234735024, 0.12387709870026571, 2.771090955198578, -0.5368436175829514, -1.0542914901698903, -0.7843346446183815, -0.6142528681773224, -0.0008528951337365195, -0.4769691436154201, 0.19402549901576488, -0.46842199926958966, -0.08477552905099907, -0.9792984493681949, 1.4995880284038323, -0.7542111726116282, 0.5153352947324564]}],\n",
       "                        {\"barmode\": \"overlay\", \"legend\": {\"bgcolor\": \"#F5F6F9\", \"font\": {\"color\": \"#4D5663\"}}, \"paper_bgcolor\": \"#F5F6F9\", \"plot_bgcolor\": \"#F5F6F9\", \"template\": {\"data\": {\"bar\": [{\"error_x\": {\"color\": \"#2a3f5f\"}, \"error_y\": {\"color\": \"#2a3f5f\"}, \"marker\": {\"line\": {\"color\": \"#E5ECF6\", \"width\": 0.5}}, \"type\": \"bar\"}], \"barpolar\": [{\"marker\": {\"line\": {\"color\": \"#E5ECF6\", \"width\": 0.5}}, \"type\": \"barpolar\"}], \"carpet\": [{\"aaxis\": {\"endlinecolor\": \"#2a3f5f\", \"gridcolor\": \"white\", \"linecolor\": \"white\", \"minorgridcolor\": \"white\", \"startlinecolor\": \"#2a3f5f\"}, \"baxis\": {\"endlinecolor\": \"#2a3f5f\", \"gridcolor\": \"white\", \"linecolor\": \"white\", \"minorgridcolor\": \"white\", \"startlinecolor\": \"#2a3f5f\"}, \"type\": \"carpet\"}], \"choropleth\": [{\"colorbar\": {\"outlinewidth\": 0, \"ticks\": \"\"}, \"type\": \"choropleth\"}], \"contour\": [{\"colorbar\": {\"outlinewidth\": 0, \"ticks\": \"\"}, \"colorscale\": [[0.0, \"#0d0887\"], [0.1111111111111111, \"#46039f\"], [0.2222222222222222, \"#7201a8\"], [0.3333333333333333, \"#9c179e\"], [0.4444444444444444, \"#bd3786\"], [0.5555555555555556, \"#d8576b\"], [0.6666666666666666, \"#ed7953\"], [0.7777777777777778, \"#fb9f3a\"], [0.8888888888888888, \"#fdca26\"], [1.0, \"#f0f921\"]], \"type\": \"contour\"}], \"contourcarpet\": [{\"colorbar\": {\"outlinewidth\": 0, \"ticks\": \"\"}, \"type\": \"contourcarpet\"}], \"heatmap\": [{\"colorbar\": {\"outlinewidth\": 0, \"ticks\": \"\"}, \"colorscale\": [[0.0, \"#0d0887\"], [0.1111111111111111, \"#46039f\"], [0.2222222222222222, \"#7201a8\"], [0.3333333333333333, \"#9c179e\"], [0.4444444444444444, \"#bd3786\"], [0.5555555555555556, \"#d8576b\"], [0.6666666666666666, \"#ed7953\"], [0.7777777777777778, \"#fb9f3a\"], [0.8888888888888888, \"#fdca26\"], [1.0, \"#f0f921\"]], \"type\": \"heatmap\"}], \"heatmapgl\": [{\"colorbar\": {\"outlinewidth\": 0, \"ticks\": \"\"}, \"colorscale\": [[0.0, \"#0d0887\"], [0.1111111111111111, \"#46039f\"], [0.2222222222222222, \"#7201a8\"], [0.3333333333333333, \"#9c179e\"], [0.4444444444444444, \"#bd3786\"], [0.5555555555555556, \"#d8576b\"], [0.6666666666666666, \"#ed7953\"], [0.7777777777777778, \"#fb9f3a\"], [0.8888888888888888, \"#fdca26\"], [1.0, \"#f0f921\"]], \"type\": \"heatmapgl\"}], \"histogram\": [{\"marker\": {\"colorbar\": {\"outlinewidth\": 0, \"ticks\": \"\"}}, \"type\": \"histogram\"}], \"histogram2d\": [{\"colorbar\": {\"outlinewidth\": 0, \"ticks\": \"\"}, \"colorscale\": [[0.0, \"#0d0887\"], [0.1111111111111111, \"#46039f\"], [0.2222222222222222, \"#7201a8\"], [0.3333333333333333, \"#9c179e\"], [0.4444444444444444, \"#bd3786\"], [0.5555555555555556, \"#d8576b\"], [0.6666666666666666, \"#ed7953\"], [0.7777777777777778, \"#fb9f3a\"], [0.8888888888888888, \"#fdca26\"], [1.0, \"#f0f921\"]], \"type\": \"histogram2d\"}], \"histogram2dcontour\": [{\"colorbar\": {\"outlinewidth\": 0, \"ticks\": \"\"}, \"colorscale\": [[0.0, \"#0d0887\"], [0.1111111111111111, \"#46039f\"], [0.2222222222222222, \"#7201a8\"], [0.3333333333333333, \"#9c179e\"], [0.4444444444444444, \"#bd3786\"], [0.5555555555555556, \"#d8576b\"], [0.6666666666666666, \"#ed7953\"], [0.7777777777777778, \"#fb9f3a\"], [0.8888888888888888, \"#fdca26\"], [1.0, \"#f0f921\"]], \"type\": \"histogram2dcontour\"}], \"mesh3d\": [{\"colorbar\": {\"outlinewidth\": 0, \"ticks\": \"\"}, \"type\": \"mesh3d\"}], \"parcoords\": [{\"line\": {\"colorbar\": {\"outlinewidth\": 0, \"ticks\": \"\"}}, \"type\": \"parcoords\"}], \"pie\": [{\"automargin\": true, \"type\": \"pie\"}], \"scatter\": [{\"marker\": {\"colorbar\": {\"outlinewidth\": 0, \"ticks\": \"\"}}, \"type\": \"scatter\"}], \"scatter3d\": [{\"line\": {\"colorbar\": {\"outlinewidth\": 0, \"ticks\": \"\"}}, \"marker\": {\"colorbar\": {\"outlinewidth\": 0, \"ticks\": \"\"}}, \"type\": \"scatter3d\"}], \"scattercarpet\": [{\"marker\": {\"colorbar\": {\"outlinewidth\": 0, \"ticks\": \"\"}}, \"type\": \"scattercarpet\"}], \"scattergeo\": [{\"marker\": {\"colorbar\": {\"outlinewidth\": 0, \"ticks\": \"\"}}, \"type\": \"scattergeo\"}], \"scattergl\": [{\"marker\": {\"colorbar\": {\"outlinewidth\": 0, \"ticks\": \"\"}}, \"type\": \"scattergl\"}], \"scattermapbox\": [{\"marker\": {\"colorbar\": {\"outlinewidth\": 0, \"ticks\": \"\"}}, \"type\": \"scattermapbox\"}], \"scatterpolar\": [{\"marker\": {\"colorbar\": {\"outlinewidth\": 0, \"ticks\": \"\"}}, \"type\": \"scatterpolar\"}], \"scatterpolargl\": [{\"marker\": {\"colorbar\": {\"outlinewidth\": 0, \"ticks\": \"\"}}, \"type\": \"scatterpolargl\"}], \"scatterternary\": [{\"marker\": {\"colorbar\": {\"outlinewidth\": 0, \"ticks\": \"\"}}, \"type\": \"scatterternary\"}], \"surface\": [{\"colorbar\": {\"outlinewidth\": 0, \"ticks\": \"\"}, \"colorscale\": [[0.0, \"#0d0887\"], [0.1111111111111111, \"#46039f\"], [0.2222222222222222, \"#7201a8\"], [0.3333333333333333, \"#9c179e\"], [0.4444444444444444, \"#bd3786\"], [0.5555555555555556, \"#d8576b\"], [0.6666666666666666, \"#ed7953\"], [0.7777777777777778, \"#fb9f3a\"], [0.8888888888888888, \"#fdca26\"], [1.0, \"#f0f921\"]], \"type\": \"surface\"}], \"table\": [{\"cells\": {\"fill\": {\"color\": \"#EBF0F8\"}, \"line\": {\"color\": \"white\"}}, \"header\": {\"fill\": {\"color\": \"#C8D4E3\"}, \"line\": {\"color\": \"white\"}}, \"type\": \"table\"}]}, \"layout\": {\"annotationdefaults\": {\"arrowcolor\": \"#2a3f5f\", \"arrowhead\": 0, \"arrowwidth\": 1}, \"coloraxis\": {\"colorbar\": {\"outlinewidth\": 0, \"ticks\": \"\"}}, \"colorscale\": {\"diverging\": [[0, \"#8e0152\"], [0.1, \"#c51b7d\"], [0.2, \"#de77ae\"], [0.3, \"#f1b6da\"], [0.4, \"#fde0ef\"], [0.5, \"#f7f7f7\"], [0.6, \"#e6f5d0\"], [0.7, \"#b8e186\"], [0.8, \"#7fbc41\"], [0.9, \"#4d9221\"], [1, \"#276419\"]], \"sequential\": [[0.0, \"#0d0887\"], [0.1111111111111111, \"#46039f\"], [0.2222222222222222, \"#7201a8\"], [0.3333333333333333, \"#9c179e\"], [0.4444444444444444, \"#bd3786\"], [0.5555555555555556, \"#d8576b\"], [0.6666666666666666, \"#ed7953\"], [0.7777777777777778, \"#fb9f3a\"], [0.8888888888888888, \"#fdca26\"], [1.0, \"#f0f921\"]], \"sequentialminus\": [[0.0, \"#0d0887\"], [0.1111111111111111, \"#46039f\"], [0.2222222222222222, \"#7201a8\"], [0.3333333333333333, \"#9c179e\"], [0.4444444444444444, \"#bd3786\"], [0.5555555555555556, \"#d8576b\"], [0.6666666666666666, \"#ed7953\"], [0.7777777777777778, \"#fb9f3a\"], [0.8888888888888888, \"#fdca26\"], [1.0, \"#f0f921\"]]}, \"colorway\": [\"#636efa\", \"#EF553B\", \"#00cc96\", \"#ab63fa\", \"#FFA15A\", \"#19d3f3\", \"#FF6692\", \"#B6E880\", \"#FF97FF\", \"#FECB52\"], \"font\": {\"color\": \"#2a3f5f\"}, \"geo\": {\"bgcolor\": \"white\", \"lakecolor\": \"white\", \"landcolor\": \"#E5ECF6\", \"showlakes\": true, \"showland\": true, \"subunitcolor\": \"white\"}, \"hoverlabel\": {\"align\": \"left\"}, \"hovermode\": \"closest\", \"mapbox\": {\"style\": \"light\"}, \"paper_bgcolor\": \"white\", \"plot_bgcolor\": \"#E5ECF6\", \"polar\": {\"angularaxis\": {\"gridcolor\": \"white\", \"linecolor\": \"white\", \"ticks\": \"\"}, \"bgcolor\": \"#E5ECF6\", \"radialaxis\": {\"gridcolor\": \"white\", \"linecolor\": \"white\", \"ticks\": \"\"}}, \"scene\": {\"xaxis\": {\"backgroundcolor\": \"#E5ECF6\", \"gridcolor\": \"white\", \"gridwidth\": 2, \"linecolor\": \"white\", \"showbackground\": true, \"ticks\": \"\", \"zerolinecolor\": \"white\"}, \"yaxis\": {\"backgroundcolor\": \"#E5ECF6\", \"gridcolor\": \"white\", \"gridwidth\": 2, \"linecolor\": \"white\", \"showbackground\": true, \"ticks\": \"\", \"zerolinecolor\": \"white\"}, \"zaxis\": {\"backgroundcolor\": \"#E5ECF6\", \"gridcolor\": \"white\", \"gridwidth\": 2, \"linecolor\": \"white\", \"showbackground\": true, \"ticks\": \"\", \"zerolinecolor\": \"white\"}}, \"shapedefaults\": {\"line\": {\"color\": \"#2a3f5f\"}}, \"ternary\": {\"aaxis\": {\"gridcolor\": \"white\", \"linecolor\": \"white\", \"ticks\": \"\"}, \"baxis\": {\"gridcolor\": \"white\", \"linecolor\": \"white\", \"ticks\": \"\"}, \"bgcolor\": \"#E5ECF6\", \"caxis\": {\"gridcolor\": \"white\", \"linecolor\": \"white\", \"ticks\": \"\"}}, \"title\": {\"x\": 0.05}, \"xaxis\": {\"automargin\": true, \"gridcolor\": \"white\", \"linecolor\": \"white\", \"ticks\": \"\", \"title\": {\"standoff\": 15}, \"zerolinecolor\": \"white\", \"zerolinewidth\": 2}, \"yaxis\": {\"automargin\": true, \"gridcolor\": \"white\", \"linecolor\": \"white\", \"ticks\": \"\", \"title\": {\"standoff\": 15}, \"zerolinecolor\": \"white\", \"zerolinewidth\": 2}}}, \"title\": {\"font\": {\"color\": \"#4D5663\"}}, \"xaxis\": {\"gridcolor\": \"#E1E5ED\", \"showgrid\": true, \"tickfont\": {\"color\": \"#4D5663\"}, \"title\": {\"font\": {\"color\": \"#4D5663\"}, \"text\": \"\"}, \"zerolinecolor\": \"#E1E5ED\"}, \"yaxis\": {\"gridcolor\": \"#E1E5ED\", \"showgrid\": true, \"tickfont\": {\"color\": \"#4D5663\"}, \"title\": {\"font\": {\"color\": \"#4D5663\"}, \"text\": \"\"}, \"zerolinecolor\": \"#E1E5ED\"}},\n",
       "                        {\"showLink\": true, \"linkText\": \"Export to plot.ly\", \"plotlyServerURL\": \"https://plot.ly\", \"responsive\": true}\n",
       "                    ).then(function(){\n",
       "                            \n",
       "var gd = document.getElementById('b75f0e98-fc81-4098-ad5e-b73649bd72cf');\n",
       "var x = new MutationObserver(function (mutations, observer) {{\n",
       "        var display = window.getComputedStyle(gd).display;\n",
       "        if (!display || display === 'none') {{\n",
       "            console.log([gd, 'removed!']);\n",
       "            Plotly.purge(gd);\n",
       "            observer.disconnect();\n",
       "        }}\n",
       "}});\n",
       "\n",
       "// Listen for the removal of the full notebook cells\n",
       "var notebookContainer = gd.closest('#notebook-container');\n",
       "if (notebookContainer) {{\n",
       "    x.observe(notebookContainer, {childList: true});\n",
       "}}\n",
       "\n",
       "// Listen for the clearing of the current output cell\n",
       "var outputEl = gd.closest('.output');\n",
       "if (outputEl) {{\n",
       "    x.observe(outputEl, {childList: true});\n",
       "}}\n",
       "\n",
       "                        })\n",
       "                };\n",
       "                });\n",
       "            </script>\n",
       "        </div>"
      ]
     },
     "metadata": {},
     "output_type": "display_data"
    }
   ],
   "source": [
    "df.iplot(kind='hist',bins=50)"
   ]
  },
  {
   "cell_type": "code",
   "execution_count": 39,
   "metadata": {},
   "outputs": [
    {
     "name": "stderr",
     "output_type": "stream",
     "text": [
      "/opt/anaconda3/lib/python3.8/site-packages/cufflinks/plotlytools.py:849: FutureWarning:\n",
      "\n",
      "The pandas.np module is deprecated and will be removed from pandas in a future version. Import numpy directly instead\n",
      "\n",
      "/opt/anaconda3/lib/python3.8/site-packages/cufflinks/plotlytools.py:850: FutureWarning:\n",
      "\n",
      "The pandas.np module is deprecated and will be removed from pandas in a future version. Import numpy directly instead\n",
      "\n"
     ]
    },
    {
     "data": {
      "application/vnd.plotly.v1+json": {
       "config": {
        "linkText": "Export to plot.ly",
        "plotlyServerURL": "https://plot.ly",
        "showLink": true
       },
       "data": [
        {
         "line": {
          "color": "rgba(255, 153, 51, 1.0)",
          "dash": "solid",
          "shape": "linear",
          "width": 1.3
         },
         "mode": "lines",
         "name": "A",
         "text": "",
         "type": "scatter",
         "x": [
          0,
          1,
          2,
          3,
          4,
          5,
          6,
          7,
          8,
          9,
          10,
          11,
          12,
          13,
          14,
          15,
          16,
          17,
          18,
          19,
          20,
          21,
          22,
          23,
          24,
          25,
          26,
          27,
          28,
          29,
          30,
          31,
          32,
          33,
          34,
          35,
          36,
          37,
          38,
          39,
          40,
          41,
          42,
          43,
          44,
          45,
          46,
          47,
          48,
          49,
          50,
          51,
          52,
          53,
          54,
          55,
          56,
          57,
          58,
          59,
          60,
          61,
          62,
          63,
          64,
          65,
          66,
          67,
          68,
          69,
          70,
          71,
          72,
          73,
          74,
          75,
          76,
          77,
          78,
          79,
          80,
          81,
          82,
          83,
          84,
          85,
          86,
          87,
          88,
          89,
          90,
          91,
          92,
          93,
          94,
          95,
          96,
          97,
          98,
          99
         ],
         "y": [
          -1.3559130559175228,
          0.5303321035654701,
          0.29440697268481386,
          -2.366994851248194,
          -0.39061600426275805,
          -1.2161987223331556,
          0.19859743516019948,
          -0.04196512186229954,
          0.7816691002462268,
          -0.5625933565781353,
          0.19285116004885725,
          -0.06178195375831094,
          0.7097995605455756,
          -0.06438499550921149,
          -2.5974737858675803,
          -0.32300690338794696,
          1.0306388859623885,
          -1.941335868515121,
          -1.4355365861662128,
          -0.6573992997091732,
          0.11646656991438858,
          0.46591396507238075,
          0.05272497171678483,
          0.4581524192640287,
          1.1095119169038339,
          -0.16693785245883877,
          -2.4185233240227983,
          -0.6450810153514451,
          1.1329069163196375,
          0.6970329956343094,
          -0.22820026177348646,
          -1.4808780287987526,
          0.024367923584303973,
          0.4286231014194029,
          0.08045542686191721,
          -1.4015248719784796,
          -0.7127602575963483,
          -0.8326614239099435,
          0.9937010497254936,
          -0.5989317759807878,
          -1.4296493006161402,
          0.7713104030030286,
          -0.06980710659690535,
          1.1287545943777195,
          0.24847286609051505,
          -0.25614946259117294,
          -0.4244114222395493,
          0.5856088506470457,
          1.279303773190982,
          -0.44555925844105376,
          0.3490682053943956,
          1.0813767860789734,
          0.8133648881571423,
          -0.6562175042066347,
          -0.4121443535409477,
          1.0969280780102093,
          0.15770461247131407,
          0.042630429623211966,
          2.3683858678174623,
          1.1321042486469257,
          -0.12294684247572248,
          1.7655511106226867,
          -0.1591269815157064,
          0.11075147314174175,
          -1.0859538098553496,
          -2.191959033772851,
          -1.3356073556326191,
          -0.7607734053921369,
          -0.8295932567941922,
          -0.010402164383887734,
          0.009074950144895585,
          -1.3753860596456584,
          1.1186045911807563,
          -1.3180085977495606,
          -1.4364656665274682,
          -1.1545082613318447,
          -0.3488279565559763,
          0.22136370072874864,
          0.11027416415716094,
          -0.3289421211077479,
          1.4982170548436569,
          0.5240075572039334,
          0.14601567207029967,
          1.1131443714346898,
          -0.945595270331263,
          0.29686021046057764,
          -0.06873382405799189,
          1.3398974294041806,
          -0.1005688226330727,
          -0.5387746262762422,
          -0.767849248663247,
          -0.35100755254836946,
          0.1480598141594704,
          0.08595586430500328,
          1.162131405970528,
          0.8816251921637606,
          -0.21427435409242715,
          1.4900398420710712,
          -1.604228677811847,
          0.23534333231846755
         ]
        },
        {
         "line": {
          "color": "rgba(55, 128, 191, 1.0)",
          "dash": "solid",
          "shape": "linear",
          "width": 1.3
         },
         "mode": "lines",
         "name": "B",
         "text": "",
         "type": "scatter",
         "x": [
          0,
          1,
          2,
          3,
          4,
          5,
          6,
          7,
          8,
          9,
          10,
          11,
          12,
          13,
          14,
          15,
          16,
          17,
          18,
          19,
          20,
          21,
          22,
          23,
          24,
          25,
          26,
          27,
          28,
          29,
          30,
          31,
          32,
          33,
          34,
          35,
          36,
          37,
          38,
          39,
          40,
          41,
          42,
          43,
          44,
          45,
          46,
          47,
          48,
          49,
          50,
          51,
          52,
          53,
          54,
          55,
          56,
          57,
          58,
          59,
          60,
          61,
          62,
          63,
          64,
          65,
          66,
          67,
          68,
          69,
          70,
          71,
          72,
          73,
          74,
          75,
          76,
          77,
          78,
          79,
          80,
          81,
          82,
          83,
          84,
          85,
          86,
          87,
          88,
          89,
          90,
          91,
          92,
          93,
          94,
          95,
          96,
          97,
          98,
          99
         ],
         "y": [
          -1.5778429245488879,
          1.2680079504191542,
          0.09649405165059019,
          0.5451506050878556,
          1.4665309109334816,
          -0.8187660691999971,
          0.8892275568624582,
          0.057993196168514054,
          1.0704372338561854,
          -1.1215869807766896,
          0.7898514189744038,
          0.8930828925001068,
          1.3220881795120045,
          -1.1746388644306027,
          -0.11366720583834672,
          -1.08572748143992,
          -0.36542532409071204,
          -0.5451472733548265,
          0.05957969416825055,
          1.0481834417594982,
          0.6582590607680974,
          1.9050369818668038,
          -0.8611884051729745,
          -0.03364255394446158,
          -0.2688534606823713,
          -1.2502969844263059,
          -0.09367845283559229,
          -0.2920765672512015,
          -0.3139676248854494,
          -0.9811182522643814,
          -0.06443198507731814,
          -1.2044898392645802,
          -0.008192778716532423,
          -1.5846889685617627,
          0.12750792187288915,
          -0.3593159388234478,
          -1.4988967562973863,
          1.2732099224625397,
          -0.8615848179565383,
          -0.40897428577114503,
          0.8490222350087218,
          -1.0791246887998986,
          -0.15060725895997487,
          -1.5720599233177468,
          -0.9104303182134822,
          0.3038761199317576,
          1.5772543560605514,
          0.10958890357099571,
          -1.433809763409956,
          0.9001499602414199,
          -1.1065469139557813,
          -1.6591841116033383,
          0.4856131846513768,
          -1.3187515045471454,
          -0.9998085361886271,
          0.8895689618477627,
          -0.6490212653755961,
          -0.6028794296101871,
          -1.6215250503615426,
          0.35749953179801786,
          1.3525172890956467,
          2.1440982079969793,
          -0.7535990604943527,
          -1.8530373144179704,
          0.3853396942630609,
          1.0725112999364486,
          -0.5080799161223373,
          0.728183494278347,
          0.29348208736934966,
          0.6166598740688046,
          -1.4176082506592214,
          -1.2283428172986675,
          0.029400981232705268,
          0.49717683675476193,
          1.2806469532543063,
          -2.170877611449295,
          0.5305137203022765,
          0.07573784865183336,
          1.962331926274082,
          0.6497384161827761,
          0.445444965199007,
          -1.0219776640954312,
          -1.3586633696231962,
          2.548903463301732,
          -0.2657491617480886,
          0.06264434682764904,
          -1.485197772311538,
          -1.9928894210733983,
          1.1406483682872646,
          -1.7880279463109883,
          0.21610130984226705,
          0.6600706306964581,
          0.5159702029260697,
          -1.0874933049782323,
          -1.0924492328288362,
          -0.44981702999116246,
          -0.2910427923330211,
          1.109369336375027,
          -0.27248037646009077,
          -0.14682084414377564
         ]
        },
        {
         "connectgaps": false,
         "fill": "tozeroy",
         "line": {
          "color": "green",
          "dash": "solid",
          "shape": "linear",
          "width": 0.5
         },
         "mode": "lines",
         "name": "Spread",
         "showlegend": false,
         "type": "scatter",
         "x": [
          0,
          1,
          2,
          3,
          4,
          5,
          6,
          7,
          8,
          9,
          10,
          11,
          12,
          13,
          14,
          15,
          16,
          17,
          18,
          19,
          20,
          21,
          22,
          23,
          24,
          25,
          26,
          27,
          28,
          29,
          30,
          31,
          32,
          33,
          34,
          35,
          36,
          37,
          38,
          39,
          40,
          41,
          42,
          43,
          44,
          45,
          46,
          47,
          48,
          49,
          50,
          51,
          52,
          53,
          54,
          55,
          56,
          57,
          58,
          59,
          60,
          61,
          62,
          63,
          64,
          65,
          66,
          67,
          68,
          69,
          70,
          71,
          72,
          73,
          74,
          75,
          76,
          77,
          78,
          79,
          80,
          81,
          82,
          83,
          84,
          85,
          86,
          87,
          88,
          89,
          90,
          91,
          92,
          93,
          94,
          95,
          96,
          97,
          98,
          99
         ],
         "xaxis": "x2",
         "y": [
          0.2219298686313651,
          "",
          0.19791292103422367,
          "",
          "",
          "",
          "",
          "",
          "",
          0.5589936241985544,
          "",
          "",
          "",
          1.1102538689213912,
          "",
          0.762720578051973,
          1.3960642100531007,
          "",
          "",
          "",
          "",
          "",
          0.9139133768897593,
          0.4917949732084903,
          1.3783653775862053,
          1.0833591319674671,
          "",
          "",
          1.4468745412050867,
          1.6781512478986909,
          "",
          "",
          0.032560702300836394,
          2.0133120699811657,
          "",
          "",
          0.786136498701038,
          "",
          1.8552858676820319,
          "",
          "",
          1.850435091802927,
          0.08080015236306952,
          2.7008145176954663,
          1.1589031843039972,
          "",
          "",
          0.47601994707605,
          2.713113536600938,
          "",
          1.455615119350177,
          2.740560897682312,
          0.32775170350576543,
          0.6625340003405107,
          0.5876641826476794,
          0.20735911616244662,
          0.8067258778469102,
          0.6455098592333991,
          3.989910918179005,
          0.7746047168489079,
          "",
          "",
          0.5944720789786463,
          1.9637887875597122,
          "",
          "",
          "",
          "",
          "",
          "",
          1.426683200804117,
          "",
          1.089203609948051,
          "",
          "",
          1.0163693501174504,
          "",
          0.14562585207691528,
          "",
          "",
          1.05277208964465,
          1.5459852212993646,
          1.5046790416934959,
          "",
          "",
          0.23421586363292862,
          1.4164639482535462,
          3.3327868504775786,
          "",
          1.2492533200347462,
          "",
          "",
          "",
          1.1734491692832356,
          2.2545806387993643,
          1.331442222154923,
          0.07676843824059396,
          0.3806705056960442,
          "",
          0.3821641764622432
         ],
         "yaxis": "y2"
        },
        {
         "connectgaps": false,
         "fill": "tozeroy",
         "line": {
          "color": "red",
          "dash": "solid",
          "shape": "linear",
          "width": 0.5
         },
         "mode": "lines",
         "name": "Spread",
         "showlegend": false,
         "type": "scatter",
         "x": [
          0,
          1,
          2,
          3,
          4,
          5,
          6,
          7,
          8,
          9,
          10,
          11,
          12,
          13,
          14,
          15,
          16,
          17,
          18,
          19,
          20,
          21,
          22,
          23,
          24,
          25,
          26,
          27,
          28,
          29,
          30,
          31,
          32,
          33,
          34,
          35,
          36,
          37,
          38,
          39,
          40,
          41,
          42,
          43,
          44,
          45,
          46,
          47,
          48,
          49,
          50,
          51,
          52,
          53,
          54,
          55,
          56,
          57,
          58,
          59,
          60,
          61,
          62,
          63,
          64,
          65,
          66,
          67,
          68,
          69,
          70,
          71,
          72,
          73,
          74,
          75,
          76,
          77,
          78,
          79,
          80,
          81,
          82,
          83,
          84,
          85,
          86,
          87,
          88,
          89,
          90,
          91,
          92,
          93,
          94,
          95,
          96,
          97,
          98,
          99
         ],
         "xaxis": "x2",
         "y": [
          "",
          -0.737675846853684,
          "",
          -2.9121454563360496,
          -1.8571469151962396,
          -0.39743265313315856,
          -0.6906301217022588,
          -0.09995831803081359,
          -0.28876813360995857,
          "",
          -0.5970002589255465,
          -0.9548648462584177,
          -0.6122886189664289,
          "",
          -2.4838065800292335,
          "",
          "",
          -1.3961885951602944,
          -1.4951162803344633,
          -1.7055827414686715,
          -0.5417924908537088,
          -1.4391230167944231,
          "",
          "",
          "",
          "",
          -2.324844871187206,
          -0.3530044481002436,
          "",
          "",
          -0.16376827669616834,
          -0.27638818953417243,
          "",
          "",
          -0.04705249501097193,
          -1.042208933155032,
          "",
          -2.105871346372483,
          "",
          -0.1899574902096428,
          -2.278671535624862,
          "",
          "",
          "",
          "",
          -0.5600255825229306,
          -2.001665778300101,
          "",
          "",
          -1.3457092186824737,
          "",
          "",
          "",
          "",
          "",
          "",
          "",
          "",
          "",
          "",
          -1.4754641315713692,
          -0.3785470973742926,
          "",
          "",
          -1.4712935041184105,
          -3.2644703337092995,
          -0.8275274395102818,
          -1.4889568996704838,
          -1.1230753441635417,
          -0.6270620384526924,
          "",
          -0.14704324234699095,
          "",
          -1.8151854345043226,
          -2.7171126197817745,
          "",
          -0.8793416768582528,
          "",
          -1.852057762116921,
          -0.978680537290524,
          "",
          "",
          "",
          -1.435759091867042,
          -0.6798461085831744,
          "",
          "",
          "",
          -1.2412171909203373,
          "",
          -0.983950558505514,
          -1.0110781832448277,
          -0.36791038876659926,
          "",
          "",
          "",
          "",
          "",
          -1.3317483013517564,
          ""
         ],
         "yaxis": "y2"
        }
       ],
       "layout": {
        "hovermode": "x",
        "legend": {
         "bgcolor": "#F5F6F9",
         "font": {
          "color": "#4D5663"
         }
        },
        "paper_bgcolor": "#F5F6F9",
        "plot_bgcolor": "#F5F6F9",
        "template": {
         "data": {
          "bar": [
           {
            "error_x": {
             "color": "#2a3f5f"
            },
            "error_y": {
             "color": "#2a3f5f"
            },
            "marker": {
             "line": {
              "color": "#E5ECF6",
              "width": 0.5
             }
            },
            "type": "bar"
           }
          ],
          "barpolar": [
           {
            "marker": {
             "line": {
              "color": "#E5ECF6",
              "width": 0.5
             }
            },
            "type": "barpolar"
           }
          ],
          "carpet": [
           {
            "aaxis": {
             "endlinecolor": "#2a3f5f",
             "gridcolor": "white",
             "linecolor": "white",
             "minorgridcolor": "white",
             "startlinecolor": "#2a3f5f"
            },
            "baxis": {
             "endlinecolor": "#2a3f5f",
             "gridcolor": "white",
             "linecolor": "white",
             "minorgridcolor": "white",
             "startlinecolor": "#2a3f5f"
            },
            "type": "carpet"
           }
          ],
          "choropleth": [
           {
            "colorbar": {
             "outlinewidth": 0,
             "ticks": ""
            },
            "type": "choropleth"
           }
          ],
          "contour": [
           {
            "colorbar": {
             "outlinewidth": 0,
             "ticks": ""
            },
            "colorscale": [
             [
              0,
              "#0d0887"
             ],
             [
              0.1111111111111111,
              "#46039f"
             ],
             [
              0.2222222222222222,
              "#7201a8"
             ],
             [
              0.3333333333333333,
              "#9c179e"
             ],
             [
              0.4444444444444444,
              "#bd3786"
             ],
             [
              0.5555555555555556,
              "#d8576b"
             ],
             [
              0.6666666666666666,
              "#ed7953"
             ],
             [
              0.7777777777777778,
              "#fb9f3a"
             ],
             [
              0.8888888888888888,
              "#fdca26"
             ],
             [
              1,
              "#f0f921"
             ]
            ],
            "type": "contour"
           }
          ],
          "contourcarpet": [
           {
            "colorbar": {
             "outlinewidth": 0,
             "ticks": ""
            },
            "type": "contourcarpet"
           }
          ],
          "heatmap": [
           {
            "colorbar": {
             "outlinewidth": 0,
             "ticks": ""
            },
            "colorscale": [
             [
              0,
              "#0d0887"
             ],
             [
              0.1111111111111111,
              "#46039f"
             ],
             [
              0.2222222222222222,
              "#7201a8"
             ],
             [
              0.3333333333333333,
              "#9c179e"
             ],
             [
              0.4444444444444444,
              "#bd3786"
             ],
             [
              0.5555555555555556,
              "#d8576b"
             ],
             [
              0.6666666666666666,
              "#ed7953"
             ],
             [
              0.7777777777777778,
              "#fb9f3a"
             ],
             [
              0.8888888888888888,
              "#fdca26"
             ],
             [
              1,
              "#f0f921"
             ]
            ],
            "type": "heatmap"
           }
          ],
          "heatmapgl": [
           {
            "colorbar": {
             "outlinewidth": 0,
             "ticks": ""
            },
            "colorscale": [
             [
              0,
              "#0d0887"
             ],
             [
              0.1111111111111111,
              "#46039f"
             ],
             [
              0.2222222222222222,
              "#7201a8"
             ],
             [
              0.3333333333333333,
              "#9c179e"
             ],
             [
              0.4444444444444444,
              "#bd3786"
             ],
             [
              0.5555555555555556,
              "#d8576b"
             ],
             [
              0.6666666666666666,
              "#ed7953"
             ],
             [
              0.7777777777777778,
              "#fb9f3a"
             ],
             [
              0.8888888888888888,
              "#fdca26"
             ],
             [
              1,
              "#f0f921"
             ]
            ],
            "type": "heatmapgl"
           }
          ],
          "histogram": [
           {
            "marker": {
             "colorbar": {
              "outlinewidth": 0,
              "ticks": ""
             }
            },
            "type": "histogram"
           }
          ],
          "histogram2d": [
           {
            "colorbar": {
             "outlinewidth": 0,
             "ticks": ""
            },
            "colorscale": [
             [
              0,
              "#0d0887"
             ],
             [
              0.1111111111111111,
              "#46039f"
             ],
             [
              0.2222222222222222,
              "#7201a8"
             ],
             [
              0.3333333333333333,
              "#9c179e"
             ],
             [
              0.4444444444444444,
              "#bd3786"
             ],
             [
              0.5555555555555556,
              "#d8576b"
             ],
             [
              0.6666666666666666,
              "#ed7953"
             ],
             [
              0.7777777777777778,
              "#fb9f3a"
             ],
             [
              0.8888888888888888,
              "#fdca26"
             ],
             [
              1,
              "#f0f921"
             ]
            ],
            "type": "histogram2d"
           }
          ],
          "histogram2dcontour": [
           {
            "colorbar": {
             "outlinewidth": 0,
             "ticks": ""
            },
            "colorscale": [
             [
              0,
              "#0d0887"
             ],
             [
              0.1111111111111111,
              "#46039f"
             ],
             [
              0.2222222222222222,
              "#7201a8"
             ],
             [
              0.3333333333333333,
              "#9c179e"
             ],
             [
              0.4444444444444444,
              "#bd3786"
             ],
             [
              0.5555555555555556,
              "#d8576b"
             ],
             [
              0.6666666666666666,
              "#ed7953"
             ],
             [
              0.7777777777777778,
              "#fb9f3a"
             ],
             [
              0.8888888888888888,
              "#fdca26"
             ],
             [
              1,
              "#f0f921"
             ]
            ],
            "type": "histogram2dcontour"
           }
          ],
          "mesh3d": [
           {
            "colorbar": {
             "outlinewidth": 0,
             "ticks": ""
            },
            "type": "mesh3d"
           }
          ],
          "parcoords": [
           {
            "line": {
             "colorbar": {
              "outlinewidth": 0,
              "ticks": ""
             }
            },
            "type": "parcoords"
           }
          ],
          "pie": [
           {
            "automargin": true,
            "type": "pie"
           }
          ],
          "scatter": [
           {
            "marker": {
             "colorbar": {
              "outlinewidth": 0,
              "ticks": ""
             }
            },
            "type": "scatter"
           }
          ],
          "scatter3d": [
           {
            "line": {
             "colorbar": {
              "outlinewidth": 0,
              "ticks": ""
             }
            },
            "marker": {
             "colorbar": {
              "outlinewidth": 0,
              "ticks": ""
             }
            },
            "type": "scatter3d"
           }
          ],
          "scattercarpet": [
           {
            "marker": {
             "colorbar": {
              "outlinewidth": 0,
              "ticks": ""
             }
            },
            "type": "scattercarpet"
           }
          ],
          "scattergeo": [
           {
            "marker": {
             "colorbar": {
              "outlinewidth": 0,
              "ticks": ""
             }
            },
            "type": "scattergeo"
           }
          ],
          "scattergl": [
           {
            "marker": {
             "colorbar": {
              "outlinewidth": 0,
              "ticks": ""
             }
            },
            "type": "scattergl"
           }
          ],
          "scattermapbox": [
           {
            "marker": {
             "colorbar": {
              "outlinewidth": 0,
              "ticks": ""
             }
            },
            "type": "scattermapbox"
           }
          ],
          "scatterpolar": [
           {
            "marker": {
             "colorbar": {
              "outlinewidth": 0,
              "ticks": ""
             }
            },
            "type": "scatterpolar"
           }
          ],
          "scatterpolargl": [
           {
            "marker": {
             "colorbar": {
              "outlinewidth": 0,
              "ticks": ""
             }
            },
            "type": "scatterpolargl"
           }
          ],
          "scatterternary": [
           {
            "marker": {
             "colorbar": {
              "outlinewidth": 0,
              "ticks": ""
             }
            },
            "type": "scatterternary"
           }
          ],
          "surface": [
           {
            "colorbar": {
             "outlinewidth": 0,
             "ticks": ""
            },
            "colorscale": [
             [
              0,
              "#0d0887"
             ],
             [
              0.1111111111111111,
              "#46039f"
             ],
             [
              0.2222222222222222,
              "#7201a8"
             ],
             [
              0.3333333333333333,
              "#9c179e"
             ],
             [
              0.4444444444444444,
              "#bd3786"
             ],
             [
              0.5555555555555556,
              "#d8576b"
             ],
             [
              0.6666666666666666,
              "#ed7953"
             ],
             [
              0.7777777777777778,
              "#fb9f3a"
             ],
             [
              0.8888888888888888,
              "#fdca26"
             ],
             [
              1,
              "#f0f921"
             ]
            ],
            "type": "surface"
           }
          ],
          "table": [
           {
            "cells": {
             "fill": {
              "color": "#EBF0F8"
             },
             "line": {
              "color": "white"
             }
            },
            "header": {
             "fill": {
              "color": "#C8D4E3"
             },
             "line": {
              "color": "white"
             }
            },
            "type": "table"
           }
          ]
         },
         "layout": {
          "annotationdefaults": {
           "arrowcolor": "#2a3f5f",
           "arrowhead": 0,
           "arrowwidth": 1
          },
          "coloraxis": {
           "colorbar": {
            "outlinewidth": 0,
            "ticks": ""
           }
          },
          "colorscale": {
           "diverging": [
            [
             0,
             "#8e0152"
            ],
            [
             0.1,
             "#c51b7d"
            ],
            [
             0.2,
             "#de77ae"
            ],
            [
             0.3,
             "#f1b6da"
            ],
            [
             0.4,
             "#fde0ef"
            ],
            [
             0.5,
             "#f7f7f7"
            ],
            [
             0.6,
             "#e6f5d0"
            ],
            [
             0.7,
             "#b8e186"
            ],
            [
             0.8,
             "#7fbc41"
            ],
            [
             0.9,
             "#4d9221"
            ],
            [
             1,
             "#276419"
            ]
           ],
           "sequential": [
            [
             0,
             "#0d0887"
            ],
            [
             0.1111111111111111,
             "#46039f"
            ],
            [
             0.2222222222222222,
             "#7201a8"
            ],
            [
             0.3333333333333333,
             "#9c179e"
            ],
            [
             0.4444444444444444,
             "#bd3786"
            ],
            [
             0.5555555555555556,
             "#d8576b"
            ],
            [
             0.6666666666666666,
             "#ed7953"
            ],
            [
             0.7777777777777778,
             "#fb9f3a"
            ],
            [
             0.8888888888888888,
             "#fdca26"
            ],
            [
             1,
             "#f0f921"
            ]
           ],
           "sequentialminus": [
            [
             0,
             "#0d0887"
            ],
            [
             0.1111111111111111,
             "#46039f"
            ],
            [
             0.2222222222222222,
             "#7201a8"
            ],
            [
             0.3333333333333333,
             "#9c179e"
            ],
            [
             0.4444444444444444,
             "#bd3786"
            ],
            [
             0.5555555555555556,
             "#d8576b"
            ],
            [
             0.6666666666666666,
             "#ed7953"
            ],
            [
             0.7777777777777778,
             "#fb9f3a"
            ],
            [
             0.8888888888888888,
             "#fdca26"
            ],
            [
             1,
             "#f0f921"
            ]
           ]
          },
          "colorway": [
           "#636efa",
           "#EF553B",
           "#00cc96",
           "#ab63fa",
           "#FFA15A",
           "#19d3f3",
           "#FF6692",
           "#B6E880",
           "#FF97FF",
           "#FECB52"
          ],
          "font": {
           "color": "#2a3f5f"
          },
          "geo": {
           "bgcolor": "white",
           "lakecolor": "white",
           "landcolor": "#E5ECF6",
           "showlakes": true,
           "showland": true,
           "subunitcolor": "white"
          },
          "hoverlabel": {
           "align": "left"
          },
          "hovermode": "closest",
          "mapbox": {
           "style": "light"
          },
          "paper_bgcolor": "white",
          "plot_bgcolor": "#E5ECF6",
          "polar": {
           "angularaxis": {
            "gridcolor": "white",
            "linecolor": "white",
            "ticks": ""
           },
           "bgcolor": "#E5ECF6",
           "radialaxis": {
            "gridcolor": "white",
            "linecolor": "white",
            "ticks": ""
           }
          },
          "scene": {
           "xaxis": {
            "backgroundcolor": "#E5ECF6",
            "gridcolor": "white",
            "gridwidth": 2,
            "linecolor": "white",
            "showbackground": true,
            "ticks": "",
            "zerolinecolor": "white"
           },
           "yaxis": {
            "backgroundcolor": "#E5ECF6",
            "gridcolor": "white",
            "gridwidth": 2,
            "linecolor": "white",
            "showbackground": true,
            "ticks": "",
            "zerolinecolor": "white"
           },
           "zaxis": {
            "backgroundcolor": "#E5ECF6",
            "gridcolor": "white",
            "gridwidth": 2,
            "linecolor": "white",
            "showbackground": true,
            "ticks": "",
            "zerolinecolor": "white"
           }
          },
          "shapedefaults": {
           "line": {
            "color": "#2a3f5f"
           }
          },
          "ternary": {
           "aaxis": {
            "gridcolor": "white",
            "linecolor": "white",
            "ticks": ""
           },
           "baxis": {
            "gridcolor": "white",
            "linecolor": "white",
            "ticks": ""
           },
           "bgcolor": "#E5ECF6",
           "caxis": {
            "gridcolor": "white",
            "linecolor": "white",
            "ticks": ""
           }
          },
          "title": {
           "x": 0.05
          },
          "xaxis": {
           "automargin": true,
           "gridcolor": "white",
           "linecolor": "white",
           "ticks": "",
           "title": {
            "standoff": 15
           },
           "zerolinecolor": "white",
           "zerolinewidth": 2
          },
          "yaxis": {
           "automargin": true,
           "gridcolor": "white",
           "linecolor": "white",
           "ticks": "",
           "title": {
            "standoff": 15
           },
           "zerolinecolor": "white",
           "zerolinewidth": 2
          }
         }
        },
        "title": {
         "font": {
          "color": "#4D5663"
         }
        },
        "xaxis": {
         "gridcolor": "#E1E5ED",
         "showgrid": true,
         "tickfont": {
          "color": "#4D5663"
         },
         "title": {
          "font": {
           "color": "#4D5663"
          },
          "text": ""
         },
         "zerolinecolor": "#E1E5ED"
        },
        "xaxis2": {
         "anchor": "y2",
         "gridcolor": "#E1E5ED",
         "showgrid": true,
         "showticklabels": false,
         "tickfont": {
          "color": "#4D5663"
         },
         "title": {
          "font": {
           "color": "#4D5663"
          },
          "text": ""
         },
         "zerolinecolor": "#E1E5ED"
        },
        "yaxis": {
         "domain": [
          0.3,
          1
         ],
         "gridcolor": "#E1E5ED",
         "showgrid": true,
         "tickfont": {
          "color": "#4D5663"
         },
         "title": {
          "font": {
           "color": "#4D5663"
          },
          "text": ""
         },
         "zerolinecolor": "#E1E5ED"
        },
        "yaxis2": {
         "domain": [
          0,
          0.25
         ],
         "gridcolor": "#E1E5ED",
         "showgrid": true,
         "tickfont": {
          "color": "#4D5663"
         },
         "title": {
          "font": {
           "color": "#4D5663"
          },
          "text": "Spread"
         },
         "zerolinecolor": "#E1E5ED"
        }
       }
      },
      "text/html": [
       "<div>\n",
       "        \n",
       "        \n",
       "            <div id=\"73534af8-4060-43b2-abef-ba17cda7381a\" class=\"plotly-graph-div\" style=\"height:525px; width:100%;\"></div>\n",
       "            <script type=\"text/javascript\">\n",
       "                require([\"plotly\"], function(Plotly) {\n",
       "                    window.PLOTLYENV=window.PLOTLYENV || {};\n",
       "                    window.PLOTLYENV.BASE_URL='https://plot.ly';\n",
       "                    \n",
       "                if (document.getElementById(\"73534af8-4060-43b2-abef-ba17cda7381a\")) {\n",
       "                    Plotly.newPlot(\n",
       "                        '73534af8-4060-43b2-abef-ba17cda7381a',\n",
       "                        [{\"line\": {\"color\": \"rgba(255, 153, 51, 1.0)\", \"dash\": \"solid\", \"shape\": \"linear\", \"width\": 1.3}, \"mode\": \"lines\", \"name\": \"A\", \"text\": \"\", \"type\": \"scatter\", \"x\": [0, 1, 2, 3, 4, 5, 6, 7, 8, 9, 10, 11, 12, 13, 14, 15, 16, 17, 18, 19, 20, 21, 22, 23, 24, 25, 26, 27, 28, 29, 30, 31, 32, 33, 34, 35, 36, 37, 38, 39, 40, 41, 42, 43, 44, 45, 46, 47, 48, 49, 50, 51, 52, 53, 54, 55, 56, 57, 58, 59, 60, 61, 62, 63, 64, 65, 66, 67, 68, 69, 70, 71, 72, 73, 74, 75, 76, 77, 78, 79, 80, 81, 82, 83, 84, 85, 86, 87, 88, 89, 90, 91, 92, 93, 94, 95, 96, 97, 98, 99], \"y\": [-1.3559130559175228, 0.5303321035654701, 0.29440697268481386, -2.366994851248194, -0.39061600426275805, -1.2161987223331556, 0.19859743516019948, -0.04196512186229954, 0.7816691002462268, -0.5625933565781353, 0.19285116004885725, -0.06178195375831094, 0.7097995605455756, -0.06438499550921149, -2.5974737858675803, -0.32300690338794696, 1.0306388859623885, -1.941335868515121, -1.4355365861662128, -0.6573992997091732, 0.11646656991438858, 0.46591396507238075, 0.05272497171678483, 0.4581524192640287, 1.1095119169038339, -0.16693785245883877, -2.4185233240227983, -0.6450810153514451, 1.1329069163196375, 0.6970329956343094, -0.22820026177348646, -1.4808780287987526, 0.024367923584303973, 0.4286231014194029, 0.08045542686191721, -1.4015248719784796, -0.7127602575963483, -0.8326614239099435, 0.9937010497254936, -0.5989317759807878, -1.4296493006161402, 0.7713104030030286, -0.06980710659690535, 1.1287545943777195, 0.24847286609051505, -0.25614946259117294, -0.4244114222395493, 0.5856088506470457, 1.279303773190982, -0.44555925844105376, 0.3490682053943956, 1.0813767860789734, 0.8133648881571423, -0.6562175042066347, -0.4121443535409477, 1.0969280780102093, 0.15770461247131407, 0.042630429623211966, 2.3683858678174623, 1.1321042486469257, -0.12294684247572248, 1.7655511106226867, -0.1591269815157064, 0.11075147314174175, -1.0859538098553496, -2.191959033772851, -1.3356073556326191, -0.7607734053921369, -0.8295932567941922, -0.010402164383887734, 0.009074950144895585, -1.3753860596456584, 1.1186045911807563, -1.3180085977495606, -1.4364656665274682, -1.1545082613318447, -0.3488279565559763, 0.22136370072874864, 0.11027416415716094, -0.3289421211077479, 1.4982170548436569, 0.5240075572039334, 0.14601567207029967, 1.1131443714346898, -0.945595270331263, 0.29686021046057764, -0.06873382405799189, 1.3398974294041806, -0.1005688226330727, -0.5387746262762422, -0.767849248663247, -0.35100755254836946, 0.1480598141594704, 0.08595586430500328, 1.162131405970528, 0.8816251921637606, -0.21427435409242715, 1.4900398420710712, -1.604228677811847, 0.23534333231846755]}, {\"line\": {\"color\": \"rgba(55, 128, 191, 1.0)\", \"dash\": \"solid\", \"shape\": \"linear\", \"width\": 1.3}, \"mode\": \"lines\", \"name\": \"B\", \"text\": \"\", \"type\": \"scatter\", \"x\": [0, 1, 2, 3, 4, 5, 6, 7, 8, 9, 10, 11, 12, 13, 14, 15, 16, 17, 18, 19, 20, 21, 22, 23, 24, 25, 26, 27, 28, 29, 30, 31, 32, 33, 34, 35, 36, 37, 38, 39, 40, 41, 42, 43, 44, 45, 46, 47, 48, 49, 50, 51, 52, 53, 54, 55, 56, 57, 58, 59, 60, 61, 62, 63, 64, 65, 66, 67, 68, 69, 70, 71, 72, 73, 74, 75, 76, 77, 78, 79, 80, 81, 82, 83, 84, 85, 86, 87, 88, 89, 90, 91, 92, 93, 94, 95, 96, 97, 98, 99], \"y\": [-1.5778429245488879, 1.2680079504191542, 0.09649405165059019, 0.5451506050878556, 1.4665309109334816, -0.8187660691999971, 0.8892275568624582, 0.057993196168514054, 1.0704372338561854, -1.1215869807766896, 0.7898514189744038, 0.8930828925001068, 1.3220881795120045, -1.1746388644306027, -0.11366720583834672, -1.08572748143992, -0.36542532409071204, -0.5451472733548265, 0.05957969416825055, 1.0481834417594982, 0.6582590607680974, 1.9050369818668038, -0.8611884051729745, -0.03364255394446158, -0.2688534606823713, -1.2502969844263059, -0.09367845283559229, -0.2920765672512015, -0.3139676248854494, -0.9811182522643814, -0.06443198507731814, -1.2044898392645802, -0.008192778716532423, -1.5846889685617627, 0.12750792187288915, -0.3593159388234478, -1.4988967562973863, 1.2732099224625397, -0.8615848179565383, -0.40897428577114503, 0.8490222350087218, -1.0791246887998986, -0.15060725895997487, -1.5720599233177468, -0.9104303182134822, 0.3038761199317576, 1.5772543560605514, 0.10958890357099571, -1.433809763409956, 0.9001499602414199, -1.1065469139557813, -1.6591841116033383, 0.4856131846513768, -1.3187515045471454, -0.9998085361886271, 0.8895689618477627, -0.6490212653755961, -0.6028794296101871, -1.6215250503615426, 0.35749953179801786, 1.3525172890956467, 2.1440982079969793, -0.7535990604943527, -1.8530373144179704, 0.3853396942630609, 1.0725112999364486, -0.5080799161223373, 0.728183494278347, 0.29348208736934966, 0.6166598740688046, -1.4176082506592214, -1.2283428172986675, 0.029400981232705268, 0.49717683675476193, 1.2806469532543063, -2.170877611449295, 0.5305137203022765, 0.07573784865183336, 1.962331926274082, 0.6497384161827761, 0.445444965199007, -1.0219776640954312, -1.3586633696231962, 2.548903463301732, -0.2657491617480886, 0.06264434682764904, -1.485197772311538, -1.9928894210733983, 1.1406483682872646, -1.7880279463109883, 0.21610130984226705, 0.6600706306964581, 0.5159702029260697, -1.0874933049782323, -1.0924492328288362, -0.44981702999116246, -0.2910427923330211, 1.109369336375027, -0.27248037646009077, -0.14682084414377564]}, {\"connectgaps\": false, \"fill\": \"tozeroy\", \"line\": {\"color\": \"green\", \"dash\": \"solid\", \"shape\": \"linear\", \"width\": 0.5}, \"mode\": \"lines\", \"name\": \"Spread\", \"showlegend\": false, \"type\": \"scatter\", \"x\": [0, 1, 2, 3, 4, 5, 6, 7, 8, 9, 10, 11, 12, 13, 14, 15, 16, 17, 18, 19, 20, 21, 22, 23, 24, 25, 26, 27, 28, 29, 30, 31, 32, 33, 34, 35, 36, 37, 38, 39, 40, 41, 42, 43, 44, 45, 46, 47, 48, 49, 50, 51, 52, 53, 54, 55, 56, 57, 58, 59, 60, 61, 62, 63, 64, 65, 66, 67, 68, 69, 70, 71, 72, 73, 74, 75, 76, 77, 78, 79, 80, 81, 82, 83, 84, 85, 86, 87, 88, 89, 90, 91, 92, 93, 94, 95, 96, 97, 98, 99], \"xaxis\": \"x2\", \"y\": [0.2219298686313651, \"\", 0.19791292103422367, \"\", \"\", \"\", \"\", \"\", \"\", 0.5589936241985544, \"\", \"\", \"\", 1.1102538689213912, \"\", 0.762720578051973, 1.3960642100531007, \"\", \"\", \"\", \"\", \"\", 0.9139133768897593, 0.4917949732084903, 1.3783653775862053, 1.0833591319674671, \"\", \"\", 1.4468745412050867, 1.6781512478986909, \"\", \"\", 0.032560702300836394, 2.0133120699811657, \"\", \"\", 0.786136498701038, \"\", 1.8552858676820319, \"\", \"\", 1.850435091802927, 0.08080015236306952, 2.7008145176954663, 1.1589031843039972, \"\", \"\", 0.47601994707605, 2.713113536600938, \"\", 1.455615119350177, 2.740560897682312, 0.32775170350576543, 0.6625340003405107, 0.5876641826476794, 0.20735911616244662, 0.8067258778469102, 0.6455098592333991, 3.989910918179005, 0.7746047168489079, \"\", \"\", 0.5944720789786463, 1.9637887875597122, \"\", \"\", \"\", \"\", \"\", \"\", 1.426683200804117, \"\", 1.089203609948051, \"\", \"\", 1.0163693501174504, \"\", 0.14562585207691528, \"\", \"\", 1.05277208964465, 1.5459852212993646, 1.5046790416934959, \"\", \"\", 0.23421586363292862, 1.4164639482535462, 3.3327868504775786, \"\", 1.2492533200347462, \"\", \"\", \"\", 1.1734491692832356, 2.2545806387993643, 1.331442222154923, 0.07676843824059396, 0.3806705056960442, \"\", 0.3821641764622432], \"yaxis\": \"y2\"}, {\"connectgaps\": false, \"fill\": \"tozeroy\", \"line\": {\"color\": \"red\", \"dash\": \"solid\", \"shape\": \"linear\", \"width\": 0.5}, \"mode\": \"lines\", \"name\": \"Spread\", \"showlegend\": false, \"type\": \"scatter\", \"x\": [0, 1, 2, 3, 4, 5, 6, 7, 8, 9, 10, 11, 12, 13, 14, 15, 16, 17, 18, 19, 20, 21, 22, 23, 24, 25, 26, 27, 28, 29, 30, 31, 32, 33, 34, 35, 36, 37, 38, 39, 40, 41, 42, 43, 44, 45, 46, 47, 48, 49, 50, 51, 52, 53, 54, 55, 56, 57, 58, 59, 60, 61, 62, 63, 64, 65, 66, 67, 68, 69, 70, 71, 72, 73, 74, 75, 76, 77, 78, 79, 80, 81, 82, 83, 84, 85, 86, 87, 88, 89, 90, 91, 92, 93, 94, 95, 96, 97, 98, 99], \"xaxis\": \"x2\", \"y\": [\"\", -0.737675846853684, \"\", -2.9121454563360496, -1.8571469151962396, -0.39743265313315856, -0.6906301217022588, -0.09995831803081359, -0.28876813360995857, \"\", -0.5970002589255465, -0.9548648462584177, -0.6122886189664289, \"\", -2.4838065800292335, \"\", \"\", -1.3961885951602944, -1.4951162803344633, -1.7055827414686715, -0.5417924908537088, -1.4391230167944231, \"\", \"\", \"\", \"\", -2.324844871187206, -0.3530044481002436, \"\", \"\", -0.16376827669616834, -0.27638818953417243, \"\", \"\", -0.04705249501097193, -1.042208933155032, \"\", -2.105871346372483, \"\", -0.1899574902096428, -2.278671535624862, \"\", \"\", \"\", \"\", -0.5600255825229306, -2.001665778300101, \"\", \"\", -1.3457092186824737, \"\", \"\", \"\", \"\", \"\", \"\", \"\", \"\", \"\", \"\", -1.4754641315713692, -0.3785470973742926, \"\", \"\", -1.4712935041184105, -3.2644703337092995, -0.8275274395102818, -1.4889568996704838, -1.1230753441635417, -0.6270620384526924, \"\", -0.14704324234699095, \"\", -1.8151854345043226, -2.7171126197817745, \"\", -0.8793416768582528, \"\", -1.852057762116921, -0.978680537290524, \"\", \"\", \"\", -1.435759091867042, -0.6798461085831744, \"\", \"\", \"\", -1.2412171909203373, \"\", -0.983950558505514, -1.0110781832448277, -0.36791038876659926, \"\", \"\", \"\", \"\", \"\", -1.3317483013517564, \"\"], \"yaxis\": \"y2\"}],\n",
       "                        {\"hovermode\": \"x\", \"legend\": {\"bgcolor\": \"#F5F6F9\", \"font\": {\"color\": \"#4D5663\"}}, \"paper_bgcolor\": \"#F5F6F9\", \"plot_bgcolor\": \"#F5F6F9\", \"template\": {\"data\": {\"bar\": [{\"error_x\": {\"color\": \"#2a3f5f\"}, \"error_y\": {\"color\": \"#2a3f5f\"}, \"marker\": {\"line\": {\"color\": \"#E5ECF6\", \"width\": 0.5}}, \"type\": \"bar\"}], \"barpolar\": [{\"marker\": {\"line\": {\"color\": \"#E5ECF6\", \"width\": 0.5}}, \"type\": \"barpolar\"}], \"carpet\": [{\"aaxis\": {\"endlinecolor\": \"#2a3f5f\", \"gridcolor\": \"white\", \"linecolor\": \"white\", \"minorgridcolor\": \"white\", \"startlinecolor\": \"#2a3f5f\"}, \"baxis\": {\"endlinecolor\": \"#2a3f5f\", \"gridcolor\": \"white\", \"linecolor\": \"white\", \"minorgridcolor\": \"white\", \"startlinecolor\": \"#2a3f5f\"}, \"type\": \"carpet\"}], \"choropleth\": [{\"colorbar\": {\"outlinewidth\": 0, \"ticks\": \"\"}, \"type\": \"choropleth\"}], \"contour\": [{\"colorbar\": {\"outlinewidth\": 0, \"ticks\": \"\"}, \"colorscale\": [[0.0, \"#0d0887\"], [0.1111111111111111, \"#46039f\"], [0.2222222222222222, \"#7201a8\"], [0.3333333333333333, \"#9c179e\"], [0.4444444444444444, \"#bd3786\"], [0.5555555555555556, \"#d8576b\"], [0.6666666666666666, \"#ed7953\"], [0.7777777777777778, \"#fb9f3a\"], [0.8888888888888888, \"#fdca26\"], [1.0, \"#f0f921\"]], \"type\": \"contour\"}], \"contourcarpet\": [{\"colorbar\": {\"outlinewidth\": 0, \"ticks\": \"\"}, \"type\": \"contourcarpet\"}], \"heatmap\": [{\"colorbar\": {\"outlinewidth\": 0, \"ticks\": \"\"}, \"colorscale\": [[0.0, \"#0d0887\"], [0.1111111111111111, \"#46039f\"], [0.2222222222222222, \"#7201a8\"], [0.3333333333333333, \"#9c179e\"], [0.4444444444444444, \"#bd3786\"], [0.5555555555555556, \"#d8576b\"], [0.6666666666666666, \"#ed7953\"], [0.7777777777777778, \"#fb9f3a\"], [0.8888888888888888, \"#fdca26\"], [1.0, \"#f0f921\"]], \"type\": \"heatmap\"}], \"heatmapgl\": [{\"colorbar\": {\"outlinewidth\": 0, \"ticks\": \"\"}, \"colorscale\": [[0.0, \"#0d0887\"], [0.1111111111111111, \"#46039f\"], [0.2222222222222222, \"#7201a8\"], [0.3333333333333333, \"#9c179e\"], [0.4444444444444444, \"#bd3786\"], [0.5555555555555556, \"#d8576b\"], [0.6666666666666666, \"#ed7953\"], [0.7777777777777778, \"#fb9f3a\"], [0.8888888888888888, \"#fdca26\"], [1.0, \"#f0f921\"]], \"type\": \"heatmapgl\"}], \"histogram\": [{\"marker\": {\"colorbar\": {\"outlinewidth\": 0, \"ticks\": \"\"}}, \"type\": \"histogram\"}], \"histogram2d\": [{\"colorbar\": {\"outlinewidth\": 0, \"ticks\": \"\"}, \"colorscale\": [[0.0, \"#0d0887\"], [0.1111111111111111, \"#46039f\"], [0.2222222222222222, \"#7201a8\"], [0.3333333333333333, \"#9c179e\"], [0.4444444444444444, \"#bd3786\"], [0.5555555555555556, \"#d8576b\"], [0.6666666666666666, \"#ed7953\"], [0.7777777777777778, \"#fb9f3a\"], [0.8888888888888888, \"#fdca26\"], [1.0, \"#f0f921\"]], \"type\": \"histogram2d\"}], \"histogram2dcontour\": [{\"colorbar\": {\"outlinewidth\": 0, \"ticks\": \"\"}, \"colorscale\": [[0.0, \"#0d0887\"], [0.1111111111111111, \"#46039f\"], [0.2222222222222222, \"#7201a8\"], [0.3333333333333333, \"#9c179e\"], [0.4444444444444444, \"#bd3786\"], [0.5555555555555556, \"#d8576b\"], [0.6666666666666666, \"#ed7953\"], [0.7777777777777778, \"#fb9f3a\"], [0.8888888888888888, \"#fdca26\"], [1.0, \"#f0f921\"]], \"type\": \"histogram2dcontour\"}], \"mesh3d\": [{\"colorbar\": {\"outlinewidth\": 0, \"ticks\": \"\"}, \"type\": \"mesh3d\"}], \"parcoords\": [{\"line\": {\"colorbar\": {\"outlinewidth\": 0, \"ticks\": \"\"}}, \"type\": \"parcoords\"}], \"pie\": [{\"automargin\": true, \"type\": \"pie\"}], \"scatter\": [{\"marker\": {\"colorbar\": {\"outlinewidth\": 0, \"ticks\": \"\"}}, \"type\": \"scatter\"}], \"scatter3d\": [{\"line\": {\"colorbar\": {\"outlinewidth\": 0, \"ticks\": \"\"}}, \"marker\": {\"colorbar\": {\"outlinewidth\": 0, \"ticks\": \"\"}}, \"type\": \"scatter3d\"}], \"scattercarpet\": [{\"marker\": {\"colorbar\": {\"outlinewidth\": 0, \"ticks\": \"\"}}, \"type\": \"scattercarpet\"}], \"scattergeo\": [{\"marker\": {\"colorbar\": {\"outlinewidth\": 0, \"ticks\": \"\"}}, \"type\": \"scattergeo\"}], \"scattergl\": [{\"marker\": {\"colorbar\": {\"outlinewidth\": 0, \"ticks\": \"\"}}, \"type\": \"scattergl\"}], \"scattermapbox\": [{\"marker\": {\"colorbar\": {\"outlinewidth\": 0, \"ticks\": \"\"}}, \"type\": \"scattermapbox\"}], \"scatterpolar\": [{\"marker\": {\"colorbar\": {\"outlinewidth\": 0, \"ticks\": \"\"}}, \"type\": \"scatterpolar\"}], \"scatterpolargl\": [{\"marker\": {\"colorbar\": {\"outlinewidth\": 0, \"ticks\": \"\"}}, \"type\": \"scatterpolargl\"}], \"scatterternary\": [{\"marker\": {\"colorbar\": {\"outlinewidth\": 0, \"ticks\": \"\"}}, \"type\": \"scatterternary\"}], \"surface\": [{\"colorbar\": {\"outlinewidth\": 0, \"ticks\": \"\"}, \"colorscale\": [[0.0, \"#0d0887\"], [0.1111111111111111, \"#46039f\"], [0.2222222222222222, \"#7201a8\"], [0.3333333333333333, \"#9c179e\"], [0.4444444444444444, \"#bd3786\"], [0.5555555555555556, \"#d8576b\"], [0.6666666666666666, \"#ed7953\"], [0.7777777777777778, \"#fb9f3a\"], [0.8888888888888888, \"#fdca26\"], [1.0, \"#f0f921\"]], \"type\": \"surface\"}], \"table\": [{\"cells\": {\"fill\": {\"color\": \"#EBF0F8\"}, \"line\": {\"color\": \"white\"}}, \"header\": {\"fill\": {\"color\": \"#C8D4E3\"}, \"line\": {\"color\": \"white\"}}, \"type\": \"table\"}]}, \"layout\": {\"annotationdefaults\": {\"arrowcolor\": \"#2a3f5f\", \"arrowhead\": 0, \"arrowwidth\": 1}, \"coloraxis\": {\"colorbar\": {\"outlinewidth\": 0, \"ticks\": \"\"}}, \"colorscale\": {\"diverging\": [[0, \"#8e0152\"], [0.1, \"#c51b7d\"], [0.2, \"#de77ae\"], [0.3, \"#f1b6da\"], [0.4, \"#fde0ef\"], [0.5, \"#f7f7f7\"], [0.6, \"#e6f5d0\"], [0.7, \"#b8e186\"], [0.8, \"#7fbc41\"], [0.9, \"#4d9221\"], [1, \"#276419\"]], \"sequential\": [[0.0, \"#0d0887\"], [0.1111111111111111, \"#46039f\"], [0.2222222222222222, \"#7201a8\"], [0.3333333333333333, \"#9c179e\"], [0.4444444444444444, \"#bd3786\"], [0.5555555555555556, \"#d8576b\"], [0.6666666666666666, \"#ed7953\"], [0.7777777777777778, \"#fb9f3a\"], [0.8888888888888888, \"#fdca26\"], [1.0, \"#f0f921\"]], \"sequentialminus\": [[0.0, \"#0d0887\"], [0.1111111111111111, \"#46039f\"], [0.2222222222222222, \"#7201a8\"], [0.3333333333333333, \"#9c179e\"], [0.4444444444444444, \"#bd3786\"], [0.5555555555555556, \"#d8576b\"], [0.6666666666666666, \"#ed7953\"], [0.7777777777777778, \"#fb9f3a\"], [0.8888888888888888, \"#fdca26\"], [1.0, \"#f0f921\"]]}, \"colorway\": [\"#636efa\", \"#EF553B\", \"#00cc96\", \"#ab63fa\", \"#FFA15A\", \"#19d3f3\", \"#FF6692\", \"#B6E880\", \"#FF97FF\", \"#FECB52\"], \"font\": {\"color\": \"#2a3f5f\"}, \"geo\": {\"bgcolor\": \"white\", \"lakecolor\": \"white\", \"landcolor\": \"#E5ECF6\", \"showlakes\": true, \"showland\": true, \"subunitcolor\": \"white\"}, \"hoverlabel\": {\"align\": \"left\"}, \"hovermode\": \"closest\", \"mapbox\": {\"style\": \"light\"}, \"paper_bgcolor\": \"white\", \"plot_bgcolor\": \"#E5ECF6\", \"polar\": {\"angularaxis\": {\"gridcolor\": \"white\", \"linecolor\": \"white\", \"ticks\": \"\"}, \"bgcolor\": \"#E5ECF6\", \"radialaxis\": {\"gridcolor\": \"white\", \"linecolor\": \"white\", \"ticks\": \"\"}}, \"scene\": {\"xaxis\": {\"backgroundcolor\": \"#E5ECF6\", \"gridcolor\": \"white\", \"gridwidth\": 2, \"linecolor\": \"white\", \"showbackground\": true, \"ticks\": \"\", \"zerolinecolor\": \"white\"}, \"yaxis\": {\"backgroundcolor\": \"#E5ECF6\", \"gridcolor\": \"white\", \"gridwidth\": 2, \"linecolor\": \"white\", \"showbackground\": true, \"ticks\": \"\", \"zerolinecolor\": \"white\"}, \"zaxis\": {\"backgroundcolor\": \"#E5ECF6\", \"gridcolor\": \"white\", \"gridwidth\": 2, \"linecolor\": \"white\", \"showbackground\": true, \"ticks\": \"\", \"zerolinecolor\": \"white\"}}, \"shapedefaults\": {\"line\": {\"color\": \"#2a3f5f\"}}, \"ternary\": {\"aaxis\": {\"gridcolor\": \"white\", \"linecolor\": \"white\", \"ticks\": \"\"}, \"baxis\": {\"gridcolor\": \"white\", \"linecolor\": \"white\", \"ticks\": \"\"}, \"bgcolor\": \"#E5ECF6\", \"caxis\": {\"gridcolor\": \"white\", \"linecolor\": \"white\", \"ticks\": \"\"}}, \"title\": {\"x\": 0.05}, \"xaxis\": {\"automargin\": true, \"gridcolor\": \"white\", \"linecolor\": \"white\", \"ticks\": \"\", \"title\": {\"standoff\": 15}, \"zerolinecolor\": \"white\", \"zerolinewidth\": 2}, \"yaxis\": {\"automargin\": true, \"gridcolor\": \"white\", \"linecolor\": \"white\", \"ticks\": \"\", \"title\": {\"standoff\": 15}, \"zerolinecolor\": \"white\", \"zerolinewidth\": 2}}}, \"title\": {\"font\": {\"color\": \"#4D5663\"}}, \"xaxis\": {\"gridcolor\": \"#E1E5ED\", \"showgrid\": true, \"tickfont\": {\"color\": \"#4D5663\"}, \"title\": {\"font\": {\"color\": \"#4D5663\"}, \"text\": \"\"}, \"zerolinecolor\": \"#E1E5ED\"}, \"xaxis2\": {\"anchor\": \"y2\", \"gridcolor\": \"#E1E5ED\", \"showgrid\": true, \"showticklabels\": false, \"tickfont\": {\"color\": \"#4D5663\"}, \"title\": {\"font\": {\"color\": \"#4D5663\"}, \"text\": \"\"}, \"zerolinecolor\": \"#E1E5ED\"}, \"yaxis\": {\"domain\": [0.3, 1], \"gridcolor\": \"#E1E5ED\", \"showgrid\": true, \"tickfont\": {\"color\": \"#4D5663\"}, \"title\": {\"font\": {\"color\": \"#4D5663\"}, \"text\": \"\"}, \"zerolinecolor\": \"#E1E5ED\"}, \"yaxis2\": {\"domain\": [0, 0.25], \"gridcolor\": \"#E1E5ED\", \"showgrid\": true, \"tickfont\": {\"color\": \"#4D5663\"}, \"title\": {\"font\": {\"color\": \"#4D5663\"}, \"text\": \"Spread\"}, \"zerolinecolor\": \"#E1E5ED\"}},\n",
       "                        {\"showLink\": true, \"linkText\": \"Export to plot.ly\", \"plotlyServerURL\": \"https://plot.ly\", \"responsive\": true}\n",
       "                    ).then(function(){\n",
       "                            \n",
       "var gd = document.getElementById('73534af8-4060-43b2-abef-ba17cda7381a');\n",
       "var x = new MutationObserver(function (mutations, observer) {{\n",
       "        var display = window.getComputedStyle(gd).display;\n",
       "        if (!display || display === 'none') {{\n",
       "            console.log([gd, 'removed!']);\n",
       "            Plotly.purge(gd);\n",
       "            observer.disconnect();\n",
       "        }}\n",
       "}});\n",
       "\n",
       "// Listen for the removal of the full notebook cells\n",
       "var notebookContainer = gd.closest('#notebook-container');\n",
       "if (notebookContainer) {{\n",
       "    x.observe(notebookContainer, {childList: true});\n",
       "}}\n",
       "\n",
       "// Listen for the clearing of the current output cell\n",
       "var outputEl = gd.closest('.output');\n",
       "if (outputEl) {{\n",
       "    x.observe(outputEl, {childList: true});\n",
       "}}\n",
       "\n",
       "                        })\n",
       "                };\n",
       "                });\n",
       "            </script>\n",
       "        </div>"
      ]
     },
     "metadata": {},
     "output_type": "display_data"
    }
   ],
   "source": [
    "df[['A','B']].iplot(kind='spread')"
   ]
  },
  {
   "cell_type": "code",
   "execution_count": 40,
   "metadata": {},
   "outputs": [
    {
     "data": {
      "application/vnd.plotly.v1+json": {
       "config": {
        "linkText": "Export to plot.ly",
        "plotlyServerURL": "https://plot.ly",
        "showLink": true
       },
       "data": [
        {
         "marker": {
          "color": [
           "rgb(255, 153, 51)",
           "rgb(55, 128, 191)",
           "rgb(50, 171, 96)",
           "rgb(128, 0, 128)",
           "rgb(219, 64, 82)",
           "rgb(0, 128, 128)",
           "rgb(255, 255, 51)",
           "rgb(128, 128, 0)",
           "rgb(251, 128, 114)",
           "rgb(128, 177, 211)"
          ],
          "line": {
           "width": 1.3
          },
          "size": [
           47,
           112,
           33,
           71,
           82,
           77,
           79,
           101,
           70,
           50,
           67,
           92,
           74,
           82,
           88,
           61,
           22,
           50,
           80,
           67,
           71,
           44,
           52,
           58,
           76,
           73,
           75,
           73,
           78,
           75,
           60,
           72,
           55,
           54,
           78,
           61,
           74,
           62,
           64,
           77,
           100,
           43,
           41,
           40,
           84,
           65,
           67,
           101,
           83,
           73,
           101,
           73,
           92,
           47,
           65,
           50,
           60,
           79,
           64,
           68,
           92,
           59,
           37,
           78,
           40,
           51,
           47,
           42,
           57,
           50,
           41,
           52,
           55,
           88,
           78,
           72,
           53,
           51,
           78,
           59,
           41,
           36,
           63,
           26,
           72,
           92,
           45,
           86,
           59,
           53,
           48,
           108,
           78,
           66,
           62,
           82,
           77,
           12,
           42,
           67
          ],
          "symbol": "circle"
         },
         "mode": "markers",
         "text": "",
         "type": "scatter",
         "x": [
          -1.3559130559175228,
          0.5303321035654701,
          0.29440697268481386,
          -2.366994851248194,
          -0.39061600426275805,
          -1.2161987223331556,
          0.19859743516019948,
          -0.04196512186229954,
          0.7816691002462268,
          -0.5625933565781353,
          0.19285116004885725,
          -0.06178195375831094,
          0.7097995605455756,
          -0.06438499550921149,
          -2.5974737858675803,
          -0.32300690338794696,
          1.0306388859623885,
          -1.941335868515121,
          -1.4355365861662128,
          -0.6573992997091732,
          0.11646656991438858,
          0.46591396507238075,
          0.05272497171678483,
          0.4581524192640287,
          1.1095119169038339,
          -0.16693785245883877,
          -2.4185233240227983,
          -0.6450810153514451,
          1.1329069163196375,
          0.6970329956343094,
          -0.22820026177348646,
          -1.4808780287987526,
          0.024367923584303973,
          0.4286231014194029,
          0.08045542686191721,
          -1.4015248719784796,
          -0.7127602575963483,
          -0.8326614239099435,
          0.9937010497254936,
          -0.5989317759807878,
          -1.4296493006161402,
          0.7713104030030286,
          -0.06980710659690535,
          1.1287545943777195,
          0.24847286609051505,
          -0.25614946259117294,
          -0.4244114222395493,
          0.5856088506470457,
          1.279303773190982,
          -0.44555925844105376,
          0.3490682053943956,
          1.0813767860789734,
          0.8133648881571423,
          -0.6562175042066347,
          -0.4121443535409477,
          1.0969280780102093,
          0.15770461247131407,
          0.042630429623211966,
          2.3683858678174623,
          1.1321042486469257,
          -0.12294684247572248,
          1.7655511106226867,
          -0.1591269815157064,
          0.11075147314174175,
          -1.0859538098553496,
          -2.191959033772851,
          -1.3356073556326191,
          -0.7607734053921369,
          -0.8295932567941922,
          -0.010402164383887734,
          0.009074950144895585,
          -1.3753860596456584,
          1.1186045911807563,
          -1.3180085977495606,
          -1.4364656665274682,
          -1.1545082613318447,
          -0.3488279565559763,
          0.22136370072874864,
          0.11027416415716094,
          -0.3289421211077479,
          1.4982170548436569,
          0.5240075572039334,
          0.14601567207029967,
          1.1131443714346898,
          -0.945595270331263,
          0.29686021046057764,
          -0.06873382405799189,
          1.3398974294041806,
          -0.1005688226330727,
          -0.5387746262762422,
          -0.767849248663247,
          -0.35100755254836946,
          0.1480598141594704,
          0.08595586430500328,
          1.162131405970528,
          0.8816251921637606,
          -0.21427435409242715,
          1.4900398420710712,
          -1.604228677811847,
          0.23534333231846755
         ],
         "y": [
          -1.5778429245488879,
          1.2680079504191542,
          0.09649405165059019,
          0.5451506050878556,
          1.4665309109334816,
          -0.8187660691999971,
          0.8892275568624582,
          0.057993196168514054,
          1.0704372338561854,
          -1.1215869807766896,
          0.7898514189744038,
          0.8930828925001068,
          1.3220881795120045,
          -1.1746388644306027,
          -0.11366720583834672,
          -1.08572748143992,
          -0.36542532409071204,
          -0.5451472733548265,
          0.05957969416825055,
          1.0481834417594982,
          0.6582590607680974,
          1.9050369818668038,
          -0.8611884051729745,
          -0.03364255394446158,
          -0.2688534606823713,
          -1.2502969844263059,
          -0.09367845283559229,
          -0.2920765672512015,
          -0.3139676248854494,
          -0.9811182522643814,
          -0.06443198507731814,
          -1.2044898392645802,
          -0.008192778716532423,
          -1.5846889685617627,
          0.12750792187288915,
          -0.3593159388234478,
          -1.4988967562973863,
          1.2732099224625397,
          -0.8615848179565383,
          -0.40897428577114503,
          0.8490222350087218,
          -1.0791246887998986,
          -0.15060725895997487,
          -1.5720599233177468,
          -0.9104303182134822,
          0.3038761199317576,
          1.5772543560605514,
          0.10958890357099571,
          -1.433809763409956,
          0.9001499602414199,
          -1.1065469139557813,
          -1.6591841116033383,
          0.4856131846513768,
          -1.3187515045471454,
          -0.9998085361886271,
          0.8895689618477627,
          -0.6490212653755961,
          -0.6028794296101871,
          -1.6215250503615426,
          0.35749953179801786,
          1.3525172890956467,
          2.1440982079969793,
          -0.7535990604943527,
          -1.8530373144179704,
          0.3853396942630609,
          1.0725112999364486,
          -0.5080799161223373,
          0.728183494278347,
          0.29348208736934966,
          0.6166598740688046,
          -1.4176082506592214,
          -1.2283428172986675,
          0.029400981232705268,
          0.49717683675476193,
          1.2806469532543063,
          -2.170877611449295,
          0.5305137203022765,
          0.07573784865183336,
          1.962331926274082,
          0.6497384161827761,
          0.445444965199007,
          -1.0219776640954312,
          -1.3586633696231962,
          2.548903463301732,
          -0.2657491617480886,
          0.06264434682764904,
          -1.485197772311538,
          -1.9928894210733983,
          1.1406483682872646,
          -1.7880279463109883,
          0.21610130984226705,
          0.6600706306964581,
          0.5159702029260697,
          -1.0874933049782323,
          -1.0924492328288362,
          -0.44981702999116246,
          -0.2910427923330211,
          1.109369336375027,
          -0.27248037646009077,
          -0.14682084414377564
         ]
        }
       ],
       "layout": {
        "legend": {
         "bgcolor": "#F5F6F9",
         "font": {
          "color": "#4D5663"
         }
        },
        "paper_bgcolor": "#F5F6F9",
        "plot_bgcolor": "#F5F6F9",
        "template": {
         "data": {
          "bar": [
           {
            "error_x": {
             "color": "#2a3f5f"
            },
            "error_y": {
             "color": "#2a3f5f"
            },
            "marker": {
             "line": {
              "color": "#E5ECF6",
              "width": 0.5
             }
            },
            "type": "bar"
           }
          ],
          "barpolar": [
           {
            "marker": {
             "line": {
              "color": "#E5ECF6",
              "width": 0.5
             }
            },
            "type": "barpolar"
           }
          ],
          "carpet": [
           {
            "aaxis": {
             "endlinecolor": "#2a3f5f",
             "gridcolor": "white",
             "linecolor": "white",
             "minorgridcolor": "white",
             "startlinecolor": "#2a3f5f"
            },
            "baxis": {
             "endlinecolor": "#2a3f5f",
             "gridcolor": "white",
             "linecolor": "white",
             "minorgridcolor": "white",
             "startlinecolor": "#2a3f5f"
            },
            "type": "carpet"
           }
          ],
          "choropleth": [
           {
            "colorbar": {
             "outlinewidth": 0,
             "ticks": ""
            },
            "type": "choropleth"
           }
          ],
          "contour": [
           {
            "colorbar": {
             "outlinewidth": 0,
             "ticks": ""
            },
            "colorscale": [
             [
              0,
              "#0d0887"
             ],
             [
              0.1111111111111111,
              "#46039f"
             ],
             [
              0.2222222222222222,
              "#7201a8"
             ],
             [
              0.3333333333333333,
              "#9c179e"
             ],
             [
              0.4444444444444444,
              "#bd3786"
             ],
             [
              0.5555555555555556,
              "#d8576b"
             ],
             [
              0.6666666666666666,
              "#ed7953"
             ],
             [
              0.7777777777777778,
              "#fb9f3a"
             ],
             [
              0.8888888888888888,
              "#fdca26"
             ],
             [
              1,
              "#f0f921"
             ]
            ],
            "type": "contour"
           }
          ],
          "contourcarpet": [
           {
            "colorbar": {
             "outlinewidth": 0,
             "ticks": ""
            },
            "type": "contourcarpet"
           }
          ],
          "heatmap": [
           {
            "colorbar": {
             "outlinewidth": 0,
             "ticks": ""
            },
            "colorscale": [
             [
              0,
              "#0d0887"
             ],
             [
              0.1111111111111111,
              "#46039f"
             ],
             [
              0.2222222222222222,
              "#7201a8"
             ],
             [
              0.3333333333333333,
              "#9c179e"
             ],
             [
              0.4444444444444444,
              "#bd3786"
             ],
             [
              0.5555555555555556,
              "#d8576b"
             ],
             [
              0.6666666666666666,
              "#ed7953"
             ],
             [
              0.7777777777777778,
              "#fb9f3a"
             ],
             [
              0.8888888888888888,
              "#fdca26"
             ],
             [
              1,
              "#f0f921"
             ]
            ],
            "type": "heatmap"
           }
          ],
          "heatmapgl": [
           {
            "colorbar": {
             "outlinewidth": 0,
             "ticks": ""
            },
            "colorscale": [
             [
              0,
              "#0d0887"
             ],
             [
              0.1111111111111111,
              "#46039f"
             ],
             [
              0.2222222222222222,
              "#7201a8"
             ],
             [
              0.3333333333333333,
              "#9c179e"
             ],
             [
              0.4444444444444444,
              "#bd3786"
             ],
             [
              0.5555555555555556,
              "#d8576b"
             ],
             [
              0.6666666666666666,
              "#ed7953"
             ],
             [
              0.7777777777777778,
              "#fb9f3a"
             ],
             [
              0.8888888888888888,
              "#fdca26"
             ],
             [
              1,
              "#f0f921"
             ]
            ],
            "type": "heatmapgl"
           }
          ],
          "histogram": [
           {
            "marker": {
             "colorbar": {
              "outlinewidth": 0,
              "ticks": ""
             }
            },
            "type": "histogram"
           }
          ],
          "histogram2d": [
           {
            "colorbar": {
             "outlinewidth": 0,
             "ticks": ""
            },
            "colorscale": [
             [
              0,
              "#0d0887"
             ],
             [
              0.1111111111111111,
              "#46039f"
             ],
             [
              0.2222222222222222,
              "#7201a8"
             ],
             [
              0.3333333333333333,
              "#9c179e"
             ],
             [
              0.4444444444444444,
              "#bd3786"
             ],
             [
              0.5555555555555556,
              "#d8576b"
             ],
             [
              0.6666666666666666,
              "#ed7953"
             ],
             [
              0.7777777777777778,
              "#fb9f3a"
             ],
             [
              0.8888888888888888,
              "#fdca26"
             ],
             [
              1,
              "#f0f921"
             ]
            ],
            "type": "histogram2d"
           }
          ],
          "histogram2dcontour": [
           {
            "colorbar": {
             "outlinewidth": 0,
             "ticks": ""
            },
            "colorscale": [
             [
              0,
              "#0d0887"
             ],
             [
              0.1111111111111111,
              "#46039f"
             ],
             [
              0.2222222222222222,
              "#7201a8"
             ],
             [
              0.3333333333333333,
              "#9c179e"
             ],
             [
              0.4444444444444444,
              "#bd3786"
             ],
             [
              0.5555555555555556,
              "#d8576b"
             ],
             [
              0.6666666666666666,
              "#ed7953"
             ],
             [
              0.7777777777777778,
              "#fb9f3a"
             ],
             [
              0.8888888888888888,
              "#fdca26"
             ],
             [
              1,
              "#f0f921"
             ]
            ],
            "type": "histogram2dcontour"
           }
          ],
          "mesh3d": [
           {
            "colorbar": {
             "outlinewidth": 0,
             "ticks": ""
            },
            "type": "mesh3d"
           }
          ],
          "parcoords": [
           {
            "line": {
             "colorbar": {
              "outlinewidth": 0,
              "ticks": ""
             }
            },
            "type": "parcoords"
           }
          ],
          "pie": [
           {
            "automargin": true,
            "type": "pie"
           }
          ],
          "scatter": [
           {
            "marker": {
             "colorbar": {
              "outlinewidth": 0,
              "ticks": ""
             }
            },
            "type": "scatter"
           }
          ],
          "scatter3d": [
           {
            "line": {
             "colorbar": {
              "outlinewidth": 0,
              "ticks": ""
             }
            },
            "marker": {
             "colorbar": {
              "outlinewidth": 0,
              "ticks": ""
             }
            },
            "type": "scatter3d"
           }
          ],
          "scattercarpet": [
           {
            "marker": {
             "colorbar": {
              "outlinewidth": 0,
              "ticks": ""
             }
            },
            "type": "scattercarpet"
           }
          ],
          "scattergeo": [
           {
            "marker": {
             "colorbar": {
              "outlinewidth": 0,
              "ticks": ""
             }
            },
            "type": "scattergeo"
           }
          ],
          "scattergl": [
           {
            "marker": {
             "colorbar": {
              "outlinewidth": 0,
              "ticks": ""
             }
            },
            "type": "scattergl"
           }
          ],
          "scattermapbox": [
           {
            "marker": {
             "colorbar": {
              "outlinewidth": 0,
              "ticks": ""
             }
            },
            "type": "scattermapbox"
           }
          ],
          "scatterpolar": [
           {
            "marker": {
             "colorbar": {
              "outlinewidth": 0,
              "ticks": ""
             }
            },
            "type": "scatterpolar"
           }
          ],
          "scatterpolargl": [
           {
            "marker": {
             "colorbar": {
              "outlinewidth": 0,
              "ticks": ""
             }
            },
            "type": "scatterpolargl"
           }
          ],
          "scatterternary": [
           {
            "marker": {
             "colorbar": {
              "outlinewidth": 0,
              "ticks": ""
             }
            },
            "type": "scatterternary"
           }
          ],
          "surface": [
           {
            "colorbar": {
             "outlinewidth": 0,
             "ticks": ""
            },
            "colorscale": [
             [
              0,
              "#0d0887"
             ],
             [
              0.1111111111111111,
              "#46039f"
             ],
             [
              0.2222222222222222,
              "#7201a8"
             ],
             [
              0.3333333333333333,
              "#9c179e"
             ],
             [
              0.4444444444444444,
              "#bd3786"
             ],
             [
              0.5555555555555556,
              "#d8576b"
             ],
             [
              0.6666666666666666,
              "#ed7953"
             ],
             [
              0.7777777777777778,
              "#fb9f3a"
             ],
             [
              0.8888888888888888,
              "#fdca26"
             ],
             [
              1,
              "#f0f921"
             ]
            ],
            "type": "surface"
           }
          ],
          "table": [
           {
            "cells": {
             "fill": {
              "color": "#EBF0F8"
             },
             "line": {
              "color": "white"
             }
            },
            "header": {
             "fill": {
              "color": "#C8D4E3"
             },
             "line": {
              "color": "white"
             }
            },
            "type": "table"
           }
          ]
         },
         "layout": {
          "annotationdefaults": {
           "arrowcolor": "#2a3f5f",
           "arrowhead": 0,
           "arrowwidth": 1
          },
          "coloraxis": {
           "colorbar": {
            "outlinewidth": 0,
            "ticks": ""
           }
          },
          "colorscale": {
           "diverging": [
            [
             0,
             "#8e0152"
            ],
            [
             0.1,
             "#c51b7d"
            ],
            [
             0.2,
             "#de77ae"
            ],
            [
             0.3,
             "#f1b6da"
            ],
            [
             0.4,
             "#fde0ef"
            ],
            [
             0.5,
             "#f7f7f7"
            ],
            [
             0.6,
             "#e6f5d0"
            ],
            [
             0.7,
             "#b8e186"
            ],
            [
             0.8,
             "#7fbc41"
            ],
            [
             0.9,
             "#4d9221"
            ],
            [
             1,
             "#276419"
            ]
           ],
           "sequential": [
            [
             0,
             "#0d0887"
            ],
            [
             0.1111111111111111,
             "#46039f"
            ],
            [
             0.2222222222222222,
             "#7201a8"
            ],
            [
             0.3333333333333333,
             "#9c179e"
            ],
            [
             0.4444444444444444,
             "#bd3786"
            ],
            [
             0.5555555555555556,
             "#d8576b"
            ],
            [
             0.6666666666666666,
             "#ed7953"
            ],
            [
             0.7777777777777778,
             "#fb9f3a"
            ],
            [
             0.8888888888888888,
             "#fdca26"
            ],
            [
             1,
             "#f0f921"
            ]
           ],
           "sequentialminus": [
            [
             0,
             "#0d0887"
            ],
            [
             0.1111111111111111,
             "#46039f"
            ],
            [
             0.2222222222222222,
             "#7201a8"
            ],
            [
             0.3333333333333333,
             "#9c179e"
            ],
            [
             0.4444444444444444,
             "#bd3786"
            ],
            [
             0.5555555555555556,
             "#d8576b"
            ],
            [
             0.6666666666666666,
             "#ed7953"
            ],
            [
             0.7777777777777778,
             "#fb9f3a"
            ],
            [
             0.8888888888888888,
             "#fdca26"
            ],
            [
             1,
             "#f0f921"
            ]
           ]
          },
          "colorway": [
           "#636efa",
           "#EF553B",
           "#00cc96",
           "#ab63fa",
           "#FFA15A",
           "#19d3f3",
           "#FF6692",
           "#B6E880",
           "#FF97FF",
           "#FECB52"
          ],
          "font": {
           "color": "#2a3f5f"
          },
          "geo": {
           "bgcolor": "white",
           "lakecolor": "white",
           "landcolor": "#E5ECF6",
           "showlakes": true,
           "showland": true,
           "subunitcolor": "white"
          },
          "hoverlabel": {
           "align": "left"
          },
          "hovermode": "closest",
          "mapbox": {
           "style": "light"
          },
          "paper_bgcolor": "white",
          "plot_bgcolor": "#E5ECF6",
          "polar": {
           "angularaxis": {
            "gridcolor": "white",
            "linecolor": "white",
            "ticks": ""
           },
           "bgcolor": "#E5ECF6",
           "radialaxis": {
            "gridcolor": "white",
            "linecolor": "white",
            "ticks": ""
           }
          },
          "scene": {
           "xaxis": {
            "backgroundcolor": "#E5ECF6",
            "gridcolor": "white",
            "gridwidth": 2,
            "linecolor": "white",
            "showbackground": true,
            "ticks": "",
            "zerolinecolor": "white"
           },
           "yaxis": {
            "backgroundcolor": "#E5ECF6",
            "gridcolor": "white",
            "gridwidth": 2,
            "linecolor": "white",
            "showbackground": true,
            "ticks": "",
            "zerolinecolor": "white"
           },
           "zaxis": {
            "backgroundcolor": "#E5ECF6",
            "gridcolor": "white",
            "gridwidth": 2,
            "linecolor": "white",
            "showbackground": true,
            "ticks": "",
            "zerolinecolor": "white"
           }
          },
          "shapedefaults": {
           "line": {
            "color": "#2a3f5f"
           }
          },
          "ternary": {
           "aaxis": {
            "gridcolor": "white",
            "linecolor": "white",
            "ticks": ""
           },
           "baxis": {
            "gridcolor": "white",
            "linecolor": "white",
            "ticks": ""
           },
           "bgcolor": "#E5ECF6",
           "caxis": {
            "gridcolor": "white",
            "linecolor": "white",
            "ticks": ""
           }
          },
          "title": {
           "x": 0.05
          },
          "xaxis": {
           "automargin": true,
           "gridcolor": "white",
           "linecolor": "white",
           "ticks": "",
           "title": {
            "standoff": 15
           },
           "zerolinecolor": "white",
           "zerolinewidth": 2
          },
          "yaxis": {
           "automargin": true,
           "gridcolor": "white",
           "linecolor": "white",
           "ticks": "",
           "title": {
            "standoff": 15
           },
           "zerolinecolor": "white",
           "zerolinewidth": 2
          }
         }
        },
        "title": {
         "font": {
          "color": "#4D5663"
         }
        },
        "xaxis": {
         "gridcolor": "#E1E5ED",
         "showgrid": true,
         "tickfont": {
          "color": "#4D5663"
         },
         "title": {
          "font": {
           "color": "#4D5663"
          },
          "text": ""
         },
         "zerolinecolor": "#E1E5ED"
        },
        "yaxis": {
         "gridcolor": "#E1E5ED",
         "showgrid": true,
         "tickfont": {
          "color": "#4D5663"
         },
         "title": {
          "font": {
           "color": "#4D5663"
          },
          "text": ""
         },
         "zerolinecolor": "#E1E5ED"
        }
       }
      },
      "text/html": [
       "<div>\n",
       "        \n",
       "        \n",
       "            <div id=\"b5d8d52a-cd61-47a6-a02a-ef982912b2fd\" class=\"plotly-graph-div\" style=\"height:525px; width:100%;\"></div>\n",
       "            <script type=\"text/javascript\">\n",
       "                require([\"plotly\"], function(Plotly) {\n",
       "                    window.PLOTLYENV=window.PLOTLYENV || {};\n",
       "                    window.PLOTLYENV.BASE_URL='https://plot.ly';\n",
       "                    \n",
       "                if (document.getElementById(\"b5d8d52a-cd61-47a6-a02a-ef982912b2fd\")) {\n",
       "                    Plotly.newPlot(\n",
       "                        'b5d8d52a-cd61-47a6-a02a-ef982912b2fd',\n",
       "                        [{\"marker\": {\"color\": [\"rgb(255, 153, 51)\", \"rgb(55, 128, 191)\", \"rgb(50, 171, 96)\", \"rgb(128, 0, 128)\", \"rgb(219, 64, 82)\", \"rgb(0, 128, 128)\", \"rgb(255, 255, 51)\", \"rgb(128, 128, 0)\", \"rgb(251, 128, 114)\", \"rgb(128, 177, 211)\"], \"line\": {\"width\": 1.3}, \"size\": [47, 112, 33, 71, 82, 77, 79, 101, 70, 50, 67, 92, 74, 82, 88, 61, 22, 50, 80, 67, 71, 44, 52, 58, 76, 73, 75, 73, 78, 75, 60, 72, 55, 54, 78, 61, 74, 62, 64, 77, 100, 43, 41, 40, 84, 65, 67, 101, 83, 73, 101, 73, 92, 47, 65, 50, 60, 79, 64, 68, 92, 59, 37, 78, 40, 51, 47, 42, 57, 50, 41, 52, 55, 88, 78, 72, 53, 51, 78, 59, 41, 36, 63, 26, 72, 92, 45, 86, 59, 53, 48, 108, 78, 66, 62, 82, 77, 12, 42, 67], \"symbol\": \"circle\"}, \"mode\": \"markers\", \"text\": \"\", \"type\": \"scatter\", \"x\": [-1.3559130559175228, 0.5303321035654701, 0.29440697268481386, -2.366994851248194, -0.39061600426275805, -1.2161987223331556, 0.19859743516019948, -0.04196512186229954, 0.7816691002462268, -0.5625933565781353, 0.19285116004885725, -0.06178195375831094, 0.7097995605455756, -0.06438499550921149, -2.5974737858675803, -0.32300690338794696, 1.0306388859623885, -1.941335868515121, -1.4355365861662128, -0.6573992997091732, 0.11646656991438858, 0.46591396507238075, 0.05272497171678483, 0.4581524192640287, 1.1095119169038339, -0.16693785245883877, -2.4185233240227983, -0.6450810153514451, 1.1329069163196375, 0.6970329956343094, -0.22820026177348646, -1.4808780287987526, 0.024367923584303973, 0.4286231014194029, 0.08045542686191721, -1.4015248719784796, -0.7127602575963483, -0.8326614239099435, 0.9937010497254936, -0.5989317759807878, -1.4296493006161402, 0.7713104030030286, -0.06980710659690535, 1.1287545943777195, 0.24847286609051505, -0.25614946259117294, -0.4244114222395493, 0.5856088506470457, 1.279303773190982, -0.44555925844105376, 0.3490682053943956, 1.0813767860789734, 0.8133648881571423, -0.6562175042066347, -0.4121443535409477, 1.0969280780102093, 0.15770461247131407, 0.042630429623211966, 2.3683858678174623, 1.1321042486469257, -0.12294684247572248, 1.7655511106226867, -0.1591269815157064, 0.11075147314174175, -1.0859538098553496, -2.191959033772851, -1.3356073556326191, -0.7607734053921369, -0.8295932567941922, -0.010402164383887734, 0.009074950144895585, -1.3753860596456584, 1.1186045911807563, -1.3180085977495606, -1.4364656665274682, -1.1545082613318447, -0.3488279565559763, 0.22136370072874864, 0.11027416415716094, -0.3289421211077479, 1.4982170548436569, 0.5240075572039334, 0.14601567207029967, 1.1131443714346898, -0.945595270331263, 0.29686021046057764, -0.06873382405799189, 1.3398974294041806, -0.1005688226330727, -0.5387746262762422, -0.767849248663247, -0.35100755254836946, 0.1480598141594704, 0.08595586430500328, 1.162131405970528, 0.8816251921637606, -0.21427435409242715, 1.4900398420710712, -1.604228677811847, 0.23534333231846755], \"y\": [-1.5778429245488879, 1.2680079504191542, 0.09649405165059019, 0.5451506050878556, 1.4665309109334816, -0.8187660691999971, 0.8892275568624582, 0.057993196168514054, 1.0704372338561854, -1.1215869807766896, 0.7898514189744038, 0.8930828925001068, 1.3220881795120045, -1.1746388644306027, -0.11366720583834672, -1.08572748143992, -0.36542532409071204, -0.5451472733548265, 0.05957969416825055, 1.0481834417594982, 0.6582590607680974, 1.9050369818668038, -0.8611884051729745, -0.03364255394446158, -0.2688534606823713, -1.2502969844263059, -0.09367845283559229, -0.2920765672512015, -0.3139676248854494, -0.9811182522643814, -0.06443198507731814, -1.2044898392645802, -0.008192778716532423, -1.5846889685617627, 0.12750792187288915, -0.3593159388234478, -1.4988967562973863, 1.2732099224625397, -0.8615848179565383, -0.40897428577114503, 0.8490222350087218, -1.0791246887998986, -0.15060725895997487, -1.5720599233177468, -0.9104303182134822, 0.3038761199317576, 1.5772543560605514, 0.10958890357099571, -1.433809763409956, 0.9001499602414199, -1.1065469139557813, -1.6591841116033383, 0.4856131846513768, -1.3187515045471454, -0.9998085361886271, 0.8895689618477627, -0.6490212653755961, -0.6028794296101871, -1.6215250503615426, 0.35749953179801786, 1.3525172890956467, 2.1440982079969793, -0.7535990604943527, -1.8530373144179704, 0.3853396942630609, 1.0725112999364486, -0.5080799161223373, 0.728183494278347, 0.29348208736934966, 0.6166598740688046, -1.4176082506592214, -1.2283428172986675, 0.029400981232705268, 0.49717683675476193, 1.2806469532543063, -2.170877611449295, 0.5305137203022765, 0.07573784865183336, 1.962331926274082, 0.6497384161827761, 0.445444965199007, -1.0219776640954312, -1.3586633696231962, 2.548903463301732, -0.2657491617480886, 0.06264434682764904, -1.485197772311538, -1.9928894210733983, 1.1406483682872646, -1.7880279463109883, 0.21610130984226705, 0.6600706306964581, 0.5159702029260697, -1.0874933049782323, -1.0924492328288362, -0.44981702999116246, -0.2910427923330211, 1.109369336375027, -0.27248037646009077, -0.14682084414377564]}],\n",
       "                        {\"legend\": {\"bgcolor\": \"#F5F6F9\", \"font\": {\"color\": \"#4D5663\"}}, \"paper_bgcolor\": \"#F5F6F9\", \"plot_bgcolor\": \"#F5F6F9\", \"template\": {\"data\": {\"bar\": [{\"error_x\": {\"color\": \"#2a3f5f\"}, \"error_y\": {\"color\": \"#2a3f5f\"}, \"marker\": {\"line\": {\"color\": \"#E5ECF6\", \"width\": 0.5}}, \"type\": \"bar\"}], \"barpolar\": [{\"marker\": {\"line\": {\"color\": \"#E5ECF6\", \"width\": 0.5}}, \"type\": \"barpolar\"}], \"carpet\": [{\"aaxis\": {\"endlinecolor\": \"#2a3f5f\", \"gridcolor\": \"white\", \"linecolor\": \"white\", \"minorgridcolor\": \"white\", \"startlinecolor\": \"#2a3f5f\"}, \"baxis\": {\"endlinecolor\": \"#2a3f5f\", \"gridcolor\": \"white\", \"linecolor\": \"white\", \"minorgridcolor\": \"white\", \"startlinecolor\": \"#2a3f5f\"}, \"type\": \"carpet\"}], \"choropleth\": [{\"colorbar\": {\"outlinewidth\": 0, \"ticks\": \"\"}, \"type\": \"choropleth\"}], \"contour\": [{\"colorbar\": {\"outlinewidth\": 0, \"ticks\": \"\"}, \"colorscale\": [[0.0, \"#0d0887\"], [0.1111111111111111, \"#46039f\"], [0.2222222222222222, \"#7201a8\"], [0.3333333333333333, \"#9c179e\"], [0.4444444444444444, \"#bd3786\"], [0.5555555555555556, \"#d8576b\"], [0.6666666666666666, \"#ed7953\"], [0.7777777777777778, \"#fb9f3a\"], [0.8888888888888888, \"#fdca26\"], [1.0, \"#f0f921\"]], \"type\": \"contour\"}], \"contourcarpet\": [{\"colorbar\": {\"outlinewidth\": 0, \"ticks\": \"\"}, \"type\": \"contourcarpet\"}], \"heatmap\": [{\"colorbar\": {\"outlinewidth\": 0, \"ticks\": \"\"}, \"colorscale\": [[0.0, \"#0d0887\"], [0.1111111111111111, \"#46039f\"], [0.2222222222222222, \"#7201a8\"], [0.3333333333333333, \"#9c179e\"], [0.4444444444444444, \"#bd3786\"], [0.5555555555555556, \"#d8576b\"], [0.6666666666666666, \"#ed7953\"], [0.7777777777777778, \"#fb9f3a\"], [0.8888888888888888, \"#fdca26\"], [1.0, \"#f0f921\"]], \"type\": \"heatmap\"}], \"heatmapgl\": [{\"colorbar\": {\"outlinewidth\": 0, \"ticks\": \"\"}, \"colorscale\": [[0.0, \"#0d0887\"], [0.1111111111111111, \"#46039f\"], [0.2222222222222222, \"#7201a8\"], [0.3333333333333333, \"#9c179e\"], [0.4444444444444444, \"#bd3786\"], [0.5555555555555556, \"#d8576b\"], [0.6666666666666666, \"#ed7953\"], [0.7777777777777778, \"#fb9f3a\"], [0.8888888888888888, \"#fdca26\"], [1.0, \"#f0f921\"]], \"type\": \"heatmapgl\"}], \"histogram\": [{\"marker\": {\"colorbar\": {\"outlinewidth\": 0, \"ticks\": \"\"}}, \"type\": \"histogram\"}], \"histogram2d\": [{\"colorbar\": {\"outlinewidth\": 0, \"ticks\": \"\"}, \"colorscale\": [[0.0, \"#0d0887\"], [0.1111111111111111, \"#46039f\"], [0.2222222222222222, \"#7201a8\"], [0.3333333333333333, \"#9c179e\"], [0.4444444444444444, \"#bd3786\"], [0.5555555555555556, \"#d8576b\"], [0.6666666666666666, \"#ed7953\"], [0.7777777777777778, \"#fb9f3a\"], [0.8888888888888888, \"#fdca26\"], [1.0, \"#f0f921\"]], \"type\": \"histogram2d\"}], \"histogram2dcontour\": [{\"colorbar\": {\"outlinewidth\": 0, \"ticks\": \"\"}, \"colorscale\": [[0.0, \"#0d0887\"], [0.1111111111111111, \"#46039f\"], [0.2222222222222222, \"#7201a8\"], [0.3333333333333333, \"#9c179e\"], [0.4444444444444444, \"#bd3786\"], [0.5555555555555556, \"#d8576b\"], [0.6666666666666666, \"#ed7953\"], [0.7777777777777778, \"#fb9f3a\"], [0.8888888888888888, \"#fdca26\"], [1.0, \"#f0f921\"]], \"type\": \"histogram2dcontour\"}], \"mesh3d\": [{\"colorbar\": {\"outlinewidth\": 0, \"ticks\": \"\"}, \"type\": \"mesh3d\"}], \"parcoords\": [{\"line\": {\"colorbar\": {\"outlinewidth\": 0, \"ticks\": \"\"}}, \"type\": \"parcoords\"}], \"pie\": [{\"automargin\": true, \"type\": \"pie\"}], \"scatter\": [{\"marker\": {\"colorbar\": {\"outlinewidth\": 0, \"ticks\": \"\"}}, \"type\": \"scatter\"}], \"scatter3d\": [{\"line\": {\"colorbar\": {\"outlinewidth\": 0, \"ticks\": \"\"}}, \"marker\": {\"colorbar\": {\"outlinewidth\": 0, \"ticks\": \"\"}}, \"type\": \"scatter3d\"}], \"scattercarpet\": [{\"marker\": {\"colorbar\": {\"outlinewidth\": 0, \"ticks\": \"\"}}, \"type\": \"scattercarpet\"}], \"scattergeo\": [{\"marker\": {\"colorbar\": {\"outlinewidth\": 0, \"ticks\": \"\"}}, \"type\": \"scattergeo\"}], \"scattergl\": [{\"marker\": {\"colorbar\": {\"outlinewidth\": 0, \"ticks\": \"\"}}, \"type\": \"scattergl\"}], \"scattermapbox\": [{\"marker\": {\"colorbar\": {\"outlinewidth\": 0, \"ticks\": \"\"}}, \"type\": \"scattermapbox\"}], \"scatterpolar\": [{\"marker\": {\"colorbar\": {\"outlinewidth\": 0, \"ticks\": \"\"}}, \"type\": \"scatterpolar\"}], \"scatterpolargl\": [{\"marker\": {\"colorbar\": {\"outlinewidth\": 0, \"ticks\": \"\"}}, \"type\": \"scatterpolargl\"}], \"scatterternary\": [{\"marker\": {\"colorbar\": {\"outlinewidth\": 0, \"ticks\": \"\"}}, \"type\": \"scatterternary\"}], \"surface\": [{\"colorbar\": {\"outlinewidth\": 0, \"ticks\": \"\"}, \"colorscale\": [[0.0, \"#0d0887\"], [0.1111111111111111, \"#46039f\"], [0.2222222222222222, \"#7201a8\"], [0.3333333333333333, \"#9c179e\"], [0.4444444444444444, \"#bd3786\"], [0.5555555555555556, \"#d8576b\"], [0.6666666666666666, \"#ed7953\"], [0.7777777777777778, \"#fb9f3a\"], [0.8888888888888888, \"#fdca26\"], [1.0, \"#f0f921\"]], \"type\": \"surface\"}], \"table\": [{\"cells\": {\"fill\": {\"color\": \"#EBF0F8\"}, \"line\": {\"color\": \"white\"}}, \"header\": {\"fill\": {\"color\": \"#C8D4E3\"}, \"line\": {\"color\": \"white\"}}, \"type\": \"table\"}]}, \"layout\": {\"annotationdefaults\": {\"arrowcolor\": \"#2a3f5f\", \"arrowhead\": 0, \"arrowwidth\": 1}, \"coloraxis\": {\"colorbar\": {\"outlinewidth\": 0, \"ticks\": \"\"}}, \"colorscale\": {\"diverging\": [[0, \"#8e0152\"], [0.1, \"#c51b7d\"], [0.2, \"#de77ae\"], [0.3, \"#f1b6da\"], [0.4, \"#fde0ef\"], [0.5, \"#f7f7f7\"], [0.6, \"#e6f5d0\"], [0.7, \"#b8e186\"], [0.8, \"#7fbc41\"], [0.9, \"#4d9221\"], [1, \"#276419\"]], \"sequential\": [[0.0, \"#0d0887\"], [0.1111111111111111, \"#46039f\"], [0.2222222222222222, \"#7201a8\"], [0.3333333333333333, \"#9c179e\"], [0.4444444444444444, \"#bd3786\"], [0.5555555555555556, \"#d8576b\"], [0.6666666666666666, \"#ed7953\"], [0.7777777777777778, \"#fb9f3a\"], [0.8888888888888888, \"#fdca26\"], [1.0, \"#f0f921\"]], \"sequentialminus\": [[0.0, \"#0d0887\"], [0.1111111111111111, \"#46039f\"], [0.2222222222222222, \"#7201a8\"], [0.3333333333333333, \"#9c179e\"], [0.4444444444444444, \"#bd3786\"], [0.5555555555555556, \"#d8576b\"], [0.6666666666666666, \"#ed7953\"], [0.7777777777777778, \"#fb9f3a\"], [0.8888888888888888, \"#fdca26\"], [1.0, \"#f0f921\"]]}, \"colorway\": [\"#636efa\", \"#EF553B\", \"#00cc96\", \"#ab63fa\", \"#FFA15A\", \"#19d3f3\", \"#FF6692\", \"#B6E880\", \"#FF97FF\", \"#FECB52\"], \"font\": {\"color\": \"#2a3f5f\"}, \"geo\": {\"bgcolor\": \"white\", \"lakecolor\": \"white\", \"landcolor\": \"#E5ECF6\", \"showlakes\": true, \"showland\": true, \"subunitcolor\": \"white\"}, \"hoverlabel\": {\"align\": \"left\"}, \"hovermode\": \"closest\", \"mapbox\": {\"style\": \"light\"}, \"paper_bgcolor\": \"white\", \"plot_bgcolor\": \"#E5ECF6\", \"polar\": {\"angularaxis\": {\"gridcolor\": \"white\", \"linecolor\": \"white\", \"ticks\": \"\"}, \"bgcolor\": \"#E5ECF6\", \"radialaxis\": {\"gridcolor\": \"white\", \"linecolor\": \"white\", \"ticks\": \"\"}}, \"scene\": {\"xaxis\": {\"backgroundcolor\": \"#E5ECF6\", \"gridcolor\": \"white\", \"gridwidth\": 2, \"linecolor\": \"white\", \"showbackground\": true, \"ticks\": \"\", \"zerolinecolor\": \"white\"}, \"yaxis\": {\"backgroundcolor\": \"#E5ECF6\", \"gridcolor\": \"white\", \"gridwidth\": 2, \"linecolor\": \"white\", \"showbackground\": true, \"ticks\": \"\", \"zerolinecolor\": \"white\"}, \"zaxis\": {\"backgroundcolor\": \"#E5ECF6\", \"gridcolor\": \"white\", \"gridwidth\": 2, \"linecolor\": \"white\", \"showbackground\": true, \"ticks\": \"\", \"zerolinecolor\": \"white\"}}, \"shapedefaults\": {\"line\": {\"color\": \"#2a3f5f\"}}, \"ternary\": {\"aaxis\": {\"gridcolor\": \"white\", \"linecolor\": \"white\", \"ticks\": \"\"}, \"baxis\": {\"gridcolor\": \"white\", \"linecolor\": \"white\", \"ticks\": \"\"}, \"bgcolor\": \"#E5ECF6\", \"caxis\": {\"gridcolor\": \"white\", \"linecolor\": \"white\", \"ticks\": \"\"}}, \"title\": {\"x\": 0.05}, \"xaxis\": {\"automargin\": true, \"gridcolor\": \"white\", \"linecolor\": \"white\", \"ticks\": \"\", \"title\": {\"standoff\": 15}, \"zerolinecolor\": \"white\", \"zerolinewidth\": 2}, \"yaxis\": {\"automargin\": true, \"gridcolor\": \"white\", \"linecolor\": \"white\", \"ticks\": \"\", \"title\": {\"standoff\": 15}, \"zerolinecolor\": \"white\", \"zerolinewidth\": 2}}}, \"title\": {\"font\": {\"color\": \"#4D5663\"}}, \"xaxis\": {\"gridcolor\": \"#E1E5ED\", \"showgrid\": true, \"tickfont\": {\"color\": \"#4D5663\"}, \"title\": {\"font\": {\"color\": \"#4D5663\"}, \"text\": \"\"}, \"zerolinecolor\": \"#E1E5ED\"}, \"yaxis\": {\"gridcolor\": \"#E1E5ED\", \"showgrid\": true, \"tickfont\": {\"color\": \"#4D5663\"}, \"title\": {\"font\": {\"color\": \"#4D5663\"}, \"text\": \"\"}, \"zerolinecolor\": \"#E1E5ED\"}},\n",
       "                        {\"showLink\": true, \"linkText\": \"Export to plot.ly\", \"plotlyServerURL\": \"https://plot.ly\", \"responsive\": true}\n",
       "                    ).then(function(){\n",
       "                            \n",
       "var gd = document.getElementById('b5d8d52a-cd61-47a6-a02a-ef982912b2fd');\n",
       "var x = new MutationObserver(function (mutations, observer) {{\n",
       "        var display = window.getComputedStyle(gd).display;\n",
       "        if (!display || display === 'none') {{\n",
       "            console.log([gd, 'removed!']);\n",
       "            Plotly.purge(gd);\n",
       "            observer.disconnect();\n",
       "        }}\n",
       "}});\n",
       "\n",
       "// Listen for the removal of the full notebook cells\n",
       "var notebookContainer = gd.closest('#notebook-container');\n",
       "if (notebookContainer) {{\n",
       "    x.observe(notebookContainer, {childList: true});\n",
       "}}\n",
       "\n",
       "// Listen for the clearing of the current output cell\n",
       "var outputEl = gd.closest('.output');\n",
       "if (outputEl) {{\n",
       "    x.observe(outputEl, {childList: true});\n",
       "}}\n",
       "\n",
       "                        })\n",
       "                };\n",
       "                });\n",
       "            </script>\n",
       "        </div>"
      ]
     },
     "metadata": {},
     "output_type": "display_data"
    }
   ],
   "source": [
    "df.iplot(kind='bubble',x='A',y='B',size='C')"
   ]
  },
  {
   "cell_type": "code",
   "execution_count": 42,
   "metadata": {},
   "outputs": [
    {
     "data": {
      "application/vnd.plotly.v1+json": {
       "config": {
        "linkText": "Export to plot.ly",
        "plotlyServerURL": "https://plot.ly",
        "showLink": true
       },
       "data": [
        {
         "histfunc": "count",
         "histnorm": "",
         "marker": {
          "color": "rgba(255, 153, 51, 1.0)",
          "line": {
           "color": "#4D5663",
           "width": 1.3
          }
         },
         "name": "A",
         "nbinsx": 10,
         "opacity": 0.8,
         "orientation": "v",
         "type": "histogram",
         "x": [
          -1.3559130559175228,
          0.5303321035654701,
          0.29440697268481386,
          -2.366994851248194,
          -0.39061600426275805,
          -1.2161987223331556,
          0.19859743516019948,
          -0.04196512186229954,
          0.7816691002462268,
          -0.5625933565781353,
          0.19285116004885725,
          -0.06178195375831094,
          0.7097995605455756,
          -0.06438499550921149,
          -2.5974737858675803,
          -0.32300690338794696,
          1.0306388859623885,
          -1.941335868515121,
          -1.4355365861662128,
          -0.6573992997091732,
          0.11646656991438858,
          0.46591396507238075,
          0.05272497171678483,
          0.4581524192640287,
          1.1095119169038339,
          -0.16693785245883877,
          -2.4185233240227983,
          -0.6450810153514451,
          1.1329069163196375,
          0.6970329956343094,
          -0.22820026177348646,
          -1.4808780287987526,
          0.024367923584303973,
          0.4286231014194029,
          0.08045542686191721,
          -1.4015248719784796,
          -0.7127602575963483,
          -0.8326614239099435,
          0.9937010497254936,
          -0.5989317759807878,
          -1.4296493006161402,
          0.7713104030030286,
          -0.06980710659690535,
          1.1287545943777195,
          0.24847286609051505,
          -0.25614946259117294,
          -0.4244114222395493,
          0.5856088506470457,
          1.279303773190982,
          -0.44555925844105376,
          0.3490682053943956,
          1.0813767860789734,
          0.8133648881571423,
          -0.6562175042066347,
          -0.4121443535409477,
          1.0969280780102093,
          0.15770461247131407,
          0.042630429623211966,
          2.3683858678174623,
          1.1321042486469257,
          -0.12294684247572248,
          1.7655511106226867,
          -0.1591269815157064,
          0.11075147314174175,
          -1.0859538098553496,
          -2.191959033772851,
          -1.3356073556326191,
          -0.7607734053921369,
          -0.8295932567941922,
          -0.010402164383887734,
          0.009074950144895585,
          -1.3753860596456584,
          1.1186045911807563,
          -1.3180085977495606,
          -1.4364656665274682,
          -1.1545082613318447,
          -0.3488279565559763,
          0.22136370072874864,
          0.11027416415716094,
          -0.3289421211077479,
          1.4982170548436569,
          0.5240075572039334,
          0.14601567207029967,
          1.1131443714346898,
          -0.945595270331263,
          0.29686021046057764,
          -0.06873382405799189,
          1.3398974294041806,
          -0.1005688226330727,
          -0.5387746262762422,
          -0.767849248663247,
          -0.35100755254836946,
          0.1480598141594704,
          0.08595586430500328,
          1.162131405970528,
          0.8816251921637606,
          -0.21427435409242715,
          1.4900398420710712,
          -1.604228677811847,
          0.23534333231846755
         ],
         "xaxis": "x",
         "yaxis": "y"
        },
        {
         "line": {
          "color": "rgba(128, 128, 128, 1.0)",
          "dash": "solid",
          "shape": "linear",
          "width": 1.3
         },
         "marker": {
          "size": 2,
          "symbol": "circle"
         },
         "mode": "markers",
         "name": "A",
         "text": "",
         "type": "scatter",
         "x": [
          -1.5778429245488879,
          1.2680079504191542,
          0.09649405165059019,
          0.5451506050878556,
          1.4665309109334816,
          -0.8187660691999971,
          0.8892275568624582,
          0.057993196168514054,
          1.0704372338561854,
          -1.1215869807766896,
          0.7898514189744038,
          0.8930828925001068,
          1.3220881795120045,
          -1.1746388644306027,
          -0.11366720583834672,
          -1.08572748143992,
          -0.36542532409071204,
          -0.5451472733548265,
          0.05957969416825055,
          1.0481834417594982,
          0.6582590607680974,
          1.9050369818668038,
          -0.8611884051729745,
          -0.03364255394446158,
          -0.2688534606823713,
          -1.2502969844263059,
          -0.09367845283559229,
          -0.2920765672512015,
          -0.3139676248854494,
          -0.9811182522643814,
          -0.06443198507731814,
          -1.2044898392645802,
          -0.008192778716532423,
          -1.5846889685617627,
          0.12750792187288915,
          -0.3593159388234478,
          -1.4988967562973863,
          1.2732099224625397,
          -0.8615848179565383,
          -0.40897428577114503,
          0.8490222350087218,
          -1.0791246887998986,
          -0.15060725895997487,
          -1.5720599233177468,
          -0.9104303182134822,
          0.3038761199317576,
          1.5772543560605514,
          0.10958890357099571,
          -1.433809763409956,
          0.9001499602414199,
          -1.1065469139557813,
          -1.6591841116033383,
          0.4856131846513768,
          -1.3187515045471454,
          -0.9998085361886271,
          0.8895689618477627,
          -0.6490212653755961,
          -0.6028794296101871,
          -1.6215250503615426,
          0.35749953179801786,
          1.3525172890956467,
          2.1440982079969793,
          -0.7535990604943527,
          -1.8530373144179704,
          0.3853396942630609,
          1.0725112999364486,
          -0.5080799161223373,
          0.728183494278347,
          0.29348208736934966,
          0.6166598740688046,
          -1.4176082506592214,
          -1.2283428172986675,
          0.029400981232705268,
          0.49717683675476193,
          1.2806469532543063,
          -2.170877611449295,
          0.5305137203022765,
          0.07573784865183336,
          1.962331926274082,
          0.6497384161827761,
          0.445444965199007,
          -1.0219776640954312,
          -1.3586633696231962,
          2.548903463301732,
          -0.2657491617480886,
          0.06264434682764904,
          -1.485197772311538,
          -1.9928894210733983,
          1.1406483682872646,
          -1.7880279463109883,
          0.21610130984226705,
          0.6600706306964581,
          0.5159702029260697,
          -1.0874933049782323,
          -1.0924492328288362,
          -0.44981702999116246,
          -0.2910427923330211,
          1.109369336375027,
          -0.27248037646009077,
          -0.14682084414377564
         ],
         "xaxis": "x2",
         "y": [
          -1.3559130559175228,
          0.5303321035654701,
          0.29440697268481386,
          -2.366994851248194,
          -0.39061600426275805,
          -1.2161987223331556,
          0.19859743516019948,
          -0.04196512186229954,
          0.7816691002462268,
          -0.5625933565781353,
          0.19285116004885725,
          -0.06178195375831094,
          0.7097995605455756,
          -0.06438499550921149,
          -2.5974737858675803,
          -0.32300690338794696,
          1.0306388859623885,
          -1.941335868515121,
          -1.4355365861662128,
          -0.6573992997091732,
          0.11646656991438858,
          0.46591396507238075,
          0.05272497171678483,
          0.4581524192640287,
          1.1095119169038339,
          -0.16693785245883877,
          -2.4185233240227983,
          -0.6450810153514451,
          1.1329069163196375,
          0.6970329956343094,
          -0.22820026177348646,
          -1.4808780287987526,
          0.024367923584303973,
          0.4286231014194029,
          0.08045542686191721,
          -1.4015248719784796,
          -0.7127602575963483,
          -0.8326614239099435,
          0.9937010497254936,
          -0.5989317759807878,
          -1.4296493006161402,
          0.7713104030030286,
          -0.06980710659690535,
          1.1287545943777195,
          0.24847286609051505,
          -0.25614946259117294,
          -0.4244114222395493,
          0.5856088506470457,
          1.279303773190982,
          -0.44555925844105376,
          0.3490682053943956,
          1.0813767860789734,
          0.8133648881571423,
          -0.6562175042066347,
          -0.4121443535409477,
          1.0969280780102093,
          0.15770461247131407,
          0.042630429623211966,
          2.3683858678174623,
          1.1321042486469257,
          -0.12294684247572248,
          1.7655511106226867,
          -0.1591269815157064,
          0.11075147314174175,
          -1.0859538098553496,
          -2.191959033772851,
          -1.3356073556326191,
          -0.7607734053921369,
          -0.8295932567941922,
          -0.010402164383887734,
          0.009074950144895585,
          -1.3753860596456584,
          1.1186045911807563,
          -1.3180085977495606,
          -1.4364656665274682,
          -1.1545082613318447,
          -0.3488279565559763,
          0.22136370072874864,
          0.11027416415716094,
          -0.3289421211077479,
          1.4982170548436569,
          0.5240075572039334,
          0.14601567207029967,
          1.1131443714346898,
          -0.945595270331263,
          0.29686021046057764,
          -0.06873382405799189,
          1.3398974294041806,
          -0.1005688226330727,
          -0.5387746262762422,
          -0.767849248663247,
          -0.35100755254836946,
          0.1480598141594704,
          0.08595586430500328,
          1.162131405970528,
          0.8816251921637606,
          -0.21427435409242715,
          1.4900398420710712,
          -1.604228677811847,
          0.23534333231846755
         ],
         "yaxis": "y2"
        },
        {
         "line": {
          "color": "rgba(128, 128, 128, 1.0)",
          "dash": "solid",
          "shape": "linear",
          "width": 1.3
         },
         "marker": {
          "size": 2,
          "symbol": "circle"
         },
         "mode": "markers",
         "name": "A",
         "text": "",
         "type": "scatter",
         "x": [
          -0.8849667774683708,
          2.2259377239221325,
          -1.5233101709060102,
          0.2953181398270395,
          0.8264344026153204,
          0.5913510655187838,
          0.6828648431042454,
          1.7086815960636492,
          0.25818184912645487,
          -0.7170024291397524,
          0.08916805499006593,
          1.3153127154131583,
          0.4250462899632546,
          0.8023505507410498,
          1.1148473647823962,
          -0.18956102529793664,
          -2.079756872118981,
          -0.7113601357767555,
          0.7094442838065212,
          0.07251137575017333,
          0.2953148063878515,
          -1.0121772100861905,
          -0.6359246998913491,
          -0.3528819646496265,
          0.5408683474982837,
          0.38979566342810656,
          0.4866337764911907,
          0.4011578541573498,
          0.6199420783053193,
          0.465317548944445,
          -0.2318148390140708,
          0.33581715315193994,
          -0.47503807105468887,
          -0.5466109427096344,
          0.6186689184945717,
          -0.19789822919792144,
          0.43690862035919475,
          -0.15712976265590814,
          -0.03370892710985846,
          0.5636837886188208,
          1.6580695740115794,
          -1.0407957699682373,
          -1.1676010434888637,
          -1.2157954987786896,
          0.8927282864811816,
          0.006944035248060638,
          0.09941082090580226,
          1.7407631555606686,
          0.8410707477264111,
          0.36434960007679335,
          1.7359708516884256,
          0.3965880382695271,
          1.2907778837912955,
          -0.8739617195647129,
          -0.00728002667451206,
          -0.6998826075737327,
          -0.25956262071948605,
          0.6542748975111746,
          -0.07018324863868057,
          0.11869849803291103,
          1.3119010861688023,
          -0.2972657981226998,
          -1.327267397411813,
          0.6165124105986223,
          -1.2073661854687094,
          -0.6857610677682836,
          -0.8749481991203933,
          -1.0875589673394612,
          -0.3771542192507942,
          -0.6995546738432826,
          -1.1440545701594893,
          -0.6170536297117368,
          -0.4841222349603552,
          1.1136235479025833,
          0.6188184078340688,
          0.3235695906997173,
          -0.5558048323254344,
          -0.6554798206190868,
          0.5991224352438265,
          -0.3073695377011026,
          -1.1443987905506152,
          -1.3918616476517387,
          -0.0970628008041887,
          -1.8637925174812902,
          0.3360992701512891,
          1.3136038000994479,
          -0.9528464728863185,
          1.0035464465815014,
          -0.28833439613220974,
          -0.5801714493637724,
          -0.8297499028994472,
          2.0718903192594933,
          0.6207850633540429,
          0.05015029066703375,
          -0.13065485529488527,
          0.8073422350123594,
          0.5539168555719847,
          -2.5645193565271756,
          -1.0899895346786574,
          0.10478822602140812
         ],
         "xaxis": "x3",
         "y": [
          -1.3559130559175228,
          0.5303321035654701,
          0.29440697268481386,
          -2.366994851248194,
          -0.39061600426275805,
          -1.2161987223331556,
          0.19859743516019948,
          -0.04196512186229954,
          0.7816691002462268,
          -0.5625933565781353,
          0.19285116004885725,
          -0.06178195375831094,
          0.7097995605455756,
          -0.06438499550921149,
          -2.5974737858675803,
          -0.32300690338794696,
          1.0306388859623885,
          -1.941335868515121,
          -1.4355365861662128,
          -0.6573992997091732,
          0.11646656991438858,
          0.46591396507238075,
          0.05272497171678483,
          0.4581524192640287,
          1.1095119169038339,
          -0.16693785245883877,
          -2.4185233240227983,
          -0.6450810153514451,
          1.1329069163196375,
          0.6970329956343094,
          -0.22820026177348646,
          -1.4808780287987526,
          0.024367923584303973,
          0.4286231014194029,
          0.08045542686191721,
          -1.4015248719784796,
          -0.7127602575963483,
          -0.8326614239099435,
          0.9937010497254936,
          -0.5989317759807878,
          -1.4296493006161402,
          0.7713104030030286,
          -0.06980710659690535,
          1.1287545943777195,
          0.24847286609051505,
          -0.25614946259117294,
          -0.4244114222395493,
          0.5856088506470457,
          1.279303773190982,
          -0.44555925844105376,
          0.3490682053943956,
          1.0813767860789734,
          0.8133648881571423,
          -0.6562175042066347,
          -0.4121443535409477,
          1.0969280780102093,
          0.15770461247131407,
          0.042630429623211966,
          2.3683858678174623,
          1.1321042486469257,
          -0.12294684247572248,
          1.7655511106226867,
          -0.1591269815157064,
          0.11075147314174175,
          -1.0859538098553496,
          -2.191959033772851,
          -1.3356073556326191,
          -0.7607734053921369,
          -0.8295932567941922,
          -0.010402164383887734,
          0.009074950144895585,
          -1.3753860596456584,
          1.1186045911807563,
          -1.3180085977495606,
          -1.4364656665274682,
          -1.1545082613318447,
          -0.3488279565559763,
          0.22136370072874864,
          0.11027416415716094,
          -0.3289421211077479,
          1.4982170548436569,
          0.5240075572039334,
          0.14601567207029967,
          1.1131443714346898,
          -0.945595270331263,
          0.29686021046057764,
          -0.06873382405799189,
          1.3398974294041806,
          -0.1005688226330727,
          -0.5387746262762422,
          -0.767849248663247,
          -0.35100755254836946,
          0.1480598141594704,
          0.08595586430500328,
          1.162131405970528,
          0.8816251921637606,
          -0.21427435409242715,
          1.4900398420710712,
          -1.604228677811847,
          0.23534333231846755
         ],
         "yaxis": "y3"
        },
        {
         "line": {
          "color": "rgba(128, 128, 128, 1.0)",
          "dash": "solid",
          "shape": "linear",
          "width": 1.3
         },
         "marker": {
          "size": 2,
          "symbol": "circle"
         },
         "mode": "markers",
         "name": "A",
         "text": "",
         "type": "scatter",
         "x": [
          0.10769577614462261,
          0.9381513388151985,
          0.6009753050690573,
          1.9752354750747527,
          -0.5181426237082836,
          0.22761479934571258,
          -0.5265786942320025,
          0.5095492153774754,
          -1.046554330848723,
          0.7315065825237579,
          0.6789620480026869,
          -1.413347659196342,
          -0.016108383281562496,
          -0.9410589517518645,
          0.04857771095448899,
          -0.11022153894423668,
          0.14107671168947727,
          -0.5554674951524631,
          -1.3159441484687864,
          -1.7483545865947807,
          -0.3121965712883904,
          0.6920018959734503,
          -0.9107050403290968,
          0.2784644851682874,
          -1.9397962578930277,
          -0.45513040249786124,
          -0.10848084960196892,
          -0.7589575367551256,
          -1.0780093826892658,
          -0.9514571611390187,
          1.5961370769094052,
          1.8239176658288547,
          -0.6536799414681844,
          -1.2597150988422412,
          -0.46059293448935956,
          0.31269284186968976,
          0.07907465712089817,
          0.14802301693644215,
          -0.3167136617293768,
          -1.007512795204162,
          0.8067433348015413,
          -0.8483543082873977,
          1.263380709513765,
          0.46652702277022684,
          0.751282663832055,
          0.06369242477298177,
          -1.0909522881225577,
          -0.3739960103824854,
          0.6779473539857858,
          0.3734266014815676,
          0.9967330796823717,
          -0.5119182197177479,
          -0.5864669718638383,
          0.6879994083973473,
          -2.744759141587978,
          0.1441662752957278,
          0.026430336315075065,
          0.9292363498181935,
          0.22263571468181814,
          2.199745582404042,
          -0.641710069299092,
          1.539124005803026,
          0.20902429509022064,
          0.07899581188293245,
          -0.33360984821282474,
          -0.36160802793794816,
          -0.696201035195265,
          0.12563154438571958,
          1.4465572063107346,
          1.5080309088258388,
          -1.1673168114773593,
          -0.20357637312531762,
          -1.4220357329064184,
          0.41158488273955846,
          -1.0001318285121235,
          0.7274191463023469,
          0.2160667268178794,
          0.584137035310321,
          -0.5655353173916954,
          0.34607752995659996,
          -1.0496416652327765,
          0.181924508554677,
          1.4160621396152433,
          1.447212701811392,
          -0.44404804234735024,
          0.12387709870026571,
          2.771090955198578,
          -0.5368436175829514,
          -1.0542914901698903,
          -0.7843346446183815,
          -0.6142528681773224,
          -0.0008528951337365195,
          -0.4769691436154201,
          0.19402549901576488,
          -0.46842199926958966,
          -0.08477552905099907,
          -0.9792984493681949,
          1.4995880284038323,
          -0.7542111726116282,
          0.5153352947324564
         ],
         "xaxis": "x4",
         "y": [
          -1.3559130559175228,
          0.5303321035654701,
          0.29440697268481386,
          -2.366994851248194,
          -0.39061600426275805,
          -1.2161987223331556,
          0.19859743516019948,
          -0.04196512186229954,
          0.7816691002462268,
          -0.5625933565781353,
          0.19285116004885725,
          -0.06178195375831094,
          0.7097995605455756,
          -0.06438499550921149,
          -2.5974737858675803,
          -0.32300690338794696,
          1.0306388859623885,
          -1.941335868515121,
          -1.4355365861662128,
          -0.6573992997091732,
          0.11646656991438858,
          0.46591396507238075,
          0.05272497171678483,
          0.4581524192640287,
          1.1095119169038339,
          -0.16693785245883877,
          -2.4185233240227983,
          -0.6450810153514451,
          1.1329069163196375,
          0.6970329956343094,
          -0.22820026177348646,
          -1.4808780287987526,
          0.024367923584303973,
          0.4286231014194029,
          0.08045542686191721,
          -1.4015248719784796,
          -0.7127602575963483,
          -0.8326614239099435,
          0.9937010497254936,
          -0.5989317759807878,
          -1.4296493006161402,
          0.7713104030030286,
          -0.06980710659690535,
          1.1287545943777195,
          0.24847286609051505,
          -0.25614946259117294,
          -0.4244114222395493,
          0.5856088506470457,
          1.279303773190982,
          -0.44555925844105376,
          0.3490682053943956,
          1.0813767860789734,
          0.8133648881571423,
          -0.6562175042066347,
          -0.4121443535409477,
          1.0969280780102093,
          0.15770461247131407,
          0.042630429623211966,
          2.3683858678174623,
          1.1321042486469257,
          -0.12294684247572248,
          1.7655511106226867,
          -0.1591269815157064,
          0.11075147314174175,
          -1.0859538098553496,
          -2.191959033772851,
          -1.3356073556326191,
          -0.7607734053921369,
          -0.8295932567941922,
          -0.010402164383887734,
          0.009074950144895585,
          -1.3753860596456584,
          1.1186045911807563,
          -1.3180085977495606,
          -1.4364656665274682,
          -1.1545082613318447,
          -0.3488279565559763,
          0.22136370072874864,
          0.11027416415716094,
          -0.3289421211077479,
          1.4982170548436569,
          0.5240075572039334,
          0.14601567207029967,
          1.1131443714346898,
          -0.945595270331263,
          0.29686021046057764,
          -0.06873382405799189,
          1.3398974294041806,
          -0.1005688226330727,
          -0.5387746262762422,
          -0.767849248663247,
          -0.35100755254836946,
          0.1480598141594704,
          0.08595586430500328,
          1.162131405970528,
          0.8816251921637606,
          -0.21427435409242715,
          1.4900398420710712,
          -1.604228677811847,
          0.23534333231846755
         ],
         "yaxis": "y4"
        },
        {
         "line": {
          "color": "rgba(128, 128, 128, 1.0)",
          "dash": "solid",
          "shape": "linear",
          "width": 1.3
         },
         "marker": {
          "size": 2,
          "symbol": "circle"
         },
         "mode": "markers",
         "name": "B",
         "text": "",
         "type": "scatter",
         "x": [
          -1.3559130559175228,
          0.5303321035654701,
          0.29440697268481386,
          -2.366994851248194,
          -0.39061600426275805,
          -1.2161987223331556,
          0.19859743516019948,
          -0.04196512186229954,
          0.7816691002462268,
          -0.5625933565781353,
          0.19285116004885725,
          -0.06178195375831094,
          0.7097995605455756,
          -0.06438499550921149,
          -2.5974737858675803,
          -0.32300690338794696,
          1.0306388859623885,
          -1.941335868515121,
          -1.4355365861662128,
          -0.6573992997091732,
          0.11646656991438858,
          0.46591396507238075,
          0.05272497171678483,
          0.4581524192640287,
          1.1095119169038339,
          -0.16693785245883877,
          -2.4185233240227983,
          -0.6450810153514451,
          1.1329069163196375,
          0.6970329956343094,
          -0.22820026177348646,
          -1.4808780287987526,
          0.024367923584303973,
          0.4286231014194029,
          0.08045542686191721,
          -1.4015248719784796,
          -0.7127602575963483,
          -0.8326614239099435,
          0.9937010497254936,
          -0.5989317759807878,
          -1.4296493006161402,
          0.7713104030030286,
          -0.06980710659690535,
          1.1287545943777195,
          0.24847286609051505,
          -0.25614946259117294,
          -0.4244114222395493,
          0.5856088506470457,
          1.279303773190982,
          -0.44555925844105376,
          0.3490682053943956,
          1.0813767860789734,
          0.8133648881571423,
          -0.6562175042066347,
          -0.4121443535409477,
          1.0969280780102093,
          0.15770461247131407,
          0.042630429623211966,
          2.3683858678174623,
          1.1321042486469257,
          -0.12294684247572248,
          1.7655511106226867,
          -0.1591269815157064,
          0.11075147314174175,
          -1.0859538098553496,
          -2.191959033772851,
          -1.3356073556326191,
          -0.7607734053921369,
          -0.8295932567941922,
          -0.010402164383887734,
          0.009074950144895585,
          -1.3753860596456584,
          1.1186045911807563,
          -1.3180085977495606,
          -1.4364656665274682,
          -1.1545082613318447,
          -0.3488279565559763,
          0.22136370072874864,
          0.11027416415716094,
          -0.3289421211077479,
          1.4982170548436569,
          0.5240075572039334,
          0.14601567207029967,
          1.1131443714346898,
          -0.945595270331263,
          0.29686021046057764,
          -0.06873382405799189,
          1.3398974294041806,
          -0.1005688226330727,
          -0.5387746262762422,
          -0.767849248663247,
          -0.35100755254836946,
          0.1480598141594704,
          0.08595586430500328,
          1.162131405970528,
          0.8816251921637606,
          -0.21427435409242715,
          1.4900398420710712,
          -1.604228677811847,
          0.23534333231846755
         ],
         "xaxis": "x5",
         "y": [
          -1.5778429245488879,
          1.2680079504191542,
          0.09649405165059019,
          0.5451506050878556,
          1.4665309109334816,
          -0.8187660691999971,
          0.8892275568624582,
          0.057993196168514054,
          1.0704372338561854,
          -1.1215869807766896,
          0.7898514189744038,
          0.8930828925001068,
          1.3220881795120045,
          -1.1746388644306027,
          -0.11366720583834672,
          -1.08572748143992,
          -0.36542532409071204,
          -0.5451472733548265,
          0.05957969416825055,
          1.0481834417594982,
          0.6582590607680974,
          1.9050369818668038,
          -0.8611884051729745,
          -0.03364255394446158,
          -0.2688534606823713,
          -1.2502969844263059,
          -0.09367845283559229,
          -0.2920765672512015,
          -0.3139676248854494,
          -0.9811182522643814,
          -0.06443198507731814,
          -1.2044898392645802,
          -0.008192778716532423,
          -1.5846889685617627,
          0.12750792187288915,
          -0.3593159388234478,
          -1.4988967562973863,
          1.2732099224625397,
          -0.8615848179565383,
          -0.40897428577114503,
          0.8490222350087218,
          -1.0791246887998986,
          -0.15060725895997487,
          -1.5720599233177468,
          -0.9104303182134822,
          0.3038761199317576,
          1.5772543560605514,
          0.10958890357099571,
          -1.433809763409956,
          0.9001499602414199,
          -1.1065469139557813,
          -1.6591841116033383,
          0.4856131846513768,
          -1.3187515045471454,
          -0.9998085361886271,
          0.8895689618477627,
          -0.6490212653755961,
          -0.6028794296101871,
          -1.6215250503615426,
          0.35749953179801786,
          1.3525172890956467,
          2.1440982079969793,
          -0.7535990604943527,
          -1.8530373144179704,
          0.3853396942630609,
          1.0725112999364486,
          -0.5080799161223373,
          0.728183494278347,
          0.29348208736934966,
          0.6166598740688046,
          -1.4176082506592214,
          -1.2283428172986675,
          0.029400981232705268,
          0.49717683675476193,
          1.2806469532543063,
          -2.170877611449295,
          0.5305137203022765,
          0.07573784865183336,
          1.962331926274082,
          0.6497384161827761,
          0.445444965199007,
          -1.0219776640954312,
          -1.3586633696231962,
          2.548903463301732,
          -0.2657491617480886,
          0.06264434682764904,
          -1.485197772311538,
          -1.9928894210733983,
          1.1406483682872646,
          -1.7880279463109883,
          0.21610130984226705,
          0.6600706306964581,
          0.5159702029260697,
          -1.0874933049782323,
          -1.0924492328288362,
          -0.44981702999116246,
          -0.2910427923330211,
          1.109369336375027,
          -0.27248037646009077,
          -0.14682084414377564
         ],
         "yaxis": "y5"
        },
        {
         "histfunc": "count",
         "histnorm": "",
         "marker": {
          "color": "rgba(55, 128, 191, 1.0)",
          "line": {
           "color": "#4D5663",
           "width": 1.3
          }
         },
         "name": "B",
         "nbinsx": 10,
         "opacity": 0.8,
         "orientation": "v",
         "type": "histogram",
         "x": [
          -1.5778429245488879,
          1.2680079504191542,
          0.09649405165059019,
          0.5451506050878556,
          1.4665309109334816,
          -0.8187660691999971,
          0.8892275568624582,
          0.057993196168514054,
          1.0704372338561854,
          -1.1215869807766896,
          0.7898514189744038,
          0.8930828925001068,
          1.3220881795120045,
          -1.1746388644306027,
          -0.11366720583834672,
          -1.08572748143992,
          -0.36542532409071204,
          -0.5451472733548265,
          0.05957969416825055,
          1.0481834417594982,
          0.6582590607680974,
          1.9050369818668038,
          -0.8611884051729745,
          -0.03364255394446158,
          -0.2688534606823713,
          -1.2502969844263059,
          -0.09367845283559229,
          -0.2920765672512015,
          -0.3139676248854494,
          -0.9811182522643814,
          -0.06443198507731814,
          -1.2044898392645802,
          -0.008192778716532423,
          -1.5846889685617627,
          0.12750792187288915,
          -0.3593159388234478,
          -1.4988967562973863,
          1.2732099224625397,
          -0.8615848179565383,
          -0.40897428577114503,
          0.8490222350087218,
          -1.0791246887998986,
          -0.15060725895997487,
          -1.5720599233177468,
          -0.9104303182134822,
          0.3038761199317576,
          1.5772543560605514,
          0.10958890357099571,
          -1.433809763409956,
          0.9001499602414199,
          -1.1065469139557813,
          -1.6591841116033383,
          0.4856131846513768,
          -1.3187515045471454,
          -0.9998085361886271,
          0.8895689618477627,
          -0.6490212653755961,
          -0.6028794296101871,
          -1.6215250503615426,
          0.35749953179801786,
          1.3525172890956467,
          2.1440982079969793,
          -0.7535990604943527,
          -1.8530373144179704,
          0.3853396942630609,
          1.0725112999364486,
          -0.5080799161223373,
          0.728183494278347,
          0.29348208736934966,
          0.6166598740688046,
          -1.4176082506592214,
          -1.2283428172986675,
          0.029400981232705268,
          0.49717683675476193,
          1.2806469532543063,
          -2.170877611449295,
          0.5305137203022765,
          0.07573784865183336,
          1.962331926274082,
          0.6497384161827761,
          0.445444965199007,
          -1.0219776640954312,
          -1.3586633696231962,
          2.548903463301732,
          -0.2657491617480886,
          0.06264434682764904,
          -1.485197772311538,
          -1.9928894210733983,
          1.1406483682872646,
          -1.7880279463109883,
          0.21610130984226705,
          0.6600706306964581,
          0.5159702029260697,
          -1.0874933049782323,
          -1.0924492328288362,
          -0.44981702999116246,
          -0.2910427923330211,
          1.109369336375027,
          -0.27248037646009077,
          -0.14682084414377564
         ],
         "xaxis": "x6",
         "yaxis": "y6"
        },
        {
         "line": {
          "color": "rgba(128, 128, 128, 1.0)",
          "dash": "solid",
          "shape": "linear",
          "width": 1.3
         },
         "marker": {
          "size": 2,
          "symbol": "circle"
         },
         "mode": "markers",
         "name": "B",
         "text": "",
         "type": "scatter",
         "x": [
          -0.8849667774683708,
          2.2259377239221325,
          -1.5233101709060102,
          0.2953181398270395,
          0.8264344026153204,
          0.5913510655187838,
          0.6828648431042454,
          1.7086815960636492,
          0.25818184912645487,
          -0.7170024291397524,
          0.08916805499006593,
          1.3153127154131583,
          0.4250462899632546,
          0.8023505507410498,
          1.1148473647823962,
          -0.18956102529793664,
          -2.079756872118981,
          -0.7113601357767555,
          0.7094442838065212,
          0.07251137575017333,
          0.2953148063878515,
          -1.0121772100861905,
          -0.6359246998913491,
          -0.3528819646496265,
          0.5408683474982837,
          0.38979566342810656,
          0.4866337764911907,
          0.4011578541573498,
          0.6199420783053193,
          0.465317548944445,
          -0.2318148390140708,
          0.33581715315193994,
          -0.47503807105468887,
          -0.5466109427096344,
          0.6186689184945717,
          -0.19789822919792144,
          0.43690862035919475,
          -0.15712976265590814,
          -0.03370892710985846,
          0.5636837886188208,
          1.6580695740115794,
          -1.0407957699682373,
          -1.1676010434888637,
          -1.2157954987786896,
          0.8927282864811816,
          0.006944035248060638,
          0.09941082090580226,
          1.7407631555606686,
          0.8410707477264111,
          0.36434960007679335,
          1.7359708516884256,
          0.3965880382695271,
          1.2907778837912955,
          -0.8739617195647129,
          -0.00728002667451206,
          -0.6998826075737327,
          -0.25956262071948605,
          0.6542748975111746,
          -0.07018324863868057,
          0.11869849803291103,
          1.3119010861688023,
          -0.2972657981226998,
          -1.327267397411813,
          0.6165124105986223,
          -1.2073661854687094,
          -0.6857610677682836,
          -0.8749481991203933,
          -1.0875589673394612,
          -0.3771542192507942,
          -0.6995546738432826,
          -1.1440545701594893,
          -0.6170536297117368,
          -0.4841222349603552,
          1.1136235479025833,
          0.6188184078340688,
          0.3235695906997173,
          -0.5558048323254344,
          -0.6554798206190868,
          0.5991224352438265,
          -0.3073695377011026,
          -1.1443987905506152,
          -1.3918616476517387,
          -0.0970628008041887,
          -1.8637925174812902,
          0.3360992701512891,
          1.3136038000994479,
          -0.9528464728863185,
          1.0035464465815014,
          -0.28833439613220974,
          -0.5801714493637724,
          -0.8297499028994472,
          2.0718903192594933,
          0.6207850633540429,
          0.05015029066703375,
          -0.13065485529488527,
          0.8073422350123594,
          0.5539168555719847,
          -2.5645193565271756,
          -1.0899895346786574,
          0.10478822602140812
         ],
         "xaxis": "x7",
         "y": [
          -1.5778429245488879,
          1.2680079504191542,
          0.09649405165059019,
          0.5451506050878556,
          1.4665309109334816,
          -0.8187660691999971,
          0.8892275568624582,
          0.057993196168514054,
          1.0704372338561854,
          -1.1215869807766896,
          0.7898514189744038,
          0.8930828925001068,
          1.3220881795120045,
          -1.1746388644306027,
          -0.11366720583834672,
          -1.08572748143992,
          -0.36542532409071204,
          -0.5451472733548265,
          0.05957969416825055,
          1.0481834417594982,
          0.6582590607680974,
          1.9050369818668038,
          -0.8611884051729745,
          -0.03364255394446158,
          -0.2688534606823713,
          -1.2502969844263059,
          -0.09367845283559229,
          -0.2920765672512015,
          -0.3139676248854494,
          -0.9811182522643814,
          -0.06443198507731814,
          -1.2044898392645802,
          -0.008192778716532423,
          -1.5846889685617627,
          0.12750792187288915,
          -0.3593159388234478,
          -1.4988967562973863,
          1.2732099224625397,
          -0.8615848179565383,
          -0.40897428577114503,
          0.8490222350087218,
          -1.0791246887998986,
          -0.15060725895997487,
          -1.5720599233177468,
          -0.9104303182134822,
          0.3038761199317576,
          1.5772543560605514,
          0.10958890357099571,
          -1.433809763409956,
          0.9001499602414199,
          -1.1065469139557813,
          -1.6591841116033383,
          0.4856131846513768,
          -1.3187515045471454,
          -0.9998085361886271,
          0.8895689618477627,
          -0.6490212653755961,
          -0.6028794296101871,
          -1.6215250503615426,
          0.35749953179801786,
          1.3525172890956467,
          2.1440982079969793,
          -0.7535990604943527,
          -1.8530373144179704,
          0.3853396942630609,
          1.0725112999364486,
          -0.5080799161223373,
          0.728183494278347,
          0.29348208736934966,
          0.6166598740688046,
          -1.4176082506592214,
          -1.2283428172986675,
          0.029400981232705268,
          0.49717683675476193,
          1.2806469532543063,
          -2.170877611449295,
          0.5305137203022765,
          0.07573784865183336,
          1.962331926274082,
          0.6497384161827761,
          0.445444965199007,
          -1.0219776640954312,
          -1.3586633696231962,
          2.548903463301732,
          -0.2657491617480886,
          0.06264434682764904,
          -1.485197772311538,
          -1.9928894210733983,
          1.1406483682872646,
          -1.7880279463109883,
          0.21610130984226705,
          0.6600706306964581,
          0.5159702029260697,
          -1.0874933049782323,
          -1.0924492328288362,
          -0.44981702999116246,
          -0.2910427923330211,
          1.109369336375027,
          -0.27248037646009077,
          -0.14682084414377564
         ],
         "yaxis": "y7"
        },
        {
         "line": {
          "color": "rgba(128, 128, 128, 1.0)",
          "dash": "solid",
          "shape": "linear",
          "width": 1.3
         },
         "marker": {
          "size": 2,
          "symbol": "circle"
         },
         "mode": "markers",
         "name": "B",
         "text": "",
         "type": "scatter",
         "x": [
          0.10769577614462261,
          0.9381513388151985,
          0.6009753050690573,
          1.9752354750747527,
          -0.5181426237082836,
          0.22761479934571258,
          -0.5265786942320025,
          0.5095492153774754,
          -1.046554330848723,
          0.7315065825237579,
          0.6789620480026869,
          -1.413347659196342,
          -0.016108383281562496,
          -0.9410589517518645,
          0.04857771095448899,
          -0.11022153894423668,
          0.14107671168947727,
          -0.5554674951524631,
          -1.3159441484687864,
          -1.7483545865947807,
          -0.3121965712883904,
          0.6920018959734503,
          -0.9107050403290968,
          0.2784644851682874,
          -1.9397962578930277,
          -0.45513040249786124,
          -0.10848084960196892,
          -0.7589575367551256,
          -1.0780093826892658,
          -0.9514571611390187,
          1.5961370769094052,
          1.8239176658288547,
          -0.6536799414681844,
          -1.2597150988422412,
          -0.46059293448935956,
          0.31269284186968976,
          0.07907465712089817,
          0.14802301693644215,
          -0.3167136617293768,
          -1.007512795204162,
          0.8067433348015413,
          -0.8483543082873977,
          1.263380709513765,
          0.46652702277022684,
          0.751282663832055,
          0.06369242477298177,
          -1.0909522881225577,
          -0.3739960103824854,
          0.6779473539857858,
          0.3734266014815676,
          0.9967330796823717,
          -0.5119182197177479,
          -0.5864669718638383,
          0.6879994083973473,
          -2.744759141587978,
          0.1441662752957278,
          0.026430336315075065,
          0.9292363498181935,
          0.22263571468181814,
          2.199745582404042,
          -0.641710069299092,
          1.539124005803026,
          0.20902429509022064,
          0.07899581188293245,
          -0.33360984821282474,
          -0.36160802793794816,
          -0.696201035195265,
          0.12563154438571958,
          1.4465572063107346,
          1.5080309088258388,
          -1.1673168114773593,
          -0.20357637312531762,
          -1.4220357329064184,
          0.41158488273955846,
          -1.0001318285121235,
          0.7274191463023469,
          0.2160667268178794,
          0.584137035310321,
          -0.5655353173916954,
          0.34607752995659996,
          -1.0496416652327765,
          0.181924508554677,
          1.4160621396152433,
          1.447212701811392,
          -0.44404804234735024,
          0.12387709870026571,
          2.771090955198578,
          -0.5368436175829514,
          -1.0542914901698903,
          -0.7843346446183815,
          -0.6142528681773224,
          -0.0008528951337365195,
          -0.4769691436154201,
          0.19402549901576488,
          -0.46842199926958966,
          -0.08477552905099907,
          -0.9792984493681949,
          1.4995880284038323,
          -0.7542111726116282,
          0.5153352947324564
         ],
         "xaxis": "x8",
         "y": [
          -1.5778429245488879,
          1.2680079504191542,
          0.09649405165059019,
          0.5451506050878556,
          1.4665309109334816,
          -0.8187660691999971,
          0.8892275568624582,
          0.057993196168514054,
          1.0704372338561854,
          -1.1215869807766896,
          0.7898514189744038,
          0.8930828925001068,
          1.3220881795120045,
          -1.1746388644306027,
          -0.11366720583834672,
          -1.08572748143992,
          -0.36542532409071204,
          -0.5451472733548265,
          0.05957969416825055,
          1.0481834417594982,
          0.6582590607680974,
          1.9050369818668038,
          -0.8611884051729745,
          -0.03364255394446158,
          -0.2688534606823713,
          -1.2502969844263059,
          -0.09367845283559229,
          -0.2920765672512015,
          -0.3139676248854494,
          -0.9811182522643814,
          -0.06443198507731814,
          -1.2044898392645802,
          -0.008192778716532423,
          -1.5846889685617627,
          0.12750792187288915,
          -0.3593159388234478,
          -1.4988967562973863,
          1.2732099224625397,
          -0.8615848179565383,
          -0.40897428577114503,
          0.8490222350087218,
          -1.0791246887998986,
          -0.15060725895997487,
          -1.5720599233177468,
          -0.9104303182134822,
          0.3038761199317576,
          1.5772543560605514,
          0.10958890357099571,
          -1.433809763409956,
          0.9001499602414199,
          -1.1065469139557813,
          -1.6591841116033383,
          0.4856131846513768,
          -1.3187515045471454,
          -0.9998085361886271,
          0.8895689618477627,
          -0.6490212653755961,
          -0.6028794296101871,
          -1.6215250503615426,
          0.35749953179801786,
          1.3525172890956467,
          2.1440982079969793,
          -0.7535990604943527,
          -1.8530373144179704,
          0.3853396942630609,
          1.0725112999364486,
          -0.5080799161223373,
          0.728183494278347,
          0.29348208736934966,
          0.6166598740688046,
          -1.4176082506592214,
          -1.2283428172986675,
          0.029400981232705268,
          0.49717683675476193,
          1.2806469532543063,
          -2.170877611449295,
          0.5305137203022765,
          0.07573784865183336,
          1.962331926274082,
          0.6497384161827761,
          0.445444965199007,
          -1.0219776640954312,
          -1.3586633696231962,
          2.548903463301732,
          -0.2657491617480886,
          0.06264434682764904,
          -1.485197772311538,
          -1.9928894210733983,
          1.1406483682872646,
          -1.7880279463109883,
          0.21610130984226705,
          0.6600706306964581,
          0.5159702029260697,
          -1.0874933049782323,
          -1.0924492328288362,
          -0.44981702999116246,
          -0.2910427923330211,
          1.109369336375027,
          -0.27248037646009077,
          -0.14682084414377564
         ],
         "yaxis": "y8"
        },
        {
         "line": {
          "color": "rgba(128, 128, 128, 1.0)",
          "dash": "solid",
          "shape": "linear",
          "width": 1.3
         },
         "marker": {
          "size": 2,
          "symbol": "circle"
         },
         "mode": "markers",
         "name": "C",
         "text": "",
         "type": "scatter",
         "x": [
          -1.3559130559175228,
          0.5303321035654701,
          0.29440697268481386,
          -2.366994851248194,
          -0.39061600426275805,
          -1.2161987223331556,
          0.19859743516019948,
          -0.04196512186229954,
          0.7816691002462268,
          -0.5625933565781353,
          0.19285116004885725,
          -0.06178195375831094,
          0.7097995605455756,
          -0.06438499550921149,
          -2.5974737858675803,
          -0.32300690338794696,
          1.0306388859623885,
          -1.941335868515121,
          -1.4355365861662128,
          -0.6573992997091732,
          0.11646656991438858,
          0.46591396507238075,
          0.05272497171678483,
          0.4581524192640287,
          1.1095119169038339,
          -0.16693785245883877,
          -2.4185233240227983,
          -0.6450810153514451,
          1.1329069163196375,
          0.6970329956343094,
          -0.22820026177348646,
          -1.4808780287987526,
          0.024367923584303973,
          0.4286231014194029,
          0.08045542686191721,
          -1.4015248719784796,
          -0.7127602575963483,
          -0.8326614239099435,
          0.9937010497254936,
          -0.5989317759807878,
          -1.4296493006161402,
          0.7713104030030286,
          -0.06980710659690535,
          1.1287545943777195,
          0.24847286609051505,
          -0.25614946259117294,
          -0.4244114222395493,
          0.5856088506470457,
          1.279303773190982,
          -0.44555925844105376,
          0.3490682053943956,
          1.0813767860789734,
          0.8133648881571423,
          -0.6562175042066347,
          -0.4121443535409477,
          1.0969280780102093,
          0.15770461247131407,
          0.042630429623211966,
          2.3683858678174623,
          1.1321042486469257,
          -0.12294684247572248,
          1.7655511106226867,
          -0.1591269815157064,
          0.11075147314174175,
          -1.0859538098553496,
          -2.191959033772851,
          -1.3356073556326191,
          -0.7607734053921369,
          -0.8295932567941922,
          -0.010402164383887734,
          0.009074950144895585,
          -1.3753860596456584,
          1.1186045911807563,
          -1.3180085977495606,
          -1.4364656665274682,
          -1.1545082613318447,
          -0.3488279565559763,
          0.22136370072874864,
          0.11027416415716094,
          -0.3289421211077479,
          1.4982170548436569,
          0.5240075572039334,
          0.14601567207029967,
          1.1131443714346898,
          -0.945595270331263,
          0.29686021046057764,
          -0.06873382405799189,
          1.3398974294041806,
          -0.1005688226330727,
          -0.5387746262762422,
          -0.767849248663247,
          -0.35100755254836946,
          0.1480598141594704,
          0.08595586430500328,
          1.162131405970528,
          0.8816251921637606,
          -0.21427435409242715,
          1.4900398420710712,
          -1.604228677811847,
          0.23534333231846755
         ],
         "xaxis": "x9",
         "y": [
          -0.8849667774683708,
          2.2259377239221325,
          -1.5233101709060102,
          0.2953181398270395,
          0.8264344026153204,
          0.5913510655187838,
          0.6828648431042454,
          1.7086815960636492,
          0.25818184912645487,
          -0.7170024291397524,
          0.08916805499006593,
          1.3153127154131583,
          0.4250462899632546,
          0.8023505507410498,
          1.1148473647823962,
          -0.18956102529793664,
          -2.079756872118981,
          -0.7113601357767555,
          0.7094442838065212,
          0.07251137575017333,
          0.2953148063878515,
          -1.0121772100861905,
          -0.6359246998913491,
          -0.3528819646496265,
          0.5408683474982837,
          0.38979566342810656,
          0.4866337764911907,
          0.4011578541573498,
          0.6199420783053193,
          0.465317548944445,
          -0.2318148390140708,
          0.33581715315193994,
          -0.47503807105468887,
          -0.5466109427096344,
          0.6186689184945717,
          -0.19789822919792144,
          0.43690862035919475,
          -0.15712976265590814,
          -0.03370892710985846,
          0.5636837886188208,
          1.6580695740115794,
          -1.0407957699682373,
          -1.1676010434888637,
          -1.2157954987786896,
          0.8927282864811816,
          0.006944035248060638,
          0.09941082090580226,
          1.7407631555606686,
          0.8410707477264111,
          0.36434960007679335,
          1.7359708516884256,
          0.3965880382695271,
          1.2907778837912955,
          -0.8739617195647129,
          -0.00728002667451206,
          -0.6998826075737327,
          -0.25956262071948605,
          0.6542748975111746,
          -0.07018324863868057,
          0.11869849803291103,
          1.3119010861688023,
          -0.2972657981226998,
          -1.327267397411813,
          0.6165124105986223,
          -1.2073661854687094,
          -0.6857610677682836,
          -0.8749481991203933,
          -1.0875589673394612,
          -0.3771542192507942,
          -0.6995546738432826,
          -1.1440545701594893,
          -0.6170536297117368,
          -0.4841222349603552,
          1.1136235479025833,
          0.6188184078340688,
          0.3235695906997173,
          -0.5558048323254344,
          -0.6554798206190868,
          0.5991224352438265,
          -0.3073695377011026,
          -1.1443987905506152,
          -1.3918616476517387,
          -0.0970628008041887,
          -1.8637925174812902,
          0.3360992701512891,
          1.3136038000994479,
          -0.9528464728863185,
          1.0035464465815014,
          -0.28833439613220974,
          -0.5801714493637724,
          -0.8297499028994472,
          2.0718903192594933,
          0.6207850633540429,
          0.05015029066703375,
          -0.13065485529488527,
          0.8073422350123594,
          0.5539168555719847,
          -2.5645193565271756,
          -1.0899895346786574,
          0.10478822602140812
         ],
         "yaxis": "y9"
        },
        {
         "line": {
          "color": "rgba(128, 128, 128, 1.0)",
          "dash": "solid",
          "shape": "linear",
          "width": 1.3
         },
         "marker": {
          "size": 2,
          "symbol": "circle"
         },
         "mode": "markers",
         "name": "C",
         "text": "",
         "type": "scatter",
         "x": [
          -1.5778429245488879,
          1.2680079504191542,
          0.09649405165059019,
          0.5451506050878556,
          1.4665309109334816,
          -0.8187660691999971,
          0.8892275568624582,
          0.057993196168514054,
          1.0704372338561854,
          -1.1215869807766896,
          0.7898514189744038,
          0.8930828925001068,
          1.3220881795120045,
          -1.1746388644306027,
          -0.11366720583834672,
          -1.08572748143992,
          -0.36542532409071204,
          -0.5451472733548265,
          0.05957969416825055,
          1.0481834417594982,
          0.6582590607680974,
          1.9050369818668038,
          -0.8611884051729745,
          -0.03364255394446158,
          -0.2688534606823713,
          -1.2502969844263059,
          -0.09367845283559229,
          -0.2920765672512015,
          -0.3139676248854494,
          -0.9811182522643814,
          -0.06443198507731814,
          -1.2044898392645802,
          -0.008192778716532423,
          -1.5846889685617627,
          0.12750792187288915,
          -0.3593159388234478,
          -1.4988967562973863,
          1.2732099224625397,
          -0.8615848179565383,
          -0.40897428577114503,
          0.8490222350087218,
          -1.0791246887998986,
          -0.15060725895997487,
          -1.5720599233177468,
          -0.9104303182134822,
          0.3038761199317576,
          1.5772543560605514,
          0.10958890357099571,
          -1.433809763409956,
          0.9001499602414199,
          -1.1065469139557813,
          -1.6591841116033383,
          0.4856131846513768,
          -1.3187515045471454,
          -0.9998085361886271,
          0.8895689618477627,
          -0.6490212653755961,
          -0.6028794296101871,
          -1.6215250503615426,
          0.35749953179801786,
          1.3525172890956467,
          2.1440982079969793,
          -0.7535990604943527,
          -1.8530373144179704,
          0.3853396942630609,
          1.0725112999364486,
          -0.5080799161223373,
          0.728183494278347,
          0.29348208736934966,
          0.6166598740688046,
          -1.4176082506592214,
          -1.2283428172986675,
          0.029400981232705268,
          0.49717683675476193,
          1.2806469532543063,
          -2.170877611449295,
          0.5305137203022765,
          0.07573784865183336,
          1.962331926274082,
          0.6497384161827761,
          0.445444965199007,
          -1.0219776640954312,
          -1.3586633696231962,
          2.548903463301732,
          -0.2657491617480886,
          0.06264434682764904,
          -1.485197772311538,
          -1.9928894210733983,
          1.1406483682872646,
          -1.7880279463109883,
          0.21610130984226705,
          0.6600706306964581,
          0.5159702029260697,
          -1.0874933049782323,
          -1.0924492328288362,
          -0.44981702999116246,
          -0.2910427923330211,
          1.109369336375027,
          -0.27248037646009077,
          -0.14682084414377564
         ],
         "xaxis": "x10",
         "y": [
          -0.8849667774683708,
          2.2259377239221325,
          -1.5233101709060102,
          0.2953181398270395,
          0.8264344026153204,
          0.5913510655187838,
          0.6828648431042454,
          1.7086815960636492,
          0.25818184912645487,
          -0.7170024291397524,
          0.08916805499006593,
          1.3153127154131583,
          0.4250462899632546,
          0.8023505507410498,
          1.1148473647823962,
          -0.18956102529793664,
          -2.079756872118981,
          -0.7113601357767555,
          0.7094442838065212,
          0.07251137575017333,
          0.2953148063878515,
          -1.0121772100861905,
          -0.6359246998913491,
          -0.3528819646496265,
          0.5408683474982837,
          0.38979566342810656,
          0.4866337764911907,
          0.4011578541573498,
          0.6199420783053193,
          0.465317548944445,
          -0.2318148390140708,
          0.33581715315193994,
          -0.47503807105468887,
          -0.5466109427096344,
          0.6186689184945717,
          -0.19789822919792144,
          0.43690862035919475,
          -0.15712976265590814,
          -0.03370892710985846,
          0.5636837886188208,
          1.6580695740115794,
          -1.0407957699682373,
          -1.1676010434888637,
          -1.2157954987786896,
          0.8927282864811816,
          0.006944035248060638,
          0.09941082090580226,
          1.7407631555606686,
          0.8410707477264111,
          0.36434960007679335,
          1.7359708516884256,
          0.3965880382695271,
          1.2907778837912955,
          -0.8739617195647129,
          -0.00728002667451206,
          -0.6998826075737327,
          -0.25956262071948605,
          0.6542748975111746,
          -0.07018324863868057,
          0.11869849803291103,
          1.3119010861688023,
          -0.2972657981226998,
          -1.327267397411813,
          0.6165124105986223,
          -1.2073661854687094,
          -0.6857610677682836,
          -0.8749481991203933,
          -1.0875589673394612,
          -0.3771542192507942,
          -0.6995546738432826,
          -1.1440545701594893,
          -0.6170536297117368,
          -0.4841222349603552,
          1.1136235479025833,
          0.6188184078340688,
          0.3235695906997173,
          -0.5558048323254344,
          -0.6554798206190868,
          0.5991224352438265,
          -0.3073695377011026,
          -1.1443987905506152,
          -1.3918616476517387,
          -0.0970628008041887,
          -1.8637925174812902,
          0.3360992701512891,
          1.3136038000994479,
          -0.9528464728863185,
          1.0035464465815014,
          -0.28833439613220974,
          -0.5801714493637724,
          -0.8297499028994472,
          2.0718903192594933,
          0.6207850633540429,
          0.05015029066703375,
          -0.13065485529488527,
          0.8073422350123594,
          0.5539168555719847,
          -2.5645193565271756,
          -1.0899895346786574,
          0.10478822602140812
         ],
         "yaxis": "y10"
        },
        {
         "histfunc": "count",
         "histnorm": "",
         "marker": {
          "color": "rgba(50, 171, 96, 1.0)",
          "line": {
           "color": "#4D5663",
           "width": 1.3
          }
         },
         "name": "C",
         "nbinsx": 10,
         "opacity": 0.8,
         "orientation": "v",
         "type": "histogram",
         "x": [
          -0.8849667774683708,
          2.2259377239221325,
          -1.5233101709060102,
          0.2953181398270395,
          0.8264344026153204,
          0.5913510655187838,
          0.6828648431042454,
          1.7086815960636492,
          0.25818184912645487,
          -0.7170024291397524,
          0.08916805499006593,
          1.3153127154131583,
          0.4250462899632546,
          0.8023505507410498,
          1.1148473647823962,
          -0.18956102529793664,
          -2.079756872118981,
          -0.7113601357767555,
          0.7094442838065212,
          0.07251137575017333,
          0.2953148063878515,
          -1.0121772100861905,
          -0.6359246998913491,
          -0.3528819646496265,
          0.5408683474982837,
          0.38979566342810656,
          0.4866337764911907,
          0.4011578541573498,
          0.6199420783053193,
          0.465317548944445,
          -0.2318148390140708,
          0.33581715315193994,
          -0.47503807105468887,
          -0.5466109427096344,
          0.6186689184945717,
          -0.19789822919792144,
          0.43690862035919475,
          -0.15712976265590814,
          -0.03370892710985846,
          0.5636837886188208,
          1.6580695740115794,
          -1.0407957699682373,
          -1.1676010434888637,
          -1.2157954987786896,
          0.8927282864811816,
          0.006944035248060638,
          0.09941082090580226,
          1.7407631555606686,
          0.8410707477264111,
          0.36434960007679335,
          1.7359708516884256,
          0.3965880382695271,
          1.2907778837912955,
          -0.8739617195647129,
          -0.00728002667451206,
          -0.6998826075737327,
          -0.25956262071948605,
          0.6542748975111746,
          -0.07018324863868057,
          0.11869849803291103,
          1.3119010861688023,
          -0.2972657981226998,
          -1.327267397411813,
          0.6165124105986223,
          -1.2073661854687094,
          -0.6857610677682836,
          -0.8749481991203933,
          -1.0875589673394612,
          -0.3771542192507942,
          -0.6995546738432826,
          -1.1440545701594893,
          -0.6170536297117368,
          -0.4841222349603552,
          1.1136235479025833,
          0.6188184078340688,
          0.3235695906997173,
          -0.5558048323254344,
          -0.6554798206190868,
          0.5991224352438265,
          -0.3073695377011026,
          -1.1443987905506152,
          -1.3918616476517387,
          -0.0970628008041887,
          -1.8637925174812902,
          0.3360992701512891,
          1.3136038000994479,
          -0.9528464728863185,
          1.0035464465815014,
          -0.28833439613220974,
          -0.5801714493637724,
          -0.8297499028994472,
          2.0718903192594933,
          0.6207850633540429,
          0.05015029066703375,
          -0.13065485529488527,
          0.8073422350123594,
          0.5539168555719847,
          -2.5645193565271756,
          -1.0899895346786574,
          0.10478822602140812
         ],
         "xaxis": "x11",
         "yaxis": "y11"
        },
        {
         "line": {
          "color": "rgba(128, 128, 128, 1.0)",
          "dash": "solid",
          "shape": "linear",
          "width": 1.3
         },
         "marker": {
          "size": 2,
          "symbol": "circle"
         },
         "mode": "markers",
         "name": "C",
         "text": "",
         "type": "scatter",
         "x": [
          0.10769577614462261,
          0.9381513388151985,
          0.6009753050690573,
          1.9752354750747527,
          -0.5181426237082836,
          0.22761479934571258,
          -0.5265786942320025,
          0.5095492153774754,
          -1.046554330848723,
          0.7315065825237579,
          0.6789620480026869,
          -1.413347659196342,
          -0.016108383281562496,
          -0.9410589517518645,
          0.04857771095448899,
          -0.11022153894423668,
          0.14107671168947727,
          -0.5554674951524631,
          -1.3159441484687864,
          -1.7483545865947807,
          -0.3121965712883904,
          0.6920018959734503,
          -0.9107050403290968,
          0.2784644851682874,
          -1.9397962578930277,
          -0.45513040249786124,
          -0.10848084960196892,
          -0.7589575367551256,
          -1.0780093826892658,
          -0.9514571611390187,
          1.5961370769094052,
          1.8239176658288547,
          -0.6536799414681844,
          -1.2597150988422412,
          -0.46059293448935956,
          0.31269284186968976,
          0.07907465712089817,
          0.14802301693644215,
          -0.3167136617293768,
          -1.007512795204162,
          0.8067433348015413,
          -0.8483543082873977,
          1.263380709513765,
          0.46652702277022684,
          0.751282663832055,
          0.06369242477298177,
          -1.0909522881225577,
          -0.3739960103824854,
          0.6779473539857858,
          0.3734266014815676,
          0.9967330796823717,
          -0.5119182197177479,
          -0.5864669718638383,
          0.6879994083973473,
          -2.744759141587978,
          0.1441662752957278,
          0.026430336315075065,
          0.9292363498181935,
          0.22263571468181814,
          2.199745582404042,
          -0.641710069299092,
          1.539124005803026,
          0.20902429509022064,
          0.07899581188293245,
          -0.33360984821282474,
          -0.36160802793794816,
          -0.696201035195265,
          0.12563154438571958,
          1.4465572063107346,
          1.5080309088258388,
          -1.1673168114773593,
          -0.20357637312531762,
          -1.4220357329064184,
          0.41158488273955846,
          -1.0001318285121235,
          0.7274191463023469,
          0.2160667268178794,
          0.584137035310321,
          -0.5655353173916954,
          0.34607752995659996,
          -1.0496416652327765,
          0.181924508554677,
          1.4160621396152433,
          1.447212701811392,
          -0.44404804234735024,
          0.12387709870026571,
          2.771090955198578,
          -0.5368436175829514,
          -1.0542914901698903,
          -0.7843346446183815,
          -0.6142528681773224,
          -0.0008528951337365195,
          -0.4769691436154201,
          0.19402549901576488,
          -0.46842199926958966,
          -0.08477552905099907,
          -0.9792984493681949,
          1.4995880284038323,
          -0.7542111726116282,
          0.5153352947324564
         ],
         "xaxis": "x12",
         "y": [
          -0.8849667774683708,
          2.2259377239221325,
          -1.5233101709060102,
          0.2953181398270395,
          0.8264344026153204,
          0.5913510655187838,
          0.6828648431042454,
          1.7086815960636492,
          0.25818184912645487,
          -0.7170024291397524,
          0.08916805499006593,
          1.3153127154131583,
          0.4250462899632546,
          0.8023505507410498,
          1.1148473647823962,
          -0.18956102529793664,
          -2.079756872118981,
          -0.7113601357767555,
          0.7094442838065212,
          0.07251137575017333,
          0.2953148063878515,
          -1.0121772100861905,
          -0.6359246998913491,
          -0.3528819646496265,
          0.5408683474982837,
          0.38979566342810656,
          0.4866337764911907,
          0.4011578541573498,
          0.6199420783053193,
          0.465317548944445,
          -0.2318148390140708,
          0.33581715315193994,
          -0.47503807105468887,
          -0.5466109427096344,
          0.6186689184945717,
          -0.19789822919792144,
          0.43690862035919475,
          -0.15712976265590814,
          -0.03370892710985846,
          0.5636837886188208,
          1.6580695740115794,
          -1.0407957699682373,
          -1.1676010434888637,
          -1.2157954987786896,
          0.8927282864811816,
          0.006944035248060638,
          0.09941082090580226,
          1.7407631555606686,
          0.8410707477264111,
          0.36434960007679335,
          1.7359708516884256,
          0.3965880382695271,
          1.2907778837912955,
          -0.8739617195647129,
          -0.00728002667451206,
          -0.6998826075737327,
          -0.25956262071948605,
          0.6542748975111746,
          -0.07018324863868057,
          0.11869849803291103,
          1.3119010861688023,
          -0.2972657981226998,
          -1.327267397411813,
          0.6165124105986223,
          -1.2073661854687094,
          -0.6857610677682836,
          -0.8749481991203933,
          -1.0875589673394612,
          -0.3771542192507942,
          -0.6995546738432826,
          -1.1440545701594893,
          -0.6170536297117368,
          -0.4841222349603552,
          1.1136235479025833,
          0.6188184078340688,
          0.3235695906997173,
          -0.5558048323254344,
          -0.6554798206190868,
          0.5991224352438265,
          -0.3073695377011026,
          -1.1443987905506152,
          -1.3918616476517387,
          -0.0970628008041887,
          -1.8637925174812902,
          0.3360992701512891,
          1.3136038000994479,
          -0.9528464728863185,
          1.0035464465815014,
          -0.28833439613220974,
          -0.5801714493637724,
          -0.8297499028994472,
          2.0718903192594933,
          0.6207850633540429,
          0.05015029066703375,
          -0.13065485529488527,
          0.8073422350123594,
          0.5539168555719847,
          -2.5645193565271756,
          -1.0899895346786574,
          0.10478822602140812
         ],
         "yaxis": "y12"
        },
        {
         "line": {
          "color": "rgba(128, 128, 128, 1.0)",
          "dash": "solid",
          "shape": "linear",
          "width": 1.3
         },
         "marker": {
          "size": 2,
          "symbol": "circle"
         },
         "mode": "markers",
         "name": "D",
         "text": "",
         "type": "scatter",
         "x": [
          -1.3559130559175228,
          0.5303321035654701,
          0.29440697268481386,
          -2.366994851248194,
          -0.39061600426275805,
          -1.2161987223331556,
          0.19859743516019948,
          -0.04196512186229954,
          0.7816691002462268,
          -0.5625933565781353,
          0.19285116004885725,
          -0.06178195375831094,
          0.7097995605455756,
          -0.06438499550921149,
          -2.5974737858675803,
          -0.32300690338794696,
          1.0306388859623885,
          -1.941335868515121,
          -1.4355365861662128,
          -0.6573992997091732,
          0.11646656991438858,
          0.46591396507238075,
          0.05272497171678483,
          0.4581524192640287,
          1.1095119169038339,
          -0.16693785245883877,
          -2.4185233240227983,
          -0.6450810153514451,
          1.1329069163196375,
          0.6970329956343094,
          -0.22820026177348646,
          -1.4808780287987526,
          0.024367923584303973,
          0.4286231014194029,
          0.08045542686191721,
          -1.4015248719784796,
          -0.7127602575963483,
          -0.8326614239099435,
          0.9937010497254936,
          -0.5989317759807878,
          -1.4296493006161402,
          0.7713104030030286,
          -0.06980710659690535,
          1.1287545943777195,
          0.24847286609051505,
          -0.25614946259117294,
          -0.4244114222395493,
          0.5856088506470457,
          1.279303773190982,
          -0.44555925844105376,
          0.3490682053943956,
          1.0813767860789734,
          0.8133648881571423,
          -0.6562175042066347,
          -0.4121443535409477,
          1.0969280780102093,
          0.15770461247131407,
          0.042630429623211966,
          2.3683858678174623,
          1.1321042486469257,
          -0.12294684247572248,
          1.7655511106226867,
          -0.1591269815157064,
          0.11075147314174175,
          -1.0859538098553496,
          -2.191959033772851,
          -1.3356073556326191,
          -0.7607734053921369,
          -0.8295932567941922,
          -0.010402164383887734,
          0.009074950144895585,
          -1.3753860596456584,
          1.1186045911807563,
          -1.3180085977495606,
          -1.4364656665274682,
          -1.1545082613318447,
          -0.3488279565559763,
          0.22136370072874864,
          0.11027416415716094,
          -0.3289421211077479,
          1.4982170548436569,
          0.5240075572039334,
          0.14601567207029967,
          1.1131443714346898,
          -0.945595270331263,
          0.29686021046057764,
          -0.06873382405799189,
          1.3398974294041806,
          -0.1005688226330727,
          -0.5387746262762422,
          -0.767849248663247,
          -0.35100755254836946,
          0.1480598141594704,
          0.08595586430500328,
          1.162131405970528,
          0.8816251921637606,
          -0.21427435409242715,
          1.4900398420710712,
          -1.604228677811847,
          0.23534333231846755
         ],
         "xaxis": "x13",
         "y": [
          0.10769577614462261,
          0.9381513388151985,
          0.6009753050690573,
          1.9752354750747527,
          -0.5181426237082836,
          0.22761479934571258,
          -0.5265786942320025,
          0.5095492153774754,
          -1.046554330848723,
          0.7315065825237579,
          0.6789620480026869,
          -1.413347659196342,
          -0.016108383281562496,
          -0.9410589517518645,
          0.04857771095448899,
          -0.11022153894423668,
          0.14107671168947727,
          -0.5554674951524631,
          -1.3159441484687864,
          -1.7483545865947807,
          -0.3121965712883904,
          0.6920018959734503,
          -0.9107050403290968,
          0.2784644851682874,
          -1.9397962578930277,
          -0.45513040249786124,
          -0.10848084960196892,
          -0.7589575367551256,
          -1.0780093826892658,
          -0.9514571611390187,
          1.5961370769094052,
          1.8239176658288547,
          -0.6536799414681844,
          -1.2597150988422412,
          -0.46059293448935956,
          0.31269284186968976,
          0.07907465712089817,
          0.14802301693644215,
          -0.3167136617293768,
          -1.007512795204162,
          0.8067433348015413,
          -0.8483543082873977,
          1.263380709513765,
          0.46652702277022684,
          0.751282663832055,
          0.06369242477298177,
          -1.0909522881225577,
          -0.3739960103824854,
          0.6779473539857858,
          0.3734266014815676,
          0.9967330796823717,
          -0.5119182197177479,
          -0.5864669718638383,
          0.6879994083973473,
          -2.744759141587978,
          0.1441662752957278,
          0.026430336315075065,
          0.9292363498181935,
          0.22263571468181814,
          2.199745582404042,
          -0.641710069299092,
          1.539124005803026,
          0.20902429509022064,
          0.07899581188293245,
          -0.33360984821282474,
          -0.36160802793794816,
          -0.696201035195265,
          0.12563154438571958,
          1.4465572063107346,
          1.5080309088258388,
          -1.1673168114773593,
          -0.20357637312531762,
          -1.4220357329064184,
          0.41158488273955846,
          -1.0001318285121235,
          0.7274191463023469,
          0.2160667268178794,
          0.584137035310321,
          -0.5655353173916954,
          0.34607752995659996,
          -1.0496416652327765,
          0.181924508554677,
          1.4160621396152433,
          1.447212701811392,
          -0.44404804234735024,
          0.12387709870026571,
          2.771090955198578,
          -0.5368436175829514,
          -1.0542914901698903,
          -0.7843346446183815,
          -0.6142528681773224,
          -0.0008528951337365195,
          -0.4769691436154201,
          0.19402549901576488,
          -0.46842199926958966,
          -0.08477552905099907,
          -0.9792984493681949,
          1.4995880284038323,
          -0.7542111726116282,
          0.5153352947324564
         ],
         "yaxis": "y13"
        },
        {
         "line": {
          "color": "rgba(128, 128, 128, 1.0)",
          "dash": "solid",
          "shape": "linear",
          "width": 1.3
         },
         "marker": {
          "size": 2,
          "symbol": "circle"
         },
         "mode": "markers",
         "name": "D",
         "text": "",
         "type": "scatter",
         "x": [
          -1.5778429245488879,
          1.2680079504191542,
          0.09649405165059019,
          0.5451506050878556,
          1.4665309109334816,
          -0.8187660691999971,
          0.8892275568624582,
          0.057993196168514054,
          1.0704372338561854,
          -1.1215869807766896,
          0.7898514189744038,
          0.8930828925001068,
          1.3220881795120045,
          -1.1746388644306027,
          -0.11366720583834672,
          -1.08572748143992,
          -0.36542532409071204,
          -0.5451472733548265,
          0.05957969416825055,
          1.0481834417594982,
          0.6582590607680974,
          1.9050369818668038,
          -0.8611884051729745,
          -0.03364255394446158,
          -0.2688534606823713,
          -1.2502969844263059,
          -0.09367845283559229,
          -0.2920765672512015,
          -0.3139676248854494,
          -0.9811182522643814,
          -0.06443198507731814,
          -1.2044898392645802,
          -0.008192778716532423,
          -1.5846889685617627,
          0.12750792187288915,
          -0.3593159388234478,
          -1.4988967562973863,
          1.2732099224625397,
          -0.8615848179565383,
          -0.40897428577114503,
          0.8490222350087218,
          -1.0791246887998986,
          -0.15060725895997487,
          -1.5720599233177468,
          -0.9104303182134822,
          0.3038761199317576,
          1.5772543560605514,
          0.10958890357099571,
          -1.433809763409956,
          0.9001499602414199,
          -1.1065469139557813,
          -1.6591841116033383,
          0.4856131846513768,
          -1.3187515045471454,
          -0.9998085361886271,
          0.8895689618477627,
          -0.6490212653755961,
          -0.6028794296101871,
          -1.6215250503615426,
          0.35749953179801786,
          1.3525172890956467,
          2.1440982079969793,
          -0.7535990604943527,
          -1.8530373144179704,
          0.3853396942630609,
          1.0725112999364486,
          -0.5080799161223373,
          0.728183494278347,
          0.29348208736934966,
          0.6166598740688046,
          -1.4176082506592214,
          -1.2283428172986675,
          0.029400981232705268,
          0.49717683675476193,
          1.2806469532543063,
          -2.170877611449295,
          0.5305137203022765,
          0.07573784865183336,
          1.962331926274082,
          0.6497384161827761,
          0.445444965199007,
          -1.0219776640954312,
          -1.3586633696231962,
          2.548903463301732,
          -0.2657491617480886,
          0.06264434682764904,
          -1.485197772311538,
          -1.9928894210733983,
          1.1406483682872646,
          -1.7880279463109883,
          0.21610130984226705,
          0.6600706306964581,
          0.5159702029260697,
          -1.0874933049782323,
          -1.0924492328288362,
          -0.44981702999116246,
          -0.2910427923330211,
          1.109369336375027,
          -0.27248037646009077,
          -0.14682084414377564
         ],
         "xaxis": "x14",
         "y": [
          0.10769577614462261,
          0.9381513388151985,
          0.6009753050690573,
          1.9752354750747527,
          -0.5181426237082836,
          0.22761479934571258,
          -0.5265786942320025,
          0.5095492153774754,
          -1.046554330848723,
          0.7315065825237579,
          0.6789620480026869,
          -1.413347659196342,
          -0.016108383281562496,
          -0.9410589517518645,
          0.04857771095448899,
          -0.11022153894423668,
          0.14107671168947727,
          -0.5554674951524631,
          -1.3159441484687864,
          -1.7483545865947807,
          -0.3121965712883904,
          0.6920018959734503,
          -0.9107050403290968,
          0.2784644851682874,
          -1.9397962578930277,
          -0.45513040249786124,
          -0.10848084960196892,
          -0.7589575367551256,
          -1.0780093826892658,
          -0.9514571611390187,
          1.5961370769094052,
          1.8239176658288547,
          -0.6536799414681844,
          -1.2597150988422412,
          -0.46059293448935956,
          0.31269284186968976,
          0.07907465712089817,
          0.14802301693644215,
          -0.3167136617293768,
          -1.007512795204162,
          0.8067433348015413,
          -0.8483543082873977,
          1.263380709513765,
          0.46652702277022684,
          0.751282663832055,
          0.06369242477298177,
          -1.0909522881225577,
          -0.3739960103824854,
          0.6779473539857858,
          0.3734266014815676,
          0.9967330796823717,
          -0.5119182197177479,
          -0.5864669718638383,
          0.6879994083973473,
          -2.744759141587978,
          0.1441662752957278,
          0.026430336315075065,
          0.9292363498181935,
          0.22263571468181814,
          2.199745582404042,
          -0.641710069299092,
          1.539124005803026,
          0.20902429509022064,
          0.07899581188293245,
          -0.33360984821282474,
          -0.36160802793794816,
          -0.696201035195265,
          0.12563154438571958,
          1.4465572063107346,
          1.5080309088258388,
          -1.1673168114773593,
          -0.20357637312531762,
          -1.4220357329064184,
          0.41158488273955846,
          -1.0001318285121235,
          0.7274191463023469,
          0.2160667268178794,
          0.584137035310321,
          -0.5655353173916954,
          0.34607752995659996,
          -1.0496416652327765,
          0.181924508554677,
          1.4160621396152433,
          1.447212701811392,
          -0.44404804234735024,
          0.12387709870026571,
          2.771090955198578,
          -0.5368436175829514,
          -1.0542914901698903,
          -0.7843346446183815,
          -0.6142528681773224,
          -0.0008528951337365195,
          -0.4769691436154201,
          0.19402549901576488,
          -0.46842199926958966,
          -0.08477552905099907,
          -0.9792984493681949,
          1.4995880284038323,
          -0.7542111726116282,
          0.5153352947324564
         ],
         "yaxis": "y14"
        },
        {
         "line": {
          "color": "rgba(128, 128, 128, 1.0)",
          "dash": "solid",
          "shape": "linear",
          "width": 1.3
         },
         "marker": {
          "size": 2,
          "symbol": "circle"
         },
         "mode": "markers",
         "name": "D",
         "text": "",
         "type": "scatter",
         "x": [
          -0.8849667774683708,
          2.2259377239221325,
          -1.5233101709060102,
          0.2953181398270395,
          0.8264344026153204,
          0.5913510655187838,
          0.6828648431042454,
          1.7086815960636492,
          0.25818184912645487,
          -0.7170024291397524,
          0.08916805499006593,
          1.3153127154131583,
          0.4250462899632546,
          0.8023505507410498,
          1.1148473647823962,
          -0.18956102529793664,
          -2.079756872118981,
          -0.7113601357767555,
          0.7094442838065212,
          0.07251137575017333,
          0.2953148063878515,
          -1.0121772100861905,
          -0.6359246998913491,
          -0.3528819646496265,
          0.5408683474982837,
          0.38979566342810656,
          0.4866337764911907,
          0.4011578541573498,
          0.6199420783053193,
          0.465317548944445,
          -0.2318148390140708,
          0.33581715315193994,
          -0.47503807105468887,
          -0.5466109427096344,
          0.6186689184945717,
          -0.19789822919792144,
          0.43690862035919475,
          -0.15712976265590814,
          -0.03370892710985846,
          0.5636837886188208,
          1.6580695740115794,
          -1.0407957699682373,
          -1.1676010434888637,
          -1.2157954987786896,
          0.8927282864811816,
          0.006944035248060638,
          0.09941082090580226,
          1.7407631555606686,
          0.8410707477264111,
          0.36434960007679335,
          1.7359708516884256,
          0.3965880382695271,
          1.2907778837912955,
          -0.8739617195647129,
          -0.00728002667451206,
          -0.6998826075737327,
          -0.25956262071948605,
          0.6542748975111746,
          -0.07018324863868057,
          0.11869849803291103,
          1.3119010861688023,
          -0.2972657981226998,
          -1.327267397411813,
          0.6165124105986223,
          -1.2073661854687094,
          -0.6857610677682836,
          -0.8749481991203933,
          -1.0875589673394612,
          -0.3771542192507942,
          -0.6995546738432826,
          -1.1440545701594893,
          -0.6170536297117368,
          -0.4841222349603552,
          1.1136235479025833,
          0.6188184078340688,
          0.3235695906997173,
          -0.5558048323254344,
          -0.6554798206190868,
          0.5991224352438265,
          -0.3073695377011026,
          -1.1443987905506152,
          -1.3918616476517387,
          -0.0970628008041887,
          -1.8637925174812902,
          0.3360992701512891,
          1.3136038000994479,
          -0.9528464728863185,
          1.0035464465815014,
          -0.28833439613220974,
          -0.5801714493637724,
          -0.8297499028994472,
          2.0718903192594933,
          0.6207850633540429,
          0.05015029066703375,
          -0.13065485529488527,
          0.8073422350123594,
          0.5539168555719847,
          -2.5645193565271756,
          -1.0899895346786574,
          0.10478822602140812
         ],
         "xaxis": "x15",
         "y": [
          0.10769577614462261,
          0.9381513388151985,
          0.6009753050690573,
          1.9752354750747527,
          -0.5181426237082836,
          0.22761479934571258,
          -0.5265786942320025,
          0.5095492153774754,
          -1.046554330848723,
          0.7315065825237579,
          0.6789620480026869,
          -1.413347659196342,
          -0.016108383281562496,
          -0.9410589517518645,
          0.04857771095448899,
          -0.11022153894423668,
          0.14107671168947727,
          -0.5554674951524631,
          -1.3159441484687864,
          -1.7483545865947807,
          -0.3121965712883904,
          0.6920018959734503,
          -0.9107050403290968,
          0.2784644851682874,
          -1.9397962578930277,
          -0.45513040249786124,
          -0.10848084960196892,
          -0.7589575367551256,
          -1.0780093826892658,
          -0.9514571611390187,
          1.5961370769094052,
          1.8239176658288547,
          -0.6536799414681844,
          -1.2597150988422412,
          -0.46059293448935956,
          0.31269284186968976,
          0.07907465712089817,
          0.14802301693644215,
          -0.3167136617293768,
          -1.007512795204162,
          0.8067433348015413,
          -0.8483543082873977,
          1.263380709513765,
          0.46652702277022684,
          0.751282663832055,
          0.06369242477298177,
          -1.0909522881225577,
          -0.3739960103824854,
          0.6779473539857858,
          0.3734266014815676,
          0.9967330796823717,
          -0.5119182197177479,
          -0.5864669718638383,
          0.6879994083973473,
          -2.744759141587978,
          0.1441662752957278,
          0.026430336315075065,
          0.9292363498181935,
          0.22263571468181814,
          2.199745582404042,
          -0.641710069299092,
          1.539124005803026,
          0.20902429509022064,
          0.07899581188293245,
          -0.33360984821282474,
          -0.36160802793794816,
          -0.696201035195265,
          0.12563154438571958,
          1.4465572063107346,
          1.5080309088258388,
          -1.1673168114773593,
          -0.20357637312531762,
          -1.4220357329064184,
          0.41158488273955846,
          -1.0001318285121235,
          0.7274191463023469,
          0.2160667268178794,
          0.584137035310321,
          -0.5655353173916954,
          0.34607752995659996,
          -1.0496416652327765,
          0.181924508554677,
          1.4160621396152433,
          1.447212701811392,
          -0.44404804234735024,
          0.12387709870026571,
          2.771090955198578,
          -0.5368436175829514,
          -1.0542914901698903,
          -0.7843346446183815,
          -0.6142528681773224,
          -0.0008528951337365195,
          -0.4769691436154201,
          0.19402549901576488,
          -0.46842199926958966,
          -0.08477552905099907,
          -0.9792984493681949,
          1.4995880284038323,
          -0.7542111726116282,
          0.5153352947324564
         ],
         "yaxis": "y15"
        },
        {
         "histfunc": "count",
         "histnorm": "",
         "marker": {
          "color": "rgba(128, 0, 128, 1.0)",
          "line": {
           "color": "#4D5663",
           "width": 1.3
          }
         },
         "name": "D",
         "nbinsx": 10,
         "opacity": 0.8,
         "orientation": "v",
         "type": "histogram",
         "x": [
          0.10769577614462261,
          0.9381513388151985,
          0.6009753050690573,
          1.9752354750747527,
          -0.5181426237082836,
          0.22761479934571258,
          -0.5265786942320025,
          0.5095492153774754,
          -1.046554330848723,
          0.7315065825237579,
          0.6789620480026869,
          -1.413347659196342,
          -0.016108383281562496,
          -0.9410589517518645,
          0.04857771095448899,
          -0.11022153894423668,
          0.14107671168947727,
          -0.5554674951524631,
          -1.3159441484687864,
          -1.7483545865947807,
          -0.3121965712883904,
          0.6920018959734503,
          -0.9107050403290968,
          0.2784644851682874,
          -1.9397962578930277,
          -0.45513040249786124,
          -0.10848084960196892,
          -0.7589575367551256,
          -1.0780093826892658,
          -0.9514571611390187,
          1.5961370769094052,
          1.8239176658288547,
          -0.6536799414681844,
          -1.2597150988422412,
          -0.46059293448935956,
          0.31269284186968976,
          0.07907465712089817,
          0.14802301693644215,
          -0.3167136617293768,
          -1.007512795204162,
          0.8067433348015413,
          -0.8483543082873977,
          1.263380709513765,
          0.46652702277022684,
          0.751282663832055,
          0.06369242477298177,
          -1.0909522881225577,
          -0.3739960103824854,
          0.6779473539857858,
          0.3734266014815676,
          0.9967330796823717,
          -0.5119182197177479,
          -0.5864669718638383,
          0.6879994083973473,
          -2.744759141587978,
          0.1441662752957278,
          0.026430336315075065,
          0.9292363498181935,
          0.22263571468181814,
          2.199745582404042,
          -0.641710069299092,
          1.539124005803026,
          0.20902429509022064,
          0.07899581188293245,
          -0.33360984821282474,
          -0.36160802793794816,
          -0.696201035195265,
          0.12563154438571958,
          1.4465572063107346,
          1.5080309088258388,
          -1.1673168114773593,
          -0.20357637312531762,
          -1.4220357329064184,
          0.41158488273955846,
          -1.0001318285121235,
          0.7274191463023469,
          0.2160667268178794,
          0.584137035310321,
          -0.5655353173916954,
          0.34607752995659996,
          -1.0496416652327765,
          0.181924508554677,
          1.4160621396152433,
          1.447212701811392,
          -0.44404804234735024,
          0.12387709870026571,
          2.771090955198578,
          -0.5368436175829514,
          -1.0542914901698903,
          -0.7843346446183815,
          -0.6142528681773224,
          -0.0008528951337365195,
          -0.4769691436154201,
          0.19402549901576488,
          -0.46842199926958966,
          -0.08477552905099907,
          -0.9792984493681949,
          1.4995880284038323,
          -0.7542111726116282,
          0.5153352947324564
         ],
         "xaxis": "x16",
         "yaxis": "y16"
        }
       ],
       "layout": {
        "bargap": 0.02,
        "legend": {
         "bgcolor": "#F5F6F9",
         "font": {
          "color": "#4D5663"
         }
        },
        "paper_bgcolor": "#F5F6F9",
        "plot_bgcolor": "#F5F6F9",
        "showlegend": false,
        "template": {
         "data": {
          "bar": [
           {
            "error_x": {
             "color": "#2a3f5f"
            },
            "error_y": {
             "color": "#2a3f5f"
            },
            "marker": {
             "line": {
              "color": "#E5ECF6",
              "width": 0.5
             }
            },
            "type": "bar"
           }
          ],
          "barpolar": [
           {
            "marker": {
             "line": {
              "color": "#E5ECF6",
              "width": 0.5
             }
            },
            "type": "barpolar"
           }
          ],
          "carpet": [
           {
            "aaxis": {
             "endlinecolor": "#2a3f5f",
             "gridcolor": "white",
             "linecolor": "white",
             "minorgridcolor": "white",
             "startlinecolor": "#2a3f5f"
            },
            "baxis": {
             "endlinecolor": "#2a3f5f",
             "gridcolor": "white",
             "linecolor": "white",
             "minorgridcolor": "white",
             "startlinecolor": "#2a3f5f"
            },
            "type": "carpet"
           }
          ],
          "choropleth": [
           {
            "colorbar": {
             "outlinewidth": 0,
             "ticks": ""
            },
            "type": "choropleth"
           }
          ],
          "contour": [
           {
            "colorbar": {
             "outlinewidth": 0,
             "ticks": ""
            },
            "colorscale": [
             [
              0,
              "#0d0887"
             ],
             [
              0.1111111111111111,
              "#46039f"
             ],
             [
              0.2222222222222222,
              "#7201a8"
             ],
             [
              0.3333333333333333,
              "#9c179e"
             ],
             [
              0.4444444444444444,
              "#bd3786"
             ],
             [
              0.5555555555555556,
              "#d8576b"
             ],
             [
              0.6666666666666666,
              "#ed7953"
             ],
             [
              0.7777777777777778,
              "#fb9f3a"
             ],
             [
              0.8888888888888888,
              "#fdca26"
             ],
             [
              1,
              "#f0f921"
             ]
            ],
            "type": "contour"
           }
          ],
          "contourcarpet": [
           {
            "colorbar": {
             "outlinewidth": 0,
             "ticks": ""
            },
            "type": "contourcarpet"
           }
          ],
          "heatmap": [
           {
            "colorbar": {
             "outlinewidth": 0,
             "ticks": ""
            },
            "colorscale": [
             [
              0,
              "#0d0887"
             ],
             [
              0.1111111111111111,
              "#46039f"
             ],
             [
              0.2222222222222222,
              "#7201a8"
             ],
             [
              0.3333333333333333,
              "#9c179e"
             ],
             [
              0.4444444444444444,
              "#bd3786"
             ],
             [
              0.5555555555555556,
              "#d8576b"
             ],
             [
              0.6666666666666666,
              "#ed7953"
             ],
             [
              0.7777777777777778,
              "#fb9f3a"
             ],
             [
              0.8888888888888888,
              "#fdca26"
             ],
             [
              1,
              "#f0f921"
             ]
            ],
            "type": "heatmap"
           }
          ],
          "heatmapgl": [
           {
            "colorbar": {
             "outlinewidth": 0,
             "ticks": ""
            },
            "colorscale": [
             [
              0,
              "#0d0887"
             ],
             [
              0.1111111111111111,
              "#46039f"
             ],
             [
              0.2222222222222222,
              "#7201a8"
             ],
             [
              0.3333333333333333,
              "#9c179e"
             ],
             [
              0.4444444444444444,
              "#bd3786"
             ],
             [
              0.5555555555555556,
              "#d8576b"
             ],
             [
              0.6666666666666666,
              "#ed7953"
             ],
             [
              0.7777777777777778,
              "#fb9f3a"
             ],
             [
              0.8888888888888888,
              "#fdca26"
             ],
             [
              1,
              "#f0f921"
             ]
            ],
            "type": "heatmapgl"
           }
          ],
          "histogram": [
           {
            "marker": {
             "colorbar": {
              "outlinewidth": 0,
              "ticks": ""
             }
            },
            "type": "histogram"
           }
          ],
          "histogram2d": [
           {
            "colorbar": {
             "outlinewidth": 0,
             "ticks": ""
            },
            "colorscale": [
             [
              0,
              "#0d0887"
             ],
             [
              0.1111111111111111,
              "#46039f"
             ],
             [
              0.2222222222222222,
              "#7201a8"
             ],
             [
              0.3333333333333333,
              "#9c179e"
             ],
             [
              0.4444444444444444,
              "#bd3786"
             ],
             [
              0.5555555555555556,
              "#d8576b"
             ],
             [
              0.6666666666666666,
              "#ed7953"
             ],
             [
              0.7777777777777778,
              "#fb9f3a"
             ],
             [
              0.8888888888888888,
              "#fdca26"
             ],
             [
              1,
              "#f0f921"
             ]
            ],
            "type": "histogram2d"
           }
          ],
          "histogram2dcontour": [
           {
            "colorbar": {
             "outlinewidth": 0,
             "ticks": ""
            },
            "colorscale": [
             [
              0,
              "#0d0887"
             ],
             [
              0.1111111111111111,
              "#46039f"
             ],
             [
              0.2222222222222222,
              "#7201a8"
             ],
             [
              0.3333333333333333,
              "#9c179e"
             ],
             [
              0.4444444444444444,
              "#bd3786"
             ],
             [
              0.5555555555555556,
              "#d8576b"
             ],
             [
              0.6666666666666666,
              "#ed7953"
             ],
             [
              0.7777777777777778,
              "#fb9f3a"
             ],
             [
              0.8888888888888888,
              "#fdca26"
             ],
             [
              1,
              "#f0f921"
             ]
            ],
            "type": "histogram2dcontour"
           }
          ],
          "mesh3d": [
           {
            "colorbar": {
             "outlinewidth": 0,
             "ticks": ""
            },
            "type": "mesh3d"
           }
          ],
          "parcoords": [
           {
            "line": {
             "colorbar": {
              "outlinewidth": 0,
              "ticks": ""
             }
            },
            "type": "parcoords"
           }
          ],
          "pie": [
           {
            "automargin": true,
            "type": "pie"
           }
          ],
          "scatter": [
           {
            "marker": {
             "colorbar": {
              "outlinewidth": 0,
              "ticks": ""
             }
            },
            "type": "scatter"
           }
          ],
          "scatter3d": [
           {
            "line": {
             "colorbar": {
              "outlinewidth": 0,
              "ticks": ""
             }
            },
            "marker": {
             "colorbar": {
              "outlinewidth": 0,
              "ticks": ""
             }
            },
            "type": "scatter3d"
           }
          ],
          "scattercarpet": [
           {
            "marker": {
             "colorbar": {
              "outlinewidth": 0,
              "ticks": ""
             }
            },
            "type": "scattercarpet"
           }
          ],
          "scattergeo": [
           {
            "marker": {
             "colorbar": {
              "outlinewidth": 0,
              "ticks": ""
             }
            },
            "type": "scattergeo"
           }
          ],
          "scattergl": [
           {
            "marker": {
             "colorbar": {
              "outlinewidth": 0,
              "ticks": ""
             }
            },
            "type": "scattergl"
           }
          ],
          "scattermapbox": [
           {
            "marker": {
             "colorbar": {
              "outlinewidth": 0,
              "ticks": ""
             }
            },
            "type": "scattermapbox"
           }
          ],
          "scatterpolar": [
           {
            "marker": {
             "colorbar": {
              "outlinewidth": 0,
              "ticks": ""
             }
            },
            "type": "scatterpolar"
           }
          ],
          "scatterpolargl": [
           {
            "marker": {
             "colorbar": {
              "outlinewidth": 0,
              "ticks": ""
             }
            },
            "type": "scatterpolargl"
           }
          ],
          "scatterternary": [
           {
            "marker": {
             "colorbar": {
              "outlinewidth": 0,
              "ticks": ""
             }
            },
            "type": "scatterternary"
           }
          ],
          "surface": [
           {
            "colorbar": {
             "outlinewidth": 0,
             "ticks": ""
            },
            "colorscale": [
             [
              0,
              "#0d0887"
             ],
             [
              0.1111111111111111,
              "#46039f"
             ],
             [
              0.2222222222222222,
              "#7201a8"
             ],
             [
              0.3333333333333333,
              "#9c179e"
             ],
             [
              0.4444444444444444,
              "#bd3786"
             ],
             [
              0.5555555555555556,
              "#d8576b"
             ],
             [
              0.6666666666666666,
              "#ed7953"
             ],
             [
              0.7777777777777778,
              "#fb9f3a"
             ],
             [
              0.8888888888888888,
              "#fdca26"
             ],
             [
              1,
              "#f0f921"
             ]
            ],
            "type": "surface"
           }
          ],
          "table": [
           {
            "cells": {
             "fill": {
              "color": "#EBF0F8"
             },
             "line": {
              "color": "white"
             }
            },
            "header": {
             "fill": {
              "color": "#C8D4E3"
             },
             "line": {
              "color": "white"
             }
            },
            "type": "table"
           }
          ]
         },
         "layout": {
          "annotationdefaults": {
           "arrowcolor": "#2a3f5f",
           "arrowhead": 0,
           "arrowwidth": 1
          },
          "coloraxis": {
           "colorbar": {
            "outlinewidth": 0,
            "ticks": ""
           }
          },
          "colorscale": {
           "diverging": [
            [
             0,
             "#8e0152"
            ],
            [
             0.1,
             "#c51b7d"
            ],
            [
             0.2,
             "#de77ae"
            ],
            [
             0.3,
             "#f1b6da"
            ],
            [
             0.4,
             "#fde0ef"
            ],
            [
             0.5,
             "#f7f7f7"
            ],
            [
             0.6,
             "#e6f5d0"
            ],
            [
             0.7,
             "#b8e186"
            ],
            [
             0.8,
             "#7fbc41"
            ],
            [
             0.9,
             "#4d9221"
            ],
            [
             1,
             "#276419"
            ]
           ],
           "sequential": [
            [
             0,
             "#0d0887"
            ],
            [
             0.1111111111111111,
             "#46039f"
            ],
            [
             0.2222222222222222,
             "#7201a8"
            ],
            [
             0.3333333333333333,
             "#9c179e"
            ],
            [
             0.4444444444444444,
             "#bd3786"
            ],
            [
             0.5555555555555556,
             "#d8576b"
            ],
            [
             0.6666666666666666,
             "#ed7953"
            ],
            [
             0.7777777777777778,
             "#fb9f3a"
            ],
            [
             0.8888888888888888,
             "#fdca26"
            ],
            [
             1,
             "#f0f921"
            ]
           ],
           "sequentialminus": [
            [
             0,
             "#0d0887"
            ],
            [
             0.1111111111111111,
             "#46039f"
            ],
            [
             0.2222222222222222,
             "#7201a8"
            ],
            [
             0.3333333333333333,
             "#9c179e"
            ],
            [
             0.4444444444444444,
             "#bd3786"
            ],
            [
             0.5555555555555556,
             "#d8576b"
            ],
            [
             0.6666666666666666,
             "#ed7953"
            ],
            [
             0.7777777777777778,
             "#fb9f3a"
            ],
            [
             0.8888888888888888,
             "#fdca26"
            ],
            [
             1,
             "#f0f921"
            ]
           ]
          },
          "colorway": [
           "#636efa",
           "#EF553B",
           "#00cc96",
           "#ab63fa",
           "#FFA15A",
           "#19d3f3",
           "#FF6692",
           "#B6E880",
           "#FF97FF",
           "#FECB52"
          ],
          "font": {
           "color": "#2a3f5f"
          },
          "geo": {
           "bgcolor": "white",
           "lakecolor": "white",
           "landcolor": "#E5ECF6",
           "showlakes": true,
           "showland": true,
           "subunitcolor": "white"
          },
          "hoverlabel": {
           "align": "left"
          },
          "hovermode": "closest",
          "mapbox": {
           "style": "light"
          },
          "paper_bgcolor": "white",
          "plot_bgcolor": "#E5ECF6",
          "polar": {
           "angularaxis": {
            "gridcolor": "white",
            "linecolor": "white",
            "ticks": ""
           },
           "bgcolor": "#E5ECF6",
           "radialaxis": {
            "gridcolor": "white",
            "linecolor": "white",
            "ticks": ""
           }
          },
          "scene": {
           "xaxis": {
            "backgroundcolor": "#E5ECF6",
            "gridcolor": "white",
            "gridwidth": 2,
            "linecolor": "white",
            "showbackground": true,
            "ticks": "",
            "zerolinecolor": "white"
           },
           "yaxis": {
            "backgroundcolor": "#E5ECF6",
            "gridcolor": "white",
            "gridwidth": 2,
            "linecolor": "white",
            "showbackground": true,
            "ticks": "",
            "zerolinecolor": "white"
           },
           "zaxis": {
            "backgroundcolor": "#E5ECF6",
            "gridcolor": "white",
            "gridwidth": 2,
            "linecolor": "white",
            "showbackground": true,
            "ticks": "",
            "zerolinecolor": "white"
           }
          },
          "shapedefaults": {
           "line": {
            "color": "#2a3f5f"
           }
          },
          "ternary": {
           "aaxis": {
            "gridcolor": "white",
            "linecolor": "white",
            "ticks": ""
           },
           "baxis": {
            "gridcolor": "white",
            "linecolor": "white",
            "ticks": ""
           },
           "bgcolor": "#E5ECF6",
           "caxis": {
            "gridcolor": "white",
            "linecolor": "white",
            "ticks": ""
           }
          },
          "title": {
           "x": 0.05
          },
          "xaxis": {
           "automargin": true,
           "gridcolor": "white",
           "linecolor": "white",
           "ticks": "",
           "title": {
            "standoff": 15
           },
           "zerolinecolor": "white",
           "zerolinewidth": 2
          },
          "yaxis": {
           "automargin": true,
           "gridcolor": "white",
           "linecolor": "white",
           "ticks": "",
           "title": {
            "standoff": 15
           },
           "zerolinecolor": "white",
           "zerolinewidth": 2
          }
         }
        },
        "title": {
         "font": {
          "color": "#4D5663"
         }
        },
        "xaxis": {
         "anchor": "y",
         "domain": [
          0,
          0.2125
         ],
         "gridcolor": "#E1E5ED",
         "showgrid": false,
         "tickfont": {
          "color": "#4D5663"
         },
         "title": {
          "font": {
           "color": "#4D5663"
          },
          "text": ""
         },
         "zerolinecolor": "#E1E5ED"
        },
        "xaxis10": {
         "anchor": "y10",
         "domain": [
          0.2625,
          0.475
         ],
         "gridcolor": "#E1E5ED",
         "showgrid": false,
         "tickfont": {
          "color": "#4D5663"
         },
         "title": {
          "font": {
           "color": "#4D5663"
          },
          "text": ""
         },
         "zerolinecolor": "#E1E5ED"
        },
        "xaxis11": {
         "anchor": "y11",
         "domain": [
          0.525,
          0.7375
         ],
         "gridcolor": "#E1E5ED",
         "showgrid": false,
         "tickfont": {
          "color": "#4D5663"
         },
         "title": {
          "font": {
           "color": "#4D5663"
          },
          "text": ""
         },
         "zerolinecolor": "#E1E5ED"
        },
        "xaxis12": {
         "anchor": "y12",
         "domain": [
          0.7875,
          1
         ],
         "gridcolor": "#E1E5ED",
         "showgrid": false,
         "tickfont": {
          "color": "#4D5663"
         },
         "title": {
          "font": {
           "color": "#4D5663"
          },
          "text": ""
         },
         "zerolinecolor": "#E1E5ED"
        },
        "xaxis13": {
         "anchor": "y13",
         "domain": [
          0,
          0.2125
         ],
         "gridcolor": "#E1E5ED",
         "showgrid": false,
         "tickfont": {
          "color": "#4D5663"
         },
         "title": {
          "font": {
           "color": "#4D5663"
          },
          "text": ""
         },
         "zerolinecolor": "#E1E5ED"
        },
        "xaxis14": {
         "anchor": "y14",
         "domain": [
          0.2625,
          0.475
         ],
         "gridcolor": "#E1E5ED",
         "showgrid": false,
         "tickfont": {
          "color": "#4D5663"
         },
         "title": {
          "font": {
           "color": "#4D5663"
          },
          "text": ""
         },
         "zerolinecolor": "#E1E5ED"
        },
        "xaxis15": {
         "anchor": "y15",
         "domain": [
          0.525,
          0.7375
         ],
         "gridcolor": "#E1E5ED",
         "showgrid": false,
         "tickfont": {
          "color": "#4D5663"
         },
         "title": {
          "font": {
           "color": "#4D5663"
          },
          "text": ""
         },
         "zerolinecolor": "#E1E5ED"
        },
        "xaxis16": {
         "anchor": "y16",
         "domain": [
          0.7875,
          1
         ],
         "gridcolor": "#E1E5ED",
         "showgrid": false,
         "tickfont": {
          "color": "#4D5663"
         },
         "title": {
          "font": {
           "color": "#4D5663"
          },
          "text": ""
         },
         "zerolinecolor": "#E1E5ED"
        },
        "xaxis2": {
         "anchor": "y2",
         "domain": [
          0.2625,
          0.475
         ],
         "gridcolor": "#E1E5ED",
         "showgrid": false,
         "tickfont": {
          "color": "#4D5663"
         },
         "title": {
          "font": {
           "color": "#4D5663"
          },
          "text": ""
         },
         "zerolinecolor": "#E1E5ED"
        },
        "xaxis3": {
         "anchor": "y3",
         "domain": [
          0.525,
          0.7375
         ],
         "gridcolor": "#E1E5ED",
         "showgrid": false,
         "tickfont": {
          "color": "#4D5663"
         },
         "title": {
          "font": {
           "color": "#4D5663"
          },
          "text": ""
         },
         "zerolinecolor": "#E1E5ED"
        },
        "xaxis4": {
         "anchor": "y4",
         "domain": [
          0.7875,
          1
         ],
         "gridcolor": "#E1E5ED",
         "showgrid": false,
         "tickfont": {
          "color": "#4D5663"
         },
         "title": {
          "font": {
           "color": "#4D5663"
          },
          "text": ""
         },
         "zerolinecolor": "#E1E5ED"
        },
        "xaxis5": {
         "anchor": "y5",
         "domain": [
          0,
          0.2125
         ],
         "gridcolor": "#E1E5ED",
         "showgrid": false,
         "tickfont": {
          "color": "#4D5663"
         },
         "title": {
          "font": {
           "color": "#4D5663"
          },
          "text": ""
         },
         "zerolinecolor": "#E1E5ED"
        },
        "xaxis6": {
         "anchor": "y6",
         "domain": [
          0.2625,
          0.475
         ],
         "gridcolor": "#E1E5ED",
         "showgrid": false,
         "tickfont": {
          "color": "#4D5663"
         },
         "title": {
          "font": {
           "color": "#4D5663"
          },
          "text": ""
         },
         "zerolinecolor": "#E1E5ED"
        },
        "xaxis7": {
         "anchor": "y7",
         "domain": [
          0.525,
          0.7375
         ],
         "gridcolor": "#E1E5ED",
         "showgrid": false,
         "tickfont": {
          "color": "#4D5663"
         },
         "title": {
          "font": {
           "color": "#4D5663"
          },
          "text": ""
         },
         "zerolinecolor": "#E1E5ED"
        },
        "xaxis8": {
         "anchor": "y8",
         "domain": [
          0.7875,
          1
         ],
         "gridcolor": "#E1E5ED",
         "showgrid": false,
         "tickfont": {
          "color": "#4D5663"
         },
         "title": {
          "font": {
           "color": "#4D5663"
          },
          "text": ""
         },
         "zerolinecolor": "#E1E5ED"
        },
        "xaxis9": {
         "anchor": "y9",
         "domain": [
          0,
          0.2125
         ],
         "gridcolor": "#E1E5ED",
         "showgrid": false,
         "tickfont": {
          "color": "#4D5663"
         },
         "title": {
          "font": {
           "color": "#4D5663"
          },
          "text": ""
         },
         "zerolinecolor": "#E1E5ED"
        },
        "yaxis": {
         "anchor": "x",
         "domain": [
          0.8025,
          1
         ],
         "gridcolor": "#E1E5ED",
         "showgrid": false,
         "tickfont": {
          "color": "#4D5663"
         },
         "title": {
          "font": {
           "color": "#4D5663"
          },
          "text": ""
         },
         "zerolinecolor": "#E1E5ED"
        },
        "yaxis10": {
         "anchor": "x10",
         "domain": [
          0.2675,
          0.465
         ],
         "gridcolor": "#E1E5ED",
         "showgrid": false,
         "tickfont": {
          "color": "#4D5663"
         },
         "title": {
          "font": {
           "color": "#4D5663"
          },
          "text": ""
         },
         "zerolinecolor": "#E1E5ED"
        },
        "yaxis11": {
         "anchor": "x11",
         "domain": [
          0.2675,
          0.465
         ],
         "gridcolor": "#E1E5ED",
         "showgrid": false,
         "tickfont": {
          "color": "#4D5663"
         },
         "title": {
          "font": {
           "color": "#4D5663"
          },
          "text": ""
         },
         "zerolinecolor": "#E1E5ED"
        },
        "yaxis12": {
         "anchor": "x12",
         "domain": [
          0.2675,
          0.465
         ],
         "gridcolor": "#E1E5ED",
         "showgrid": false,
         "tickfont": {
          "color": "#4D5663"
         },
         "title": {
          "font": {
           "color": "#4D5663"
          },
          "text": ""
         },
         "zerolinecolor": "#E1E5ED"
        },
        "yaxis13": {
         "anchor": "x13",
         "domain": [
          0,
          0.1975
         ],
         "gridcolor": "#E1E5ED",
         "showgrid": false,
         "tickfont": {
          "color": "#4D5663"
         },
         "title": {
          "font": {
           "color": "#4D5663"
          },
          "text": ""
         },
         "zerolinecolor": "#E1E5ED"
        },
        "yaxis14": {
         "anchor": "x14",
         "domain": [
          0,
          0.1975
         ],
         "gridcolor": "#E1E5ED",
         "showgrid": false,
         "tickfont": {
          "color": "#4D5663"
         },
         "title": {
          "font": {
           "color": "#4D5663"
          },
          "text": ""
         },
         "zerolinecolor": "#E1E5ED"
        },
        "yaxis15": {
         "anchor": "x15",
         "domain": [
          0,
          0.1975
         ],
         "gridcolor": "#E1E5ED",
         "showgrid": false,
         "tickfont": {
          "color": "#4D5663"
         },
         "title": {
          "font": {
           "color": "#4D5663"
          },
          "text": ""
         },
         "zerolinecolor": "#E1E5ED"
        },
        "yaxis16": {
         "anchor": "x16",
         "domain": [
          0,
          0.1975
         ],
         "gridcolor": "#E1E5ED",
         "showgrid": false,
         "tickfont": {
          "color": "#4D5663"
         },
         "title": {
          "font": {
           "color": "#4D5663"
          },
          "text": ""
         },
         "zerolinecolor": "#E1E5ED"
        },
        "yaxis2": {
         "anchor": "x2",
         "domain": [
          0.8025,
          1
         ],
         "gridcolor": "#E1E5ED",
         "showgrid": false,
         "tickfont": {
          "color": "#4D5663"
         },
         "title": {
          "font": {
           "color": "#4D5663"
          },
          "text": ""
         },
         "zerolinecolor": "#E1E5ED"
        },
        "yaxis3": {
         "anchor": "x3",
         "domain": [
          0.8025,
          1
         ],
         "gridcolor": "#E1E5ED",
         "showgrid": false,
         "tickfont": {
          "color": "#4D5663"
         },
         "title": {
          "font": {
           "color": "#4D5663"
          },
          "text": ""
         },
         "zerolinecolor": "#E1E5ED"
        },
        "yaxis4": {
         "anchor": "x4",
         "domain": [
          0.8025,
          1
         ],
         "gridcolor": "#E1E5ED",
         "showgrid": false,
         "tickfont": {
          "color": "#4D5663"
         },
         "title": {
          "font": {
           "color": "#4D5663"
          },
          "text": ""
         },
         "zerolinecolor": "#E1E5ED"
        },
        "yaxis5": {
         "anchor": "x5",
         "domain": [
          0.535,
          0.7325
         ],
         "gridcolor": "#E1E5ED",
         "showgrid": false,
         "tickfont": {
          "color": "#4D5663"
         },
         "title": {
          "font": {
           "color": "#4D5663"
          },
          "text": ""
         },
         "zerolinecolor": "#E1E5ED"
        },
        "yaxis6": {
         "anchor": "x6",
         "domain": [
          0.535,
          0.7325
         ],
         "gridcolor": "#E1E5ED",
         "showgrid": false,
         "tickfont": {
          "color": "#4D5663"
         },
         "title": {
          "font": {
           "color": "#4D5663"
          },
          "text": ""
         },
         "zerolinecolor": "#E1E5ED"
        },
        "yaxis7": {
         "anchor": "x7",
         "domain": [
          0.535,
          0.7325
         ],
         "gridcolor": "#E1E5ED",
         "showgrid": false,
         "tickfont": {
          "color": "#4D5663"
         },
         "title": {
          "font": {
           "color": "#4D5663"
          },
          "text": ""
         },
         "zerolinecolor": "#E1E5ED"
        },
        "yaxis8": {
         "anchor": "x8",
         "domain": [
          0.535,
          0.7325
         ],
         "gridcolor": "#E1E5ED",
         "showgrid": false,
         "tickfont": {
          "color": "#4D5663"
         },
         "title": {
          "font": {
           "color": "#4D5663"
          },
          "text": ""
         },
         "zerolinecolor": "#E1E5ED"
        },
        "yaxis9": {
         "anchor": "x9",
         "domain": [
          0.2675,
          0.465
         ],
         "gridcolor": "#E1E5ED",
         "showgrid": false,
         "tickfont": {
          "color": "#4D5663"
         },
         "title": {
          "font": {
           "color": "#4D5663"
          },
          "text": ""
         },
         "zerolinecolor": "#E1E5ED"
        }
       }
      },
      "text/html": [
       "<div>\n",
       "        \n",
       "        \n",
       "            <div id=\"307b3a35-fa70-4ea8-9ad0-de84ae2f0e0b\" class=\"plotly-graph-div\" style=\"height:525px; width:100%;\"></div>\n",
       "            <script type=\"text/javascript\">\n",
       "                require([\"plotly\"], function(Plotly) {\n",
       "                    window.PLOTLYENV=window.PLOTLYENV || {};\n",
       "                    window.PLOTLYENV.BASE_URL='https://plot.ly';\n",
       "                    \n",
       "                if (document.getElementById(\"307b3a35-fa70-4ea8-9ad0-de84ae2f0e0b\")) {\n",
       "                    Plotly.newPlot(\n",
       "                        '307b3a35-fa70-4ea8-9ad0-de84ae2f0e0b',\n",
       "                        [{\"histfunc\": \"count\", \"histnorm\": \"\", \"marker\": {\"color\": \"rgba(255, 153, 51, 1.0)\", \"line\": {\"color\": \"#4D5663\", \"width\": 1.3}}, \"name\": \"A\", \"nbinsx\": 10, \"opacity\": 0.8, \"orientation\": \"v\", \"type\": \"histogram\", \"x\": [-1.3559130559175228, 0.5303321035654701, 0.29440697268481386, -2.366994851248194, -0.39061600426275805, -1.2161987223331556, 0.19859743516019948, -0.04196512186229954, 0.7816691002462268, -0.5625933565781353, 0.19285116004885725, -0.06178195375831094, 0.7097995605455756, -0.06438499550921149, -2.5974737858675803, -0.32300690338794696, 1.0306388859623885, -1.941335868515121, -1.4355365861662128, -0.6573992997091732, 0.11646656991438858, 0.46591396507238075, 0.05272497171678483, 0.4581524192640287, 1.1095119169038339, -0.16693785245883877, -2.4185233240227983, -0.6450810153514451, 1.1329069163196375, 0.6970329956343094, -0.22820026177348646, -1.4808780287987526, 0.024367923584303973, 0.4286231014194029, 0.08045542686191721, -1.4015248719784796, -0.7127602575963483, -0.8326614239099435, 0.9937010497254936, -0.5989317759807878, -1.4296493006161402, 0.7713104030030286, -0.06980710659690535, 1.1287545943777195, 0.24847286609051505, -0.25614946259117294, -0.4244114222395493, 0.5856088506470457, 1.279303773190982, -0.44555925844105376, 0.3490682053943956, 1.0813767860789734, 0.8133648881571423, -0.6562175042066347, -0.4121443535409477, 1.0969280780102093, 0.15770461247131407, 0.042630429623211966, 2.3683858678174623, 1.1321042486469257, -0.12294684247572248, 1.7655511106226867, -0.1591269815157064, 0.11075147314174175, -1.0859538098553496, -2.191959033772851, -1.3356073556326191, -0.7607734053921369, -0.8295932567941922, -0.010402164383887734, 0.009074950144895585, -1.3753860596456584, 1.1186045911807563, -1.3180085977495606, -1.4364656665274682, -1.1545082613318447, -0.3488279565559763, 0.22136370072874864, 0.11027416415716094, -0.3289421211077479, 1.4982170548436569, 0.5240075572039334, 0.14601567207029967, 1.1131443714346898, -0.945595270331263, 0.29686021046057764, -0.06873382405799189, 1.3398974294041806, -0.1005688226330727, -0.5387746262762422, -0.767849248663247, -0.35100755254836946, 0.1480598141594704, 0.08595586430500328, 1.162131405970528, 0.8816251921637606, -0.21427435409242715, 1.4900398420710712, -1.604228677811847, 0.23534333231846755], \"xaxis\": \"x\", \"yaxis\": \"y\"}, {\"line\": {\"color\": \"rgba(128, 128, 128, 1.0)\", \"dash\": \"solid\", \"shape\": \"linear\", \"width\": 1.3}, \"marker\": {\"size\": 2, \"symbol\": \"circle\"}, \"mode\": \"markers\", \"name\": \"A\", \"text\": \"\", \"type\": \"scatter\", \"x\": [-1.5778429245488879, 1.2680079504191542, 0.09649405165059019, 0.5451506050878556, 1.4665309109334816, -0.8187660691999971, 0.8892275568624582, 0.057993196168514054, 1.0704372338561854, -1.1215869807766896, 0.7898514189744038, 0.8930828925001068, 1.3220881795120045, -1.1746388644306027, -0.11366720583834672, -1.08572748143992, -0.36542532409071204, -0.5451472733548265, 0.05957969416825055, 1.0481834417594982, 0.6582590607680974, 1.9050369818668038, -0.8611884051729745, -0.03364255394446158, -0.2688534606823713, -1.2502969844263059, -0.09367845283559229, -0.2920765672512015, -0.3139676248854494, -0.9811182522643814, -0.06443198507731814, -1.2044898392645802, -0.008192778716532423, -1.5846889685617627, 0.12750792187288915, -0.3593159388234478, -1.4988967562973863, 1.2732099224625397, -0.8615848179565383, -0.40897428577114503, 0.8490222350087218, -1.0791246887998986, -0.15060725895997487, -1.5720599233177468, -0.9104303182134822, 0.3038761199317576, 1.5772543560605514, 0.10958890357099571, -1.433809763409956, 0.9001499602414199, -1.1065469139557813, -1.6591841116033383, 0.4856131846513768, -1.3187515045471454, -0.9998085361886271, 0.8895689618477627, -0.6490212653755961, -0.6028794296101871, -1.6215250503615426, 0.35749953179801786, 1.3525172890956467, 2.1440982079969793, -0.7535990604943527, -1.8530373144179704, 0.3853396942630609, 1.0725112999364486, -0.5080799161223373, 0.728183494278347, 0.29348208736934966, 0.6166598740688046, -1.4176082506592214, -1.2283428172986675, 0.029400981232705268, 0.49717683675476193, 1.2806469532543063, -2.170877611449295, 0.5305137203022765, 0.07573784865183336, 1.962331926274082, 0.6497384161827761, 0.445444965199007, -1.0219776640954312, -1.3586633696231962, 2.548903463301732, -0.2657491617480886, 0.06264434682764904, -1.485197772311538, -1.9928894210733983, 1.1406483682872646, -1.7880279463109883, 0.21610130984226705, 0.6600706306964581, 0.5159702029260697, -1.0874933049782323, -1.0924492328288362, -0.44981702999116246, -0.2910427923330211, 1.109369336375027, -0.27248037646009077, -0.14682084414377564], \"xaxis\": \"x2\", \"y\": [-1.3559130559175228, 0.5303321035654701, 0.29440697268481386, -2.366994851248194, -0.39061600426275805, -1.2161987223331556, 0.19859743516019948, -0.04196512186229954, 0.7816691002462268, -0.5625933565781353, 0.19285116004885725, -0.06178195375831094, 0.7097995605455756, -0.06438499550921149, -2.5974737858675803, -0.32300690338794696, 1.0306388859623885, -1.941335868515121, -1.4355365861662128, -0.6573992997091732, 0.11646656991438858, 0.46591396507238075, 0.05272497171678483, 0.4581524192640287, 1.1095119169038339, -0.16693785245883877, -2.4185233240227983, -0.6450810153514451, 1.1329069163196375, 0.6970329956343094, -0.22820026177348646, -1.4808780287987526, 0.024367923584303973, 0.4286231014194029, 0.08045542686191721, -1.4015248719784796, -0.7127602575963483, -0.8326614239099435, 0.9937010497254936, -0.5989317759807878, -1.4296493006161402, 0.7713104030030286, -0.06980710659690535, 1.1287545943777195, 0.24847286609051505, -0.25614946259117294, -0.4244114222395493, 0.5856088506470457, 1.279303773190982, -0.44555925844105376, 0.3490682053943956, 1.0813767860789734, 0.8133648881571423, -0.6562175042066347, -0.4121443535409477, 1.0969280780102093, 0.15770461247131407, 0.042630429623211966, 2.3683858678174623, 1.1321042486469257, -0.12294684247572248, 1.7655511106226867, -0.1591269815157064, 0.11075147314174175, -1.0859538098553496, -2.191959033772851, -1.3356073556326191, -0.7607734053921369, -0.8295932567941922, -0.010402164383887734, 0.009074950144895585, -1.3753860596456584, 1.1186045911807563, -1.3180085977495606, -1.4364656665274682, -1.1545082613318447, -0.3488279565559763, 0.22136370072874864, 0.11027416415716094, -0.3289421211077479, 1.4982170548436569, 0.5240075572039334, 0.14601567207029967, 1.1131443714346898, -0.945595270331263, 0.29686021046057764, -0.06873382405799189, 1.3398974294041806, -0.1005688226330727, -0.5387746262762422, -0.767849248663247, -0.35100755254836946, 0.1480598141594704, 0.08595586430500328, 1.162131405970528, 0.8816251921637606, -0.21427435409242715, 1.4900398420710712, -1.604228677811847, 0.23534333231846755], \"yaxis\": \"y2\"}, {\"line\": {\"color\": \"rgba(128, 128, 128, 1.0)\", \"dash\": \"solid\", \"shape\": \"linear\", \"width\": 1.3}, \"marker\": {\"size\": 2, \"symbol\": \"circle\"}, \"mode\": \"markers\", \"name\": \"A\", \"text\": \"\", \"type\": \"scatter\", \"x\": [-0.8849667774683708, 2.2259377239221325, -1.5233101709060102, 0.2953181398270395, 0.8264344026153204, 0.5913510655187838, 0.6828648431042454, 1.7086815960636492, 0.25818184912645487, -0.7170024291397524, 0.08916805499006593, 1.3153127154131583, 0.4250462899632546, 0.8023505507410498, 1.1148473647823962, -0.18956102529793664, -2.079756872118981, -0.7113601357767555, 0.7094442838065212, 0.07251137575017333, 0.2953148063878515, -1.0121772100861905, -0.6359246998913491, -0.3528819646496265, 0.5408683474982837, 0.38979566342810656, 0.4866337764911907, 0.4011578541573498, 0.6199420783053193, 0.465317548944445, -0.2318148390140708, 0.33581715315193994, -0.47503807105468887, -0.5466109427096344, 0.6186689184945717, -0.19789822919792144, 0.43690862035919475, -0.15712976265590814, -0.03370892710985846, 0.5636837886188208, 1.6580695740115794, -1.0407957699682373, -1.1676010434888637, -1.2157954987786896, 0.8927282864811816, 0.006944035248060638, 0.09941082090580226, 1.7407631555606686, 0.8410707477264111, 0.36434960007679335, 1.7359708516884256, 0.3965880382695271, 1.2907778837912955, -0.8739617195647129, -0.00728002667451206, -0.6998826075737327, -0.25956262071948605, 0.6542748975111746, -0.07018324863868057, 0.11869849803291103, 1.3119010861688023, -0.2972657981226998, -1.327267397411813, 0.6165124105986223, -1.2073661854687094, -0.6857610677682836, -0.8749481991203933, -1.0875589673394612, -0.3771542192507942, -0.6995546738432826, -1.1440545701594893, -0.6170536297117368, -0.4841222349603552, 1.1136235479025833, 0.6188184078340688, 0.3235695906997173, -0.5558048323254344, -0.6554798206190868, 0.5991224352438265, -0.3073695377011026, -1.1443987905506152, -1.3918616476517387, -0.0970628008041887, -1.8637925174812902, 0.3360992701512891, 1.3136038000994479, -0.9528464728863185, 1.0035464465815014, -0.28833439613220974, -0.5801714493637724, -0.8297499028994472, 2.0718903192594933, 0.6207850633540429, 0.05015029066703375, -0.13065485529488527, 0.8073422350123594, 0.5539168555719847, -2.5645193565271756, -1.0899895346786574, 0.10478822602140812], \"xaxis\": \"x3\", \"y\": [-1.3559130559175228, 0.5303321035654701, 0.29440697268481386, -2.366994851248194, -0.39061600426275805, -1.2161987223331556, 0.19859743516019948, -0.04196512186229954, 0.7816691002462268, -0.5625933565781353, 0.19285116004885725, -0.06178195375831094, 0.7097995605455756, -0.06438499550921149, -2.5974737858675803, -0.32300690338794696, 1.0306388859623885, -1.941335868515121, -1.4355365861662128, -0.6573992997091732, 0.11646656991438858, 0.46591396507238075, 0.05272497171678483, 0.4581524192640287, 1.1095119169038339, -0.16693785245883877, -2.4185233240227983, -0.6450810153514451, 1.1329069163196375, 0.6970329956343094, -0.22820026177348646, -1.4808780287987526, 0.024367923584303973, 0.4286231014194029, 0.08045542686191721, -1.4015248719784796, -0.7127602575963483, -0.8326614239099435, 0.9937010497254936, -0.5989317759807878, -1.4296493006161402, 0.7713104030030286, -0.06980710659690535, 1.1287545943777195, 0.24847286609051505, -0.25614946259117294, -0.4244114222395493, 0.5856088506470457, 1.279303773190982, -0.44555925844105376, 0.3490682053943956, 1.0813767860789734, 0.8133648881571423, -0.6562175042066347, -0.4121443535409477, 1.0969280780102093, 0.15770461247131407, 0.042630429623211966, 2.3683858678174623, 1.1321042486469257, -0.12294684247572248, 1.7655511106226867, -0.1591269815157064, 0.11075147314174175, -1.0859538098553496, -2.191959033772851, -1.3356073556326191, -0.7607734053921369, -0.8295932567941922, -0.010402164383887734, 0.009074950144895585, -1.3753860596456584, 1.1186045911807563, -1.3180085977495606, -1.4364656665274682, -1.1545082613318447, -0.3488279565559763, 0.22136370072874864, 0.11027416415716094, -0.3289421211077479, 1.4982170548436569, 0.5240075572039334, 0.14601567207029967, 1.1131443714346898, -0.945595270331263, 0.29686021046057764, -0.06873382405799189, 1.3398974294041806, -0.1005688226330727, -0.5387746262762422, -0.767849248663247, -0.35100755254836946, 0.1480598141594704, 0.08595586430500328, 1.162131405970528, 0.8816251921637606, -0.21427435409242715, 1.4900398420710712, -1.604228677811847, 0.23534333231846755], \"yaxis\": \"y3\"}, {\"line\": {\"color\": \"rgba(128, 128, 128, 1.0)\", \"dash\": \"solid\", \"shape\": \"linear\", \"width\": 1.3}, \"marker\": {\"size\": 2, \"symbol\": \"circle\"}, \"mode\": \"markers\", \"name\": \"A\", \"text\": \"\", \"type\": \"scatter\", \"x\": [0.10769577614462261, 0.9381513388151985, 0.6009753050690573, 1.9752354750747527, -0.5181426237082836, 0.22761479934571258, -0.5265786942320025, 0.5095492153774754, -1.046554330848723, 0.7315065825237579, 0.6789620480026869, -1.413347659196342, -0.016108383281562496, -0.9410589517518645, 0.04857771095448899, -0.11022153894423668, 0.14107671168947727, -0.5554674951524631, -1.3159441484687864, -1.7483545865947807, -0.3121965712883904, 0.6920018959734503, -0.9107050403290968, 0.2784644851682874, -1.9397962578930277, -0.45513040249786124, -0.10848084960196892, -0.7589575367551256, -1.0780093826892658, -0.9514571611390187, 1.5961370769094052, 1.8239176658288547, -0.6536799414681844, -1.2597150988422412, -0.46059293448935956, 0.31269284186968976, 0.07907465712089817, 0.14802301693644215, -0.3167136617293768, -1.007512795204162, 0.8067433348015413, -0.8483543082873977, 1.263380709513765, 0.46652702277022684, 0.751282663832055, 0.06369242477298177, -1.0909522881225577, -0.3739960103824854, 0.6779473539857858, 0.3734266014815676, 0.9967330796823717, -0.5119182197177479, -0.5864669718638383, 0.6879994083973473, -2.744759141587978, 0.1441662752957278, 0.026430336315075065, 0.9292363498181935, 0.22263571468181814, 2.199745582404042, -0.641710069299092, 1.539124005803026, 0.20902429509022064, 0.07899581188293245, -0.33360984821282474, -0.36160802793794816, -0.696201035195265, 0.12563154438571958, 1.4465572063107346, 1.5080309088258388, -1.1673168114773593, -0.20357637312531762, -1.4220357329064184, 0.41158488273955846, -1.0001318285121235, 0.7274191463023469, 0.2160667268178794, 0.584137035310321, -0.5655353173916954, 0.34607752995659996, -1.0496416652327765, 0.181924508554677, 1.4160621396152433, 1.447212701811392, -0.44404804234735024, 0.12387709870026571, 2.771090955198578, -0.5368436175829514, -1.0542914901698903, -0.7843346446183815, -0.6142528681773224, -0.0008528951337365195, -0.4769691436154201, 0.19402549901576488, -0.46842199926958966, -0.08477552905099907, -0.9792984493681949, 1.4995880284038323, -0.7542111726116282, 0.5153352947324564], \"xaxis\": \"x4\", \"y\": [-1.3559130559175228, 0.5303321035654701, 0.29440697268481386, -2.366994851248194, -0.39061600426275805, -1.2161987223331556, 0.19859743516019948, -0.04196512186229954, 0.7816691002462268, -0.5625933565781353, 0.19285116004885725, -0.06178195375831094, 0.7097995605455756, -0.06438499550921149, -2.5974737858675803, -0.32300690338794696, 1.0306388859623885, -1.941335868515121, -1.4355365861662128, -0.6573992997091732, 0.11646656991438858, 0.46591396507238075, 0.05272497171678483, 0.4581524192640287, 1.1095119169038339, -0.16693785245883877, -2.4185233240227983, -0.6450810153514451, 1.1329069163196375, 0.6970329956343094, -0.22820026177348646, -1.4808780287987526, 0.024367923584303973, 0.4286231014194029, 0.08045542686191721, -1.4015248719784796, -0.7127602575963483, -0.8326614239099435, 0.9937010497254936, -0.5989317759807878, -1.4296493006161402, 0.7713104030030286, -0.06980710659690535, 1.1287545943777195, 0.24847286609051505, -0.25614946259117294, -0.4244114222395493, 0.5856088506470457, 1.279303773190982, -0.44555925844105376, 0.3490682053943956, 1.0813767860789734, 0.8133648881571423, -0.6562175042066347, -0.4121443535409477, 1.0969280780102093, 0.15770461247131407, 0.042630429623211966, 2.3683858678174623, 1.1321042486469257, -0.12294684247572248, 1.7655511106226867, -0.1591269815157064, 0.11075147314174175, -1.0859538098553496, -2.191959033772851, -1.3356073556326191, -0.7607734053921369, -0.8295932567941922, -0.010402164383887734, 0.009074950144895585, -1.3753860596456584, 1.1186045911807563, -1.3180085977495606, -1.4364656665274682, -1.1545082613318447, -0.3488279565559763, 0.22136370072874864, 0.11027416415716094, -0.3289421211077479, 1.4982170548436569, 0.5240075572039334, 0.14601567207029967, 1.1131443714346898, -0.945595270331263, 0.29686021046057764, -0.06873382405799189, 1.3398974294041806, -0.1005688226330727, -0.5387746262762422, -0.767849248663247, -0.35100755254836946, 0.1480598141594704, 0.08595586430500328, 1.162131405970528, 0.8816251921637606, -0.21427435409242715, 1.4900398420710712, -1.604228677811847, 0.23534333231846755], \"yaxis\": \"y4\"}, {\"line\": {\"color\": \"rgba(128, 128, 128, 1.0)\", \"dash\": \"solid\", \"shape\": \"linear\", \"width\": 1.3}, \"marker\": {\"size\": 2, \"symbol\": \"circle\"}, \"mode\": \"markers\", \"name\": \"B\", \"text\": \"\", \"type\": \"scatter\", \"x\": [-1.3559130559175228, 0.5303321035654701, 0.29440697268481386, -2.366994851248194, -0.39061600426275805, -1.2161987223331556, 0.19859743516019948, -0.04196512186229954, 0.7816691002462268, -0.5625933565781353, 0.19285116004885725, -0.06178195375831094, 0.7097995605455756, -0.06438499550921149, -2.5974737858675803, -0.32300690338794696, 1.0306388859623885, -1.941335868515121, -1.4355365861662128, -0.6573992997091732, 0.11646656991438858, 0.46591396507238075, 0.05272497171678483, 0.4581524192640287, 1.1095119169038339, -0.16693785245883877, -2.4185233240227983, -0.6450810153514451, 1.1329069163196375, 0.6970329956343094, -0.22820026177348646, -1.4808780287987526, 0.024367923584303973, 0.4286231014194029, 0.08045542686191721, -1.4015248719784796, -0.7127602575963483, -0.8326614239099435, 0.9937010497254936, -0.5989317759807878, -1.4296493006161402, 0.7713104030030286, -0.06980710659690535, 1.1287545943777195, 0.24847286609051505, -0.25614946259117294, -0.4244114222395493, 0.5856088506470457, 1.279303773190982, -0.44555925844105376, 0.3490682053943956, 1.0813767860789734, 0.8133648881571423, -0.6562175042066347, -0.4121443535409477, 1.0969280780102093, 0.15770461247131407, 0.042630429623211966, 2.3683858678174623, 1.1321042486469257, -0.12294684247572248, 1.7655511106226867, -0.1591269815157064, 0.11075147314174175, -1.0859538098553496, -2.191959033772851, -1.3356073556326191, -0.7607734053921369, -0.8295932567941922, -0.010402164383887734, 0.009074950144895585, -1.3753860596456584, 1.1186045911807563, -1.3180085977495606, -1.4364656665274682, -1.1545082613318447, -0.3488279565559763, 0.22136370072874864, 0.11027416415716094, -0.3289421211077479, 1.4982170548436569, 0.5240075572039334, 0.14601567207029967, 1.1131443714346898, -0.945595270331263, 0.29686021046057764, -0.06873382405799189, 1.3398974294041806, -0.1005688226330727, -0.5387746262762422, -0.767849248663247, -0.35100755254836946, 0.1480598141594704, 0.08595586430500328, 1.162131405970528, 0.8816251921637606, -0.21427435409242715, 1.4900398420710712, -1.604228677811847, 0.23534333231846755], \"xaxis\": \"x5\", \"y\": [-1.5778429245488879, 1.2680079504191542, 0.09649405165059019, 0.5451506050878556, 1.4665309109334816, -0.8187660691999971, 0.8892275568624582, 0.057993196168514054, 1.0704372338561854, -1.1215869807766896, 0.7898514189744038, 0.8930828925001068, 1.3220881795120045, -1.1746388644306027, -0.11366720583834672, -1.08572748143992, -0.36542532409071204, -0.5451472733548265, 0.05957969416825055, 1.0481834417594982, 0.6582590607680974, 1.9050369818668038, -0.8611884051729745, -0.03364255394446158, -0.2688534606823713, -1.2502969844263059, -0.09367845283559229, -0.2920765672512015, -0.3139676248854494, -0.9811182522643814, -0.06443198507731814, -1.2044898392645802, -0.008192778716532423, -1.5846889685617627, 0.12750792187288915, -0.3593159388234478, -1.4988967562973863, 1.2732099224625397, -0.8615848179565383, -0.40897428577114503, 0.8490222350087218, -1.0791246887998986, -0.15060725895997487, -1.5720599233177468, -0.9104303182134822, 0.3038761199317576, 1.5772543560605514, 0.10958890357099571, -1.433809763409956, 0.9001499602414199, -1.1065469139557813, -1.6591841116033383, 0.4856131846513768, -1.3187515045471454, -0.9998085361886271, 0.8895689618477627, -0.6490212653755961, -0.6028794296101871, -1.6215250503615426, 0.35749953179801786, 1.3525172890956467, 2.1440982079969793, -0.7535990604943527, -1.8530373144179704, 0.3853396942630609, 1.0725112999364486, -0.5080799161223373, 0.728183494278347, 0.29348208736934966, 0.6166598740688046, -1.4176082506592214, -1.2283428172986675, 0.029400981232705268, 0.49717683675476193, 1.2806469532543063, -2.170877611449295, 0.5305137203022765, 0.07573784865183336, 1.962331926274082, 0.6497384161827761, 0.445444965199007, -1.0219776640954312, -1.3586633696231962, 2.548903463301732, -0.2657491617480886, 0.06264434682764904, -1.485197772311538, -1.9928894210733983, 1.1406483682872646, -1.7880279463109883, 0.21610130984226705, 0.6600706306964581, 0.5159702029260697, -1.0874933049782323, -1.0924492328288362, -0.44981702999116246, -0.2910427923330211, 1.109369336375027, -0.27248037646009077, -0.14682084414377564], \"yaxis\": \"y5\"}, {\"histfunc\": \"count\", \"histnorm\": \"\", \"marker\": {\"color\": \"rgba(55, 128, 191, 1.0)\", \"line\": {\"color\": \"#4D5663\", \"width\": 1.3}}, \"name\": \"B\", \"nbinsx\": 10, \"opacity\": 0.8, \"orientation\": \"v\", \"type\": \"histogram\", \"x\": [-1.5778429245488879, 1.2680079504191542, 0.09649405165059019, 0.5451506050878556, 1.4665309109334816, -0.8187660691999971, 0.8892275568624582, 0.057993196168514054, 1.0704372338561854, -1.1215869807766896, 0.7898514189744038, 0.8930828925001068, 1.3220881795120045, -1.1746388644306027, -0.11366720583834672, -1.08572748143992, -0.36542532409071204, -0.5451472733548265, 0.05957969416825055, 1.0481834417594982, 0.6582590607680974, 1.9050369818668038, -0.8611884051729745, -0.03364255394446158, -0.2688534606823713, -1.2502969844263059, -0.09367845283559229, -0.2920765672512015, -0.3139676248854494, -0.9811182522643814, -0.06443198507731814, -1.2044898392645802, -0.008192778716532423, -1.5846889685617627, 0.12750792187288915, -0.3593159388234478, -1.4988967562973863, 1.2732099224625397, -0.8615848179565383, -0.40897428577114503, 0.8490222350087218, -1.0791246887998986, -0.15060725895997487, -1.5720599233177468, -0.9104303182134822, 0.3038761199317576, 1.5772543560605514, 0.10958890357099571, -1.433809763409956, 0.9001499602414199, -1.1065469139557813, -1.6591841116033383, 0.4856131846513768, -1.3187515045471454, -0.9998085361886271, 0.8895689618477627, -0.6490212653755961, -0.6028794296101871, -1.6215250503615426, 0.35749953179801786, 1.3525172890956467, 2.1440982079969793, -0.7535990604943527, -1.8530373144179704, 0.3853396942630609, 1.0725112999364486, -0.5080799161223373, 0.728183494278347, 0.29348208736934966, 0.6166598740688046, -1.4176082506592214, -1.2283428172986675, 0.029400981232705268, 0.49717683675476193, 1.2806469532543063, -2.170877611449295, 0.5305137203022765, 0.07573784865183336, 1.962331926274082, 0.6497384161827761, 0.445444965199007, -1.0219776640954312, -1.3586633696231962, 2.548903463301732, -0.2657491617480886, 0.06264434682764904, -1.485197772311538, -1.9928894210733983, 1.1406483682872646, -1.7880279463109883, 0.21610130984226705, 0.6600706306964581, 0.5159702029260697, -1.0874933049782323, -1.0924492328288362, -0.44981702999116246, -0.2910427923330211, 1.109369336375027, -0.27248037646009077, -0.14682084414377564], \"xaxis\": \"x6\", \"yaxis\": \"y6\"}, {\"line\": {\"color\": \"rgba(128, 128, 128, 1.0)\", \"dash\": \"solid\", \"shape\": \"linear\", \"width\": 1.3}, \"marker\": {\"size\": 2, \"symbol\": \"circle\"}, \"mode\": \"markers\", \"name\": \"B\", \"text\": \"\", \"type\": \"scatter\", \"x\": [-0.8849667774683708, 2.2259377239221325, -1.5233101709060102, 0.2953181398270395, 0.8264344026153204, 0.5913510655187838, 0.6828648431042454, 1.7086815960636492, 0.25818184912645487, -0.7170024291397524, 0.08916805499006593, 1.3153127154131583, 0.4250462899632546, 0.8023505507410498, 1.1148473647823962, -0.18956102529793664, -2.079756872118981, -0.7113601357767555, 0.7094442838065212, 0.07251137575017333, 0.2953148063878515, -1.0121772100861905, -0.6359246998913491, -0.3528819646496265, 0.5408683474982837, 0.38979566342810656, 0.4866337764911907, 0.4011578541573498, 0.6199420783053193, 0.465317548944445, -0.2318148390140708, 0.33581715315193994, -0.47503807105468887, -0.5466109427096344, 0.6186689184945717, -0.19789822919792144, 0.43690862035919475, -0.15712976265590814, -0.03370892710985846, 0.5636837886188208, 1.6580695740115794, -1.0407957699682373, -1.1676010434888637, -1.2157954987786896, 0.8927282864811816, 0.006944035248060638, 0.09941082090580226, 1.7407631555606686, 0.8410707477264111, 0.36434960007679335, 1.7359708516884256, 0.3965880382695271, 1.2907778837912955, -0.8739617195647129, -0.00728002667451206, -0.6998826075737327, -0.25956262071948605, 0.6542748975111746, -0.07018324863868057, 0.11869849803291103, 1.3119010861688023, -0.2972657981226998, -1.327267397411813, 0.6165124105986223, -1.2073661854687094, -0.6857610677682836, -0.8749481991203933, -1.0875589673394612, -0.3771542192507942, -0.6995546738432826, -1.1440545701594893, -0.6170536297117368, -0.4841222349603552, 1.1136235479025833, 0.6188184078340688, 0.3235695906997173, -0.5558048323254344, -0.6554798206190868, 0.5991224352438265, -0.3073695377011026, -1.1443987905506152, -1.3918616476517387, -0.0970628008041887, -1.8637925174812902, 0.3360992701512891, 1.3136038000994479, -0.9528464728863185, 1.0035464465815014, -0.28833439613220974, -0.5801714493637724, -0.8297499028994472, 2.0718903192594933, 0.6207850633540429, 0.05015029066703375, -0.13065485529488527, 0.8073422350123594, 0.5539168555719847, -2.5645193565271756, -1.0899895346786574, 0.10478822602140812], \"xaxis\": \"x7\", \"y\": [-1.5778429245488879, 1.2680079504191542, 0.09649405165059019, 0.5451506050878556, 1.4665309109334816, -0.8187660691999971, 0.8892275568624582, 0.057993196168514054, 1.0704372338561854, -1.1215869807766896, 0.7898514189744038, 0.8930828925001068, 1.3220881795120045, -1.1746388644306027, -0.11366720583834672, -1.08572748143992, -0.36542532409071204, -0.5451472733548265, 0.05957969416825055, 1.0481834417594982, 0.6582590607680974, 1.9050369818668038, -0.8611884051729745, -0.03364255394446158, -0.2688534606823713, -1.2502969844263059, -0.09367845283559229, -0.2920765672512015, -0.3139676248854494, -0.9811182522643814, -0.06443198507731814, -1.2044898392645802, -0.008192778716532423, -1.5846889685617627, 0.12750792187288915, -0.3593159388234478, -1.4988967562973863, 1.2732099224625397, -0.8615848179565383, -0.40897428577114503, 0.8490222350087218, -1.0791246887998986, -0.15060725895997487, -1.5720599233177468, -0.9104303182134822, 0.3038761199317576, 1.5772543560605514, 0.10958890357099571, -1.433809763409956, 0.9001499602414199, -1.1065469139557813, -1.6591841116033383, 0.4856131846513768, -1.3187515045471454, -0.9998085361886271, 0.8895689618477627, -0.6490212653755961, -0.6028794296101871, -1.6215250503615426, 0.35749953179801786, 1.3525172890956467, 2.1440982079969793, -0.7535990604943527, -1.8530373144179704, 0.3853396942630609, 1.0725112999364486, -0.5080799161223373, 0.728183494278347, 0.29348208736934966, 0.6166598740688046, -1.4176082506592214, -1.2283428172986675, 0.029400981232705268, 0.49717683675476193, 1.2806469532543063, -2.170877611449295, 0.5305137203022765, 0.07573784865183336, 1.962331926274082, 0.6497384161827761, 0.445444965199007, -1.0219776640954312, -1.3586633696231962, 2.548903463301732, -0.2657491617480886, 0.06264434682764904, -1.485197772311538, -1.9928894210733983, 1.1406483682872646, -1.7880279463109883, 0.21610130984226705, 0.6600706306964581, 0.5159702029260697, -1.0874933049782323, -1.0924492328288362, -0.44981702999116246, -0.2910427923330211, 1.109369336375027, -0.27248037646009077, -0.14682084414377564], \"yaxis\": \"y7\"}, {\"line\": {\"color\": \"rgba(128, 128, 128, 1.0)\", \"dash\": \"solid\", \"shape\": \"linear\", \"width\": 1.3}, \"marker\": {\"size\": 2, \"symbol\": \"circle\"}, \"mode\": \"markers\", \"name\": \"B\", \"text\": \"\", \"type\": \"scatter\", \"x\": [0.10769577614462261, 0.9381513388151985, 0.6009753050690573, 1.9752354750747527, -0.5181426237082836, 0.22761479934571258, -0.5265786942320025, 0.5095492153774754, -1.046554330848723, 0.7315065825237579, 0.6789620480026869, -1.413347659196342, -0.016108383281562496, -0.9410589517518645, 0.04857771095448899, -0.11022153894423668, 0.14107671168947727, -0.5554674951524631, -1.3159441484687864, -1.7483545865947807, -0.3121965712883904, 0.6920018959734503, -0.9107050403290968, 0.2784644851682874, -1.9397962578930277, -0.45513040249786124, -0.10848084960196892, -0.7589575367551256, -1.0780093826892658, -0.9514571611390187, 1.5961370769094052, 1.8239176658288547, -0.6536799414681844, -1.2597150988422412, -0.46059293448935956, 0.31269284186968976, 0.07907465712089817, 0.14802301693644215, -0.3167136617293768, -1.007512795204162, 0.8067433348015413, -0.8483543082873977, 1.263380709513765, 0.46652702277022684, 0.751282663832055, 0.06369242477298177, -1.0909522881225577, -0.3739960103824854, 0.6779473539857858, 0.3734266014815676, 0.9967330796823717, -0.5119182197177479, -0.5864669718638383, 0.6879994083973473, -2.744759141587978, 0.1441662752957278, 0.026430336315075065, 0.9292363498181935, 0.22263571468181814, 2.199745582404042, -0.641710069299092, 1.539124005803026, 0.20902429509022064, 0.07899581188293245, -0.33360984821282474, -0.36160802793794816, -0.696201035195265, 0.12563154438571958, 1.4465572063107346, 1.5080309088258388, -1.1673168114773593, -0.20357637312531762, -1.4220357329064184, 0.41158488273955846, -1.0001318285121235, 0.7274191463023469, 0.2160667268178794, 0.584137035310321, -0.5655353173916954, 0.34607752995659996, -1.0496416652327765, 0.181924508554677, 1.4160621396152433, 1.447212701811392, -0.44404804234735024, 0.12387709870026571, 2.771090955198578, -0.5368436175829514, -1.0542914901698903, -0.7843346446183815, -0.6142528681773224, -0.0008528951337365195, -0.4769691436154201, 0.19402549901576488, -0.46842199926958966, -0.08477552905099907, -0.9792984493681949, 1.4995880284038323, -0.7542111726116282, 0.5153352947324564], \"xaxis\": \"x8\", \"y\": [-1.5778429245488879, 1.2680079504191542, 0.09649405165059019, 0.5451506050878556, 1.4665309109334816, -0.8187660691999971, 0.8892275568624582, 0.057993196168514054, 1.0704372338561854, -1.1215869807766896, 0.7898514189744038, 0.8930828925001068, 1.3220881795120045, -1.1746388644306027, -0.11366720583834672, -1.08572748143992, -0.36542532409071204, -0.5451472733548265, 0.05957969416825055, 1.0481834417594982, 0.6582590607680974, 1.9050369818668038, -0.8611884051729745, -0.03364255394446158, -0.2688534606823713, -1.2502969844263059, -0.09367845283559229, -0.2920765672512015, -0.3139676248854494, -0.9811182522643814, -0.06443198507731814, -1.2044898392645802, -0.008192778716532423, -1.5846889685617627, 0.12750792187288915, -0.3593159388234478, -1.4988967562973863, 1.2732099224625397, -0.8615848179565383, -0.40897428577114503, 0.8490222350087218, -1.0791246887998986, -0.15060725895997487, -1.5720599233177468, -0.9104303182134822, 0.3038761199317576, 1.5772543560605514, 0.10958890357099571, -1.433809763409956, 0.9001499602414199, -1.1065469139557813, -1.6591841116033383, 0.4856131846513768, -1.3187515045471454, -0.9998085361886271, 0.8895689618477627, -0.6490212653755961, -0.6028794296101871, -1.6215250503615426, 0.35749953179801786, 1.3525172890956467, 2.1440982079969793, -0.7535990604943527, -1.8530373144179704, 0.3853396942630609, 1.0725112999364486, -0.5080799161223373, 0.728183494278347, 0.29348208736934966, 0.6166598740688046, -1.4176082506592214, -1.2283428172986675, 0.029400981232705268, 0.49717683675476193, 1.2806469532543063, -2.170877611449295, 0.5305137203022765, 0.07573784865183336, 1.962331926274082, 0.6497384161827761, 0.445444965199007, -1.0219776640954312, -1.3586633696231962, 2.548903463301732, -0.2657491617480886, 0.06264434682764904, -1.485197772311538, -1.9928894210733983, 1.1406483682872646, -1.7880279463109883, 0.21610130984226705, 0.6600706306964581, 0.5159702029260697, -1.0874933049782323, -1.0924492328288362, -0.44981702999116246, -0.2910427923330211, 1.109369336375027, -0.27248037646009077, -0.14682084414377564], \"yaxis\": \"y8\"}, {\"line\": {\"color\": \"rgba(128, 128, 128, 1.0)\", \"dash\": \"solid\", \"shape\": \"linear\", \"width\": 1.3}, \"marker\": {\"size\": 2, \"symbol\": \"circle\"}, \"mode\": \"markers\", \"name\": \"C\", \"text\": \"\", \"type\": \"scatter\", \"x\": [-1.3559130559175228, 0.5303321035654701, 0.29440697268481386, -2.366994851248194, -0.39061600426275805, -1.2161987223331556, 0.19859743516019948, -0.04196512186229954, 0.7816691002462268, -0.5625933565781353, 0.19285116004885725, -0.06178195375831094, 0.7097995605455756, -0.06438499550921149, -2.5974737858675803, -0.32300690338794696, 1.0306388859623885, -1.941335868515121, -1.4355365861662128, -0.6573992997091732, 0.11646656991438858, 0.46591396507238075, 0.05272497171678483, 0.4581524192640287, 1.1095119169038339, -0.16693785245883877, -2.4185233240227983, -0.6450810153514451, 1.1329069163196375, 0.6970329956343094, -0.22820026177348646, -1.4808780287987526, 0.024367923584303973, 0.4286231014194029, 0.08045542686191721, -1.4015248719784796, -0.7127602575963483, -0.8326614239099435, 0.9937010497254936, -0.5989317759807878, -1.4296493006161402, 0.7713104030030286, -0.06980710659690535, 1.1287545943777195, 0.24847286609051505, -0.25614946259117294, -0.4244114222395493, 0.5856088506470457, 1.279303773190982, -0.44555925844105376, 0.3490682053943956, 1.0813767860789734, 0.8133648881571423, -0.6562175042066347, -0.4121443535409477, 1.0969280780102093, 0.15770461247131407, 0.042630429623211966, 2.3683858678174623, 1.1321042486469257, -0.12294684247572248, 1.7655511106226867, -0.1591269815157064, 0.11075147314174175, -1.0859538098553496, -2.191959033772851, -1.3356073556326191, -0.7607734053921369, -0.8295932567941922, -0.010402164383887734, 0.009074950144895585, -1.3753860596456584, 1.1186045911807563, -1.3180085977495606, -1.4364656665274682, -1.1545082613318447, -0.3488279565559763, 0.22136370072874864, 0.11027416415716094, -0.3289421211077479, 1.4982170548436569, 0.5240075572039334, 0.14601567207029967, 1.1131443714346898, -0.945595270331263, 0.29686021046057764, -0.06873382405799189, 1.3398974294041806, -0.1005688226330727, -0.5387746262762422, -0.767849248663247, -0.35100755254836946, 0.1480598141594704, 0.08595586430500328, 1.162131405970528, 0.8816251921637606, -0.21427435409242715, 1.4900398420710712, -1.604228677811847, 0.23534333231846755], \"xaxis\": \"x9\", \"y\": [-0.8849667774683708, 2.2259377239221325, -1.5233101709060102, 0.2953181398270395, 0.8264344026153204, 0.5913510655187838, 0.6828648431042454, 1.7086815960636492, 0.25818184912645487, -0.7170024291397524, 0.08916805499006593, 1.3153127154131583, 0.4250462899632546, 0.8023505507410498, 1.1148473647823962, -0.18956102529793664, -2.079756872118981, -0.7113601357767555, 0.7094442838065212, 0.07251137575017333, 0.2953148063878515, -1.0121772100861905, -0.6359246998913491, -0.3528819646496265, 0.5408683474982837, 0.38979566342810656, 0.4866337764911907, 0.4011578541573498, 0.6199420783053193, 0.465317548944445, -0.2318148390140708, 0.33581715315193994, -0.47503807105468887, -0.5466109427096344, 0.6186689184945717, -0.19789822919792144, 0.43690862035919475, -0.15712976265590814, -0.03370892710985846, 0.5636837886188208, 1.6580695740115794, -1.0407957699682373, -1.1676010434888637, -1.2157954987786896, 0.8927282864811816, 0.006944035248060638, 0.09941082090580226, 1.7407631555606686, 0.8410707477264111, 0.36434960007679335, 1.7359708516884256, 0.3965880382695271, 1.2907778837912955, -0.8739617195647129, -0.00728002667451206, -0.6998826075737327, -0.25956262071948605, 0.6542748975111746, -0.07018324863868057, 0.11869849803291103, 1.3119010861688023, -0.2972657981226998, -1.327267397411813, 0.6165124105986223, -1.2073661854687094, -0.6857610677682836, -0.8749481991203933, -1.0875589673394612, -0.3771542192507942, -0.6995546738432826, -1.1440545701594893, -0.6170536297117368, -0.4841222349603552, 1.1136235479025833, 0.6188184078340688, 0.3235695906997173, -0.5558048323254344, -0.6554798206190868, 0.5991224352438265, -0.3073695377011026, -1.1443987905506152, -1.3918616476517387, -0.0970628008041887, -1.8637925174812902, 0.3360992701512891, 1.3136038000994479, -0.9528464728863185, 1.0035464465815014, -0.28833439613220974, -0.5801714493637724, -0.8297499028994472, 2.0718903192594933, 0.6207850633540429, 0.05015029066703375, -0.13065485529488527, 0.8073422350123594, 0.5539168555719847, -2.5645193565271756, -1.0899895346786574, 0.10478822602140812], \"yaxis\": \"y9\"}, {\"line\": {\"color\": \"rgba(128, 128, 128, 1.0)\", \"dash\": \"solid\", \"shape\": \"linear\", \"width\": 1.3}, \"marker\": {\"size\": 2, \"symbol\": \"circle\"}, \"mode\": \"markers\", \"name\": \"C\", \"text\": \"\", \"type\": \"scatter\", \"x\": [-1.5778429245488879, 1.2680079504191542, 0.09649405165059019, 0.5451506050878556, 1.4665309109334816, -0.8187660691999971, 0.8892275568624582, 0.057993196168514054, 1.0704372338561854, -1.1215869807766896, 0.7898514189744038, 0.8930828925001068, 1.3220881795120045, -1.1746388644306027, -0.11366720583834672, -1.08572748143992, -0.36542532409071204, -0.5451472733548265, 0.05957969416825055, 1.0481834417594982, 0.6582590607680974, 1.9050369818668038, -0.8611884051729745, -0.03364255394446158, -0.2688534606823713, -1.2502969844263059, -0.09367845283559229, -0.2920765672512015, -0.3139676248854494, -0.9811182522643814, -0.06443198507731814, -1.2044898392645802, -0.008192778716532423, -1.5846889685617627, 0.12750792187288915, -0.3593159388234478, -1.4988967562973863, 1.2732099224625397, -0.8615848179565383, -0.40897428577114503, 0.8490222350087218, -1.0791246887998986, -0.15060725895997487, -1.5720599233177468, -0.9104303182134822, 0.3038761199317576, 1.5772543560605514, 0.10958890357099571, -1.433809763409956, 0.9001499602414199, -1.1065469139557813, -1.6591841116033383, 0.4856131846513768, -1.3187515045471454, -0.9998085361886271, 0.8895689618477627, -0.6490212653755961, -0.6028794296101871, -1.6215250503615426, 0.35749953179801786, 1.3525172890956467, 2.1440982079969793, -0.7535990604943527, -1.8530373144179704, 0.3853396942630609, 1.0725112999364486, -0.5080799161223373, 0.728183494278347, 0.29348208736934966, 0.6166598740688046, -1.4176082506592214, -1.2283428172986675, 0.029400981232705268, 0.49717683675476193, 1.2806469532543063, -2.170877611449295, 0.5305137203022765, 0.07573784865183336, 1.962331926274082, 0.6497384161827761, 0.445444965199007, -1.0219776640954312, -1.3586633696231962, 2.548903463301732, -0.2657491617480886, 0.06264434682764904, -1.485197772311538, -1.9928894210733983, 1.1406483682872646, -1.7880279463109883, 0.21610130984226705, 0.6600706306964581, 0.5159702029260697, -1.0874933049782323, -1.0924492328288362, -0.44981702999116246, -0.2910427923330211, 1.109369336375027, -0.27248037646009077, -0.14682084414377564], \"xaxis\": \"x10\", \"y\": [-0.8849667774683708, 2.2259377239221325, -1.5233101709060102, 0.2953181398270395, 0.8264344026153204, 0.5913510655187838, 0.6828648431042454, 1.7086815960636492, 0.25818184912645487, -0.7170024291397524, 0.08916805499006593, 1.3153127154131583, 0.4250462899632546, 0.8023505507410498, 1.1148473647823962, -0.18956102529793664, -2.079756872118981, -0.7113601357767555, 0.7094442838065212, 0.07251137575017333, 0.2953148063878515, -1.0121772100861905, -0.6359246998913491, -0.3528819646496265, 0.5408683474982837, 0.38979566342810656, 0.4866337764911907, 0.4011578541573498, 0.6199420783053193, 0.465317548944445, -0.2318148390140708, 0.33581715315193994, -0.47503807105468887, -0.5466109427096344, 0.6186689184945717, -0.19789822919792144, 0.43690862035919475, -0.15712976265590814, -0.03370892710985846, 0.5636837886188208, 1.6580695740115794, -1.0407957699682373, -1.1676010434888637, -1.2157954987786896, 0.8927282864811816, 0.006944035248060638, 0.09941082090580226, 1.7407631555606686, 0.8410707477264111, 0.36434960007679335, 1.7359708516884256, 0.3965880382695271, 1.2907778837912955, -0.8739617195647129, -0.00728002667451206, -0.6998826075737327, -0.25956262071948605, 0.6542748975111746, -0.07018324863868057, 0.11869849803291103, 1.3119010861688023, -0.2972657981226998, -1.327267397411813, 0.6165124105986223, -1.2073661854687094, -0.6857610677682836, -0.8749481991203933, -1.0875589673394612, -0.3771542192507942, -0.6995546738432826, -1.1440545701594893, -0.6170536297117368, -0.4841222349603552, 1.1136235479025833, 0.6188184078340688, 0.3235695906997173, -0.5558048323254344, -0.6554798206190868, 0.5991224352438265, -0.3073695377011026, -1.1443987905506152, -1.3918616476517387, -0.0970628008041887, -1.8637925174812902, 0.3360992701512891, 1.3136038000994479, -0.9528464728863185, 1.0035464465815014, -0.28833439613220974, -0.5801714493637724, -0.8297499028994472, 2.0718903192594933, 0.6207850633540429, 0.05015029066703375, -0.13065485529488527, 0.8073422350123594, 0.5539168555719847, -2.5645193565271756, -1.0899895346786574, 0.10478822602140812], \"yaxis\": \"y10\"}, {\"histfunc\": \"count\", \"histnorm\": \"\", \"marker\": {\"color\": \"rgba(50, 171, 96, 1.0)\", \"line\": {\"color\": \"#4D5663\", \"width\": 1.3}}, \"name\": \"C\", \"nbinsx\": 10, \"opacity\": 0.8, \"orientation\": \"v\", \"type\": \"histogram\", \"x\": [-0.8849667774683708, 2.2259377239221325, -1.5233101709060102, 0.2953181398270395, 0.8264344026153204, 0.5913510655187838, 0.6828648431042454, 1.7086815960636492, 0.25818184912645487, -0.7170024291397524, 0.08916805499006593, 1.3153127154131583, 0.4250462899632546, 0.8023505507410498, 1.1148473647823962, -0.18956102529793664, -2.079756872118981, -0.7113601357767555, 0.7094442838065212, 0.07251137575017333, 0.2953148063878515, -1.0121772100861905, -0.6359246998913491, -0.3528819646496265, 0.5408683474982837, 0.38979566342810656, 0.4866337764911907, 0.4011578541573498, 0.6199420783053193, 0.465317548944445, -0.2318148390140708, 0.33581715315193994, -0.47503807105468887, -0.5466109427096344, 0.6186689184945717, -0.19789822919792144, 0.43690862035919475, -0.15712976265590814, -0.03370892710985846, 0.5636837886188208, 1.6580695740115794, -1.0407957699682373, -1.1676010434888637, -1.2157954987786896, 0.8927282864811816, 0.006944035248060638, 0.09941082090580226, 1.7407631555606686, 0.8410707477264111, 0.36434960007679335, 1.7359708516884256, 0.3965880382695271, 1.2907778837912955, -0.8739617195647129, -0.00728002667451206, -0.6998826075737327, -0.25956262071948605, 0.6542748975111746, -0.07018324863868057, 0.11869849803291103, 1.3119010861688023, -0.2972657981226998, -1.327267397411813, 0.6165124105986223, -1.2073661854687094, -0.6857610677682836, -0.8749481991203933, -1.0875589673394612, -0.3771542192507942, -0.6995546738432826, -1.1440545701594893, -0.6170536297117368, -0.4841222349603552, 1.1136235479025833, 0.6188184078340688, 0.3235695906997173, -0.5558048323254344, -0.6554798206190868, 0.5991224352438265, -0.3073695377011026, -1.1443987905506152, -1.3918616476517387, -0.0970628008041887, -1.8637925174812902, 0.3360992701512891, 1.3136038000994479, -0.9528464728863185, 1.0035464465815014, -0.28833439613220974, -0.5801714493637724, -0.8297499028994472, 2.0718903192594933, 0.6207850633540429, 0.05015029066703375, -0.13065485529488527, 0.8073422350123594, 0.5539168555719847, -2.5645193565271756, -1.0899895346786574, 0.10478822602140812], \"xaxis\": \"x11\", \"yaxis\": \"y11\"}, {\"line\": {\"color\": \"rgba(128, 128, 128, 1.0)\", \"dash\": \"solid\", \"shape\": \"linear\", \"width\": 1.3}, \"marker\": {\"size\": 2, \"symbol\": \"circle\"}, \"mode\": \"markers\", \"name\": \"C\", \"text\": \"\", \"type\": \"scatter\", \"x\": [0.10769577614462261, 0.9381513388151985, 0.6009753050690573, 1.9752354750747527, -0.5181426237082836, 0.22761479934571258, -0.5265786942320025, 0.5095492153774754, -1.046554330848723, 0.7315065825237579, 0.6789620480026869, -1.413347659196342, -0.016108383281562496, -0.9410589517518645, 0.04857771095448899, -0.11022153894423668, 0.14107671168947727, -0.5554674951524631, -1.3159441484687864, -1.7483545865947807, -0.3121965712883904, 0.6920018959734503, -0.9107050403290968, 0.2784644851682874, -1.9397962578930277, -0.45513040249786124, -0.10848084960196892, -0.7589575367551256, -1.0780093826892658, -0.9514571611390187, 1.5961370769094052, 1.8239176658288547, -0.6536799414681844, -1.2597150988422412, -0.46059293448935956, 0.31269284186968976, 0.07907465712089817, 0.14802301693644215, -0.3167136617293768, -1.007512795204162, 0.8067433348015413, -0.8483543082873977, 1.263380709513765, 0.46652702277022684, 0.751282663832055, 0.06369242477298177, -1.0909522881225577, -0.3739960103824854, 0.6779473539857858, 0.3734266014815676, 0.9967330796823717, -0.5119182197177479, -0.5864669718638383, 0.6879994083973473, -2.744759141587978, 0.1441662752957278, 0.026430336315075065, 0.9292363498181935, 0.22263571468181814, 2.199745582404042, -0.641710069299092, 1.539124005803026, 0.20902429509022064, 0.07899581188293245, -0.33360984821282474, -0.36160802793794816, -0.696201035195265, 0.12563154438571958, 1.4465572063107346, 1.5080309088258388, -1.1673168114773593, -0.20357637312531762, -1.4220357329064184, 0.41158488273955846, -1.0001318285121235, 0.7274191463023469, 0.2160667268178794, 0.584137035310321, -0.5655353173916954, 0.34607752995659996, -1.0496416652327765, 0.181924508554677, 1.4160621396152433, 1.447212701811392, -0.44404804234735024, 0.12387709870026571, 2.771090955198578, -0.5368436175829514, -1.0542914901698903, -0.7843346446183815, -0.6142528681773224, -0.0008528951337365195, -0.4769691436154201, 0.19402549901576488, -0.46842199926958966, -0.08477552905099907, -0.9792984493681949, 1.4995880284038323, -0.7542111726116282, 0.5153352947324564], \"xaxis\": \"x12\", \"y\": [-0.8849667774683708, 2.2259377239221325, -1.5233101709060102, 0.2953181398270395, 0.8264344026153204, 0.5913510655187838, 0.6828648431042454, 1.7086815960636492, 0.25818184912645487, -0.7170024291397524, 0.08916805499006593, 1.3153127154131583, 0.4250462899632546, 0.8023505507410498, 1.1148473647823962, -0.18956102529793664, -2.079756872118981, -0.7113601357767555, 0.7094442838065212, 0.07251137575017333, 0.2953148063878515, -1.0121772100861905, -0.6359246998913491, -0.3528819646496265, 0.5408683474982837, 0.38979566342810656, 0.4866337764911907, 0.4011578541573498, 0.6199420783053193, 0.465317548944445, -0.2318148390140708, 0.33581715315193994, -0.47503807105468887, -0.5466109427096344, 0.6186689184945717, -0.19789822919792144, 0.43690862035919475, -0.15712976265590814, -0.03370892710985846, 0.5636837886188208, 1.6580695740115794, -1.0407957699682373, -1.1676010434888637, -1.2157954987786896, 0.8927282864811816, 0.006944035248060638, 0.09941082090580226, 1.7407631555606686, 0.8410707477264111, 0.36434960007679335, 1.7359708516884256, 0.3965880382695271, 1.2907778837912955, -0.8739617195647129, -0.00728002667451206, -0.6998826075737327, -0.25956262071948605, 0.6542748975111746, -0.07018324863868057, 0.11869849803291103, 1.3119010861688023, -0.2972657981226998, -1.327267397411813, 0.6165124105986223, -1.2073661854687094, -0.6857610677682836, -0.8749481991203933, -1.0875589673394612, -0.3771542192507942, -0.6995546738432826, -1.1440545701594893, -0.6170536297117368, -0.4841222349603552, 1.1136235479025833, 0.6188184078340688, 0.3235695906997173, -0.5558048323254344, -0.6554798206190868, 0.5991224352438265, -0.3073695377011026, -1.1443987905506152, -1.3918616476517387, -0.0970628008041887, -1.8637925174812902, 0.3360992701512891, 1.3136038000994479, -0.9528464728863185, 1.0035464465815014, -0.28833439613220974, -0.5801714493637724, -0.8297499028994472, 2.0718903192594933, 0.6207850633540429, 0.05015029066703375, -0.13065485529488527, 0.8073422350123594, 0.5539168555719847, -2.5645193565271756, -1.0899895346786574, 0.10478822602140812], \"yaxis\": \"y12\"}, {\"line\": {\"color\": \"rgba(128, 128, 128, 1.0)\", \"dash\": \"solid\", \"shape\": \"linear\", \"width\": 1.3}, \"marker\": {\"size\": 2, \"symbol\": \"circle\"}, \"mode\": \"markers\", \"name\": \"D\", \"text\": \"\", \"type\": \"scatter\", \"x\": [-1.3559130559175228, 0.5303321035654701, 0.29440697268481386, -2.366994851248194, -0.39061600426275805, -1.2161987223331556, 0.19859743516019948, -0.04196512186229954, 0.7816691002462268, -0.5625933565781353, 0.19285116004885725, -0.06178195375831094, 0.7097995605455756, -0.06438499550921149, -2.5974737858675803, -0.32300690338794696, 1.0306388859623885, -1.941335868515121, -1.4355365861662128, -0.6573992997091732, 0.11646656991438858, 0.46591396507238075, 0.05272497171678483, 0.4581524192640287, 1.1095119169038339, -0.16693785245883877, -2.4185233240227983, -0.6450810153514451, 1.1329069163196375, 0.6970329956343094, -0.22820026177348646, -1.4808780287987526, 0.024367923584303973, 0.4286231014194029, 0.08045542686191721, -1.4015248719784796, -0.7127602575963483, -0.8326614239099435, 0.9937010497254936, -0.5989317759807878, -1.4296493006161402, 0.7713104030030286, -0.06980710659690535, 1.1287545943777195, 0.24847286609051505, -0.25614946259117294, -0.4244114222395493, 0.5856088506470457, 1.279303773190982, -0.44555925844105376, 0.3490682053943956, 1.0813767860789734, 0.8133648881571423, -0.6562175042066347, -0.4121443535409477, 1.0969280780102093, 0.15770461247131407, 0.042630429623211966, 2.3683858678174623, 1.1321042486469257, -0.12294684247572248, 1.7655511106226867, -0.1591269815157064, 0.11075147314174175, -1.0859538098553496, -2.191959033772851, -1.3356073556326191, -0.7607734053921369, -0.8295932567941922, -0.010402164383887734, 0.009074950144895585, -1.3753860596456584, 1.1186045911807563, -1.3180085977495606, -1.4364656665274682, -1.1545082613318447, -0.3488279565559763, 0.22136370072874864, 0.11027416415716094, -0.3289421211077479, 1.4982170548436569, 0.5240075572039334, 0.14601567207029967, 1.1131443714346898, -0.945595270331263, 0.29686021046057764, -0.06873382405799189, 1.3398974294041806, -0.1005688226330727, -0.5387746262762422, -0.767849248663247, -0.35100755254836946, 0.1480598141594704, 0.08595586430500328, 1.162131405970528, 0.8816251921637606, -0.21427435409242715, 1.4900398420710712, -1.604228677811847, 0.23534333231846755], \"xaxis\": \"x13\", \"y\": [0.10769577614462261, 0.9381513388151985, 0.6009753050690573, 1.9752354750747527, -0.5181426237082836, 0.22761479934571258, -0.5265786942320025, 0.5095492153774754, -1.046554330848723, 0.7315065825237579, 0.6789620480026869, -1.413347659196342, -0.016108383281562496, -0.9410589517518645, 0.04857771095448899, -0.11022153894423668, 0.14107671168947727, -0.5554674951524631, -1.3159441484687864, -1.7483545865947807, -0.3121965712883904, 0.6920018959734503, -0.9107050403290968, 0.2784644851682874, -1.9397962578930277, -0.45513040249786124, -0.10848084960196892, -0.7589575367551256, -1.0780093826892658, -0.9514571611390187, 1.5961370769094052, 1.8239176658288547, -0.6536799414681844, -1.2597150988422412, -0.46059293448935956, 0.31269284186968976, 0.07907465712089817, 0.14802301693644215, -0.3167136617293768, -1.007512795204162, 0.8067433348015413, -0.8483543082873977, 1.263380709513765, 0.46652702277022684, 0.751282663832055, 0.06369242477298177, -1.0909522881225577, -0.3739960103824854, 0.6779473539857858, 0.3734266014815676, 0.9967330796823717, -0.5119182197177479, -0.5864669718638383, 0.6879994083973473, -2.744759141587978, 0.1441662752957278, 0.026430336315075065, 0.9292363498181935, 0.22263571468181814, 2.199745582404042, -0.641710069299092, 1.539124005803026, 0.20902429509022064, 0.07899581188293245, -0.33360984821282474, -0.36160802793794816, -0.696201035195265, 0.12563154438571958, 1.4465572063107346, 1.5080309088258388, -1.1673168114773593, -0.20357637312531762, -1.4220357329064184, 0.41158488273955846, -1.0001318285121235, 0.7274191463023469, 0.2160667268178794, 0.584137035310321, -0.5655353173916954, 0.34607752995659996, -1.0496416652327765, 0.181924508554677, 1.4160621396152433, 1.447212701811392, -0.44404804234735024, 0.12387709870026571, 2.771090955198578, -0.5368436175829514, -1.0542914901698903, -0.7843346446183815, -0.6142528681773224, -0.0008528951337365195, -0.4769691436154201, 0.19402549901576488, -0.46842199926958966, -0.08477552905099907, -0.9792984493681949, 1.4995880284038323, -0.7542111726116282, 0.5153352947324564], \"yaxis\": \"y13\"}, {\"line\": {\"color\": \"rgba(128, 128, 128, 1.0)\", \"dash\": \"solid\", \"shape\": \"linear\", \"width\": 1.3}, \"marker\": {\"size\": 2, \"symbol\": \"circle\"}, \"mode\": \"markers\", \"name\": \"D\", \"text\": \"\", \"type\": \"scatter\", \"x\": [-1.5778429245488879, 1.2680079504191542, 0.09649405165059019, 0.5451506050878556, 1.4665309109334816, -0.8187660691999971, 0.8892275568624582, 0.057993196168514054, 1.0704372338561854, -1.1215869807766896, 0.7898514189744038, 0.8930828925001068, 1.3220881795120045, -1.1746388644306027, -0.11366720583834672, -1.08572748143992, -0.36542532409071204, -0.5451472733548265, 0.05957969416825055, 1.0481834417594982, 0.6582590607680974, 1.9050369818668038, -0.8611884051729745, -0.03364255394446158, -0.2688534606823713, -1.2502969844263059, -0.09367845283559229, -0.2920765672512015, -0.3139676248854494, -0.9811182522643814, -0.06443198507731814, -1.2044898392645802, -0.008192778716532423, -1.5846889685617627, 0.12750792187288915, -0.3593159388234478, -1.4988967562973863, 1.2732099224625397, -0.8615848179565383, -0.40897428577114503, 0.8490222350087218, -1.0791246887998986, -0.15060725895997487, -1.5720599233177468, -0.9104303182134822, 0.3038761199317576, 1.5772543560605514, 0.10958890357099571, -1.433809763409956, 0.9001499602414199, -1.1065469139557813, -1.6591841116033383, 0.4856131846513768, -1.3187515045471454, -0.9998085361886271, 0.8895689618477627, -0.6490212653755961, -0.6028794296101871, -1.6215250503615426, 0.35749953179801786, 1.3525172890956467, 2.1440982079969793, -0.7535990604943527, -1.8530373144179704, 0.3853396942630609, 1.0725112999364486, -0.5080799161223373, 0.728183494278347, 0.29348208736934966, 0.6166598740688046, -1.4176082506592214, -1.2283428172986675, 0.029400981232705268, 0.49717683675476193, 1.2806469532543063, -2.170877611449295, 0.5305137203022765, 0.07573784865183336, 1.962331926274082, 0.6497384161827761, 0.445444965199007, -1.0219776640954312, -1.3586633696231962, 2.548903463301732, -0.2657491617480886, 0.06264434682764904, -1.485197772311538, -1.9928894210733983, 1.1406483682872646, -1.7880279463109883, 0.21610130984226705, 0.6600706306964581, 0.5159702029260697, -1.0874933049782323, -1.0924492328288362, -0.44981702999116246, -0.2910427923330211, 1.109369336375027, -0.27248037646009077, -0.14682084414377564], \"xaxis\": \"x14\", \"y\": [0.10769577614462261, 0.9381513388151985, 0.6009753050690573, 1.9752354750747527, -0.5181426237082836, 0.22761479934571258, -0.5265786942320025, 0.5095492153774754, -1.046554330848723, 0.7315065825237579, 0.6789620480026869, -1.413347659196342, -0.016108383281562496, -0.9410589517518645, 0.04857771095448899, -0.11022153894423668, 0.14107671168947727, -0.5554674951524631, -1.3159441484687864, -1.7483545865947807, -0.3121965712883904, 0.6920018959734503, -0.9107050403290968, 0.2784644851682874, -1.9397962578930277, -0.45513040249786124, -0.10848084960196892, -0.7589575367551256, -1.0780093826892658, -0.9514571611390187, 1.5961370769094052, 1.8239176658288547, -0.6536799414681844, -1.2597150988422412, -0.46059293448935956, 0.31269284186968976, 0.07907465712089817, 0.14802301693644215, -0.3167136617293768, -1.007512795204162, 0.8067433348015413, -0.8483543082873977, 1.263380709513765, 0.46652702277022684, 0.751282663832055, 0.06369242477298177, -1.0909522881225577, -0.3739960103824854, 0.6779473539857858, 0.3734266014815676, 0.9967330796823717, -0.5119182197177479, -0.5864669718638383, 0.6879994083973473, -2.744759141587978, 0.1441662752957278, 0.026430336315075065, 0.9292363498181935, 0.22263571468181814, 2.199745582404042, -0.641710069299092, 1.539124005803026, 0.20902429509022064, 0.07899581188293245, -0.33360984821282474, -0.36160802793794816, -0.696201035195265, 0.12563154438571958, 1.4465572063107346, 1.5080309088258388, -1.1673168114773593, -0.20357637312531762, -1.4220357329064184, 0.41158488273955846, -1.0001318285121235, 0.7274191463023469, 0.2160667268178794, 0.584137035310321, -0.5655353173916954, 0.34607752995659996, -1.0496416652327765, 0.181924508554677, 1.4160621396152433, 1.447212701811392, -0.44404804234735024, 0.12387709870026571, 2.771090955198578, -0.5368436175829514, -1.0542914901698903, -0.7843346446183815, -0.6142528681773224, -0.0008528951337365195, -0.4769691436154201, 0.19402549901576488, -0.46842199926958966, -0.08477552905099907, -0.9792984493681949, 1.4995880284038323, -0.7542111726116282, 0.5153352947324564], \"yaxis\": \"y14\"}, {\"line\": {\"color\": \"rgba(128, 128, 128, 1.0)\", \"dash\": \"solid\", \"shape\": \"linear\", \"width\": 1.3}, \"marker\": {\"size\": 2, \"symbol\": \"circle\"}, \"mode\": \"markers\", \"name\": \"D\", \"text\": \"\", \"type\": \"scatter\", \"x\": [-0.8849667774683708, 2.2259377239221325, -1.5233101709060102, 0.2953181398270395, 0.8264344026153204, 0.5913510655187838, 0.6828648431042454, 1.7086815960636492, 0.25818184912645487, -0.7170024291397524, 0.08916805499006593, 1.3153127154131583, 0.4250462899632546, 0.8023505507410498, 1.1148473647823962, -0.18956102529793664, -2.079756872118981, -0.7113601357767555, 0.7094442838065212, 0.07251137575017333, 0.2953148063878515, -1.0121772100861905, -0.6359246998913491, -0.3528819646496265, 0.5408683474982837, 0.38979566342810656, 0.4866337764911907, 0.4011578541573498, 0.6199420783053193, 0.465317548944445, -0.2318148390140708, 0.33581715315193994, -0.47503807105468887, -0.5466109427096344, 0.6186689184945717, -0.19789822919792144, 0.43690862035919475, -0.15712976265590814, -0.03370892710985846, 0.5636837886188208, 1.6580695740115794, -1.0407957699682373, -1.1676010434888637, -1.2157954987786896, 0.8927282864811816, 0.006944035248060638, 0.09941082090580226, 1.7407631555606686, 0.8410707477264111, 0.36434960007679335, 1.7359708516884256, 0.3965880382695271, 1.2907778837912955, -0.8739617195647129, -0.00728002667451206, -0.6998826075737327, -0.25956262071948605, 0.6542748975111746, -0.07018324863868057, 0.11869849803291103, 1.3119010861688023, -0.2972657981226998, -1.327267397411813, 0.6165124105986223, -1.2073661854687094, -0.6857610677682836, -0.8749481991203933, -1.0875589673394612, -0.3771542192507942, -0.6995546738432826, -1.1440545701594893, -0.6170536297117368, -0.4841222349603552, 1.1136235479025833, 0.6188184078340688, 0.3235695906997173, -0.5558048323254344, -0.6554798206190868, 0.5991224352438265, -0.3073695377011026, -1.1443987905506152, -1.3918616476517387, -0.0970628008041887, -1.8637925174812902, 0.3360992701512891, 1.3136038000994479, -0.9528464728863185, 1.0035464465815014, -0.28833439613220974, -0.5801714493637724, -0.8297499028994472, 2.0718903192594933, 0.6207850633540429, 0.05015029066703375, -0.13065485529488527, 0.8073422350123594, 0.5539168555719847, -2.5645193565271756, -1.0899895346786574, 0.10478822602140812], \"xaxis\": \"x15\", \"y\": [0.10769577614462261, 0.9381513388151985, 0.6009753050690573, 1.9752354750747527, -0.5181426237082836, 0.22761479934571258, -0.5265786942320025, 0.5095492153774754, -1.046554330848723, 0.7315065825237579, 0.6789620480026869, -1.413347659196342, -0.016108383281562496, -0.9410589517518645, 0.04857771095448899, -0.11022153894423668, 0.14107671168947727, -0.5554674951524631, -1.3159441484687864, -1.7483545865947807, -0.3121965712883904, 0.6920018959734503, -0.9107050403290968, 0.2784644851682874, -1.9397962578930277, -0.45513040249786124, -0.10848084960196892, -0.7589575367551256, -1.0780093826892658, -0.9514571611390187, 1.5961370769094052, 1.8239176658288547, -0.6536799414681844, -1.2597150988422412, -0.46059293448935956, 0.31269284186968976, 0.07907465712089817, 0.14802301693644215, -0.3167136617293768, -1.007512795204162, 0.8067433348015413, -0.8483543082873977, 1.263380709513765, 0.46652702277022684, 0.751282663832055, 0.06369242477298177, -1.0909522881225577, -0.3739960103824854, 0.6779473539857858, 0.3734266014815676, 0.9967330796823717, -0.5119182197177479, -0.5864669718638383, 0.6879994083973473, -2.744759141587978, 0.1441662752957278, 0.026430336315075065, 0.9292363498181935, 0.22263571468181814, 2.199745582404042, -0.641710069299092, 1.539124005803026, 0.20902429509022064, 0.07899581188293245, -0.33360984821282474, -0.36160802793794816, -0.696201035195265, 0.12563154438571958, 1.4465572063107346, 1.5080309088258388, -1.1673168114773593, -0.20357637312531762, -1.4220357329064184, 0.41158488273955846, -1.0001318285121235, 0.7274191463023469, 0.2160667268178794, 0.584137035310321, -0.5655353173916954, 0.34607752995659996, -1.0496416652327765, 0.181924508554677, 1.4160621396152433, 1.447212701811392, -0.44404804234735024, 0.12387709870026571, 2.771090955198578, -0.5368436175829514, -1.0542914901698903, -0.7843346446183815, -0.6142528681773224, -0.0008528951337365195, -0.4769691436154201, 0.19402549901576488, -0.46842199926958966, -0.08477552905099907, -0.9792984493681949, 1.4995880284038323, -0.7542111726116282, 0.5153352947324564], \"yaxis\": \"y15\"}, {\"histfunc\": \"count\", \"histnorm\": \"\", \"marker\": {\"color\": \"rgba(128, 0, 128, 1.0)\", \"line\": {\"color\": \"#4D5663\", \"width\": 1.3}}, \"name\": \"D\", \"nbinsx\": 10, \"opacity\": 0.8, \"orientation\": \"v\", \"type\": \"histogram\", \"x\": [0.10769577614462261, 0.9381513388151985, 0.6009753050690573, 1.9752354750747527, -0.5181426237082836, 0.22761479934571258, -0.5265786942320025, 0.5095492153774754, -1.046554330848723, 0.7315065825237579, 0.6789620480026869, -1.413347659196342, -0.016108383281562496, -0.9410589517518645, 0.04857771095448899, -0.11022153894423668, 0.14107671168947727, -0.5554674951524631, -1.3159441484687864, -1.7483545865947807, -0.3121965712883904, 0.6920018959734503, -0.9107050403290968, 0.2784644851682874, -1.9397962578930277, -0.45513040249786124, -0.10848084960196892, -0.7589575367551256, -1.0780093826892658, -0.9514571611390187, 1.5961370769094052, 1.8239176658288547, -0.6536799414681844, -1.2597150988422412, -0.46059293448935956, 0.31269284186968976, 0.07907465712089817, 0.14802301693644215, -0.3167136617293768, -1.007512795204162, 0.8067433348015413, -0.8483543082873977, 1.263380709513765, 0.46652702277022684, 0.751282663832055, 0.06369242477298177, -1.0909522881225577, -0.3739960103824854, 0.6779473539857858, 0.3734266014815676, 0.9967330796823717, -0.5119182197177479, -0.5864669718638383, 0.6879994083973473, -2.744759141587978, 0.1441662752957278, 0.026430336315075065, 0.9292363498181935, 0.22263571468181814, 2.199745582404042, -0.641710069299092, 1.539124005803026, 0.20902429509022064, 0.07899581188293245, -0.33360984821282474, -0.36160802793794816, -0.696201035195265, 0.12563154438571958, 1.4465572063107346, 1.5080309088258388, -1.1673168114773593, -0.20357637312531762, -1.4220357329064184, 0.41158488273955846, -1.0001318285121235, 0.7274191463023469, 0.2160667268178794, 0.584137035310321, -0.5655353173916954, 0.34607752995659996, -1.0496416652327765, 0.181924508554677, 1.4160621396152433, 1.447212701811392, -0.44404804234735024, 0.12387709870026571, 2.771090955198578, -0.5368436175829514, -1.0542914901698903, -0.7843346446183815, -0.6142528681773224, -0.0008528951337365195, -0.4769691436154201, 0.19402549901576488, -0.46842199926958966, -0.08477552905099907, -0.9792984493681949, 1.4995880284038323, -0.7542111726116282, 0.5153352947324564], \"xaxis\": \"x16\", \"yaxis\": \"y16\"}],\n",
       "                        {\"bargap\": 0.02, \"legend\": {\"bgcolor\": \"#F5F6F9\", \"font\": {\"color\": \"#4D5663\"}}, \"paper_bgcolor\": \"#F5F6F9\", \"plot_bgcolor\": \"#F5F6F9\", \"showlegend\": false, \"template\": {\"data\": {\"bar\": [{\"error_x\": {\"color\": \"#2a3f5f\"}, \"error_y\": {\"color\": \"#2a3f5f\"}, \"marker\": {\"line\": {\"color\": \"#E5ECF6\", \"width\": 0.5}}, \"type\": \"bar\"}], \"barpolar\": [{\"marker\": {\"line\": {\"color\": \"#E5ECF6\", \"width\": 0.5}}, \"type\": \"barpolar\"}], \"carpet\": [{\"aaxis\": {\"endlinecolor\": \"#2a3f5f\", \"gridcolor\": \"white\", \"linecolor\": \"white\", \"minorgridcolor\": \"white\", \"startlinecolor\": \"#2a3f5f\"}, \"baxis\": {\"endlinecolor\": \"#2a3f5f\", \"gridcolor\": \"white\", \"linecolor\": \"white\", \"minorgridcolor\": \"white\", \"startlinecolor\": \"#2a3f5f\"}, \"type\": \"carpet\"}], \"choropleth\": [{\"colorbar\": {\"outlinewidth\": 0, \"ticks\": \"\"}, \"type\": \"choropleth\"}], \"contour\": [{\"colorbar\": {\"outlinewidth\": 0, \"ticks\": \"\"}, \"colorscale\": [[0.0, \"#0d0887\"], [0.1111111111111111, \"#46039f\"], [0.2222222222222222, \"#7201a8\"], [0.3333333333333333, \"#9c179e\"], [0.4444444444444444, \"#bd3786\"], [0.5555555555555556, \"#d8576b\"], [0.6666666666666666, \"#ed7953\"], [0.7777777777777778, \"#fb9f3a\"], [0.8888888888888888, \"#fdca26\"], [1.0, \"#f0f921\"]], \"type\": \"contour\"}], \"contourcarpet\": [{\"colorbar\": {\"outlinewidth\": 0, \"ticks\": \"\"}, \"type\": \"contourcarpet\"}], \"heatmap\": [{\"colorbar\": {\"outlinewidth\": 0, \"ticks\": \"\"}, \"colorscale\": [[0.0, \"#0d0887\"], [0.1111111111111111, \"#46039f\"], [0.2222222222222222, \"#7201a8\"], [0.3333333333333333, \"#9c179e\"], [0.4444444444444444, \"#bd3786\"], [0.5555555555555556, \"#d8576b\"], [0.6666666666666666, \"#ed7953\"], [0.7777777777777778, \"#fb9f3a\"], [0.8888888888888888, \"#fdca26\"], [1.0, \"#f0f921\"]], \"type\": \"heatmap\"}], \"heatmapgl\": [{\"colorbar\": {\"outlinewidth\": 0, \"ticks\": \"\"}, \"colorscale\": [[0.0, \"#0d0887\"], [0.1111111111111111, \"#46039f\"], [0.2222222222222222, \"#7201a8\"], [0.3333333333333333, \"#9c179e\"], [0.4444444444444444, \"#bd3786\"], [0.5555555555555556, \"#d8576b\"], [0.6666666666666666, \"#ed7953\"], [0.7777777777777778, \"#fb9f3a\"], [0.8888888888888888, \"#fdca26\"], [1.0, \"#f0f921\"]], \"type\": \"heatmapgl\"}], \"histogram\": [{\"marker\": {\"colorbar\": {\"outlinewidth\": 0, \"ticks\": \"\"}}, \"type\": \"histogram\"}], \"histogram2d\": [{\"colorbar\": {\"outlinewidth\": 0, \"ticks\": \"\"}, \"colorscale\": [[0.0, \"#0d0887\"], [0.1111111111111111, \"#46039f\"], [0.2222222222222222, \"#7201a8\"], [0.3333333333333333, \"#9c179e\"], [0.4444444444444444, \"#bd3786\"], [0.5555555555555556, \"#d8576b\"], [0.6666666666666666, \"#ed7953\"], [0.7777777777777778, \"#fb9f3a\"], [0.8888888888888888, \"#fdca26\"], [1.0, \"#f0f921\"]], \"type\": \"histogram2d\"}], \"histogram2dcontour\": [{\"colorbar\": {\"outlinewidth\": 0, \"ticks\": \"\"}, \"colorscale\": [[0.0, \"#0d0887\"], [0.1111111111111111, \"#46039f\"], [0.2222222222222222, \"#7201a8\"], [0.3333333333333333, \"#9c179e\"], [0.4444444444444444, \"#bd3786\"], [0.5555555555555556, \"#d8576b\"], [0.6666666666666666, \"#ed7953\"], [0.7777777777777778, \"#fb9f3a\"], [0.8888888888888888, \"#fdca26\"], [1.0, \"#f0f921\"]], \"type\": \"histogram2dcontour\"}], \"mesh3d\": [{\"colorbar\": {\"outlinewidth\": 0, \"ticks\": \"\"}, \"type\": \"mesh3d\"}], \"parcoords\": [{\"line\": {\"colorbar\": {\"outlinewidth\": 0, \"ticks\": \"\"}}, \"type\": \"parcoords\"}], \"pie\": [{\"automargin\": true, \"type\": \"pie\"}], \"scatter\": [{\"marker\": {\"colorbar\": {\"outlinewidth\": 0, \"ticks\": \"\"}}, \"type\": \"scatter\"}], \"scatter3d\": [{\"line\": {\"colorbar\": {\"outlinewidth\": 0, \"ticks\": \"\"}}, \"marker\": {\"colorbar\": {\"outlinewidth\": 0, \"ticks\": \"\"}}, \"type\": \"scatter3d\"}], \"scattercarpet\": [{\"marker\": {\"colorbar\": {\"outlinewidth\": 0, \"ticks\": \"\"}}, \"type\": \"scattercarpet\"}], \"scattergeo\": [{\"marker\": {\"colorbar\": {\"outlinewidth\": 0, \"ticks\": \"\"}}, \"type\": \"scattergeo\"}], \"scattergl\": [{\"marker\": {\"colorbar\": {\"outlinewidth\": 0, \"ticks\": \"\"}}, \"type\": \"scattergl\"}], \"scattermapbox\": [{\"marker\": {\"colorbar\": {\"outlinewidth\": 0, \"ticks\": \"\"}}, \"type\": \"scattermapbox\"}], \"scatterpolar\": [{\"marker\": {\"colorbar\": {\"outlinewidth\": 0, \"ticks\": \"\"}}, \"type\": \"scatterpolar\"}], \"scatterpolargl\": [{\"marker\": {\"colorbar\": {\"outlinewidth\": 0, \"ticks\": \"\"}}, \"type\": \"scatterpolargl\"}], \"scatterternary\": [{\"marker\": {\"colorbar\": {\"outlinewidth\": 0, \"ticks\": \"\"}}, \"type\": \"scatterternary\"}], \"surface\": [{\"colorbar\": {\"outlinewidth\": 0, \"ticks\": \"\"}, \"colorscale\": [[0.0, \"#0d0887\"], [0.1111111111111111, \"#46039f\"], [0.2222222222222222, \"#7201a8\"], [0.3333333333333333, \"#9c179e\"], [0.4444444444444444, \"#bd3786\"], [0.5555555555555556, \"#d8576b\"], [0.6666666666666666, \"#ed7953\"], [0.7777777777777778, \"#fb9f3a\"], [0.8888888888888888, \"#fdca26\"], [1.0, \"#f0f921\"]], \"type\": \"surface\"}], \"table\": [{\"cells\": {\"fill\": {\"color\": \"#EBF0F8\"}, \"line\": {\"color\": \"white\"}}, \"header\": {\"fill\": {\"color\": \"#C8D4E3\"}, \"line\": {\"color\": \"white\"}}, \"type\": \"table\"}]}, \"layout\": {\"annotationdefaults\": {\"arrowcolor\": \"#2a3f5f\", \"arrowhead\": 0, \"arrowwidth\": 1}, \"coloraxis\": {\"colorbar\": {\"outlinewidth\": 0, \"ticks\": \"\"}}, \"colorscale\": {\"diverging\": [[0, \"#8e0152\"], [0.1, \"#c51b7d\"], [0.2, \"#de77ae\"], [0.3, \"#f1b6da\"], [0.4, \"#fde0ef\"], [0.5, \"#f7f7f7\"], [0.6, \"#e6f5d0\"], [0.7, \"#b8e186\"], [0.8, \"#7fbc41\"], [0.9, \"#4d9221\"], [1, \"#276419\"]], \"sequential\": [[0.0, \"#0d0887\"], [0.1111111111111111, \"#46039f\"], [0.2222222222222222, \"#7201a8\"], [0.3333333333333333, \"#9c179e\"], [0.4444444444444444, \"#bd3786\"], [0.5555555555555556, \"#d8576b\"], [0.6666666666666666, \"#ed7953\"], [0.7777777777777778, \"#fb9f3a\"], [0.8888888888888888, \"#fdca26\"], [1.0, \"#f0f921\"]], \"sequentialminus\": [[0.0, \"#0d0887\"], [0.1111111111111111, \"#46039f\"], [0.2222222222222222, \"#7201a8\"], [0.3333333333333333, \"#9c179e\"], [0.4444444444444444, \"#bd3786\"], [0.5555555555555556, \"#d8576b\"], [0.6666666666666666, \"#ed7953\"], [0.7777777777777778, \"#fb9f3a\"], [0.8888888888888888, \"#fdca26\"], [1.0, \"#f0f921\"]]}, \"colorway\": [\"#636efa\", \"#EF553B\", \"#00cc96\", \"#ab63fa\", \"#FFA15A\", \"#19d3f3\", \"#FF6692\", \"#B6E880\", \"#FF97FF\", \"#FECB52\"], \"font\": {\"color\": \"#2a3f5f\"}, \"geo\": {\"bgcolor\": \"white\", \"lakecolor\": \"white\", \"landcolor\": \"#E5ECF6\", \"showlakes\": true, \"showland\": true, \"subunitcolor\": \"white\"}, \"hoverlabel\": {\"align\": \"left\"}, \"hovermode\": \"closest\", \"mapbox\": {\"style\": \"light\"}, \"paper_bgcolor\": \"white\", \"plot_bgcolor\": \"#E5ECF6\", \"polar\": {\"angularaxis\": {\"gridcolor\": \"white\", \"linecolor\": \"white\", \"ticks\": \"\"}, \"bgcolor\": \"#E5ECF6\", \"radialaxis\": {\"gridcolor\": \"white\", \"linecolor\": \"white\", \"ticks\": \"\"}}, \"scene\": {\"xaxis\": {\"backgroundcolor\": \"#E5ECF6\", \"gridcolor\": \"white\", \"gridwidth\": 2, \"linecolor\": \"white\", \"showbackground\": true, \"ticks\": \"\", \"zerolinecolor\": \"white\"}, \"yaxis\": {\"backgroundcolor\": \"#E5ECF6\", \"gridcolor\": \"white\", \"gridwidth\": 2, \"linecolor\": \"white\", \"showbackground\": true, \"ticks\": \"\", \"zerolinecolor\": \"white\"}, \"zaxis\": {\"backgroundcolor\": \"#E5ECF6\", \"gridcolor\": \"white\", \"gridwidth\": 2, \"linecolor\": \"white\", \"showbackground\": true, \"ticks\": \"\", \"zerolinecolor\": \"white\"}}, \"shapedefaults\": {\"line\": {\"color\": \"#2a3f5f\"}}, \"ternary\": {\"aaxis\": {\"gridcolor\": \"white\", \"linecolor\": \"white\", \"ticks\": \"\"}, \"baxis\": {\"gridcolor\": \"white\", \"linecolor\": \"white\", \"ticks\": \"\"}, \"bgcolor\": \"#E5ECF6\", \"caxis\": {\"gridcolor\": \"white\", \"linecolor\": \"white\", \"ticks\": \"\"}}, \"title\": {\"x\": 0.05}, \"xaxis\": {\"automargin\": true, \"gridcolor\": \"white\", \"linecolor\": \"white\", \"ticks\": \"\", \"title\": {\"standoff\": 15}, \"zerolinecolor\": \"white\", \"zerolinewidth\": 2}, \"yaxis\": {\"automargin\": true, \"gridcolor\": \"white\", \"linecolor\": \"white\", \"ticks\": \"\", \"title\": {\"standoff\": 15}, \"zerolinecolor\": \"white\", \"zerolinewidth\": 2}}}, \"title\": {\"font\": {\"color\": \"#4D5663\"}}, \"xaxis\": {\"anchor\": \"y\", \"domain\": [0.0, 0.2125], \"gridcolor\": \"#E1E5ED\", \"showgrid\": false, \"tickfont\": {\"color\": \"#4D5663\"}, \"title\": {\"font\": {\"color\": \"#4D5663\"}, \"text\": \"\"}, \"zerolinecolor\": \"#E1E5ED\"}, \"xaxis10\": {\"anchor\": \"y10\", \"domain\": [0.2625, 0.475], \"gridcolor\": \"#E1E5ED\", \"showgrid\": false, \"tickfont\": {\"color\": \"#4D5663\"}, \"title\": {\"font\": {\"color\": \"#4D5663\"}, \"text\": \"\"}, \"zerolinecolor\": \"#E1E5ED\"}, \"xaxis11\": {\"anchor\": \"y11\", \"domain\": [0.525, 0.7375], \"gridcolor\": \"#E1E5ED\", \"showgrid\": false, \"tickfont\": {\"color\": \"#4D5663\"}, \"title\": {\"font\": {\"color\": \"#4D5663\"}, \"text\": \"\"}, \"zerolinecolor\": \"#E1E5ED\"}, \"xaxis12\": {\"anchor\": \"y12\", \"domain\": [0.7875, 1.0], \"gridcolor\": \"#E1E5ED\", \"showgrid\": false, \"tickfont\": {\"color\": \"#4D5663\"}, \"title\": {\"font\": {\"color\": \"#4D5663\"}, \"text\": \"\"}, \"zerolinecolor\": \"#E1E5ED\"}, \"xaxis13\": {\"anchor\": \"y13\", \"domain\": [0.0, 0.2125], \"gridcolor\": \"#E1E5ED\", \"showgrid\": false, \"tickfont\": {\"color\": \"#4D5663\"}, \"title\": {\"font\": {\"color\": \"#4D5663\"}, \"text\": \"\"}, \"zerolinecolor\": \"#E1E5ED\"}, \"xaxis14\": {\"anchor\": \"y14\", \"domain\": [0.2625, 0.475], \"gridcolor\": \"#E1E5ED\", \"showgrid\": false, \"tickfont\": {\"color\": \"#4D5663\"}, \"title\": {\"font\": {\"color\": \"#4D5663\"}, \"text\": \"\"}, \"zerolinecolor\": \"#E1E5ED\"}, \"xaxis15\": {\"anchor\": \"y15\", \"domain\": [0.525, 0.7375], \"gridcolor\": \"#E1E5ED\", \"showgrid\": false, \"tickfont\": {\"color\": \"#4D5663\"}, \"title\": {\"font\": {\"color\": \"#4D5663\"}, \"text\": \"\"}, \"zerolinecolor\": \"#E1E5ED\"}, \"xaxis16\": {\"anchor\": \"y16\", \"domain\": [0.7875, 1.0], \"gridcolor\": \"#E1E5ED\", \"showgrid\": false, \"tickfont\": {\"color\": \"#4D5663\"}, \"title\": {\"font\": {\"color\": \"#4D5663\"}, \"text\": \"\"}, \"zerolinecolor\": \"#E1E5ED\"}, \"xaxis2\": {\"anchor\": \"y2\", \"domain\": [0.2625, 0.475], \"gridcolor\": \"#E1E5ED\", \"showgrid\": false, \"tickfont\": {\"color\": \"#4D5663\"}, \"title\": {\"font\": {\"color\": \"#4D5663\"}, \"text\": \"\"}, \"zerolinecolor\": \"#E1E5ED\"}, \"xaxis3\": {\"anchor\": \"y3\", \"domain\": [0.525, 0.7375], \"gridcolor\": \"#E1E5ED\", \"showgrid\": false, \"tickfont\": {\"color\": \"#4D5663\"}, \"title\": {\"font\": {\"color\": \"#4D5663\"}, \"text\": \"\"}, \"zerolinecolor\": \"#E1E5ED\"}, \"xaxis4\": {\"anchor\": \"y4\", \"domain\": [0.7875, 1.0], \"gridcolor\": \"#E1E5ED\", \"showgrid\": false, \"tickfont\": {\"color\": \"#4D5663\"}, \"title\": {\"font\": {\"color\": \"#4D5663\"}, \"text\": \"\"}, \"zerolinecolor\": \"#E1E5ED\"}, \"xaxis5\": {\"anchor\": \"y5\", \"domain\": [0.0, 0.2125], \"gridcolor\": \"#E1E5ED\", \"showgrid\": false, \"tickfont\": {\"color\": \"#4D5663\"}, \"title\": {\"font\": {\"color\": \"#4D5663\"}, \"text\": \"\"}, \"zerolinecolor\": \"#E1E5ED\"}, \"xaxis6\": {\"anchor\": \"y6\", \"domain\": [0.2625, 0.475], \"gridcolor\": \"#E1E5ED\", \"showgrid\": false, \"tickfont\": {\"color\": \"#4D5663\"}, \"title\": {\"font\": {\"color\": \"#4D5663\"}, \"text\": \"\"}, \"zerolinecolor\": \"#E1E5ED\"}, \"xaxis7\": {\"anchor\": \"y7\", \"domain\": [0.525, 0.7375], \"gridcolor\": \"#E1E5ED\", \"showgrid\": false, \"tickfont\": {\"color\": \"#4D5663\"}, \"title\": {\"font\": {\"color\": \"#4D5663\"}, \"text\": \"\"}, \"zerolinecolor\": \"#E1E5ED\"}, \"xaxis8\": {\"anchor\": \"y8\", \"domain\": [0.7875, 1.0], \"gridcolor\": \"#E1E5ED\", \"showgrid\": false, \"tickfont\": {\"color\": \"#4D5663\"}, \"title\": {\"font\": {\"color\": \"#4D5663\"}, \"text\": \"\"}, \"zerolinecolor\": \"#E1E5ED\"}, \"xaxis9\": {\"anchor\": \"y9\", \"domain\": [0.0, 0.2125], \"gridcolor\": \"#E1E5ED\", \"showgrid\": false, \"tickfont\": {\"color\": \"#4D5663\"}, \"title\": {\"font\": {\"color\": \"#4D5663\"}, \"text\": \"\"}, \"zerolinecolor\": \"#E1E5ED\"}, \"yaxis\": {\"anchor\": \"x\", \"domain\": [0.8025, 1.0], \"gridcolor\": \"#E1E5ED\", \"showgrid\": false, \"tickfont\": {\"color\": \"#4D5663\"}, \"title\": {\"font\": {\"color\": \"#4D5663\"}, \"text\": \"\"}, \"zerolinecolor\": \"#E1E5ED\"}, \"yaxis10\": {\"anchor\": \"x10\", \"domain\": [0.2675, 0.465], \"gridcolor\": \"#E1E5ED\", \"showgrid\": false, \"tickfont\": {\"color\": \"#4D5663\"}, \"title\": {\"font\": {\"color\": \"#4D5663\"}, \"text\": \"\"}, \"zerolinecolor\": \"#E1E5ED\"}, \"yaxis11\": {\"anchor\": \"x11\", \"domain\": [0.2675, 0.465], \"gridcolor\": \"#E1E5ED\", \"showgrid\": false, \"tickfont\": {\"color\": \"#4D5663\"}, \"title\": {\"font\": {\"color\": \"#4D5663\"}, \"text\": \"\"}, \"zerolinecolor\": \"#E1E5ED\"}, \"yaxis12\": {\"anchor\": \"x12\", \"domain\": [0.2675, 0.465], \"gridcolor\": \"#E1E5ED\", \"showgrid\": false, \"tickfont\": {\"color\": \"#4D5663\"}, \"title\": {\"font\": {\"color\": \"#4D5663\"}, \"text\": \"\"}, \"zerolinecolor\": \"#E1E5ED\"}, \"yaxis13\": {\"anchor\": \"x13\", \"domain\": [0.0, 0.1975], \"gridcolor\": \"#E1E5ED\", \"showgrid\": false, \"tickfont\": {\"color\": \"#4D5663\"}, \"title\": {\"font\": {\"color\": \"#4D5663\"}, \"text\": \"\"}, \"zerolinecolor\": \"#E1E5ED\"}, \"yaxis14\": {\"anchor\": \"x14\", \"domain\": [0.0, 0.1975], \"gridcolor\": \"#E1E5ED\", \"showgrid\": false, \"tickfont\": {\"color\": \"#4D5663\"}, \"title\": {\"font\": {\"color\": \"#4D5663\"}, \"text\": \"\"}, \"zerolinecolor\": \"#E1E5ED\"}, \"yaxis15\": {\"anchor\": \"x15\", \"domain\": [0.0, 0.1975], \"gridcolor\": \"#E1E5ED\", \"showgrid\": false, \"tickfont\": {\"color\": \"#4D5663\"}, \"title\": {\"font\": {\"color\": \"#4D5663\"}, \"text\": \"\"}, \"zerolinecolor\": \"#E1E5ED\"}, \"yaxis16\": {\"anchor\": \"x16\", \"domain\": [0.0, 0.1975], \"gridcolor\": \"#E1E5ED\", \"showgrid\": false, \"tickfont\": {\"color\": \"#4D5663\"}, \"title\": {\"font\": {\"color\": \"#4D5663\"}, \"text\": \"\"}, \"zerolinecolor\": \"#E1E5ED\"}, \"yaxis2\": {\"anchor\": \"x2\", \"domain\": [0.8025, 1.0], \"gridcolor\": \"#E1E5ED\", \"showgrid\": false, \"tickfont\": {\"color\": \"#4D5663\"}, \"title\": {\"font\": {\"color\": \"#4D5663\"}, \"text\": \"\"}, \"zerolinecolor\": \"#E1E5ED\"}, \"yaxis3\": {\"anchor\": \"x3\", \"domain\": [0.8025, 1.0], \"gridcolor\": \"#E1E5ED\", \"showgrid\": false, \"tickfont\": {\"color\": \"#4D5663\"}, \"title\": {\"font\": {\"color\": \"#4D5663\"}, \"text\": \"\"}, \"zerolinecolor\": \"#E1E5ED\"}, \"yaxis4\": {\"anchor\": \"x4\", \"domain\": [0.8025, 1.0], \"gridcolor\": \"#E1E5ED\", \"showgrid\": false, \"tickfont\": {\"color\": \"#4D5663\"}, \"title\": {\"font\": {\"color\": \"#4D5663\"}, \"text\": \"\"}, \"zerolinecolor\": \"#E1E5ED\"}, \"yaxis5\": {\"anchor\": \"x5\", \"domain\": [0.535, 0.7325], \"gridcolor\": \"#E1E5ED\", \"showgrid\": false, \"tickfont\": {\"color\": \"#4D5663\"}, \"title\": {\"font\": {\"color\": \"#4D5663\"}, \"text\": \"\"}, \"zerolinecolor\": \"#E1E5ED\"}, \"yaxis6\": {\"anchor\": \"x6\", \"domain\": [0.535, 0.7325], \"gridcolor\": \"#E1E5ED\", \"showgrid\": false, \"tickfont\": {\"color\": \"#4D5663\"}, \"title\": {\"font\": {\"color\": \"#4D5663\"}, \"text\": \"\"}, \"zerolinecolor\": \"#E1E5ED\"}, \"yaxis7\": {\"anchor\": \"x7\", \"domain\": [0.535, 0.7325], \"gridcolor\": \"#E1E5ED\", \"showgrid\": false, \"tickfont\": {\"color\": \"#4D5663\"}, \"title\": {\"font\": {\"color\": \"#4D5663\"}, \"text\": \"\"}, \"zerolinecolor\": \"#E1E5ED\"}, \"yaxis8\": {\"anchor\": \"x8\", \"domain\": [0.535, 0.7325], \"gridcolor\": \"#E1E5ED\", \"showgrid\": false, \"tickfont\": {\"color\": \"#4D5663\"}, \"title\": {\"font\": {\"color\": \"#4D5663\"}, \"text\": \"\"}, \"zerolinecolor\": \"#E1E5ED\"}, \"yaxis9\": {\"anchor\": \"x9\", \"domain\": [0.2675, 0.465], \"gridcolor\": \"#E1E5ED\", \"showgrid\": false, \"tickfont\": {\"color\": \"#4D5663\"}, \"title\": {\"font\": {\"color\": \"#4D5663\"}, \"text\": \"\"}, \"zerolinecolor\": \"#E1E5ED\"}},\n",
       "                        {\"showLink\": true, \"linkText\": \"Export to plot.ly\", \"plotlyServerURL\": \"https://plot.ly\", \"responsive\": true}\n",
       "                    ).then(function(){\n",
       "                            \n",
       "var gd = document.getElementById('307b3a35-fa70-4ea8-9ad0-de84ae2f0e0b');\n",
       "var x = new MutationObserver(function (mutations, observer) {{\n",
       "        var display = window.getComputedStyle(gd).display;\n",
       "        if (!display || display === 'none') {{\n",
       "            console.log([gd, 'removed!']);\n",
       "            Plotly.purge(gd);\n",
       "            observer.disconnect();\n",
       "        }}\n",
       "}});\n",
       "\n",
       "// Listen for the removal of the full notebook cells\n",
       "var notebookContainer = gd.closest('#notebook-container');\n",
       "if (notebookContainer) {{\n",
       "    x.observe(notebookContainer, {childList: true});\n",
       "}}\n",
       "\n",
       "// Listen for the clearing of the current output cell\n",
       "var outputEl = gd.closest('.output');\n",
       "if (outputEl) {{\n",
       "    x.observe(outputEl, {childList: true});\n",
       "}}\n",
       "\n",
       "                        })\n",
       "                };\n",
       "                });\n",
       "            </script>\n",
       "        </div>"
      ]
     },
     "metadata": {},
     "output_type": "display_data"
    }
   ],
   "source": [
    "df.scatter_matrix()"
   ]
  },
  {
   "cell_type": "code",
   "execution_count": null,
   "metadata": {},
   "outputs": [],
   "source": []
  }
 ],
 "metadata": {
  "kernelspec": {
   "display_name": "Python 3",
   "language": "python",
   "name": "python3"
  },
  "language_info": {
   "codemirror_mode": {
    "name": "ipython",
    "version": 3
   },
   "file_extension": ".py",
   "mimetype": "text/x-python",
   "name": "python",
   "nbconvert_exporter": "python",
   "pygments_lexer": "ipython3",
   "version": "3.8.5"
  }
 },
 "nbformat": 4,
 "nbformat_minor": 4
}
